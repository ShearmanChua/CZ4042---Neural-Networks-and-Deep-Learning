{
 "cells": [
  {
   "cell_type": "code",
   "execution_count": null,
   "metadata": {
    "colab": {
     "base_uri": "https://localhost:8080/"
    },
    "id": "pdZgA-266LDI",
    "outputId": "e79ccac5-0dd1-46dc-858f-5e5cdec193a1"
   },
   "outputs": [
    {
     "name": "stdout",
     "output_type": "stream",
     "text": [
      "Mounted at /content/gdrive/\n"
     ]
    }
   ],
   "source": [
    "#Mount google drive\n",
    "from google.colab import drive\n",
    "drive.mount('/content/gdrive/')"
   ]
  },
  {
   "cell_type": "markdown",
   "metadata": {
    "id": "p1Ij73t3C1_z"
   },
   "source": [
    "**Part B Question 1**"
   ]
  },
  {
   "cell_type": "code",
   "execution_count": null,
   "metadata": {
    "id": "BJC3Kck_NLII"
   },
   "outputs": [],
   "source": [
    "#Import libraries\n",
    "import csv\n",
    "import re\n",
    "import pylab\n",
    "import time\n",
    "import collections\n",
    "import numpy as np\n",
    "import nltk\n",
    "import tensorflow as tf\n",
    "from nltk.tokenize import word_tokenize\n",
    "from tensorflow.keras import Model, layers\n",
    "from keras.utils.np_utils import to_categorical\n"
   ]
  },
  {
   "cell_type": "code",
   "execution_count": null,
   "metadata": {
    "colab": {
     "base_uri": "https://localhost:8080/"
    },
    "id": "F9bf3cgasqMC",
    "outputId": "692192ef-f5ff-4db9-a69d-18576024b838"
   },
   "outputs": [
    {
     "name": "stdout",
     "output_type": "stream",
     "text": [
      "[nltk_data] Downloading package punkt to /root/nltk_data...\n",
      "[nltk_data]   Unzipping tokenizers/punkt.zip.\n"
     ]
    },
    {
     "data": {
      "text/plain": [
       "True"
      ]
     },
     "execution_count": 3,
     "metadata": {
      "tags": []
     },
     "output_type": "execute_result"
    }
   ],
   "source": [
    "nltk.download('punkt')"
   ]
  },
  {
   "cell_type": "code",
   "execution_count": null,
   "metadata": {
    "id": "BP5e-CQZNOmt"
   },
   "outputs": [],
   "source": [
    "#Initialise variables to be used later\n",
    "MAX_DOCUMENT_LENGTH = 100\n",
    "N_FILTERS = 10\n",
    "FILTER_SHAPE1 = [20, 256]\n",
    "FILTER_SHAPE2= [20, 1]\n",
    "FILTER_SHAPE3 = [20, 20]\n",
    "POOLING_WINDOW = 4\n",
    "POOLING_STRIDE = 2\n",
    "MAX_LABEL = 15\n",
    " \n",
    "batch_size = 128\n",
    "one_hot_size = 256\n",
    "no_epochs = 250\n",
    "lr = 0.01\n",
    " \n",
    "seed = 10\n",
    "tf.random.set_seed(seed)"
   ]
  },
  {
   "cell_type": "code",
   "execution_count": null,
   "metadata": {
    "id": "B_0BvRz5M0vm"
   },
   "outputs": [],
   "source": [
    "#Define functions to be used later\n",
    "#Get all the unique characters used in the string supplied\n",
    "def vocabulary(strings):\n",
    "    chars = sorted(list(set(list(''.join(strings)))))\n",
    "    char_to_ix = { ch:i for i,ch in enumerate(chars) }\n",
    "    vocab_size = len(chars)\n",
    "    return vocab_size, char_to_ix\n",
    "\n",
    "#Preprocess strings and truncate if length longer than 100\n",
    "def preprocess(strings, char_to_ix, MAX_LENGTH):\n",
    "    data_chars = [list(d.lower()) for _, d in enumerate(strings)]\n",
    "    for i, d in enumerate(data_chars):\n",
    "        if len(d)>MAX_LENGTH:\n",
    "            d = d[:MAX_LENGTH]\n",
    "        elif len(d) < MAX_LENGTH:\n",
    "            d += [' '] * (MAX_LENGTH - len(d))\n",
    "            \n",
    "    data_ids = np.zeros([len(data_chars), MAX_LENGTH], dtype=np.int64)\n",
    "    for i in range(len(data_chars)):\n",
    "        for j in range(MAX_LENGTH):\n",
    "            data_ids[i, j] = char_to_ix[data_chars[i][j]]\n",
    "    return np.array(data_ids)\n",
    "\n",
    "#Read in the data in the train and test csv files\n",
    "def read_data_chars():\n",
    "    x_train, y_train, x_test, y_test = [], [], [], []\n",
    "    cop = re.compile(\"[^a-z^A-Z^0-9^,^.^' ']\")\n",
    "    with open('/content/gdrive/My Drive/WR NN/train_medium.csv', encoding='utf-8') as filex:\n",
    "        reader = csv.reader(filex)\n",
    "        for row in reader:\n",
    "            data = cop.sub(\"\", row[1])\n",
    "            x_train.append(data)\n",
    "            y_train.append(int(row[0]))\n",
    "\n",
    "    with open('/content/gdrive/My Drive/WR NN/test_medium.csv', encoding='utf-8') as filex:\n",
    "        reader = csv.reader(filex)\n",
    "        for row in reader:\n",
    "            data = cop.sub(\"\", row[1])\n",
    "            x_test.append(data)\n",
    "            y_test.append(int(row[0]))\n",
    "\n",
    "\n",
    "    vocab_size, char_to_ix = vocabulary(x_train+x_test)\n",
    "    x_train = preprocess(x_train, char_to_ix, MAX_DOCUMENT_LENGTH)\n",
    "    y_train = np.array(y_train)\n",
    "    x_test = preprocess(x_test, char_to_ix, MAX_DOCUMENT_LENGTH)\n",
    "    y_test = np.array(y_test)\n",
    "\n",
    "    x_train = tf.constant(x_train, dtype=tf.int64)\n",
    "    y_train = tf.constant(y_train, dtype=tf.int64)\n",
    "    x_test = tf.constant(x_test, dtype=tf.int64)\n",
    "    y_test = tf.constant(y_test, dtype=tf.int64)\n",
    "\n",
    "    return x_train, y_train, x_test, y_test\n",
    "\n",
    "#Training function\n",
    "def train_step(model, x, label, drop_rate):\n",
    "    #Computes gradient from the recorded \"tape\"\n",
    "    with tf.GradientTape() as tape:\n",
    "        out = model(x, drop_rate)\n",
    "        loss = loss_object(label, out)\n",
    "        gradients = tape.gradient(loss, model.trainable_variables)\n",
    "        optimizer.apply_gradients(zip(gradients, model.trainable_variables))\n",
    "        \n",
    "    train_loss(loss)\n",
    "    train_accuracy(labels, out)\n",
    "\n",
    "#Testing function\n",
    "def test_step(model, x, label, drop_rate=0):\n",
    "    out = model(x,drop_rate)\n",
    "    t_loss = loss_object(label, out)\n",
    "    test_loss(t_loss)\n",
    "    test_accuracy(label, out)\n"
   ]
  },
  {
   "cell_type": "code",
   "execution_count": null,
   "metadata": {
    "id": "OqUw_OFWNJ-f"
   },
   "outputs": [],
   "source": [
    "x_train, y_train, x_test, y_test = read_data_chars()\n",
    "\n",
    "#Use `tf.data` to batch and shuffle the dataset:\n",
    "train_ds = tf.data.Dataset.from_tensor_slices(\n",
    "    (x_train, y_train)).shuffle(10000).batch(batch_size)\n",
    "test_ds = tf.data.Dataset.from_tensor_slices((x_test, y_test)).batch(batch_size)\n",
    "\n",
    "#Define the model\n",
    "tf.keras.backend.set_floatx('float32')\n",
    "class CharCNN(Model):\n",
    "    def __init__(self, vocab_size=256):\n",
    "        super(CharCNN, self).__init__()\n",
    "        self.vocab_size = vocab_size\n",
    "        #Weight variables and CNN cell\n",
    "        self.conv1 = layers.Conv2D(N_FILTERS, FILTER_SHAPE1, padding='VALID', activation='relu', use_bias=True)\n",
    "        self.pool1 = layers.MaxPool2D(POOLING_WINDOW, POOLING_STRIDE, padding='SAME')\n",
    "        self.conv2 = layers.Conv2D(N_FILTERS, FILTER_SHAPE2, padding='VALID', activation='relu', use_bias=True)\n",
    "        self.pool2 = layers.MaxPool2D(POOLING_WINDOW, POOLING_STRIDE, padding='SAME')\n",
    "        self.flatten = layers.Flatten()\n",
    "        self.dense = layers.Dense(MAX_LABEL, activation='softmax')\n",
    "\n",
    "    def call(self, x, drop_rate=0.5):\n",
    "        #forward\n",
    "        x = tf.one_hot(x, one_hot_size)\n",
    "        x = x[..., tf.newaxis] \n",
    "        x = self.conv1(x)\n",
    "        x = self.pool1(x)\n",
    "        x = self.conv2(x)\n",
    "        x = self.pool2(x)\n",
    "        x = self.flatten(x)\n",
    "        x = tf.nn.dropout(x, drop_rate)\n",
    "        logits = self.dense(x)\n",
    "        return logits\n"
   ]
  },
  {
   "cell_type": "code",
   "execution_count": null,
   "metadata": {
    "colab": {
     "base_uri": "https://localhost:8080/"
    },
    "id": "zeg_J_pAHdPL",
    "outputId": "48d2bcd8-484b-4774-8739-347133e481fd"
   },
   "outputs": [
    {
     "name": "stdout",
     "output_type": "stream",
     "text": [
      "Epoch 1, Loss: 2.6973347663879395, Accuracy: 0.0771428570151329, Test Loss: 2.6928622722625732, Test Accuracy: 0.07857143133878708\n",
      "Epoch 2, Loss: 2.6873273849487305, Accuracy: 0.07517857104539871, Test Loss: 2.68476939201355, Test Accuracy: 0.07571428269147873\n",
      "Epoch 3, Loss: 2.6788713932037354, Accuracy: 0.07482142746448517, Test Loss: 2.6777822971343994, Test Accuracy: 0.07285714149475098\n",
      "Epoch 4, Loss: 2.671210289001465, Accuracy: 0.07625000178813934, Test Loss: 2.671109914779663, Test Accuracy: 0.07285714149475098\n",
      "Epoch 5, Loss: 2.663878917694092, Accuracy: 0.07999999821186066, Test Loss: 2.6647346019744873, Test Accuracy: 0.08142857253551483\n",
      "Epoch 6, Loss: 2.6564595699310303, Accuracy: 0.08446428924798965, Test Loss: 2.657752513885498, Test Accuracy: 0.08571428805589676\n",
      "Epoch 7, Loss: 2.648651599884033, Accuracy: 0.09517857432365417, Test Loss: 2.6508049964904785, Test Accuracy: 0.1071428582072258\n",
      "Epoch 8, Loss: 2.6401917934417725, Accuracy: 0.10678571462631226, Test Loss: 2.64330792427063, Test Accuracy: 0.1071428582072258\n",
      "Epoch 9, Loss: 2.631091833114624, Accuracy: 0.10875000059604645, Test Loss: 2.6347320079803467, Test Accuracy: 0.10857142508029938\n",
      "Epoch 10, Loss: 2.6209006309509277, Accuracy: 0.11392857134342194, Test Loss: 2.625218152999878, Test Accuracy: 0.11571428924798965\n",
      "Epoch 11, Loss: 2.610334873199463, Accuracy: 0.11678571254014969, Test Loss: 2.6151065826416016, Test Accuracy: 0.11857143044471741\n",
      "Epoch 12, Loss: 2.598451614379883, Accuracy: 0.12428571283817291, Test Loss: 2.6043944358825684, Test Accuracy: 0.13285714387893677\n",
      "Epoch 13, Loss: 2.585972309112549, Accuracy: 0.1416071355342865, Test Loss: 2.5923516750335693, Test Accuracy: 0.14000000059604645\n",
      "Epoch 14, Loss: 2.571972370147705, Accuracy: 0.15142856538295746, Test Loss: 2.5793368816375732, Test Accuracy: 0.15714286267757416\n",
      "Epoch 15, Loss: 2.5566205978393555, Accuracy: 0.16500000655651093, Test Loss: 2.56471848487854, Test Accuracy: 0.16571427881717682\n",
      "Epoch 16, Loss: 2.539130926132202, Accuracy: 0.17571428418159485, Test Loss: 2.5491526126861572, Test Accuracy: 0.17000000178813934\n",
      "Epoch 17, Loss: 2.520327568054199, Accuracy: 0.18642857670783997, Test Loss: 2.5303096771240234, Test Accuracy: 0.18285714089870453\n",
      "Epoch 18, Loss: 2.4990134239196777, Accuracy: 0.20107142627239227, Test Loss: 2.5099825859069824, Test Accuracy: 0.1971428543329239\n",
      "Epoch 19, Loss: 2.474822521209717, Accuracy: 0.21339285373687744, Test Loss: 2.4871575832366943, Test Accuracy: 0.20999999344348907\n",
      "Epoch 20, Loss: 2.448415994644165, Accuracy: 0.23000000417232513, Test Loss: 2.4613144397735596, Test Accuracy: 0.22285714745521545\n",
      "Epoch 21, Loss: 2.4190173149108887, Accuracy: 0.25214284658432007, Test Loss: 2.432847738265991, Test Accuracy: 0.25\n",
      "Epoch 22, Loss: 2.38655161857605, Accuracy: 0.28107142448425293, Test Loss: 2.4020254611968994, Test Accuracy: 0.25857141613960266\n",
      "Epoch 23, Loss: 2.3515708446502686, Accuracy: 0.30017855763435364, Test Loss: 2.3688642978668213, Test Accuracy: 0.27571427822113037\n",
      "Epoch 24, Loss: 2.3135557174682617, Accuracy: 0.31928572058677673, Test Loss: 2.33585262298584, Test Accuracy: 0.27714285254478455\n",
      "Epoch 25, Loss: 2.276388645172119, Accuracy: 0.3400000035762787, Test Loss: 2.299161195755005, Test Accuracy: 0.30714285373687744\n",
      "Epoch 26, Loss: 2.2376649379730225, Accuracy: 0.3419642746448517, Test Loss: 2.2683069705963135, Test Accuracy: 0.30000001192092896\n",
      "Epoch 27, Loss: 2.2001006603240967, Accuracy: 0.3508928716182709, Test Loss: 2.2307260036468506, Test Accuracy: 0.3271428644657135\n",
      "Epoch 28, Loss: 2.161949396133423, Accuracy: 0.35249999165534973, Test Loss: 2.199695348739624, Test Accuracy: 0.3157142996788025\n",
      "Epoch 29, Loss: 2.123913526535034, Accuracy: 0.36767858266830444, Test Loss: 2.161824941635132, Test Accuracy: 0.334285706281662\n",
      "Epoch 30, Loss: 2.0864152908325195, Accuracy: 0.37464284896850586, Test Loss: 2.1307504177093506, Test Accuracy: 0.3385714292526245\n",
      "Epoch 31, Loss: 2.0480918884277344, Accuracy: 0.3787499964237213, Test Loss: 2.1047861576080322, Test Accuracy: 0.3442857265472412\n",
      "Epoch 32, Loss: 2.008463144302368, Accuracy: 0.3987500071525574, Test Loss: 2.058882236480713, Test Accuracy: 0.35285714268684387\n",
      "Epoch 33, Loss: 1.9699795246124268, Accuracy: 0.39821428060531616, Test Loss: 2.034846544265747, Test Accuracy: 0.3642857074737549\n",
      "Epoch 34, Loss: 1.9306854009628296, Accuracy: 0.41357141733169556, Test Loss: 1.9862251281738281, Test Accuracy: 0.3742857277393341\n",
      "Epoch 35, Loss: 1.8919578790664673, Accuracy: 0.4241071343421936, Test Loss: 1.9547971487045288, Test Accuracy: 0.37857142090797424\n",
      "Epoch 36, Loss: 1.8511627912521362, Accuracy: 0.428035706281662, Test Loss: 1.9264878034591675, Test Accuracy: 0.3942857086658478\n",
      "Epoch 37, Loss: 1.813712239265442, Accuracy: 0.43839284777641296, Test Loss: 1.880591869354248, Test Accuracy: 0.39142856001853943\n",
      "Epoch 38, Loss: 1.7730861902236938, Accuracy: 0.4491071403026581, Test Loss: 1.8522902727127075, Test Accuracy: 0.404285728931427\n",
      "Epoch 39, Loss: 1.7372738122940063, Accuracy: 0.45750001072883606, Test Loss: 1.8285773992538452, Test Accuracy: 0.4171428680419922\n",
      "Epoch 40, Loss: 1.6989707946777344, Accuracy: 0.4648214280605316, Test Loss: 1.7798043489456177, Test Accuracy: 0.39714285731315613\n",
      "Epoch 41, Loss: 1.664739966392517, Accuracy: 0.4751785695552826, Test Loss: 1.7600165605545044, Test Accuracy: 0.4285714328289032\n",
      "Epoch 42, Loss: 1.6302692890167236, Accuracy: 0.48107144236564636, Test Loss: 1.7306410074234009, Test Accuracy: 0.427142858505249\n",
      "Epoch 43, Loss: 1.598471760749817, Accuracy: 0.49446427822113037, Test Loss: 1.6851750612258911, Test Accuracy: 0.43142858147621155\n",
      "Epoch 44, Loss: 1.5656105279922485, Accuracy: 0.5030357241630554, Test Loss: 1.6571727991104126, Test Accuracy: 0.44999998807907104\n",
      "Epoch 45, Loss: 1.5357451438903809, Accuracy: 0.5101785659790039, Test Loss: 1.6365567445755005, Test Accuracy: 0.44999998807907104\n",
      "Epoch 46, Loss: 1.510291576385498, Accuracy: 0.5185714364051819, Test Loss: 1.606980800628662, Test Accuracy: 0.46000000834465027\n",
      "Epoch 47, Loss: 1.4754711389541626, Accuracy: 0.5287500023841858, Test Loss: 1.59033203125, Test Accuracy: 0.46000000834465027\n",
      "Epoch 48, Loss: 1.4535548686981201, Accuracy: 0.5350000262260437, Test Loss: 1.558852195739746, Test Accuracy: 0.47857141494750977\n",
      "Epoch 49, Loss: 1.4232614040374756, Accuracy: 0.5485714077949524, Test Loss: 1.5406097173690796, Test Accuracy: 0.47999998927116394\n",
      "Epoch 50, Loss: 1.4011660814285278, Accuracy: 0.548035740852356, Test Loss: 1.5174862146377563, Test Accuracy: 0.49714285135269165\n",
      "Epoch 51, Loss: 1.3741023540496826, Accuracy: 0.5625, Test Loss: 1.5022653341293335, Test Accuracy: 0.4942857027053833\n",
      "Epoch 52, Loss: 1.3537371158599854, Accuracy: 0.5687500238418579, Test Loss: 1.4701770544052124, Test Accuracy: 0.49142858386039734\n",
      "Epoch 53, Loss: 1.324820637702942, Accuracy: 0.5787500143051147, Test Loss: 1.455655574798584, Test Accuracy: 0.5014285445213318\n",
      "Epoch 54, Loss: 1.304716944694519, Accuracy: 0.5839285850524902, Test Loss: 1.4310015439987183, Test Accuracy: 0.5042856931686401\n",
      "Epoch 55, Loss: 1.2800627946853638, Accuracy: 0.5955356955528259, Test Loss: 1.411950707435608, Test Accuracy: 0.5314285755157471\n",
      "Epoch 56, Loss: 1.261714220046997, Accuracy: 0.5919643044471741, Test Loss: 1.4336978197097778, Test Accuracy: 0.5214285850524902\n",
      "Epoch 57, Loss: 1.2432280778884888, Accuracy: 0.600178599357605, Test Loss: 1.4006398916244507, Test Accuracy: 0.5199999809265137\n",
      "Epoch 58, Loss: 1.2242463827133179, Accuracy: 0.6101785898208618, Test Loss: 1.3839203119277954, Test Accuracy: 0.5342857241630554\n",
      "Epoch 59, Loss: 1.1978901624679565, Accuracy: 0.6175000071525574, Test Loss: 1.3548964262008667, Test Accuracy: 0.550000011920929\n",
      "Epoch 60, Loss: 1.1813178062438965, Accuracy: 0.6196428537368774, Test Loss: 1.4006911516189575, Test Accuracy: 0.5357142686843872\n",
      "Epoch 61, Loss: 1.1664769649505615, Accuracy: 0.6246428489685059, Test Loss: 1.3173645734786987, Test Accuracy: 0.5514285564422607\n",
      "Epoch 62, Loss: 1.1571669578552246, Accuracy: 0.6308928728103638, Test Loss: 1.5601316690444946, Test Accuracy: 0.5171428322792053\n",
      "Epoch 63, Loss: 1.1420643329620361, Accuracy: 0.6308928728103638, Test Loss: 1.3415933847427368, Test Accuracy: 0.5542857050895691\n",
      "Epoch 64, Loss: 1.1304928064346313, Accuracy: 0.6396428346633911, Test Loss: 1.2797013521194458, Test Accuracy: 0.5842857360839844\n",
      "Epoch 65, Loss: 1.1132347583770752, Accuracy: 0.6469643115997314, Test Loss: 1.2792247533798218, Test Accuracy: 0.581428587436676\n",
      "Epoch 66, Loss: 1.0924036502838135, Accuracy: 0.6510714292526245, Test Loss: 1.2897344827651978, Test Accuracy: 0.572857141494751\n",
      "Epoch 67, Loss: 1.0692025423049927, Accuracy: 0.6575000286102295, Test Loss: 1.2870808839797974, Test Accuracy: 0.5657142996788025\n",
      "Epoch 68, Loss: 1.058902621269226, Accuracy: 0.6655356884002686, Test Loss: 1.2312618494033813, Test Accuracy: 0.5885714292526245\n",
      "Epoch 69, Loss: 1.0493937730789185, Accuracy: 0.660178542137146, Test Loss: 1.2545524835586548, Test Accuracy: 0.5971428751945496\n",
      "Epoch 70, Loss: 1.0563715696334839, Accuracy: 0.6614285707473755, Test Loss: 1.2337002754211426, Test Accuracy: 0.595714271068573\n",
      "Epoch 71, Loss: 1.0195517539978027, Accuracy: 0.675000011920929, Test Loss: 1.3292721509933472, Test Accuracy: 0.5771428346633911\n",
      "Epoch 72, Loss: 1.0020619630813599, Accuracy: 0.6844642758369446, Test Loss: 1.2837187051773071, Test Accuracy: 0.5828571319580078\n",
      "Epoch 73, Loss: 1.0007294416427612, Accuracy: 0.6766071319580078, Test Loss: 1.206494688987732, Test Accuracy: 0.6142857074737549\n",
      "Epoch 74, Loss: 0.9938066005706787, Accuracy: 0.6794642806053162, Test Loss: 1.1938127279281616, Test Accuracy: 0.6228571534156799\n",
      "Epoch 75, Loss: 0.9585195183753967, Accuracy: 0.6989285945892334, Test Loss: 1.2255140542984009, Test Accuracy: 0.6000000238418579\n",
      "Epoch 76, Loss: 0.9657827615737915, Accuracy: 0.6916071176528931, Test Loss: 1.2146862745285034, Test Accuracy: 0.6057142615318298\n",
      "Epoch 77, Loss: 0.9529939889907837, Accuracy: 0.6935714483261108, Test Loss: 1.1938316822052002, Test Accuracy: 0.6142857074737549\n",
      "Epoch 78, Loss: 0.9501129388809204, Accuracy: 0.6966071724891663, Test Loss: 1.1499673128128052, Test Accuracy: 0.631428599357605\n",
      "Epoch 79, Loss: 0.9282939434051514, Accuracy: 0.704285740852356, Test Loss: 1.1571733951568604, Test Accuracy: 0.6242856979370117\n",
      "Epoch 80, Loss: 0.9145013689994812, Accuracy: 0.7089285850524902, Test Loss: 1.1688815355300903, Test Accuracy: 0.6114285588264465\n",
      "Epoch 81, Loss: 0.9169402718544006, Accuracy: 0.7058928608894348, Test Loss: 1.1584635972976685, Test Accuracy: 0.618571400642395\n",
      "Epoch 82, Loss: 0.9273528456687927, Accuracy: 0.7017857432365417, Test Loss: 1.392795205116272, Test Accuracy: 0.5642856955528259\n",
      "Epoch 83, Loss: 0.8925882577896118, Accuracy: 0.7117857336997986, Test Loss: 1.1737021207809448, Test Accuracy: 0.6242856979370117\n",
      "Epoch 84, Loss: 0.8688182830810547, Accuracy: 0.7248214483261108, Test Loss: 1.1763452291488647, Test Accuracy: 0.6242856979370117\n",
      "Epoch 85, Loss: 0.8700264096260071, Accuracy: 0.716785728931427, Test Loss: 1.2985029220581055, Test Accuracy: 0.5842857360839844\n",
      "Epoch 86, Loss: 0.8990980386734009, Accuracy: 0.7071428298950195, Test Loss: 1.1298013925552368, Test Accuracy: 0.6257143020629883\n",
      "Epoch 87, Loss: 0.8472818732261658, Accuracy: 0.7280356884002686, Test Loss: 1.1341404914855957, Test Accuracy: 0.6299999952316284\n",
      "Epoch 88, Loss: 0.8467363715171814, Accuracy: 0.7301785945892334, Test Loss: 1.1789952516555786, Test Accuracy: 0.6357142925262451\n",
      "Epoch 89, Loss: 0.8208249807357788, Accuracy: 0.7366071343421936, Test Loss: 1.1025381088256836, Test Accuracy: 0.6357142925262451\n",
      "Epoch 90, Loss: 0.8344509601593018, Accuracy: 0.7341071367263794, Test Loss: 1.1046795845031738, Test Accuracy: 0.6385714411735535\n",
      "Epoch 91, Loss: 0.8188863396644592, Accuracy: 0.7328571677207947, Test Loss: 1.2329881191253662, Test Accuracy: 0.6100000143051147\n",
      "Epoch 92, Loss: 0.8051185011863708, Accuracy: 0.7421428561210632, Test Loss: 1.085323452949524, Test Accuracy: 0.645714282989502\n",
      "Epoch 93, Loss: 0.8263950347900391, Accuracy: 0.7337499856948853, Test Loss: 1.092380166053772, Test Accuracy: 0.6414285898208618\n",
      "Epoch 94, Loss: 0.7825819253921509, Accuracy: 0.7433928847312927, Test Loss: 1.0751198530197144, Test Accuracy: 0.6528571248054504\n",
      "Epoch 95, Loss: 0.7825145721435547, Accuracy: 0.7494642734527588, Test Loss: 1.0811527967453003, Test Accuracy: 0.6471428275108337\n",
      "Epoch 96, Loss: 0.7959789633750916, Accuracy: 0.7469642758369446, Test Loss: 1.1181939840316772, Test Accuracy: 0.6357142925262451\n",
      "Epoch 97, Loss: 0.7656738758087158, Accuracy: 0.7501785755157471, Test Loss: 1.1167372465133667, Test Accuracy: 0.6428571343421936\n",
      "Epoch 98, Loss: 0.7409061193466187, Accuracy: 0.7648214101791382, Test Loss: 1.1034314632415771, Test Accuracy: 0.6485714316368103\n",
      "Epoch 99, Loss: 0.7752087116241455, Accuracy: 0.7503571510314941, Test Loss: 1.1319109201431274, Test Accuracy: 0.6371428370475769\n",
      "Epoch 100, Loss: 0.7417792677879333, Accuracy: 0.762499988079071, Test Loss: 1.076529622077942, Test Accuracy: 0.6514285802841187\n",
      "Epoch 101, Loss: 0.7324190735816956, Accuracy: 0.760357141494751, Test Loss: 1.0980814695358276, Test Accuracy: 0.6385714411735535\n",
      "Epoch 102, Loss: 0.766432523727417, Accuracy: 0.7544642686843872, Test Loss: 1.0966860055923462, Test Accuracy: 0.6414285898208618\n",
      "Epoch 103, Loss: 0.7663107514381409, Accuracy: 0.7557142972946167, Test Loss: 1.0952640771865845, Test Accuracy: 0.645714282989502\n",
      "Epoch 104, Loss: 0.7077004313468933, Accuracy: 0.7742857336997986, Test Loss: 1.0705314874649048, Test Accuracy: 0.6571428775787354\n",
      "Epoch 105, Loss: 0.694402813911438, Accuracy: 0.7771428823471069, Test Loss: 1.0595797300338745, Test Accuracy: 0.6485714316368103\n",
      "Epoch 106, Loss: 0.7342290878295898, Accuracy: 0.7655357122421265, Test Loss: 1.0703678131103516, Test Accuracy: 0.6585714221000671\n",
      "Epoch 107, Loss: 0.7035936117172241, Accuracy: 0.7712500095367432, Test Loss: 1.0401414632797241, Test Accuracy: 0.668571412563324\n",
      "Epoch 108, Loss: 0.7012908458709717, Accuracy: 0.7682142853736877, Test Loss: 1.054904580116272, Test Accuracy: 0.6657142639160156\n",
      "Epoch 109, Loss: 0.679757833480835, Accuracy: 0.7828571200370789, Test Loss: 1.1243146657943726, Test Accuracy: 0.6357142925262451\n",
      "Epoch 110, Loss: 0.6976376175880432, Accuracy: 0.7755357027053833, Test Loss: 1.0348275899887085, Test Accuracy: 0.6614285707473755\n",
      "Epoch 111, Loss: 0.670522928237915, Accuracy: 0.7841071486473083, Test Loss: 1.0792032480239868, Test Accuracy: 0.6628571152687073\n",
      "Epoch 112, Loss: 0.6605009436607361, Accuracy: 0.7932142615318298, Test Loss: 1.1152530908584595, Test Accuracy: 0.6328571438789368\n",
      "Epoch 113, Loss: 0.6767648458480835, Accuracy: 0.7830356955528259, Test Loss: 1.0394524335861206, Test Accuracy: 0.6642857193946838\n",
      "Epoch 114, Loss: 0.6725227236747742, Accuracy: 0.7855356931686401, Test Loss: 1.0760191679000854, Test Accuracy: 0.6471428275108337\n",
      "Epoch 115, Loss: 0.6272751688957214, Accuracy: 0.8037499785423279, Test Loss: 1.0555572509765625, Test Accuracy: 0.6600000262260437\n",
      "Epoch 116, Loss: 0.6314740180969238, Accuracy: 0.803928554058075, Test Loss: 1.0320764780044556, Test Accuracy: 0.6642857193946838\n",
      "Epoch 117, Loss: 0.635330855846405, Accuracy: 0.7953571677207947, Test Loss: 1.062160849571228, Test Accuracy: 0.6714285612106323\n",
      "Epoch 118, Loss: 0.6175133585929871, Accuracy: 0.8023214340209961, Test Loss: 1.0350514650344849, Test Accuracy: 0.6700000166893005\n",
      "Epoch 119, Loss: 0.6221408247947693, Accuracy: 0.7985714077949524, Test Loss: 1.0342046022415161, Test Accuracy: 0.6714285612106323\n",
      "Epoch 120, Loss: 0.6251883506774902, Accuracy: 0.7966071367263794, Test Loss: 1.0663119554519653, Test Accuracy: 0.6742857098579407\n",
      "Epoch 121, Loss: 0.623994767665863, Accuracy: 0.7994642853736877, Test Loss: 1.1622205972671509, Test Accuracy: 0.6257143020629883\n",
      "Epoch 122, Loss: 0.5990390777587891, Accuracy: 0.8076785802841187, Test Loss: 1.0447039604187012, Test Accuracy: 0.6642857193946838\n",
      "Epoch 123, Loss: 0.6187058687210083, Accuracy: 0.8066071271896362, Test Loss: 1.0900319814682007, Test Accuracy: 0.6642857193946838\n",
      "Epoch 124, Loss: 0.5866742134094238, Accuracy: 0.8123214244842529, Test Loss: 1.0786902904510498, Test Accuracy: 0.6600000262260437\n",
      "Epoch 125, Loss: 0.5962129235267639, Accuracy: 0.8101785778999329, Test Loss: 1.0838953256607056, Test Accuracy: 0.6657142639160156\n",
      "Epoch 126, Loss: 0.5776069164276123, Accuracy: 0.8171428442001343, Test Loss: 1.067148208618164, Test Accuracy: 0.6700000166893005\n",
      "Epoch 127, Loss: 0.6144885420799255, Accuracy: 0.7982142567634583, Test Loss: 1.1652692556381226, Test Accuracy: 0.6414285898208618\n",
      "Epoch 128, Loss: 0.596317708492279, Accuracy: 0.8098214268684387, Test Loss: 1.038875937461853, Test Accuracy: 0.6714285612106323\n",
      "Epoch 129, Loss: 0.5721240639686584, Accuracy: 0.8173214197158813, Test Loss: 1.0600404739379883, Test Accuracy: 0.6671428680419922\n",
      "Epoch 130, Loss: 0.5714007019996643, Accuracy: 0.8160714507102966, Test Loss: 1.0952566862106323, Test Accuracy: 0.654285728931427\n",
      "Epoch 131, Loss: 0.5727464556694031, Accuracy: 0.8176785707473755, Test Loss: 1.119388461112976, Test Accuracy: 0.6571428775787354\n",
      "Epoch 132, Loss: 0.5411577820777893, Accuracy: 0.8305357098579407, Test Loss: 1.0467735528945923, Test Accuracy: 0.668571412563324\n",
      "Epoch 133, Loss: 0.5486865639686584, Accuracy: 0.8267857432365417, Test Loss: 1.1585617065429688, Test Accuracy: 0.645714282989502\n",
      "Epoch 134, Loss: 0.5671367049217224, Accuracy: 0.8198214173316956, Test Loss: 1.0897117853164673, Test Accuracy: 0.645714282989502\n",
      "Epoch 135, Loss: 0.5437310338020325, Accuracy: 0.8258928656578064, Test Loss: 1.036475658416748, Test Accuracy: 0.668571412563324\n",
      "Epoch 136, Loss: 0.5315715670585632, Accuracy: 0.8276785612106323, Test Loss: 1.078159213066101, Test Accuracy: 0.6571428775787354\n",
      "Epoch 137, Loss: 0.5511395931243896, Accuracy: 0.8289285898208618, Test Loss: 1.1430338621139526, Test Accuracy: 0.6442857384681702\n",
      "Epoch 138, Loss: 0.5356386303901672, Accuracy: 0.8278571367263794, Test Loss: 1.0627213716506958, Test Accuracy: 0.668571412563324\n",
      "Epoch 139, Loss: 0.561081051826477, Accuracy: 0.8219642639160156, Test Loss: 1.1427737474441528, Test Accuracy: 0.6671428680419922\n",
      "Epoch 140, Loss: 0.5087541937828064, Accuracy: 0.8396428823471069, Test Loss: 1.0813950300216675, Test Accuracy: 0.668571412563324\n",
      "Epoch 141, Loss: 0.5309703946113586, Accuracy: 0.8308928608894348, Test Loss: 1.1894010305404663, Test Accuracy: 0.6371428370475769\n",
      "Epoch 142, Loss: 0.512136697769165, Accuracy: 0.8428571224212646, Test Loss: 1.1098322868347168, Test Accuracy: 0.6557142734527588\n",
      "Epoch 143, Loss: 0.527924120426178, Accuracy: 0.8348214030265808, Test Loss: 1.0674506425857544, Test Accuracy: 0.6728571653366089\n",
      "Epoch 144, Loss: 0.5281589031219482, Accuracy: 0.8305357098579407, Test Loss: 1.0552603006362915, Test Accuracy: 0.6757143139839172\n",
      "Epoch 145, Loss: 0.5955246090888977, Accuracy: 0.8103571534156799, Test Loss: 1.0765599012374878, Test Accuracy: 0.6657142639160156\n",
      "Epoch 146, Loss: 0.48221924901008606, Accuracy: 0.8498214483261108, Test Loss: 1.1096478700637817, Test Accuracy: 0.6671428680419922\n",
      "Epoch 147, Loss: 0.469950795173645, Accuracy: 0.8555356860160828, Test Loss: 1.079192042350769, Test Accuracy: 0.6671428680419922\n",
      "Epoch 148, Loss: 0.4913330078125, Accuracy: 0.8446428775787354, Test Loss: 1.101915955543518, Test Accuracy: 0.6585714221000671\n",
      "Epoch 149, Loss: 0.46774035692214966, Accuracy: 0.8553571701049805, Test Loss: 1.0584063529968262, Test Accuracy: 0.6742857098579407\n",
      "Epoch 150, Loss: 0.48839637637138367, Accuracy: 0.8450000286102295, Test Loss: 1.335604190826416, Test Accuracy: 0.6285714507102966\n",
      "Epoch 151, Loss: 0.46810367703437805, Accuracy: 0.8608928322792053, Test Loss: 1.0952972173690796, Test Accuracy: 0.6628571152687073\n",
      "Epoch 152, Loss: 0.4684608280658722, Accuracy: 0.852321445941925, Test Loss: 1.0693880319595337, Test Accuracy: 0.6728571653366089\n",
      "Epoch 153, Loss: 0.4548037648200989, Accuracy: 0.8583928346633911, Test Loss: 1.0987836122512817, Test Accuracy: 0.6728571653366089\n",
      "Epoch 154, Loss: 0.4521341025829315, Accuracy: 0.8600000143051147, Test Loss: 1.0634129047393799, Test Accuracy: 0.6757143139839172\n",
      "Epoch 155, Loss: 0.4460805058479309, Accuracy: 0.862678587436676, Test Loss: 1.320982813835144, Test Accuracy: 0.6114285588264465\n",
      "Epoch 156, Loss: 0.46008822321891785, Accuracy: 0.8533928394317627, Test Loss: 1.08712899684906, Test Accuracy: 0.6700000166893005\n",
      "Epoch 157, Loss: 0.44327592849731445, Accuracy: 0.8641071319580078, Test Loss: 1.0926240682601929, Test Accuracy: 0.6628571152687073\n",
      "Epoch 158, Loss: 0.436151385307312, Accuracy: 0.8641071319580078, Test Loss: 1.1362379789352417, Test Accuracy: 0.654285728931427\n",
      "Epoch 159, Loss: 0.4370787739753723, Accuracy: 0.8660714030265808, Test Loss: 1.2562720775604248, Test Accuracy: 0.6442857384681702\n",
      "Epoch 160, Loss: 0.44242289662361145, Accuracy: 0.864464282989502, Test Loss: 1.0861583948135376, Test Accuracy: 0.6785714030265808\n",
      "Epoch 161, Loss: 0.4745138883590698, Accuracy: 0.852321445941925, Test Loss: 1.0925922393798828, Test Accuracy: 0.6700000166893005\n",
      "Epoch 162, Loss: 0.43883639574050903, Accuracy: 0.8637499809265137, Test Loss: 1.0786054134368896, Test Accuracy: 0.6757143139839172\n",
      "Epoch 163, Loss: 0.4230875074863434, Accuracy: 0.8701785802841187, Test Loss: 1.0893380641937256, Test Accuracy: 0.6657142639160156\n",
      "Epoch 164, Loss: 0.4177931845188141, Accuracy: 0.8696428537368774, Test Loss: 1.1365629434585571, Test Accuracy: 0.6514285802841187\n",
      "Epoch 165, Loss: 0.4174795150756836, Accuracy: 0.8701785802841187, Test Loss: 1.1747512817382812, Test Accuracy: 0.6642857193946838\n",
      "Epoch 166, Loss: 0.4119160771369934, Accuracy: 0.8737499713897705, Test Loss: 1.167608618736267, Test Accuracy: 0.6657142639160156\n",
      "Epoch 167, Loss: 0.4097690284252167, Accuracy: 0.8723214268684387, Test Loss: 1.105454444885254, Test Accuracy: 0.6642857193946838\n",
      "Epoch 168, Loss: 0.4064709544181824, Accuracy: 0.8771428465843201, Test Loss: 1.1086339950561523, Test Accuracy: 0.6614285707473755\n",
      "Epoch 169, Loss: 0.40473687648773193, Accuracy: 0.8753571510314941, Test Loss: 1.208794116973877, Test Accuracy: 0.6499999761581421\n",
      "Epoch 170, Loss: 0.3970050513744354, Accuracy: 0.8841071724891663, Test Loss: 1.1314570903778076, Test Accuracy: 0.6614285707473755\n",
      "Epoch 171, Loss: 0.38866207003593445, Accuracy: 0.8771428465843201, Test Loss: 1.1408098936080933, Test Accuracy: 0.6628571152687073\n",
      "Epoch 172, Loss: 0.41013869643211365, Accuracy: 0.8726785778999329, Test Loss: 1.141344428062439, Test Accuracy: 0.668571412563324\n",
      "Epoch 173, Loss: 0.3861021101474762, Accuracy: 0.8816071152687073, Test Loss: 1.1894198656082153, Test Accuracy: 0.6514285802841187\n",
      "Epoch 174, Loss: 0.5137240886688232, Accuracy: 0.8405357003211975, Test Loss: 1.2219642400741577, Test Accuracy: 0.645714282989502\n",
      "Epoch 175, Loss: 0.3734075427055359, Accuracy: 0.8912500143051147, Test Loss: 1.1086171865463257, Test Accuracy: 0.6785714030265808\n",
      "Epoch 176, Loss: 0.3862955868244171, Accuracy: 0.8824999928474426, Test Loss: 1.094866394996643, Test Accuracy: 0.6800000071525574\n",
      "Epoch 177, Loss: 0.40392211079597473, Accuracy: 0.8714285492897034, Test Loss: 1.1138112545013428, Test Accuracy: 0.6700000166893005\n",
      "Epoch 178, Loss: 0.37315666675567627, Accuracy: 0.885357141494751, Test Loss: 1.1161597967147827, Test Accuracy: 0.677142858505249\n",
      "Epoch 179, Loss: 0.37203657627105713, Accuracy: 0.8887500166893005, Test Loss: 1.1100562810897827, Test Accuracy: 0.6742857098579407\n",
      "Epoch 180, Loss: 0.36886128783226013, Accuracy: 0.8889285922050476, Test Loss: 1.1566468477249146, Test Accuracy: 0.6528571248054504\n",
      "Epoch 181, Loss: 0.35967788100242615, Accuracy: 0.889464259147644, Test Loss: 1.1784580945968628, Test Accuracy: 0.6642857193946838\n",
      "Epoch 182, Loss: 0.400233656167984, Accuracy: 0.8758928775787354, Test Loss: 1.1375551223754883, Test Accuracy: 0.6671428680419922\n",
      "Epoch 183, Loss: 0.35192158818244934, Accuracy: 0.8948214054107666, Test Loss: 1.1194034814834595, Test Accuracy: 0.6728571653366089\n",
      "Epoch 184, Loss: 0.3459649980068207, Accuracy: 0.8971428275108337, Test Loss: 1.155540943145752, Test Accuracy: 0.6700000166893005\n",
      "Epoch 185, Loss: 0.35241931676864624, Accuracy: 0.8944643139839172, Test Loss: 1.1881153583526611, Test Accuracy: 0.654285728931427\n",
      "Epoch 186, Loss: 0.36505335569381714, Accuracy: 0.889464259147644, Test Loss: 1.1371994018554688, Test Accuracy: 0.677142858505249\n",
      "Epoch 187, Loss: 0.36507919430732727, Accuracy: 0.885357141494751, Test Loss: 1.1367030143737793, Test Accuracy: 0.6657142639160156\n",
      "Epoch 188, Loss: 0.3613133728504181, Accuracy: 0.8883928656578064, Test Loss: 1.185793399810791, Test Accuracy: 0.6585714221000671\n",
      "Epoch 189, Loss: 0.33308976888656616, Accuracy: 0.9035714268684387, Test Loss: 1.1673434972763062, Test Accuracy: 0.6785714030265808\n",
      "Epoch 190, Loss: 0.3667089343070984, Accuracy: 0.8898214101791382, Test Loss: 1.134289026260376, Test Accuracy: 0.6785714030265808\n",
      "Epoch 191, Loss: 0.3309507668018341, Accuracy: 0.9044643044471741, Test Loss: 1.2293089628219604, Test Accuracy: 0.6499999761581421\n",
      "Epoch 192, Loss: 0.32919734716415405, Accuracy: 0.9021428823471069, Test Loss: 1.1744455099105835, Test Accuracy: 0.6714285612106323\n",
      "Epoch 193, Loss: 0.33568504452705383, Accuracy: 0.8974999785423279, Test Loss: 1.4224282503128052, Test Accuracy: 0.6200000047683716\n",
      "Epoch 194, Loss: 0.38246390223503113, Accuracy: 0.8794642686843872, Test Loss: 1.1923383474349976, Test Accuracy: 0.6700000166893005\n",
      "Epoch 195, Loss: 0.35848429799079895, Accuracy: 0.8857142925262451, Test Loss: 1.2070050239562988, Test Accuracy: 0.6600000262260437\n",
      "Epoch 196, Loss: 0.32771944999694824, Accuracy: 0.8996428847312927, Test Loss: 1.1565781831741333, Test Accuracy: 0.6785714030265808\n",
      "Epoch 197, Loss: 0.3277261555194855, Accuracy: 0.9005357027053833, Test Loss: 1.321008563041687, Test Accuracy: 0.6600000262260437\n",
      "Epoch 198, Loss: 0.3338993489742279, Accuracy: 0.8946428298950195, Test Loss: 1.1744292974472046, Test Accuracy: 0.6757143139839172\n",
      "Epoch 199, Loss: 0.3202402889728546, Accuracy: 0.9057142734527588, Test Loss: 1.238016963005066, Test Accuracy: 0.654285728931427\n",
      "Epoch 200, Loss: 0.3075615167617798, Accuracy: 0.9125000238418579, Test Loss: 1.1857630014419556, Test Accuracy: 0.6757143139839172\n",
      "Epoch 201, Loss: 0.3187668025493622, Accuracy: 0.9044643044471741, Test Loss: 1.1895257234573364, Test Accuracy: 0.668571412563324\n",
      "Epoch 202, Loss: 0.321751207113266, Accuracy: 0.9030357003211975, Test Loss: 1.251339077949524, Test Accuracy: 0.654285728931427\n",
      "Epoch 203, Loss: 0.32022520899772644, Accuracy: 0.9044643044471741, Test Loss: 1.237169861793518, Test Accuracy: 0.6642857193946838\n",
      "Epoch 204, Loss: 0.31155306100845337, Accuracy: 0.9073214530944824, Test Loss: 1.203761100769043, Test Accuracy: 0.6728571653366089\n",
      "Epoch 205, Loss: 0.30824771523475647, Accuracy: 0.9071428775787354, Test Loss: 1.200071930885315, Test Accuracy: 0.6785714030265808\n",
      "Epoch 206, Loss: 0.29884231090545654, Accuracy: 0.9098214507102966, Test Loss: 1.2004467248916626, Test Accuracy: 0.6714285612106323\n",
      "Epoch 207, Loss: 0.29371458292007446, Accuracy: 0.916607141494751, Test Loss: 1.1933995485305786, Test Accuracy: 0.6742857098579407\n",
      "Epoch 208, Loss: 0.3010913133621216, Accuracy: 0.9098214507102966, Test Loss: 1.2379449605941772, Test Accuracy: 0.6585714221000671\n",
      "Epoch 209, Loss: 0.30774158239364624, Accuracy: 0.9108928442001343, Test Loss: 1.260915994644165, Test Accuracy: 0.6671428680419922\n",
      "Epoch 210, Loss: 0.29594099521636963, Accuracy: 0.914821445941925, Test Loss: 1.2599464654922485, Test Accuracy: 0.6628571152687073\n",
      "Epoch 211, Loss: 0.2969127893447876, Accuracy: 0.9094642996788025, Test Loss: 1.194669246673584, Test Accuracy: 0.6728571653366089\n",
      "Epoch 212, Loss: 0.27624014019966125, Accuracy: 0.9226785898208618, Test Loss: 1.1954915523529053, Test Accuracy: 0.668571412563324\n",
      "Epoch 213, Loss: 0.2792910039424896, Accuracy: 0.9191071391105652, Test Loss: 1.264230489730835, Test Accuracy: 0.6642857193946838\n",
      "Epoch 214, Loss: 0.34880250692367554, Accuracy: 0.8841071724891663, Test Loss: 1.2614918947219849, Test Accuracy: 0.6628571152687073\n",
      "Epoch 215, Loss: 0.2701892554759979, Accuracy: 0.9264285564422607, Test Loss: 1.316635012626648, Test Accuracy: 0.6514285802841187\n",
      "Epoch 216, Loss: 0.2937367260456085, Accuracy: 0.9141071438789368, Test Loss: 1.1973000764846802, Test Accuracy: 0.6757143139839172\n",
      "Epoch 217, Loss: 0.2748520076274872, Accuracy: 0.9219642877578735, Test Loss: 1.2278269529342651, Test Accuracy: 0.6800000071525574\n",
      "Epoch 218, Loss: 0.269279420375824, Accuracy: 0.9232142567634583, Test Loss: 1.218164086341858, Test Accuracy: 0.6657142639160156\n",
      "Epoch 219, Loss: 0.270535945892334, Accuracy: 0.9225000143051147, Test Loss: 1.244618535041809, Test Accuracy: 0.668571412563324\n",
      "Epoch 220, Loss: 0.2671203315258026, Accuracy: 0.9237499833106995, Test Loss: 1.2380774021148682, Test Accuracy: 0.668571412563324\n",
      "Epoch 221, Loss: 0.269397109746933, Accuracy: 0.9262499809265137, Test Loss: 1.3914508819580078, Test Accuracy: 0.6499999761581421\n",
      "Epoch 222, Loss: 0.5598816871643066, Accuracy: 0.8551785945892334, Test Loss: 1.2401264905929565, Test Accuracy: 0.6714285612106323\n",
      "Epoch 223, Loss: 0.25537097454071045, Accuracy: 0.9323214292526245, Test Loss: 1.2994153499603271, Test Accuracy: 0.6671428680419922\n",
      "Epoch 224, Loss: 0.26364490389823914, Accuracy: 0.925178587436676, Test Loss: 1.2352732419967651, Test Accuracy: 0.6757143139839172\n",
      "Epoch 225, Loss: 0.25076785683631897, Accuracy: 0.9325000047683716, Test Loss: 1.2381768226623535, Test Accuracy: 0.6700000166893005\n",
      "Epoch 226, Loss: 0.2583443820476532, Accuracy: 0.929107129573822, Test Loss: 1.4121994972229004, Test Accuracy: 0.6628571152687073\n",
      "Epoch 227, Loss: 0.3142765462398529, Accuracy: 0.9035714268684387, Test Loss: 1.2853138446807861, Test Accuracy: 0.6728571653366089\n",
      "Epoch 228, Loss: 0.25314658880233765, Accuracy: 0.9285714030265808, Test Loss: 1.2357877492904663, Test Accuracy: 0.6742857098579407\n",
      "Epoch 229, Loss: 0.24785326421260834, Accuracy: 0.9339285492897034, Test Loss: 1.274856686592102, Test Accuracy: 0.6700000166893005\n",
      "Epoch 230, Loss: 0.24498014152050018, Accuracy: 0.9301785826683044, Test Loss: 1.3961986303329468, Test Accuracy: 0.6571428775787354\n",
      "Epoch 231, Loss: 0.26858094334602356, Accuracy: 0.9169642925262451, Test Loss: 1.2934309244155884, Test Accuracy: 0.6728571653366089\n",
      "Epoch 232, Loss: 0.25226202607154846, Accuracy: 0.9326785802841187, Test Loss: 1.258623719215393, Test Accuracy: 0.6814285516738892\n",
      "Epoch 233, Loss: 0.23064182698726654, Accuracy: 0.9396428465843201, Test Loss: 1.2695282697677612, Test Accuracy: 0.6700000166893005\n",
      "Epoch 234, Loss: 0.2462746948003769, Accuracy: 0.9303571581840515, Test Loss: 1.2782036066055298, Test Accuracy: 0.6742857098579407\n",
      "Epoch 235, Loss: 0.23618273437023163, Accuracy: 0.9330357313156128, Test Loss: 1.276368498802185, Test Accuracy: 0.6700000166893005\n",
      "Epoch 236, Loss: 0.23882146179676056, Accuracy: 0.9367856979370117, Test Loss: 1.6433844566345215, Test Accuracy: 0.6285714507102966\n",
      "Epoch 237, Loss: 0.2634899914264679, Accuracy: 0.9219642877578735, Test Loss: 1.303517460823059, Test Accuracy: 0.6671428680419922\n",
      "Epoch 238, Loss: 0.22426973283290863, Accuracy: 0.9419642686843872, Test Loss: 1.2970136404037476, Test Accuracy: 0.6728571653366089\n",
      "Epoch 239, Loss: 0.22723546624183655, Accuracy: 0.9385714530944824, Test Loss: 1.278664231300354, Test Accuracy: 0.677142858505249\n",
      "Epoch 240, Loss: 0.22635041177272797, Accuracy: 0.9426785707473755, Test Loss: 1.291709542274475, Test Accuracy: 0.668571412563324\n",
      "Epoch 241, Loss: 0.2857910692691803, Accuracy: 0.9112499952316284, Test Loss: 1.2651818990707397, Test Accuracy: 0.6714285612106323\n",
      "Epoch 242, Loss: 0.22847360372543335, Accuracy: 0.939464271068573, Test Loss: 1.3209608793258667, Test Accuracy: 0.6728571653366089\n",
      "Epoch 243, Loss: 0.21902236342430115, Accuracy: 0.9449999928474426, Test Loss: 1.306653380393982, Test Accuracy: 0.6657142639160156\n",
      "Epoch 244, Loss: 0.21433773636817932, Accuracy: 0.9442856907844543, Test Loss: 1.3958821296691895, Test Accuracy: 0.6557142734527588\n",
      "Epoch 245, Loss: 0.2182149738073349, Accuracy: 0.941428542137146, Test Loss: 1.2822147607803345, Test Accuracy: 0.6642857193946838\n",
      "Epoch 246, Loss: 0.21500152349472046, Accuracy: 0.9423214197158813, Test Loss: 1.2837783098220825, Test Accuracy: 0.677142858505249\n",
      "Epoch 247, Loss: 0.20502853393554688, Accuracy: 0.9516071677207947, Test Loss: 1.285326600074768, Test Accuracy: 0.6814285516738892\n",
      "Epoch 248, Loss: 0.20585879683494568, Accuracy: 0.949821412563324, Test Loss: 1.2905341386795044, Test Accuracy: 0.6785714030265808\n",
      "Epoch 249, Loss: 0.20104679465293884, Accuracy: 0.9532142877578735, Test Loss: 1.3604215383529663, Test Accuracy: 0.668571412563324\n",
      "Epoch 250, Loss: 0.2081306129693985, Accuracy: 0.9462500214576721, Test Loss: 1.2920053005218506, Test Accuracy: 0.677142858505249\n"
     ]
    }
   ],
   "source": [
    "#Build the model\n",
    "model = CharCNN(256)\n",
    "\n",
    "#Choose optimizer and loss function for training\n",
    "loss_object = tf.keras.losses.SparseCategoricalCrossentropy()\n",
    "optimizer = tf.keras.optimizers.Adam(learning_rate=lr)\n",
    "\n",
    "#Select metrics to measure the loss and the accuracy of the model. \n",
    "#These metrics accumulate the values over epochs and then print the overall result.\n",
    "train_loss = tf.keras.metrics.Mean(name='train_loss')\n",
    "train_accuracy = tf.keras.metrics.SparseCategoricalAccuracy(name='train_accuracy')\n",
    "\n",
    "test_loss = tf.keras.metrics.Mean(name='test_loss')\n",
    "test_accuracy = tf.keras.metrics.SparseCategoricalAccuracy(name='test_accuracy')\n",
    "\n",
    "\n",
    "test_acc = []\n",
    "entropy_cost = []\n",
    "charCNN_timer = 0\n",
    "\n",
    "for epoch in range(no_epochs):\n",
    "    # Reset the metrics at the start of the next epoch\n",
    "    train_loss.reset_states()\n",
    "    train_accuracy.reset_states()\n",
    "    test_loss.reset_states()\n",
    "    test_accuracy.reset_states()\n",
    "    \n",
    "    epoch_start_time = time.perf_counter()\n",
    "    for images, labels in train_ds:\n",
    "        train_step(model, images, labels, drop_rate=0)\n",
    "\n",
    "    for images, labels in test_ds:\n",
    "        test_step(model, images, labels, drop_rate=0)\n",
    "\n",
    "    epoch_end_time = time.perf_counter()\n",
    "    charCNN_timer = charCNN_timer + epoch_end_time - epoch_start_time\n",
    "    test_acc.append(test_accuracy.result())\n",
    "    entropy_cost.append(train_loss.result())\n",
    "    template = 'Epoch {}, Loss: {}, Accuracy: {}, Test Loss: {}, Test Accuracy: {}'\n",
    "    print (template.format(epoch+1,\n",
    "                          train_loss.result(),\n",
    "                          train_accuracy.result(),\n",
    "                          test_loss.result(),\n",
    "                          test_accuracy.result()))\n"
   ]
  },
  {
   "cell_type": "code",
   "execution_count": null,
   "metadata": {
    "colab": {
     "base_uri": "https://localhost:8080/",
     "height": 296
    },
    "id": "PsaGWi7LJQAa",
    "outputId": "0b8bb6d6-e50b-40d4-9c87-e037c6c95f02"
   },
   "outputs": [
    {
     "data": {
      "text/plain": [
       "<matplotlib.legend.Legend at 0x7f2496df95c0>"
      ]
     },
     "execution_count": 8,
     "metadata": {
      "tags": []
     },
     "output_type": "execute_result"
    },
    {
     "data": {
      "image/png": "[encoded data removed]",
      "text/plain": [
       "<Figure size 432x288 with 1 Axes>"
      ]
     },
     "metadata": {
      "needs_background": "light",
      "tags": []
     },
     "output_type": "display_data"
    }
   ],
   "source": [
    "# Plot training entropy cost\n",
    "pylab.figure()\n",
    "pylab.plot(np.arange(no_epochs), entropy_cost, label='Char CNN train entropy cost')\n",
    "pylab.xlabel('Epochs')\n",
    "pylab.ylabel('Train Entropy Cost')\n",
    "pylab.legend(loc='upper right')"
   ]
  },
  {
   "cell_type": "code",
   "execution_count": null,
   "metadata": {
    "colab": {
     "base_uri": "https://localhost:8080/",
     "height": 296
    },
    "id": "CTCve_e-JsYx",
    "outputId": "76fa0e13-0bbb-4b56-909c-db7e35a1523b"
   },
   "outputs": [
    {
     "data": {
      "text/plain": [
       "<matplotlib.legend.Legend at 0x7f2496d79e80>"
      ]
     },
     "execution_count": 9,
     "metadata": {
      "tags": []
     },
     "output_type": "execute_result"
    },
    {
     "data": {
      "image/png": "[encoded data removed]",
      "text/plain": [
       "<Figure size 432x288 with 1 Axes>"
      ]
     },
     "metadata": {
      "needs_background": "light",
      "tags": []
     },
     "output_type": "display_data"
    }
   ],
   "source": [
    "# Plot test accuracy\n",
    "pylab.figure()\n",
    "pylab.plot(np.arange(no_epochs), test_acc, label='Char CNN test accuracy')\n",
    "pylab.xlabel('Epochs')\n",
    "pylab.ylabel('Test Accuracy')\n",
    "pylab.legend(loc='upper right')"
   ]
  },
  {
   "cell_type": "code",
   "execution_count": null,
   "metadata": {
    "colab": {
     "base_uri": "https://localhost:8080/"
    },
    "id": "M1opVyKTR8Ui",
    "outputId": "5e1b025c-815e-4a39-d725-f5e8849f1fd6"
   },
   "outputs": [
    {
     "name": "stdout",
     "output_type": "stream",
     "text": [
      "149.25543079300024\n"
     ]
    }
   ],
   "source": [
    "print(charCNN_timer)"
   ]
  },
  {
   "cell_type": "markdown",
   "metadata": {
    "id": "CuWJT5GIC78e"
   },
   "source": [
    "**Part B Question 2**"
   ]
  },
  {
   "cell_type": "code",
   "execution_count": null,
   "metadata": {
    "id": "J6Fbo09AhzkZ"
   },
   "outputs": [],
   "source": [
    "#Initialise additional needed variable\n",
    "EMBEDDING_SIZE = 20"
   ]
  },
  {
   "cell_type": "code",
   "execution_count": null,
   "metadata": {
    "id": "9JAxTwEwC_zW"
   },
   "outputs": [],
   "source": [
    "#Define functions used for word classifier\n",
    "def clean_str(text):\n",
    "    text = re.sub(r\"[^A-Za-z0-9(),!?\\'\\`\\\"]\", \" \", text)\n",
    "    text = re.sub(r\"\\s{2,}\", \" \", text)\n",
    "    text = text.strip().lower()\n",
    "\n",
    "    return text\n",
    "\n",
    "\n",
    "def build_word_dict(contents):\n",
    "    words = list()\n",
    "    for content in contents:\n",
    "        for word in word_tokenize(clean_str(content)):\n",
    "            words.append(word)\n",
    "\n",
    "    word_counter = collections.Counter(words).most_common()\n",
    "    word_dict = dict()\n",
    "    word_dict[\"<pad>\"] = 0\n",
    "    word_dict[\"<unk>\"] = 1\n",
    "    word_dict[\"<eos>\"] = 2\n",
    "    for word, _ in word_counter:\n",
    "        word_dict[word] = len(word_dict)\n",
    "    return word_dict\n",
    "\n",
    "\n",
    "def preprocess(contents, word_dict, document_max_len):\n",
    "    x = list(map(lambda d: word_tokenize(clean_str(d)), contents))\n",
    "    x = list(map(lambda d: list(map(lambda w: word_dict.get(w, word_dict[\"<unk>\"]), d)), x))\n",
    "    x = list(map(lambda d: d + [word_dict[\"<eos>\"]], x))\n",
    "    x = list(map(lambda d: d[:document_max_len], x))\n",
    "    x = list(map(lambda d: d + (document_max_len - len(d)) * [word_dict[\"<pad>\"]], x))\n",
    "    return x\n",
    "\n",
    "\n",
    "def read_data_words():\n",
    "    x_train, y_train, x_test, y_test = [], [], [], []\n",
    "    cop = re.compile(\"[^a-z^A-Z^0-9^,^.^' ']\")\n",
    "    with open('/content/gdrive/My Drive/WR NN/train_medium.csv', encoding='utf-8') as filex:\n",
    "    #with open('train_medium.csv', encoding='utf-8') as filex:\n",
    "        reader = csv.reader(filex)\n",
    "        for row in reader:\n",
    "            data = cop.sub(\"\", row[1])\n",
    "            x_train.append(data)\n",
    "            y_train.append(int(row[0]))\n",
    "    with open('/content/gdrive/My Drive/WR NN/test_medium.csv', encoding='utf-8') as filex:   \n",
    "    #with open('test_medium.csv', encoding='utf-8') as filex:\n",
    "        reader = csv.reader(filex)\n",
    "        for row in reader:\n",
    "            data = cop.sub(\"\", row[1])\n",
    "            x_test.append(data)\n",
    "            y_test.append(int(row[0]))\n",
    "\n",
    "    word_dict = build_word_dict(x_train+x_test)\n",
    "    x_train = preprocess(x_train, word_dict, MAX_DOCUMENT_LENGTH)\n",
    "    y_train = np.array(y_train)\n",
    "    x_test = preprocess(x_test, word_dict, MAX_DOCUMENT_LENGTH)\n",
    "    y_test = np.array(y_test)\n",
    "\n",
    "    x_train = [x[:MAX_DOCUMENT_LENGTH] for x in x_train]\n",
    "    x_test = [x[:MAX_DOCUMENT_LENGTH] for x in x_test]\n",
    "    x_train = tf.constant(x_train, dtype=tf.int64)\n",
    "    y_train = tf.constant(y_train, dtype=tf.int64)\n",
    "    x_test = tf.constant(x_test, dtype=tf.int64)\n",
    "    y_test = tf.constant(y_test, dtype=tf.int64)\n",
    "\n",
    "    vocab_size = tf.get_static_value(tf.reduce_max(x_train))\n",
    "    vocab_size = max(vocab_size, tf.get_static_value(tf.reduce_max(x_test))) + 1\n",
    "    return x_train, y_train, x_test, y_test, vocab_size\n"
   ]
  },
  {
   "cell_type": "code",
   "execution_count": null,
   "metadata": {
    "id": "WXxO3qrhbUYm"
   },
   "outputs": [],
   "source": [
    "#Read in the dataset and vocab size\n",
    "x_train_word, y_train_word, x_test_word, y_test_word, vocab_size_word = read_data_words()\n",
    "\n",
    "# Use `tf.data` to batch and shuffle the dataset:\n",
    "train_ds_word = tf.data.Dataset.from_tensor_slices(\n",
    "    (x_train_word, y_train_word)).shuffle(10000).batch(batch_size)\n",
    "test_ds_word = tf.data.Dataset.from_tensor_slices((x_test_word, y_test_word)).batch(batch_size)\n",
    "\n",
    "#Define WordCNN Model\n",
    "class WordCNN(Model):\n",
    "    def __init__(self, vocab_size=256):\n",
    "        super(WordCNN, self).__init__()\n",
    "        self.vocab_size = vocab_size\n",
    "        #Weight variables, embedding layer & CNN cell\n",
    "        self.embedding = layers.Embedding(vocab_size, EMBEDDING_SIZE, input_length=MAX_DOCUMENT_LENGTH)\n",
    "        self.conv1 = layers.Conv2D(N_FILTERS, FILTER_SHAPE3, padding='VALID', activation='relu', use_bias=True)\n",
    "        self.pool1 = layers.MaxPool2D(POOLING_WINDOW, POOLING_STRIDE, padding='SAME')\n",
    "        self.conv2 = layers.Conv2D(N_FILTERS, FILTER_SHAPE2, padding='VALID', activation='relu', use_bias=True)\n",
    "        self.pool2 = layers.MaxPool2D(POOLING_WINDOW, POOLING_STRIDE, padding='SAME')\n",
    "        self.flatten = layers.Flatten()\n",
    "        self.dense = layers.Dense(MAX_LABEL, activation='softmax')\n",
    "\n",
    "    def call(self, x, drop_rate=0.5):\n",
    "        #forward\n",
    "\n",
    "        #x = tf.one_hot(x, 256)\n",
    "        x = self.embedding(x)\n",
    "        x = x[..., tf.newaxis]\n",
    "        x = self.conv1(x)\n",
    "        x = self.pool1(x)\n",
    "        x = self.conv2(x)\n",
    "        x = self.pool2(x)\n",
    "        x = self.flatten(x)\n",
    "        x = tf.nn.dropout(x, drop_rate)\n",
    "        logits = self.dense(x)\n",
    "        return logits"
   ]
  },
  {
   "cell_type": "code",
   "execution_count": null,
   "metadata": {
    "id": "QArmymbu1O_a"
   },
   "outputs": [],
   "source": [
    "#Choose optimizer and loss function for training\n",
    "optimizer = tf.keras.optimizers.Adam(learning_rate=lr)\n",
    "\n",
    "#Select metrics to measure the loss and the accuracy of the model. \n",
    "#These metrics accumulate the values over epochs and then print the overall result.\n",
    "train_loss = tf.keras.metrics.Mean(name='train_loss')\n",
    "train_accuracy = tf.keras.metrics.SparseCategoricalAccuracy(name='train_accuracy')\n",
    "\n",
    "test_loss = tf.keras.metrics.Mean(name='test_loss')\n",
    "test_accuracy = tf.keras.metrics.SparseCategoricalAccuracy(name='test_accuracy')"
   ]
  },
  {
   "cell_type": "code",
   "execution_count": null,
   "metadata": {
    "colab": {
     "base_uri": "https://localhost:8080/"
    },
    "id": "kGik-YoGX7Mo",
    "outputId": "20d61226-2817-470f-881c-574039fb4a3d"
   },
   "outputs": [
    {
     "name": "stdout",
     "output_type": "stream",
     "text": [
      "Epoch 1, Loss: 2.7054548263549805, Accuracy: 0.07374999672174454, Test Loss: 2.7034311294555664, Test Accuracy: 0.08857142925262451\n",
      "Epoch 2, Loss: 2.7022664546966553, Accuracy: 0.07964285463094711, Test Loss: 2.700446367263794, Test Accuracy: 0.08857142925262451\n",
      "Epoch 3, Loss: 2.69952654838562, Accuracy: 0.07982143014669418, Test Loss: 2.697758913040161, Test Accuracy: 0.07999999821186066\n",
      "Epoch 4, Loss: 2.6969847679138184, Accuracy: 0.07892857491970062, Test Loss: 2.695155143737793, Test Accuracy: 0.07285714149475098\n",
      "Epoch 5, Loss: 2.694579601287842, Accuracy: 0.07767856866121292, Test Loss: 2.692707061767578, Test Accuracy: 0.06714285910129547\n",
      "Epoch 6, Loss: 2.692204713821411, Accuracy: 0.07392857223749161, Test Loss: 2.6903131008148193, Test Accuracy: 0.06714285910129547\n",
      "Epoch 7, Loss: 2.689932346343994, Accuracy: 0.0758928582072258, Test Loss: 2.687959909439087, Test Accuracy: 0.06714285910129547\n",
      "Epoch 8, Loss: 2.6876096725463867, Accuracy: 0.07321428507566452, Test Loss: 2.6856353282928467, Test Accuracy: 0.06428571790456772\n",
      "Epoch 9, Loss: 2.6852867603302, Accuracy: 0.07321428507566452, Test Loss: 2.6832685470581055, Test Accuracy: 0.0657142847776413\n",
      "Epoch 10, Loss: 2.6830060482025146, Accuracy: 0.07392857223749161, Test Loss: 2.6808674335479736, Test Accuracy: 0.07000000029802322\n",
      "Epoch 11, Loss: 2.680739641189575, Accuracy: 0.07214285433292389, Test Loss: 2.6784961223602295, Test Accuracy: 0.07000000029802322\n",
      "Epoch 12, Loss: 2.678382635116577, Accuracy: 0.07357142865657806, Test Loss: 2.676079750061035, Test Accuracy: 0.07000000029802322\n",
      "Epoch 13, Loss: 2.6761181354522705, Accuracy: 0.07285714149475098, Test Loss: 2.673659563064575, Test Accuracy: 0.06857142597436905\n",
      "Epoch 14, Loss: 2.673734188079834, Accuracy: 0.07196428626775742, Test Loss: 2.6712522506713867, Test Accuracy: 0.06714285910129547\n",
      "Epoch 15, Loss: 2.6713733673095703, Accuracy: 0.07232142984867096, Test Loss: 2.6687734127044678, Test Accuracy: 0.0714285746216774\n",
      "Epoch 16, Loss: 2.6689441204071045, Accuracy: 0.07339286059141159, Test Loss: 2.6661715507507324, Test Accuracy: 0.07000000029802322\n",
      "Epoch 17, Loss: 2.666431427001953, Accuracy: 0.07374999672174454, Test Loss: 2.663564443588257, Test Accuracy: 0.07571428269147873\n",
      "Epoch 18, Loss: 2.6638383865356445, Accuracy: 0.07732142508029938, Test Loss: 2.660856246948242, Test Accuracy: 0.0714285746216774\n",
      "Epoch 19, Loss: 2.661255121231079, Accuracy: 0.07767856866121292, Test Loss: 2.6581127643585205, Test Accuracy: 0.08428571373224258\n",
      "Epoch 20, Loss: 2.658661127090454, Accuracy: 0.07839285582304001, Test Loss: 2.655324697494507, Test Accuracy: 0.08285713940858841\n",
      "Epoch 21, Loss: 2.655877113342285, Accuracy: 0.07857143133878708, Test Loss: 2.6524498462677, Test Accuracy: 0.08142857253551483\n",
      "Epoch 22, Loss: 2.6531944274902344, Accuracy: 0.08124999701976776, Test Loss: 2.649590253829956, Test Accuracy: 0.0771428570151329\n",
      "Epoch 23, Loss: 2.6505353450775146, Accuracy: 0.0791071429848671, Test Loss: 2.6466526985168457, Test Accuracy: 0.07857143133878708\n",
      "Epoch 24, Loss: 2.6476285457611084, Accuracy: 0.07892857491970062, Test Loss: 2.6436429023742676, Test Accuracy: 0.08285713940858841\n",
      "Epoch 25, Loss: 2.6448357105255127, Accuracy: 0.08250000327825546, Test Loss: 2.6405532360076904, Test Accuracy: 0.08571428805589676\n",
      "Epoch 26, Loss: 2.6420109272003174, Accuracy: 0.08214285969734192, Test Loss: 2.6373441219329834, Test Accuracy: 0.08285713940858841\n",
      "Epoch 27, Loss: 2.6390345096588135, Accuracy: 0.08375000208616257, Test Loss: 2.6342108249664307, Test Accuracy: 0.07999999821186066\n",
      "Epoch 28, Loss: 2.6361889839172363, Accuracy: 0.08214285969734192, Test Loss: 2.630930185317993, Test Accuracy: 0.08857142925262451\n",
      "Epoch 29, Loss: 2.633334159851074, Accuracy: 0.08214285969734192, Test Loss: 2.627624273300171, Test Accuracy: 0.09000000357627869\n",
      "Epoch 30, Loss: 2.6306629180908203, Accuracy: 0.0816071406006813, Test Loss: 2.6243255138397217, Test Accuracy: 0.09142857044935226\n",
      "Epoch 31, Loss: 2.627823829650879, Accuracy: 0.08749999850988388, Test Loss: 2.6210920810699463, Test Accuracy: 0.09285714477300644\n",
      "Epoch 32, Loss: 2.6248395442962646, Accuracy: 0.08624999970197678, Test Loss: 2.6177785396575928, Test Accuracy: 0.1014285683631897\n",
      "Epoch 33, Loss: 2.6221213340759277, Accuracy: 0.09714286029338837, Test Loss: 2.614374876022339, Test Accuracy: 0.10999999940395355\n",
      "Epoch 34, Loss: 2.619580030441284, Accuracy: 0.1039285734295845, Test Loss: 2.6111180782318115, Test Accuracy: 0.11999999731779099\n",
      "Epoch 35, Loss: 2.6169660091400146, Accuracy: 0.11232142895460129, Test Loss: 2.6081111431121826, Test Accuracy: 0.11571428924798965\n",
      "Epoch 36, Loss: 2.6142172813415527, Accuracy: 0.11249999701976776, Test Loss: 2.6050498485565186, Test Accuracy: 0.11714285612106323\n",
      "Epoch 37, Loss: 2.6118791103363037, Accuracy: 0.1148214265704155, Test Loss: 2.6017119884490967, Test Accuracy: 0.12857143580913544\n",
      "Epoch 38, Loss: 2.6094415187835693, Accuracy: 0.11785714328289032, Test Loss: 2.599248170852661, Test Accuracy: 0.12142857164144516\n",
      "Epoch 39, Loss: 2.607243537902832, Accuracy: 0.11785714328289032, Test Loss: 2.5964133739471436, Test Accuracy: 0.12142857164144516\n",
      "Epoch 40, Loss: 2.6051137447357178, Accuracy: 0.11375000327825546, Test Loss: 2.5938656330108643, Test Accuracy: 0.12142857164144516\n",
      "Epoch 41, Loss: 2.6035027503967285, Accuracy: 0.1180357113480568, Test Loss: 2.5916967391967773, Test Accuracy: 0.11428571492433548\n",
      "Epoch 42, Loss: 2.601639747619629, Accuracy: 0.11500000208616257, Test Loss: 2.589521646499634, Test Accuracy: 0.11428571492433548\n",
      "Epoch 43, Loss: 2.600139856338501, Accuracy: 0.11232142895460129, Test Loss: 2.5878512859344482, Test Accuracy: 0.11857143044471741\n",
      "Epoch 44, Loss: 2.598313331604004, Accuracy: 0.11857143044471741, Test Loss: 2.5860934257507324, Test Accuracy: 0.1257142871618271\n",
      "Epoch 45, Loss: 2.597212791442871, Accuracy: 0.11678571254014969, Test Loss: 2.5844390392303467, Test Accuracy: 0.11857143044471741\n",
      "Epoch 46, Loss: 2.5960819721221924, Accuracy: 0.11392857134342194, Test Loss: 2.583301544189453, Test Accuracy: 0.11999999731779099\n",
      "Epoch 47, Loss: 2.594712972640991, Accuracy: 0.12089285999536514, Test Loss: 2.5822246074676514, Test Accuracy: 0.12142857164144516\n",
      "Epoch 48, Loss: 2.5937812328338623, Accuracy: 0.1237500011920929, Test Loss: 2.5813510417938232, Test Accuracy: 0.11714285612106323\n",
      "Epoch 49, Loss: 2.5929453372955322, Accuracy: 0.12214285880327225, Test Loss: 2.5801398754119873, Test Accuracy: 0.11714285612106323\n",
      "Epoch 50, Loss: 2.5923521518707275, Accuracy: 0.12107142806053162, Test Loss: 2.5800912380218506, Test Accuracy: 0.11857143044471741\n",
      "Epoch 51, Loss: 2.5907042026519775, Accuracy: 0.1180357113480568, Test Loss: 2.5788447856903076, Test Accuracy: 0.10428571701049805\n",
      "Epoch 52, Loss: 2.5905935764312744, Accuracy: 0.11999999731779099, Test Loss: 2.5783166885375977, Test Accuracy: 0.11714285612106323\n",
      "Epoch 53, Loss: 2.5904321670532227, Accuracy: 0.12392856925725937, Test Loss: 2.5775482654571533, Test Accuracy: 0.11714285612106323\n",
      "Epoch 54, Loss: 2.589607000350952, Accuracy: 0.11946428567171097, Test Loss: 2.5770301818847656, Test Accuracy: 0.12142857164144516\n",
      "Epoch 55, Loss: 2.5883398056030273, Accuracy: 0.12357142567634583, Test Loss: 2.5766117572784424, Test Accuracy: 0.11857143044471741\n",
      "Epoch 56, Loss: 2.588425636291504, Accuracy: 0.12464285641908646, Test Loss: 2.5759871006011963, Test Accuracy: 0.11142857372760773\n",
      "Epoch 57, Loss: 2.58785343170166, Accuracy: 0.11428571492433548, Test Loss: 2.57588529586792, Test Accuracy: 0.11857143044471741\n",
      "Epoch 58, Loss: 2.587435722351074, Accuracy: 0.125, Test Loss: 2.5750138759613037, Test Accuracy: 0.12142857164144516\n",
      "Epoch 59, Loss: 2.5863776206970215, Accuracy: 0.1257142871618271, Test Loss: 2.574772834777832, Test Accuracy: 0.11571428924798965\n",
      "Epoch 60, Loss: 2.585894823074341, Accuracy: 0.12071428447961807, Test Loss: 2.5740907192230225, Test Accuracy: 0.11999999731779099\n",
      "Epoch 61, Loss: 2.5850136280059814, Accuracy: 0.12214285880327225, Test Loss: 2.574570894241333, Test Accuracy: 0.12142857164144516\n",
      "Epoch 62, Loss: 2.5848987102508545, Accuracy: 0.12285714596509933, Test Loss: 2.573831796646118, Test Accuracy: 0.11999999731779099\n",
      "Epoch 63, Loss: 2.5845422744750977, Accuracy: 0.12464285641908646, Test Loss: 2.5731513500213623, Test Accuracy: 0.11999999731779099\n",
      "Epoch 64, Loss: 2.583677053451538, Accuracy: 0.1237500011920929, Test Loss: 2.572220802307129, Test Accuracy: 0.11999999731779099\n",
      "Epoch 65, Loss: 2.583143472671509, Accuracy: 0.12535713613033295, Test Loss: 2.5718796253204346, Test Accuracy: 0.11999999731779099\n",
      "Epoch 66, Loss: 2.582650899887085, Accuracy: 0.12017857283353806, Test Loss: 2.57090163230896, Test Accuracy: 0.11571428924798965\n",
      "Epoch 67, Loss: 2.582141399383545, Accuracy: 0.11999999731779099, Test Loss: 2.570629835128784, Test Accuracy: 0.11714285612106323\n",
      "Epoch 68, Loss: 2.5816540718078613, Accuracy: 0.12339285761117935, Test Loss: 2.5702126026153564, Test Accuracy: 0.11857143044471741\n",
      "Epoch 69, Loss: 2.581338882446289, Accuracy: 0.12160713970661163, Test Loss: 2.570002794265747, Test Accuracy: 0.11714285612106323\n",
      "Epoch 70, Loss: 2.581063985824585, Accuracy: 0.12250000238418579, Test Loss: 2.569040536880493, Test Accuracy: 0.11428571492433548\n",
      "Epoch 71, Loss: 2.5802488327026367, Accuracy: 0.12553571164608002, Test Loss: 2.568521499633789, Test Accuracy: 0.11857143044471741\n",
      "Epoch 72, Loss: 2.5796525478363037, Accuracy: 0.12267857044935226, Test Loss: 2.5678818225860596, Test Accuracy: 0.11857143044471741\n",
      "Epoch 73, Loss: 2.5791008472442627, Accuracy: 0.12285714596509933, Test Loss: 2.5678911209106445, Test Accuracy: 0.11857143044471741\n",
      "Epoch 74, Loss: 2.5786354541778564, Accuracy: 0.12482143193483353, Test Loss: 2.567315101623535, Test Accuracy: 0.12142857164144516\n",
      "Epoch 75, Loss: 2.57790207862854, Accuracy: 0.12464285641908646, Test Loss: 2.566692352294922, Test Accuracy: 0.12142857164144516\n",
      "Epoch 76, Loss: 2.5775997638702393, Accuracy: 0.1217857152223587, Test Loss: 2.566636323928833, Test Accuracy: 0.11999999731779099\n",
      "Epoch 77, Loss: 2.5767805576324463, Accuracy: 0.12392856925725937, Test Loss: 2.565443277359009, Test Accuracy: 0.11857143044471741\n",
      "Epoch 78, Loss: 2.5757346153259277, Accuracy: 0.12321428209543228, Test Loss: 2.5652501583099365, Test Accuracy: 0.11999999731779099\n",
      "Epoch 79, Loss: 2.575101613998413, Accuracy: 0.12339285761117935, Test Loss: 2.564330577850342, Test Accuracy: 0.12142857164144516\n",
      "Epoch 80, Loss: 2.575098991394043, Accuracy: 0.1262499988079071, Test Loss: 2.563962697982788, Test Accuracy: 0.11857143044471741\n",
      "Epoch 81, Loss: 2.574242353439331, Accuracy: 0.12535713613033295, Test Loss: 2.5638110637664795, Test Accuracy: 0.1257142871618271\n",
      "Epoch 82, Loss: 2.5733633041381836, Accuracy: 0.12196428328752518, Test Loss: 2.5628457069396973, Test Accuracy: 0.11857143044471741\n",
      "Epoch 83, Loss: 2.5733182430267334, Accuracy: 0.1257142871618271, Test Loss: 2.5618927478790283, Test Accuracy: 0.11999999731779099\n",
      "Epoch 84, Loss: 2.5725154876708984, Accuracy: 0.12928570806980133, Test Loss: 2.56111478805542, Test Accuracy: 0.11714285612106323\n",
      "Epoch 85, Loss: 2.571701765060425, Accuracy: 0.12428571283817291, Test Loss: 2.5606393814086914, Test Accuracy: 0.11714285612106323\n",
      "Epoch 86, Loss: 2.5704519748687744, Accuracy: 0.12535713613033295, Test Loss: 2.560399293899536, Test Accuracy: 0.1257142871618271\n",
      "Epoch 87, Loss: 2.570523977279663, Accuracy: 0.12607142329216003, Test Loss: 2.5595896244049072, Test Accuracy: 0.12285714596509933\n",
      "Epoch 88, Loss: 2.569923162460327, Accuracy: 0.12589286267757416, Test Loss: 2.5585343837738037, Test Accuracy: 0.12285714596509933\n",
      "Epoch 89, Loss: 2.5686447620391846, Accuracy: 0.12607142329216003, Test Loss: 2.55741548538208, Test Accuracy: 0.12142857164144516\n",
      "Epoch 90, Loss: 2.567946434020996, Accuracy: 0.12660714983940125, Test Loss: 2.557037115097046, Test Accuracy: 0.11714285612106323\n",
      "Epoch 91, Loss: 2.5672361850738525, Accuracy: 0.1287499964237213, Test Loss: 2.5559704303741455, Test Accuracy: 0.12142857164144516\n",
      "Epoch 92, Loss: 2.565976858139038, Accuracy: 0.12892857193946838, Test Loss: 2.5551185607910156, Test Accuracy: 0.11999999731779099\n",
      "Epoch 93, Loss: 2.5648605823516846, Accuracy: 0.12785714864730835, Test Loss: 2.5549051761627197, Test Accuracy: 0.11714285612106323\n",
      "Epoch 94, Loss: 2.5646417140960693, Accuracy: 0.12767857313156128, Test Loss: 2.5535686016082764, Test Accuracy: 0.11857143044471741\n",
      "Epoch 95, Loss: 2.5629444122314453, Accuracy: 0.12678571045398712, Test Loss: 2.553818702697754, Test Accuracy: 0.11857143044471741\n",
      "Epoch 96, Loss: 2.5623319149017334, Accuracy: 0.13500000536441803, Test Loss: 2.551625967025757, Test Accuracy: 0.1257142871618271\n",
      "Epoch 97, Loss: 2.5614054203033447, Accuracy: 0.13107143342494965, Test Loss: 2.5499866008758545, Test Accuracy: 0.12857143580913544\n",
      "Epoch 98, Loss: 2.5595314502716064, Accuracy: 0.12964285910129547, Test Loss: 2.5495150089263916, Test Accuracy: 0.12285714596509933\n",
      "Epoch 99, Loss: 2.558962821960449, Accuracy: 0.13178572058677673, Test Loss: 2.5477569103240967, Test Accuracy: 0.12428571283817291\n",
      "Epoch 100, Loss: 2.556706666946411, Accuracy: 0.13428571820259094, Test Loss: 2.5472090244293213, Test Accuracy: 0.12714286148548126\n",
      "Epoch 101, Loss: 2.5554304122924805, Accuracy: 0.1351785659790039, Test Loss: 2.5451881885528564, Test Accuracy: 0.12714286148548126\n",
      "Epoch 102, Loss: 2.5541422367095947, Accuracy: 0.13500000536441803, Test Loss: 2.54374098777771, Test Accuracy: 0.12142857164144516\n",
      "Epoch 103, Loss: 2.552508592605591, Accuracy: 0.13339285552501678, Test Loss: 2.5421302318573, Test Accuracy: 0.11999999731779099\n",
      "Epoch 104, Loss: 2.5504186153411865, Accuracy: 0.13553571701049805, Test Loss: 2.5402956008911133, Test Accuracy: 0.12142857164144516\n",
      "Epoch 105, Loss: 2.54824161529541, Accuracy: 0.13428571820259094, Test Loss: 2.539203643798828, Test Accuracy: 0.1314285695552826\n",
      "Epoch 106, Loss: 2.5462193489074707, Accuracy: 0.13750000298023224, Test Loss: 2.5364229679107666, Test Accuracy: 0.12428571283817291\n",
      "Epoch 107, Loss: 2.5441031455993652, Accuracy: 0.13750000298023224, Test Loss: 2.534001111984253, Test Accuracy: 0.12857143580913544\n",
      "Epoch 108, Loss: 2.541210651397705, Accuracy: 0.13982142508029938, Test Loss: 2.530961275100708, Test Accuracy: 0.13857142627239227\n",
      "Epoch 109, Loss: 2.538393974304199, Accuracy: 0.14446428418159485, Test Loss: 2.5284736156463623, Test Accuracy: 0.13285714387893677\n",
      "Epoch 110, Loss: 2.53560733795166, Accuracy: 0.1435714215040207, Test Loss: 2.5250155925750732, Test Accuracy: 0.1371428519487381\n",
      "Epoch 111, Loss: 2.5321171283721924, Accuracy: 0.14499999582767487, Test Loss: 2.521425485610962, Test Accuracy: 0.13571429252624512\n",
      "Epoch 112, Loss: 2.52691912651062, Accuracy: 0.14803571999073029, Test Loss: 2.517422676086426, Test Accuracy: 0.13857142627239227\n",
      "Epoch 113, Loss: 2.5225472450256348, Accuracy: 0.14446428418159485, Test Loss: 2.5138885974884033, Test Accuracy: 0.13857142627239227\n",
      "Epoch 114, Loss: 2.517268419265747, Accuracy: 0.14624999463558197, Test Loss: 2.507107973098755, Test Accuracy: 0.1371428519487381\n",
      "Epoch 115, Loss: 2.5110676288604736, Accuracy: 0.15285713970661163, Test Loss: 2.5000150203704834, Test Accuracy: 0.14428570866584778\n",
      "Epoch 116, Loss: 2.504519462585449, Accuracy: 0.15410713851451874, Test Loss: 2.493119716644287, Test Accuracy: 0.15285713970661163\n",
      "Epoch 117, Loss: 2.495090961456299, Accuracy: 0.1555357128381729, Test Loss: 2.4848644733428955, Test Accuracy: 0.15285713970661163\n",
      "Epoch 118, Loss: 2.486948013305664, Accuracy: 0.15857142210006714, Test Loss: 2.4745566844940186, Test Accuracy: 0.16857142746448517\n",
      "Epoch 119, Loss: 2.4748525619506836, Accuracy: 0.16553571820259094, Test Loss: 2.4638514518737793, Test Accuracy: 0.16285714507102966\n",
      "Epoch 120, Loss: 2.4624104499816895, Accuracy: 0.1733928620815277, Test Loss: 2.4497501850128174, Test Accuracy: 0.16428571939468384\n",
      "Epoch 121, Loss: 2.446260452270508, Accuracy: 0.17571428418159485, Test Loss: 2.4338362216949463, Test Accuracy: 0.167142853140831\n",
      "Epoch 122, Loss: 2.428523063659668, Accuracy: 0.18142856657505035, Test Loss: 2.4165265560150146, Test Accuracy: 0.17000000178813934\n",
      "Epoch 123, Loss: 2.4083166122436523, Accuracy: 0.1830357164144516, Test Loss: 2.3955323696136475, Test Accuracy: 0.1842857152223587\n",
      "Epoch 124, Loss: 2.3871705532073975, Accuracy: 0.1867857128381729, Test Loss: 2.3752834796905518, Test Accuracy: 0.19142857193946838\n",
      "Epoch 125, Loss: 2.364576578140259, Accuracy: 0.198392853140831, Test Loss: 2.3513858318328857, Test Accuracy: 0.19857142865657806\n",
      "Epoch 126, Loss: 2.341789484024048, Accuracy: 0.20035713911056519, Test Loss: 2.3286995887756348, Test Accuracy: 0.19857142865657806\n",
      "Epoch 127, Loss: 2.3194925785064697, Accuracy: 0.2033928632736206, Test Loss: 2.3079335689544678, Test Accuracy: 0.2014285773038864\n",
      "Epoch 128, Loss: 2.296891212463379, Accuracy: 0.2085714340209961, Test Loss: 2.28387188911438, Test Accuracy: 0.20428571105003357\n",
      "Epoch 129, Loss: 2.275266647338867, Accuracy: 0.21321429312229156, Test Loss: 2.265016794204712, Test Accuracy: 0.2199999988079071\n",
      "Epoch 130, Loss: 2.2541768550872803, Accuracy: 0.2167857140302658, Test Loss: 2.239495277404785, Test Accuracy: 0.2328571379184723\n",
      "Epoch 131, Loss: 2.2334132194519043, Accuracy: 0.21696428954601288, Test Loss: 2.21634840965271, Test Accuracy: 0.2142857164144516\n",
      "Epoch 132, Loss: 2.2126967906951904, Accuracy: 0.22928571701049805, Test Loss: 2.1964614391326904, Test Accuracy: 0.21857142448425293\n",
      "Epoch 133, Loss: 2.193607807159424, Accuracy: 0.22928571701049805, Test Loss: 2.1789135932922363, Test Accuracy: 0.23571428656578064\n",
      "Epoch 134, Loss: 2.1780152320861816, Accuracy: 0.23642857372760773, Test Loss: 2.1587321758270264, Test Accuracy: 0.23000000417232513\n",
      "Epoch 135, Loss: 2.1600282192230225, Accuracy: 0.24124999344348907, Test Loss: 2.1423044204711914, Test Accuracy: 0.23571428656578064\n",
      "Epoch 136, Loss: 2.1405961513519287, Accuracy: 0.2448214292526245, Test Loss: 2.13669490814209, Test Accuracy: 0.238571435213089\n",
      "Epoch 137, Loss: 2.1254920959472656, Accuracy: 0.2507142722606659, Test Loss: 2.124441385269165, Test Accuracy: 0.238571435213089\n",
      "Epoch 138, Loss: 2.1144144535064697, Accuracy: 0.2505357265472412, Test Loss: 2.0913381576538086, Test Accuracy: 0.261428564786911\n",
      "Epoch 139, Loss: 2.098231315612793, Accuracy: 0.2596428692340851, Test Loss: 2.090747117996216, Test Accuracy: 0.24857142567634583\n",
      "Epoch 140, Loss: 2.08255934715271, Accuracy: 0.26124998927116394, Test Loss: 2.0658483505249023, Test Accuracy: 0.27000001072883606\n",
      "Epoch 141, Loss: 2.066376209259033, Accuracy: 0.2653571367263794, Test Loss: 2.0484676361083984, Test Accuracy: 0.26428571343421936\n",
      "Epoch 142, Loss: 2.0542733669281006, Accuracy: 0.27267858386039734, Test Loss: 2.0462234020233154, Test Accuracy: 0.272857129573822\n",
      "Epoch 143, Loss: 2.040803909301758, Accuracy: 0.2766071557998657, Test Loss: 2.027353286743164, Test Accuracy: 0.2742857038974762\n",
      "Epoch 144, Loss: 2.0287675857543945, Accuracy: 0.28089284896850586, Test Loss: 2.0343284606933594, Test Accuracy: 0.26428571343421936\n",
      "Epoch 145, Loss: 2.0009939670562744, Accuracy: 0.2887499928474426, Test Loss: 1.9854040145874023, Test Accuracy: 0.29428571462631226\n",
      "Epoch 146, Loss: 1.9894546270370483, Accuracy: 0.29553571343421936, Test Loss: 1.9787465333938599, Test Accuracy: 0.28857141733169556\n",
      "Epoch 147, Loss: 1.977687120437622, Accuracy: 0.3005357086658478, Test Loss: 1.9744547605514526, Test Accuracy: 0.2871428430080414\n",
      "Epoch 148, Loss: 1.953940987586975, Accuracy: 0.30142858624458313, Test Loss: 2.063166379928589, Test Accuracy: 0.2628571391105652\n",
      "Epoch 149, Loss: 1.9376202821731567, Accuracy: 0.30892857909202576, Test Loss: 2.08386492729187, Test Accuracy: 0.24857142567634583\n",
      "Epoch 150, Loss: 1.9318718910217285, Accuracy: 0.30839285254478455, Test Loss: 1.9156427383422852, Test Accuracy: 0.322857141494751\n",
      "Epoch 151, Loss: 1.9097729921340942, Accuracy: 0.3162499964237213, Test Loss: 1.9014633893966675, Test Accuracy: 0.3157142996788025\n",
      "Epoch 152, Loss: 1.9012370109558105, Accuracy: 0.3139285743236542, Test Loss: 1.8894566297531128, Test Accuracy: 0.3157142996788025\n",
      "Epoch 153, Loss: 1.8880321979522705, Accuracy: 0.33017855882644653, Test Loss: 1.9197359085083008, Test Accuracy: 0.28285714983940125\n",
      "Epoch 154, Loss: 1.880350947380066, Accuracy: 0.32696428894996643, Test Loss: 1.9392585754394531, Test Accuracy: 0.27000001072883606\n",
      "Epoch 155, Loss: 1.855183482170105, Accuracy: 0.33250001072883606, Test Loss: 1.8564263582229614, Test Accuracy: 0.334285706281662\n",
      "Epoch 156, Loss: 1.8310551643371582, Accuracy: 0.3412500023841858, Test Loss: 1.845250129699707, Test Accuracy: 0.33142855763435364\n",
      "Epoch 157, Loss: 1.8235973119735718, Accuracy: 0.3380357027053833, Test Loss: 1.9006277322769165, Test Accuracy: 0.27571427822113037\n",
      "Epoch 158, Loss: 1.8135199546813965, Accuracy: 0.34410715103149414, Test Loss: 1.8162380456924438, Test Accuracy: 0.3471428453922272\n",
      "Epoch 159, Loss: 1.820048451423645, Accuracy: 0.34357142448425293, Test Loss: 1.825403094291687, Test Accuracy: 0.33142855763435364\n",
      "Epoch 160, Loss: 1.771304965019226, Accuracy: 0.3558928668498993, Test Loss: 1.7957043647766113, Test Accuracy: 0.3400000035762787\n",
      "Epoch 161, Loss: 1.7682528495788574, Accuracy: 0.3603571355342865, Test Loss: 1.8509918451309204, Test Accuracy: 0.30000001192092896\n",
      "Epoch 162, Loss: 1.7548340559005737, Accuracy: 0.3623214364051819, Test Loss: 1.7777293920516968, Test Accuracy: 0.33142855763435364\n",
      "Epoch 163, Loss: 1.7381641864776611, Accuracy: 0.3712500035762787, Test Loss: 1.768689513206482, Test Accuracy: 0.3571428656578064\n",
      "Epoch 164, Loss: 1.7331794500350952, Accuracy: 0.3692857027053833, Test Loss: 1.7753065824508667, Test Accuracy: 0.33571428060531616\n",
      "Epoch 165, Loss: 1.7131024599075317, Accuracy: 0.3782142996788025, Test Loss: 1.8155473470687866, Test Accuracy: 0.3100000023841858\n",
      "Epoch 166, Loss: 1.7059623003005981, Accuracy: 0.3799999952316284, Test Loss: 1.7466415166854858, Test Accuracy: 0.3571428656578064\n",
      "Epoch 167, Loss: 1.6858623027801514, Accuracy: 0.3871428668498993, Test Loss: 1.739255428314209, Test Accuracy: 0.3328571319580078\n",
      "Epoch 168, Loss: 1.689700961112976, Accuracy: 0.3824999928474426, Test Loss: 1.738939881324768, Test Accuracy: 0.3557142913341522\n",
      "Epoch 169, Loss: 1.6528973579406738, Accuracy: 0.39642858505249023, Test Loss: 1.7175947427749634, Test Accuracy: 0.37714284658432007\n",
      "Epoch 170, Loss: 1.6435120105743408, Accuracy: 0.40339285135269165, Test Loss: 1.7011022567749023, Test Accuracy: 0.38999998569488525\n",
      "Epoch 171, Loss: 1.6551839113235474, Accuracy: 0.40339285135269165, Test Loss: 1.797126293182373, Test Accuracy: 0.3514285683631897\n",
      "Epoch 172, Loss: 1.626745343208313, Accuracy: 0.40642857551574707, Test Loss: 1.6964534521102905, Test Accuracy: 0.3757142722606659\n",
      "Epoch 173, Loss: 1.6137775182724, Accuracy: 0.41928571462631226, Test Loss: 1.6695966720581055, Test Accuracy: 0.38999998569488525\n",
      "Epoch 174, Loss: 1.6056900024414062, Accuracy: 0.4158928692340851, Test Loss: 1.6650069952011108, Test Accuracy: 0.37714284658432007\n",
      "Epoch 175, Loss: 1.5712569952011108, Accuracy: 0.4241071343421936, Test Loss: 1.6506346464157104, Test Accuracy: 0.39714285731315613\n",
      "Epoch 176, Loss: 1.624979853630066, Accuracy: 0.4235714375972748, Test Loss: 1.6513267755508423, Test Accuracy: 0.38857144117355347\n",
      "Epoch 177, Loss: 1.5513302087783813, Accuracy: 0.43910714983940125, Test Loss: 1.649820327758789, Test Accuracy: 0.39142856001853943\n",
      "Epoch 178, Loss: 1.5398201942443848, Accuracy: 0.43660715222358704, Test Loss: 1.6199297904968262, Test Accuracy: 0.4099999964237213\n",
      "Epoch 179, Loss: 1.5274373292922974, Accuracy: 0.4507142901420593, Test Loss: 1.7079418897628784, Test Accuracy: 0.39714285731315613\n",
      "Epoch 180, Loss: 1.523537516593933, Accuracy: 0.4476785659790039, Test Loss: 1.597080111503601, Test Accuracy: 0.404285728931427\n",
      "Epoch 181, Loss: 1.4839996099472046, Accuracy: 0.459285706281662, Test Loss: 1.5904536247253418, Test Accuracy: 0.4028571546077728\n",
      "Epoch 182, Loss: 1.4724291563034058, Accuracy: 0.4637500047683716, Test Loss: 1.5661216974258423, Test Accuracy: 0.4242857098579407\n",
      "Epoch 183, Loss: 1.4711350202560425, Accuracy: 0.4751785695552826, Test Loss: 1.5595935583114624, Test Accuracy: 0.43714284896850586\n",
      "Epoch 184, Loss: 1.4366192817687988, Accuracy: 0.47874999046325684, Test Loss: 1.5395498275756836, Test Accuracy: 0.4357142746448517\n",
      "Epoch 185, Loss: 1.4548419713974, Accuracy: 0.48571428656578064, Test Loss: 1.5409153699874878, Test Accuracy: 0.43714284896850586\n",
      "Epoch 186, Loss: 1.4114902019500732, Accuracy: 0.4891071319580078, Test Loss: 1.5456894636154175, Test Accuracy: 0.4514285624027252\n",
      "Epoch 187, Loss: 1.3926249742507935, Accuracy: 0.4975000023841858, Test Loss: 1.5077619552612305, Test Accuracy: 0.4528571367263794\n",
      "Epoch 188, Loss: 1.3701876401901245, Accuracy: 0.4966071546077728, Test Loss: 1.495029091835022, Test Accuracy: 0.45571428537368774\n",
      "Epoch 189, Loss: 1.3686763048171997, Accuracy: 0.5021428465843201, Test Loss: 1.4791641235351562, Test Accuracy: 0.46714285016059875\n",
      "Epoch 190, Loss: 1.3382418155670166, Accuracy: 0.5176785588264465, Test Loss: 1.5513877868652344, Test Accuracy: 0.43857142329216003\n",
      "Epoch 191, Loss: 1.3219590187072754, Accuracy: 0.5217857360839844, Test Loss: 1.4516865015029907, Test Accuracy: 0.48571428656578064\n",
      "Epoch 192, Loss: 1.30665922164917, Accuracy: 0.5301785469055176, Test Loss: 1.4448329210281372, Test Accuracy: 0.47857141494750977\n",
      "Epoch 193, Loss: 1.2860609292984009, Accuracy: 0.5364285707473755, Test Loss: 1.4282646179199219, Test Accuracy: 0.4814285635948181\n",
      "Epoch 194, Loss: 1.326633095741272, Accuracy: 0.5308928489685059, Test Loss: 1.418555736541748, Test Accuracy: 0.5014285445213318\n",
      "Epoch 195, Loss: 1.2587370872497559, Accuracy: 0.5455357432365417, Test Loss: 1.4032632112503052, Test Accuracy: 0.5028571486473083\n",
      "Epoch 196, Loss: 1.2421069145202637, Accuracy: 0.5485714077949524, Test Loss: 1.4112677574157715, Test Accuracy: 0.5114285945892334\n",
      "Epoch 197, Loss: 1.2306385040283203, Accuracy: 0.5517857074737549, Test Loss: 1.3746899366378784, Test Accuracy: 0.5099999904632568\n",
      "Epoch 198, Loss: 1.2746236324310303, Accuracy: 0.5487499833106995, Test Loss: 1.4300693273544312, Test Accuracy: 0.49142858386039734\n",
      "Epoch 199, Loss: 1.1962522268295288, Accuracy: 0.568928599357605, Test Loss: 1.4443799257278442, Test Accuracy: 0.4814285635948181\n",
      "Epoch 200, Loss: 1.1869434118270874, Accuracy: 0.573035717010498, Test Loss: 1.3465027809143066, Test Accuracy: 0.5199999809265137\n",
      "Epoch 201, Loss: 1.1782029867172241, Accuracy: 0.5803571343421936, Test Loss: 1.3276954889297485, Test Accuracy: 0.5299999713897705\n",
      "Epoch 202, Loss: 1.1709345579147339, Accuracy: 0.5824999809265137, Test Loss: 1.3151516914367676, Test Accuracy: 0.5428571701049805\n",
      "Epoch 203, Loss: 1.1398885250091553, Accuracy: 0.5869643092155457, Test Loss: 1.3141390085220337, Test Accuracy: 0.5299999713897705\n",
      "Epoch 204, Loss: 1.1202893257141113, Accuracy: 0.5994642972946167, Test Loss: 1.3049588203430176, Test Accuracy: 0.5514285564422607\n",
      "Epoch 205, Loss: 1.1918600797653198, Accuracy: 0.5958928465843201, Test Loss: 1.2985544204711914, Test Accuracy: 0.5299999713897705\n",
      "Epoch 206, Loss: 1.097135066986084, Accuracy: 0.6107142567634583, Test Loss: 1.2766387462615967, Test Accuracy: 0.5528571605682373\n",
      "Epoch 207, Loss: 1.0765700340270996, Accuracy: 0.6216071248054504, Test Loss: 1.2560043334960938, Test Accuracy: 0.5528571605682373\n",
      "Epoch 208, Loss: 1.0682810544967651, Accuracy: 0.6239285469055176, Test Loss: 1.2459298372268677, Test Accuracy: 0.572857141494751\n",
      "Epoch 209, Loss: 1.0391926765441895, Accuracy: 0.6391071677207947, Test Loss: 1.2479262351989746, Test Accuracy: 0.572857141494751\n",
      "Epoch 210, Loss: 1.0389384031295776, Accuracy: 0.6391071677207947, Test Loss: 1.2395601272583008, Test Accuracy: 0.5699999928474426\n",
      "Epoch 211, Loss: 1.0136168003082275, Accuracy: 0.647857129573822, Test Loss: 1.2252559661865234, Test Accuracy: 0.5671428442001343\n",
      "Epoch 212, Loss: 0.9988183379173279, Accuracy: 0.658214271068573, Test Loss: 1.2063871622085571, Test Accuracy: 0.5914285778999329\n",
      "Epoch 213, Loss: 1.0948628187179565, Accuracy: 0.6348214149475098, Test Loss: 1.2062643766403198, Test Accuracy: 0.6014285683631897\n",
      "Epoch 214, Loss: 0.9718719720840454, Accuracy: 0.6753571629524231, Test Loss: 1.1821447610855103, Test Accuracy: 0.5842857360839844\n",
      "Epoch 215, Loss: 0.9534237384796143, Accuracy: 0.676964282989502, Test Loss: 1.1638556718826294, Test Accuracy: 0.6100000143051147\n",
      "Epoch 216, Loss: 0.9376067519187927, Accuracy: 0.6899999976158142, Test Loss: 1.1778600215911865, Test Accuracy: 0.604285717010498\n",
      "Epoch 217, Loss: 0.9352558255195618, Accuracy: 0.6823214292526245, Test Loss: 1.143152117729187, Test Accuracy: 0.6014285683631897\n",
      "Epoch 218, Loss: 0.9134933948516846, Accuracy: 0.6901785731315613, Test Loss: 1.1594346761703491, Test Accuracy: 0.6299999952316284\n",
      "Epoch 219, Loss: 0.9120872020721436, Accuracy: 0.704285740852356, Test Loss: 1.117227554321289, Test Accuracy: 0.631428599357605\n",
      "Epoch 220, Loss: 0.8983579874038696, Accuracy: 0.7035714387893677, Test Loss: 1.1195131540298462, Test Accuracy: 0.631428599357605\n",
      "Epoch 221, Loss: 0.8688939809799194, Accuracy: 0.7130357027053833, Test Loss: 1.1132375001907349, Test Accuracy: 0.6342856884002686\n",
      "Epoch 222, Loss: 0.8638710379600525, Accuracy: 0.7189285755157471, Test Loss: 1.1154922246932983, Test Accuracy: 0.6414285898208618\n",
      "Epoch 223, Loss: 0.9215154051780701, Accuracy: 0.7051785588264465, Test Loss: 1.1421552896499634, Test Accuracy: 0.6385714411735535\n",
      "Epoch 224, Loss: 0.8385339975357056, Accuracy: 0.7350000143051147, Test Loss: 1.0820934772491455, Test Accuracy: 0.6600000262260437\n",
      "Epoch 225, Loss: 0.8249784111976624, Accuracy: 0.739464282989502, Test Loss: 1.0956839323043823, Test Accuracy: 0.6357142925262451\n",
      "Epoch 226, Loss: 0.8093074560165405, Accuracy: 0.7478571534156799, Test Loss: 1.0792485475540161, Test Accuracy: 0.645714282989502\n",
      "Epoch 227, Loss: 0.7958660125732422, Accuracy: 0.75, Test Loss: 1.0604382753372192, Test Accuracy: 0.6785714030265808\n",
      "Epoch 228, Loss: 0.7819454073905945, Accuracy: 0.7632142901420593, Test Loss: 1.1241098642349243, Test Accuracy: 0.6157143115997314\n",
      "Epoch 229, Loss: 0.8140909671783447, Accuracy: 0.7471428513526917, Test Loss: 1.1604374647140503, Test Accuracy: 0.6471428275108337\n",
      "Epoch 230, Loss: 0.7702440619468689, Accuracy: 0.7699999809265137, Test Loss: 1.0661554336547852, Test Accuracy: 0.6571428775787354\n",
      "Epoch 231, Loss: 0.7611275315284729, Accuracy: 0.766785740852356, Test Loss: 1.047148585319519, Test Accuracy: 0.6828571557998657\n",
      "Epoch 232, Loss: 0.7333722710609436, Accuracy: 0.7837499976158142, Test Loss: 1.0820631980895996, Test Accuracy: 0.6628571152687073\n",
      "Epoch 233, Loss: 0.7242608666419983, Accuracy: 0.7787500023841858, Test Loss: 1.0190120935440063, Test Accuracy: 0.6971428394317627\n",
      "Epoch 234, Loss: 0.7120668292045593, Accuracy: 0.7926785945892334, Test Loss: 1.3655050992965698, Test Accuracy: 0.5371428728103638\n",
      "Epoch 235, Loss: 0.733992338180542, Accuracy: 0.7794643044471741, Test Loss: 1.0152097940444946, Test Accuracy: 0.691428542137146\n",
      "Epoch 236, Loss: 0.6924147009849548, Accuracy: 0.801964282989502, Test Loss: 1.0468357801437378, Test Accuracy: 0.6742857098579407\n",
      "Epoch 237, Loss: 0.6908412575721741, Accuracy: 0.7992857098579407, Test Loss: 0.9974916577339172, Test Accuracy: 0.691428542137146\n",
      "Epoch 238, Loss: 0.6915315985679626, Accuracy: 0.7994642853736877, Test Loss: 1.0191361904144287, Test Accuracy: 0.6757143139839172\n",
      "Epoch 239, Loss: 0.660007894039154, Accuracy: 0.8123214244842529, Test Loss: 1.012925148010254, Test Accuracy: 0.6871428489685059\n",
      "Epoch 240, Loss: 0.6557029485702515, Accuracy: 0.8160714507102966, Test Loss: 0.9723798632621765, Test Accuracy: 0.704285740852356\n",
      "Epoch 241, Loss: 0.6433916687965393, Accuracy: 0.8148214221000671, Test Loss: 0.9855398535728455, Test Accuracy: 0.7057142853736877\n",
      "Epoch 242, Loss: 0.6256475448608398, Accuracy: 0.8262500166893005, Test Loss: 1.0633325576782227, Test Accuracy: 0.6800000071525574\n",
      "Epoch 243, Loss: 0.627253532409668, Accuracy: 0.8207142949104309, Test Loss: 0.9678585529327393, Test Accuracy: 0.7171428799629211\n",
      "Epoch 244, Loss: 0.6614245772361755, Accuracy: 0.8151785731315613, Test Loss: 0.9731366634368896, Test Accuracy: 0.7128571271896362\n",
      "Epoch 245, Loss: 0.5997019410133362, Accuracy: 0.8328571319580078, Test Loss: 0.956787645816803, Test Accuracy: 0.704285740852356\n",
      "Epoch 246, Loss: 0.608863890171051, Accuracy: 0.8237500190734863, Test Loss: 1.027364730834961, Test Accuracy: 0.6814285516738892\n",
      "Epoch 247, Loss: 0.5716323256492615, Accuracy: 0.8432142734527588, Test Loss: 0.9512004852294922, Test Accuracy: 0.7242857217788696\n",
      "Epoch 248, Loss: 0.562288761138916, Accuracy: 0.8433928489685059, Test Loss: 0.9545357823371887, Test Accuracy: 0.7157142758369446\n",
      "Epoch 249, Loss: 0.5507190227508545, Accuracy: 0.8539285659790039, Test Loss: 0.9489469528198242, Test Accuracy: 0.7085714340209961\n",
      "Epoch 250, Loss: 0.5478572249412537, Accuracy: 0.8519642949104309, Test Loss: 0.9470641016960144, Test Accuracy: 0.7214285731315613\n"
     ]
    }
   ],
   "source": [
    "#Build the model\n",
    "wordCNN_model = WordCNN(vocab_size_word)\n",
    "\n",
    "entropy_cost_CNN_word = []\n",
    "test_acc_CNN_word = []\n",
    "wordCNN_timer = 0\n",
    "\n",
    "for epoch in range(no_epochs):\n",
    "\n",
    "    # Reset the metrics at the start of the next epoch\n",
    "    train_loss.reset_states()\n",
    "    train_accuracy.reset_states()\n",
    "    test_loss.reset_states()\n",
    "    test_accuracy.reset_states()\n",
    "\n",
    "    epoch_start_time = time.perf_counter()\n",
    "    for images, labels in train_ds_word:\n",
    "        train_step(wordCNN_model, images, labels, drop_rate=0)\n",
    "\n",
    "    for images, labels in test_ds_word:\n",
    "        test_step(wordCNN_model, images, labels, drop_rate=0)\n",
    "\n",
    "    epoch_end_time = time.perf_counter()\n",
    "    wordCNN_timer = wordCNN_timer + epoch_end_time - epoch_start_time\n",
    "    test_acc_CNN_word.append(test_accuracy.result())\n",
    "    entropy_cost_CNN_word.append(train_loss.result())\n",
    "    template = 'Epoch {}, Loss: {}, Accuracy: {}, Test Loss: {}, Test Accuracy: {}'\n",
    "    print (template.format(epoch+1,\n",
    "                          train_loss.result(),\n",
    "                          train_accuracy.result(),\n",
    "                          test_loss.result(),\n",
    "                          test_accuracy.result()))\n"
   ]
  },
  {
   "cell_type": "code",
   "execution_count": null,
   "metadata": {
    "colab": {
     "base_uri": "https://localhost:8080/"
    },
    "id": "fYF2IY_tra5o",
    "outputId": "0c42b619-a449-40da-c4cc-9159f01aca05"
   },
   "outputs": [
    {
     "name": "stdout",
     "output_type": "stream",
     "text": [
      "258.86638917900837\n"
     ]
    }
   ],
   "source": [
    "print(wordCNN_timer)"
   ]
  },
  {
   "cell_type": "code",
   "execution_count": null,
   "metadata": {
    "colab": {
     "base_uri": "https://localhost:8080/",
     "height": 296
    },
    "id": "Leq9PED3edfc",
    "outputId": "f7d959e9-41ee-4062-f6f1-273be6fae9f5"
   },
   "outputs": [
    {
     "data": {
      "text/plain": [
       "<matplotlib.legend.Legend at 0x7efd37fcd5f8>"
      ]
     },
     "execution_count": 20,
     "metadata": {
      "tags": []
     },
     "output_type": "execute_result"
    },
    {
     "data": {
      "image/png": "[encoded data removed]",
      "text/plain": [
       "<Figure size 432x288 with 1 Axes>"
      ]
     },
     "metadata": {
      "needs_background": "light",
      "tags": []
     },
     "output_type": "display_data"
    }
   ],
   "source": [
    "# Plot training entropy cost\n",
    "pylab.figure()\n",
    "pylab.plot(np.arange(no_epochs), entropy_cost_CNN_word, label='Word CNN train entropy cost')\n",
    "pylab.xlabel('Epochs')\n",
    "pylab.ylabel('Train Entropy Cost')\n",
    "pylab.legend(loc='upper right')"
   ]
  },
  {
   "cell_type": "code",
   "execution_count": null,
   "metadata": {
    "colab": {
     "base_uri": "https://localhost:8080/",
     "height": 296
    },
    "id": "40pZRo62eizy",
    "outputId": "f497507f-8a5a-4ee5-c932-26472fd52f2f"
   },
   "outputs": [
    {
     "data": {
      "text/plain": [
       "<matplotlib.legend.Legend at 0x7efd37cff710>"
      ]
     },
     "execution_count": 21,
     "metadata": {
      "tags": []
     },
     "output_type": "execute_result"
    },
    {
     "data": {
      "image/png": "[encoded data removed]",
      "text/plain": [
       "<Figure size 432x288 with 1 Axes>"
      ]
     },
     "metadata": {
      "needs_background": "light",
      "tags": []
     },
     "output_type": "display_data"
    }
   ],
   "source": [
    "# Plot test accuracy\n",
    "pylab.figure()\n",
    "pylab.plot(np.arange(no_epochs), test_acc_CNN_word, label='Word CNN test accuracy')\n",
    "pylab.xlabel('Epochs')\n",
    "pylab.ylabel('Test Accuracy')\n",
    "pylab.legend(loc='upper right')"
   ]
  },
  {
   "cell_type": "markdown",
   "metadata": {
    "id": "PmqnIB1PM3yw"
   },
   "source": [
    "**Part B Question 3**"
   ]
  },
  {
   "cell_type": "code",
   "execution_count": null,
   "metadata": {
    "id": "gdqrbCTHZeOe"
   },
   "outputs": [],
   "source": [
    "#Initialise variables for RNN\n",
    "HIDDEN_SIZE = 20"
   ]
  },
  {
   "cell_type": "code",
   "execution_count": null,
   "metadata": {
    "id": "q-LnBMxaYXH2"
   },
   "outputs": [],
   "source": [
    "# Build model\n",
    "tf.keras.backend.set_floatx('float32')\n",
    "class CharRNN(Model):\n",
    "\n",
    "    def __init__(self, vocab_size=256, hidden_dim=10):\n",
    "        super(CharRNN, self).__init__()\n",
    "        self.vocab_size = vocab_size\n",
    "        self.hidden_dim = hidden_dim\n",
    "        \n",
    "        # Weight variables and RNN cell\n",
    "        self.rnn = layers.RNN(tf.keras.layers.GRUCell(self.hidden_dim), unroll=True)\n",
    "        self.dense = layers.Dense(MAX_LABEL, activation=None)\n",
    "\n",
    "    def call(self, x, drop_rate):\n",
    "        # forward logic\n",
    "        categorical_labels = to_categorical(x, self.vocab_size)\n",
    "        encoding = self.rnn(categorical_labels)\n",
    "        encoding = tf.nn.dropout(encoding, drop_rate)\n",
    "        logits = self.dense(encoding)\n",
    "    \n",
    "        return logits"
   ]
  },
  {
   "cell_type": "code",
   "execution_count": null,
   "metadata": {
    "id": "ArFQfvNZwYr8"
   },
   "outputs": [],
   "source": [
    "loss_object_2 = tf.keras.losses.SparseCategoricalCrossentropy(from_logits=True)\n",
    "\n",
    "def train_step_2(model, x, label, drop_rate):\n",
    "    with tf.GradientTape() as tape:\n",
    "        out = model(x, drop_rate)\n",
    "        loss = loss_object_2(label, out)\n",
    "        gradients = tape.gradient(loss, model.trainable_variables)\n",
    "        optimizer.apply_gradients(zip(gradients, model.trainable_variables))\n",
    "        \n",
    "    train_loss(loss)\n",
    "    train_accuracy(labels, out)\n",
    "\n",
    "# Testing function\n",
    "def test_step_2(model, x, label, drop_rate=0):\n",
    "    out = model(x,drop_rate)\n",
    "    t_loss = loss_object_2(label, out)\n",
    "    test_loss(t_loss)\n",
    "    test_accuracy(label, out)"
   ]
  },
  {
   "cell_type": "code",
   "execution_count": null,
   "metadata": {
    "colab": {
     "base_uri": "https://localhost:8080/"
    },
    "id": "Yl87IiGZYXyd",
    "outputId": "ceda60b4-01e0-4c23-e415-385282cabd87"
   },
   "outputs": [
    {
     "name": "stdout",
     "output_type": "stream",
     "text": [
      "Epoch 1, Loss: 2.650001287460327, Accuracy: 0.08982142806053162, Test Loss: 2.607978343963623, Test Accuracy: 0.09428571164608002\n",
      "Epoch 2, Loss: 2.5550308227539062, Accuracy: 0.12339285761117935, Test Loss: 2.4810853004455566, Test Accuracy: 0.1314285695552826\n",
      "Epoch 3, Loss: 2.332674026489258, Accuracy: 0.18017856776714325, Test Loss: 2.298021078109741, Test Accuracy: 0.2142857164144516\n",
      "Epoch 4, Loss: 2.2079851627349854, Accuracy: 0.21339285373687744, Test Loss: 2.214892864227295, Test Accuracy: 0.21714285016059875\n",
      "Epoch 5, Loss: 2.0564193725585938, Accuracy: 0.27125000953674316, Test Loss: 2.032444953918457, Test Accuracy: 0.2785714268684387\n",
      "Epoch 6, Loss: 1.8749473094940186, Accuracy: 0.3398214280605316, Test Loss: 1.8663285970687866, Test Accuracy: 0.345714271068573\n",
      "Epoch 7, Loss: 1.6868979930877686, Accuracy: 0.4069642722606659, Test Loss: 1.6818238496780396, Test Accuracy: 0.4300000071525574\n",
      "Epoch 8, Loss: 1.526831865310669, Accuracy: 0.4623214304447174, Test Loss: 1.532866358757019, Test Accuracy: 0.4571428596973419\n",
      "Epoch 9, Loss: 1.3932108879089355, Accuracy: 0.5053571462631226, Test Loss: 1.4368700981140137, Test Accuracy: 0.4985714256763458\n",
      "Epoch 10, Loss: 1.3098959922790527, Accuracy: 0.5299999713897705, Test Loss: 1.3627272844314575, Test Accuracy: 0.5328571200370789\n",
      "Epoch 11, Loss: 1.2169114351272583, Accuracy: 0.5612499713897705, Test Loss: 1.2747910022735596, Test Accuracy: 0.5600000023841858\n",
      "Epoch 12, Loss: 1.1381468772888184, Accuracy: 0.5973214507102966, Test Loss: 1.2666517496109009, Test Accuracy: 0.5600000023841858\n",
      "Epoch 13, Loss: 1.0857659578323364, Accuracy: 0.6208928823471069, Test Loss: 1.1761897802352905, Test Accuracy: 0.6085714101791382\n",
      "Epoch 14, Loss: 1.0300251245498657, Accuracy: 0.6403571367263794, Test Loss: 1.1258893013000488, Test Accuracy: 0.6085714101791382\n",
      "Epoch 15, Loss: 0.9781116247177124, Accuracy: 0.6612499952316284, Test Loss: 1.1554449796676636, Test Accuracy: 0.6285714507102966\n",
      "Epoch 16, Loss: 0.91632080078125, Accuracy: 0.6901785731315613, Test Loss: 1.1078009605407715, Test Accuracy: 0.6428571343421936\n",
      "Epoch 17, Loss: 0.8632417321205139, Accuracy: 0.7091071605682373, Test Loss: 1.0944432020187378, Test Accuracy: 0.6442857384681702\n",
      "Epoch 18, Loss: 0.8425278067588806, Accuracy: 0.7128571271896362, Test Loss: 1.0913056135177612, Test Accuracy: 0.6414285898208618\n",
      "Epoch 19, Loss: 0.7975700497627258, Accuracy: 0.7280356884002686, Test Loss: 1.0428386926651, Test Accuracy: 0.6571428775787354\n",
      "Epoch 20, Loss: 0.7612996697425842, Accuracy: 0.7421428561210632, Test Loss: 1.0533825159072876, Test Accuracy: 0.6642857193946838\n",
      "Epoch 21, Loss: 0.7364383935928345, Accuracy: 0.7471428513526917, Test Loss: 1.0850157737731934, Test Accuracy: 0.6557142734527588\n",
      "Epoch 22, Loss: 0.7191934585571289, Accuracy: 0.7528571486473083, Test Loss: 1.0176687240600586, Test Accuracy: 0.6742857098579407\n",
      "Epoch 23, Loss: 0.6886706948280334, Accuracy: 0.7662500143051147, Test Loss: 1.0169156789779663, Test Accuracy: 0.6814285516738892\n",
      "Epoch 24, Loss: 0.6649430990219116, Accuracy: 0.772857129573822, Test Loss: 1.0456653833389282, Test Accuracy: 0.6614285707473755\n",
      "Epoch 25, Loss: 0.649994969367981, Accuracy: 0.7735714316368103, Test Loss: 1.0130079984664917, Test Accuracy: 0.6828571557998657\n",
      "Epoch 26, Loss: 0.6394448280334473, Accuracy: 0.7814285755157471, Test Loss: 1.0457302331924438, Test Accuracy: 0.6871428489685059\n",
      "Epoch 27, Loss: 0.6326238512992859, Accuracy: 0.7853571176528931, Test Loss: 1.0368657112121582, Test Accuracy: 0.677142858505249\n",
      "Epoch 28, Loss: 0.626403272151947, Accuracy: 0.7871428728103638, Test Loss: 1.04489004611969, Test Accuracy: 0.6871428489685059\n",
      "Epoch 29, Loss: 0.6187220811843872, Accuracy: 0.7930356860160828, Test Loss: 1.0444080829620361, Test Accuracy: 0.6785714030265808\n",
      "Epoch 30, Loss: 0.610839307308197, Accuracy: 0.7914285659790039, Test Loss: 1.1081939935684204, Test Accuracy: 0.6728571653366089\n",
      "Epoch 31, Loss: 0.5832868218421936, Accuracy: 0.8014285564422607, Test Loss: 1.078545093536377, Test Accuracy: 0.6800000071525574\n",
      "Epoch 32, Loss: 0.5867483019828796, Accuracy: 0.8046428561210632, Test Loss: 1.1230098009109497, Test Accuracy: 0.6557142734527588\n",
      "Epoch 33, Loss: 0.6239430904388428, Accuracy: 0.7919642925262451, Test Loss: 1.0212796926498413, Test Accuracy: 0.6971428394317627\n",
      "Epoch 34, Loss: 0.5360853672027588, Accuracy: 0.8212500214576721, Test Loss: 0.9953669905662537, Test Accuracy: 0.7028571367263794\n",
      "Epoch 35, Loss: 0.5462564826011658, Accuracy: 0.8139285445213318, Test Loss: 1.03533136844635, Test Accuracy: 0.6814285516738892\n",
      "Epoch 36, Loss: 0.5505073070526123, Accuracy: 0.8178571462631226, Test Loss: 1.0605155229568481, Test Accuracy: 0.6842857003211975\n",
      "Epoch 37, Loss: 0.5433770418167114, Accuracy: 0.8232142925262451, Test Loss: 1.0647070407867432, Test Accuracy: 0.6871428489685059\n",
      "Epoch 38, Loss: 0.5160350203514099, Accuracy: 0.8237500190734863, Test Loss: 1.0093542337417603, Test Accuracy: 0.7014285922050476\n",
      "Epoch 39, Loss: 0.5001199245452881, Accuracy: 0.8348214030265808, Test Loss: 1.0662426948547363, Test Accuracy: 0.6871428489685059\n",
      "Epoch 40, Loss: 0.5188745856285095, Accuracy: 0.8264285922050476, Test Loss: 1.0404917001724243, Test Accuracy: 0.6814285516738892\n",
      "Epoch 41, Loss: 0.4890885651111603, Accuracy: 0.841785728931427, Test Loss: 1.0666369199752808, Test Accuracy: 0.6857143044471741\n",
      "Epoch 42, Loss: 0.48000356554985046, Accuracy: 0.8385714292526245, Test Loss: 1.0425361394882202, Test Accuracy: 0.6885714530944824\n",
      "Epoch 43, Loss: 0.4563905894756317, Accuracy: 0.8439285755157471, Test Loss: 1.0237935781478882, Test Accuracy: 0.6899999976158142\n",
      "Epoch 44, Loss: 0.4428085386753082, Accuracy: 0.8505356907844543, Test Loss: 1.0965224504470825, Test Accuracy: 0.691428542137146\n",
      "Epoch 45, Loss: 0.46723270416259766, Accuracy: 0.8462499976158142, Test Loss: 1.0442430973052979, Test Accuracy: 0.699999988079071\n",
      "Epoch 46, Loss: 0.5111297965049744, Accuracy: 0.8341071605682373, Test Loss: 1.0470858812332153, Test Accuracy: 0.6885714530944824\n",
      "Epoch 47, Loss: 0.4822622537612915, Accuracy: 0.8380357027053833, Test Loss: 1.0648128986358643, Test Accuracy: 0.6971428394317627\n",
      "Epoch 48, Loss: 0.44269636273384094, Accuracy: 0.8553571701049805, Test Loss: 1.1209360361099243, Test Accuracy: 0.6928571462631226\n",
      "Epoch 49, Loss: 0.44313952326774597, Accuracy: 0.8585714101791382, Test Loss: 1.07681143283844, Test Accuracy: 0.6985714435577393\n",
      "Epoch 50, Loss: 0.4167460501194, Accuracy: 0.860535740852356, Test Loss: 1.200978398323059, Test Accuracy: 0.6842857003211975\n",
      "Epoch 51, Loss: 0.4340623617172241, Accuracy: 0.858214259147644, Test Loss: 1.0715937614440918, Test Accuracy: 0.7085714340209961\n",
      "Epoch 52, Loss: 0.4083746671676636, Accuracy: 0.8633928298950195, Test Loss: 1.2365988492965698, Test Accuracy: 0.6928571462631226\n",
      "Epoch 53, Loss: 0.42981693148612976, Accuracy: 0.8578571677207947, Test Loss: 1.1731802225112915, Test Accuracy: 0.6885714530944824\n",
      "Epoch 54, Loss: 0.44533392786979675, Accuracy: 0.8553571701049805, Test Loss: 1.1993602514266968, Test Accuracy: 0.6785714030265808\n",
      "Epoch 55, Loss: 0.4282090365886688, Accuracy: 0.8616071343421936, Test Loss: 1.1575790643692017, Test Accuracy: 0.7099999785423279\n",
      "Epoch 56, Loss: 0.39925286173820496, Accuracy: 0.871071457862854, Test Loss: 1.161553978919983, Test Accuracy: 0.699999988079071\n",
      "Epoch 57, Loss: 0.4024113416671753, Accuracy: 0.8689285516738892, Test Loss: 1.1890194416046143, Test Accuracy: 0.6899999976158142\n",
      "Epoch 58, Loss: 0.3784577548503876, Accuracy: 0.8733928799629211, Test Loss: 1.2108014822006226, Test Accuracy: 0.6971428394317627\n",
      "Epoch 59, Loss: 0.37653931975364685, Accuracy: 0.8794642686843872, Test Loss: 1.1005100011825562, Test Accuracy: 0.704285740852356\n",
      "Epoch 60, Loss: 0.38079068064689636, Accuracy: 0.8723214268684387, Test Loss: 1.1248245239257812, Test Accuracy: 0.6985714435577393\n",
      "Epoch 61, Loss: 0.3679148852825165, Accuracy: 0.8830357193946838, Test Loss: 1.2779308557510376, Test Accuracy: 0.6985714435577393\n",
      "Epoch 62, Loss: 0.38385817408561707, Accuracy: 0.876964271068573, Test Loss: 1.2254921197891235, Test Accuracy: 0.7028571367263794\n",
      "Epoch 63, Loss: 0.4511512815952301, Accuracy: 0.8491071462631226, Test Loss: 1.2499949932098389, Test Accuracy: 0.6957142949104309\n",
      "Epoch 64, Loss: 0.4601956605911255, Accuracy: 0.854107141494751, Test Loss: 1.2261250019073486, Test Accuracy: 0.6842857003211975\n",
      "Epoch 65, Loss: 0.5159372091293335, Accuracy: 0.8255357146263123, Test Loss: 1.1840814352035522, Test Accuracy: 0.6857143044471741\n",
      "Epoch 66, Loss: 0.3979402780532837, Accuracy: 0.8680357336997986, Test Loss: 1.2610903978347778, Test Accuracy: 0.6871428489685059\n",
      "Epoch 67, Loss: 0.4235701262950897, Accuracy: 0.8594642877578735, Test Loss: 1.2564114332199097, Test Accuracy: 0.6857143044471741\n",
      "Epoch 68, Loss: 0.3972708582878113, Accuracy: 0.8691071271896362, Test Loss: 1.23280668258667, Test Accuracy: 0.7085714340209961\n",
      "Epoch 69, Loss: 0.42455968260765076, Accuracy: 0.8567857146263123, Test Loss: 1.2189596891403198, Test Accuracy: 0.6885714530944824\n",
      "Epoch 70, Loss: 0.39104965329170227, Accuracy: 0.8712499737739563, Test Loss: 1.246639609336853, Test Accuracy: 0.6957142949104309\n",
      "Epoch 71, Loss: 0.35027146339416504, Accuracy: 0.8867856860160828, Test Loss: 1.2484022378921509, Test Accuracy: 0.704285740852356\n",
      "Epoch 72, Loss: 0.34095337986946106, Accuracy: 0.8926785588264465, Test Loss: 1.2436065673828125, Test Accuracy: 0.7114285826683044\n",
      "Epoch 73, Loss: 0.35662224888801575, Accuracy: 0.8878571391105652, Test Loss: 1.2806156873703003, Test Accuracy: 0.6985714435577393\n",
      "Epoch 74, Loss: 0.33475443720817566, Accuracy: 0.8949999809265137, Test Loss: 1.2792760133743286, Test Accuracy: 0.7057142853736877\n",
      "Epoch 75, Loss: 0.3165135383605957, Accuracy: 0.9005357027053833, Test Loss: 1.3090345859527588, Test Accuracy: 0.691428542137146\n",
      "Epoch 76, Loss: 0.31017959117889404, Accuracy: 0.8996428847312927, Test Loss: 1.2438865900039673, Test Accuracy: 0.7028571367263794\n",
      "Epoch 77, Loss: 0.3017175495624542, Accuracy: 0.9021428823471069, Test Loss: 1.274105429649353, Test Accuracy: 0.6971428394317627\n",
      "Epoch 78, Loss: 0.3171089291572571, Accuracy: 0.895892858505249, Test Loss: 1.290686011314392, Test Accuracy: 0.6985714435577393\n",
      "Epoch 79, Loss: 0.2902066111564636, Accuracy: 0.9067857265472412, Test Loss: 1.28581702709198, Test Accuracy: 0.7071428298950195\n",
      "Epoch 80, Loss: 0.3039054274559021, Accuracy: 0.9037500023841858, Test Loss: 1.2919760942459106, Test Accuracy: 0.6985714435577393\n",
      "Epoch 81, Loss: 0.312942773103714, Accuracy: 0.8973214030265808, Test Loss: 1.4069029092788696, Test Accuracy: 0.6785714030265808\n",
      "Epoch 82, Loss: 0.3473950922489166, Accuracy: 0.8941071629524231, Test Loss: 1.6027997732162476, Test Accuracy: 0.6442857384681702\n",
      "Epoch 83, Loss: 0.5628343224525452, Accuracy: 0.8160714507102966, Test Loss: 1.3110038042068481, Test Accuracy: 0.6728571653366089\n",
      "Epoch 84, Loss: 0.363798052072525, Accuracy: 0.8774999976158142, Test Loss: 1.270646333694458, Test Accuracy: 0.6814285516738892\n",
      "Epoch 85, Loss: 0.3300037384033203, Accuracy: 0.8928571343421936, Test Loss: 1.2928071022033691, Test Accuracy: 0.6800000071525574\n",
      "Epoch 86, Loss: 0.2968141734600067, Accuracy: 0.9058928489685059, Test Loss: 1.3260451555252075, Test Accuracy: 0.699999988079071\n",
      "Epoch 87, Loss: 0.32290029525756836, Accuracy: 0.8994643092155457, Test Loss: 1.4165993928909302, Test Accuracy: 0.6871428489685059\n",
      "Epoch 88, Loss: 0.34355878829956055, Accuracy: 0.8864285945892334, Test Loss: 1.3667336702346802, Test Accuracy: 0.6828571557998657\n",
      "Epoch 89, Loss: 0.3462267816066742, Accuracy: 0.885535717010498, Test Loss: 1.3865509033203125, Test Accuracy: 0.691428542137146\n",
      "Epoch 90, Loss: 0.30433133244514465, Accuracy: 0.9024999737739563, Test Loss: 1.376346230506897, Test Accuracy: 0.6957142949104309\n",
      "Epoch 91, Loss: 0.2799161672592163, Accuracy: 0.9123214483261108, Test Loss: 1.328991413116455, Test Accuracy: 0.6971428394317627\n",
      "Epoch 92, Loss: 0.280487984418869, Accuracy: 0.9096428751945496, Test Loss: 1.319250226020813, Test Accuracy: 0.7071428298950195\n",
      "Epoch 93, Loss: 0.31827476620674133, Accuracy: 0.9010714292526245, Test Loss: 1.3229670524597168, Test Accuracy: 0.6885714530944824\n",
      "Epoch 94, Loss: 0.41647881269454956, Accuracy: 0.8589285612106323, Test Loss: 1.3076449632644653, Test Accuracy: 0.6928571462631226\n",
      "Epoch 95, Loss: 0.32215288281440735, Accuracy: 0.8935714364051819, Test Loss: 1.3261423110961914, Test Accuracy: 0.6885714530944824\n",
      "Epoch 96, Loss: 0.2924095392227173, Accuracy: 0.9053571224212646, Test Loss: 1.308924913406372, Test Accuracy: 0.6971428394317627\n",
      "Epoch 97, Loss: 0.2675141990184784, Accuracy: 0.9173214435577393, Test Loss: 1.355332851409912, Test Accuracy: 0.6971428394317627\n",
      "Epoch 98, Loss: 0.2873089611530304, Accuracy: 0.910178542137146, Test Loss: 1.3560800552368164, Test Accuracy: 0.6885714530944824\n",
      "Epoch 99, Loss: 0.30185675621032715, Accuracy: 0.9032142758369446, Test Loss: 1.468875527381897, Test Accuracy: 0.6928571462631226\n",
      "Epoch 100, Loss: 0.28726866841316223, Accuracy: 0.9075000286102295, Test Loss: 1.3375129699707031, Test Accuracy: 0.699999988079071\n",
      "Epoch 101, Loss: 0.3550577759742737, Accuracy: 0.8926785588264465, Test Loss: 1.3946341276168823, Test Accuracy: 0.691428542137146\n",
      "Epoch 102, Loss: 0.4127247631549835, Accuracy: 0.8675000071525574, Test Loss: 1.3456441164016724, Test Accuracy: 0.6757143139839172\n",
      "Epoch 103, Loss: 0.364408940076828, Accuracy: 0.883392870426178, Test Loss: 1.5345455408096313, Test Accuracy: 0.6700000166893005\n",
      "Epoch 104, Loss: 0.32823362946510315, Accuracy: 0.8928571343421936, Test Loss: 1.4374146461486816, Test Accuracy: 0.6757143139839172\n",
      "Epoch 105, Loss: 0.332777738571167, Accuracy: 0.8916071653366089, Test Loss: 1.3696759939193726, Test Accuracy: 0.6942856907844543\n",
      "Epoch 106, Loss: 0.3056459128856659, Accuracy: 0.9001785516738892, Test Loss: 1.3756489753723145, Test Accuracy: 0.6885714530944824\n",
      "Epoch 107, Loss: 0.3130442798137665, Accuracy: 0.8999999761581421, Test Loss: 1.4319558143615723, Test Accuracy: 0.6928571462631226\n",
      "Epoch 108, Loss: 0.26804637908935547, Accuracy: 0.9158928394317627, Test Loss: 1.412034511566162, Test Accuracy: 0.6957142949104309\n",
      "Epoch 109, Loss: 0.24503245949745178, Accuracy: 0.9246428608894348, Test Loss: 1.4053367376327515, Test Accuracy: 0.6899999976158142\n",
      "Epoch 110, Loss: 0.23163484036922455, Accuracy: 0.9283928275108337, Test Loss: 1.4624372720718384, Test Accuracy: 0.6899999976158142\n",
      "Epoch 111, Loss: 0.2343008667230606, Accuracy: 0.9319642782211304, Test Loss: 1.4148589372634888, Test Accuracy: 0.6942856907844543\n",
      "Epoch 112, Loss: 0.2556505799293518, Accuracy: 0.9189285635948181, Test Loss: 1.5023785829544067, Test Accuracy: 0.6800000071525574\n",
      "Epoch 113, Loss: 0.3699171245098114, Accuracy: 0.8799999952316284, Test Loss: 1.4551448822021484, Test Accuracy: 0.6785714030265808\n",
      "Epoch 114, Loss: 0.38807621598243713, Accuracy: 0.8678571581840515, Test Loss: 1.4560116529464722, Test Accuracy: 0.6785714030265808\n",
      "Epoch 115, Loss: 0.4305141568183899, Accuracy: 0.8641071319580078, Test Loss: 1.362250804901123, Test Accuracy: 0.6899999976158142\n",
      "Epoch 116, Loss: 0.4010542631149292, Accuracy: 0.8675000071525574, Test Loss: 1.3550556898117065, Test Accuracy: 0.6828571557998657\n",
      "Epoch 117, Loss: 0.2930319607257843, Accuracy: 0.9071428775787354, Test Loss: 1.3604685068130493, Test Accuracy: 0.6828571557998657\n",
      "Epoch 118, Loss: 0.24553795158863068, Accuracy: 0.9232142567634583, Test Loss: 1.3877049684524536, Test Accuracy: 0.6871428489685059\n",
      "Epoch 119, Loss: 0.24847151339054108, Accuracy: 0.9237499833106995, Test Loss: 1.4712692499160767, Test Accuracy: 0.691428542137146\n",
      "Epoch 120, Loss: 0.2991759181022644, Accuracy: 0.9010714292526245, Test Loss: 1.4355963468551636, Test Accuracy: 0.6871428489685059\n",
      "Epoch 121, Loss: 0.3011307716369629, Accuracy: 0.9008928537368774, Test Loss: 1.5080194473266602, Test Accuracy: 0.6871428489685059\n",
      "Epoch 122, Loss: 0.2719314396381378, Accuracy: 0.9144642949104309, Test Loss: 1.4374419450759888, Test Accuracy: 0.6985714435577393\n",
      "Epoch 123, Loss: 0.26280662417411804, Accuracy: 0.9192857146263123, Test Loss: 1.408919334411621, Test Accuracy: 0.6885714530944824\n",
      "Epoch 124, Loss: 1.407350778579712, Accuracy: 0.6196428537368774, Test Loss: 1.5763272047042847, Test Accuracy: 0.558571457862854\n",
      "Epoch 125, Loss: 1.042968511581421, Accuracy: 0.6716071367263794, Test Loss: 1.2809091806411743, Test Accuracy: 0.6342856884002686\n",
      "Epoch 126, Loss: 0.8253868222236633, Accuracy: 0.7333928346633911, Test Loss: 1.1963895559310913, Test Accuracy: 0.6485714316368103\n",
      "Epoch 127, Loss: 0.7238902449607849, Accuracy: 0.7637500166893005, Test Loss: 1.135985255241394, Test Accuracy: 0.6642857193946838\n",
      "Epoch 128, Loss: 0.6682867407798767, Accuracy: 0.7780357003211975, Test Loss: 1.1368497610092163, Test Accuracy: 0.6728571653366089\n",
      "Epoch 129, Loss: 0.6277137398719788, Accuracy: 0.793571412563324, Test Loss: 1.118576169013977, Test Accuracy: 0.6814285516738892\n",
      "Epoch 130, Loss: 0.5935230851173401, Accuracy: 0.8046428561210632, Test Loss: 1.106279969215393, Test Accuracy: 0.6800000071525574\n",
      "Epoch 131, Loss: 0.5636112093925476, Accuracy: 0.8141071200370789, Test Loss: 1.0906959772109985, Test Accuracy: 0.6942856907844543\n",
      "Epoch 132, Loss: 0.5426037311553955, Accuracy: 0.821071445941925, Test Loss: 1.0906411409378052, Test Accuracy: 0.6928571462631226\n",
      "Epoch 133, Loss: 0.5205592513084412, Accuracy: 0.8294642567634583, Test Loss: 1.093462586402893, Test Accuracy: 0.6928571462631226\n",
      "Epoch 134, Loss: 0.5048527717590332, Accuracy: 0.833214282989502, Test Loss: 1.115322470664978, Test Accuracy: 0.6857143044471741\n",
      "Epoch 135, Loss: 0.5020110607147217, Accuracy: 0.835357129573822, Test Loss: 1.0584133863449097, Test Accuracy: 0.6928571462631226\n",
      "Epoch 136, Loss: 0.48322686553001404, Accuracy: 0.8408928513526917, Test Loss: 1.088274359703064, Test Accuracy: 0.6857143044471741\n",
      "Epoch 137, Loss: 0.46825477480888367, Accuracy: 0.8473214507102966, Test Loss: 1.0426081418991089, Test Accuracy: 0.7028571367263794\n",
      "Epoch 138, Loss: 0.4531978666782379, Accuracy: 0.8508928418159485, Test Loss: 1.082266926765442, Test Accuracy: 0.6942856907844543\n",
      "Epoch 139, Loss: 0.43943795561790466, Accuracy: 0.8571428656578064, Test Loss: 1.0579782724380493, Test Accuracy: 0.7085714340209961\n",
      "Epoch 140, Loss: 0.4241185486316681, Accuracy: 0.8623214364051819, Test Loss: 1.0998488664627075, Test Accuracy: 0.6899999976158142\n",
      "Epoch 141, Loss: 0.43773582577705383, Accuracy: 0.8551785945892334, Test Loss: 1.0888077020645142, Test Accuracy: 0.6871428489685059\n",
      "Epoch 142, Loss: 0.42457315325737, Accuracy: 0.8628571629524231, Test Loss: 1.1171892881393433, Test Accuracy: 0.6957142949104309\n",
      "Epoch 143, Loss: 0.41112181544303894, Accuracy: 0.8671428561210632, Test Loss: 1.1149712800979614, Test Accuracy: 0.6842857003211975\n",
      "Epoch 144, Loss: 0.4032617509365082, Accuracy: 0.8692857027053833, Test Loss: 1.1385713815689087, Test Accuracy: 0.6785714030265808\n",
      "Epoch 145, Loss: 0.4335690438747406, Accuracy: 0.8612499833106995, Test Loss: 1.1400529146194458, Test Accuracy: 0.6842857003211975\n",
      "Epoch 146, Loss: 0.44139063358306885, Accuracy: 0.852321445941925, Test Loss: 1.090759515762329, Test Accuracy: 0.691428542137146\n",
      "Epoch 147, Loss: 0.38565489649772644, Accuracy: 0.8712499737739563, Test Loss: 1.1568889617919922, Test Accuracy: 0.6885714530944824\n",
      "Epoch 148, Loss: 0.3724595010280609, Accuracy: 0.8778571486473083, Test Loss: 1.168233036994934, Test Accuracy: 0.677142858505249\n",
      "Epoch 149, Loss: 0.3706723153591156, Accuracy: 0.8787500262260437, Test Loss: 1.1748106479644775, Test Accuracy: 0.6757143139839172\n",
      "Epoch 150, Loss: 0.36715805530548096, Accuracy: 0.8819642663002014, Test Loss: 1.1533483266830444, Test Accuracy: 0.6842857003211975\n",
      "Epoch 151, Loss: 0.356744647026062, Accuracy: 0.885357141494751, Test Loss: 1.20766282081604, Test Accuracy: 0.6785714030265808\n",
      "Epoch 152, Loss: 0.3585229516029358, Accuracy: 0.8832142949104309, Test Loss: 1.2270160913467407, Test Accuracy: 0.6871428489685059\n",
      "Epoch 153, Loss: 0.3583854138851166, Accuracy: 0.8828571438789368, Test Loss: 1.220441222190857, Test Accuracy: 0.6800000071525574\n",
      "Epoch 154, Loss: 0.3471875488758087, Accuracy: 0.8862500190734863, Test Loss: 1.1953463554382324, Test Accuracy: 0.6942856907844543\n",
      "Epoch 155, Loss: 0.34268367290496826, Accuracy: 0.8905357122421265, Test Loss: 1.1925400495529175, Test Accuracy: 0.6800000071525574\n",
      "Epoch 156, Loss: 0.3576359152793884, Accuracy: 0.8841071724891663, Test Loss: 1.20798921585083, Test Accuracy: 0.6928571462631226\n",
      "Epoch 157, Loss: 0.34572604298591614, Accuracy: 0.8858928680419922, Test Loss: 1.2694368362426758, Test Accuracy: 0.6871428489685059\n",
      "Epoch 158, Loss: 0.3306390047073364, Accuracy: 0.8944643139839172, Test Loss: 1.2263062000274658, Test Accuracy: 0.7014285922050476\n",
      "Epoch 159, Loss: 0.3437691628932953, Accuracy: 0.8896428346633911, Test Loss: 1.2979621887207031, Test Accuracy: 0.6842857003211975\n",
      "Epoch 160, Loss: 0.3437919318675995, Accuracy: 0.8930357098579407, Test Loss: 1.2333922386169434, Test Accuracy: 0.6899999976158142\n",
      "Epoch 161, Loss: 0.35793331265449524, Accuracy: 0.8876785635948181, Test Loss: 1.2651175260543823, Test Accuracy: 0.6857143044471741\n",
      "Epoch 162, Loss: 0.35317695140838623, Accuracy: 0.883392870426178, Test Loss: 1.307051420211792, Test Accuracy: 0.6871428489685059\n",
      "Epoch 163, Loss: 0.3505152761936188, Accuracy: 0.8812500238418579, Test Loss: 1.3443516492843628, Test Accuracy: 0.6757143139839172\n",
      "Epoch 164, Loss: 0.34716346859931946, Accuracy: 0.8907142877578735, Test Loss: 1.2882131338119507, Test Accuracy: 0.677142858505249\n",
      "Epoch 165, Loss: 0.3334253132343292, Accuracy: 0.8901785612106323, Test Loss: 1.2723262310028076, Test Accuracy: 0.677142858505249\n",
      "Epoch 166, Loss: 0.30630749464035034, Accuracy: 0.9044643044471741, Test Loss: 1.2798792123794556, Test Accuracy: 0.677142858505249\n",
      "Epoch 167, Loss: 0.2882806658744812, Accuracy: 0.9089285731315613, Test Loss: 1.254137635231018, Test Accuracy: 0.6814285516738892\n",
      "Epoch 168, Loss: 0.30036789178848267, Accuracy: 0.9001785516738892, Test Loss: 1.335868000984192, Test Accuracy: 0.6957142949104309\n",
      "Epoch 169, Loss: 0.2970886528491974, Accuracy: 0.9064285755157471, Test Loss: 1.3909600973129272, Test Accuracy: 0.6842857003211975\n",
      "Epoch 170, Loss: 0.29089266061782837, Accuracy: 0.9064285755157471, Test Loss: 1.338943362236023, Test Accuracy: 0.6714285612106323\n",
      "Epoch 171, Loss: 0.27174636721611023, Accuracy: 0.914821445941925, Test Loss: 1.3737536668777466, Test Accuracy: 0.6800000071525574\n",
      "Epoch 172, Loss: 0.3136233389377594, Accuracy: 0.8966071605682373, Test Loss: 1.2954316139221191, Test Accuracy: 0.6957142949104309\n",
      "Epoch 173, Loss: 0.3044789731502533, Accuracy: 0.8971428275108337, Test Loss: 1.3612009286880493, Test Accuracy: 0.677142858505249\n",
      "Epoch 174, Loss: 0.28305453062057495, Accuracy: 0.9066071510314941, Test Loss: 1.4196921586990356, Test Accuracy: 0.6742857098579407\n",
      "Epoch 175, Loss: 0.2890911400318146, Accuracy: 0.9019643068313599, Test Loss: 1.369573712348938, Test Accuracy: 0.6871428489685059\n",
      "Epoch 176, Loss: 0.3046630620956421, Accuracy: 0.8980357050895691, Test Loss: 1.460020661354065, Test Accuracy: 0.6642857193946838\n",
      "Epoch 177, Loss: 0.34850576519966125, Accuracy: 0.8842856884002686, Test Loss: 1.3541139364242554, Test Accuracy: 0.6814285516738892\n",
      "Epoch 178, Loss: 0.33558446168899536, Accuracy: 0.8919642567634583, Test Loss: 1.3590534925460815, Test Accuracy: 0.6828571557998657\n",
      "Epoch 179, Loss: 0.3044476807117462, Accuracy: 0.9003571271896362, Test Loss: 1.4271626472473145, Test Accuracy: 0.6742857098579407\n",
      "Epoch 180, Loss: 0.44146502017974854, Accuracy: 0.8637499809265137, Test Loss: 1.4679803848266602, Test Accuracy: 0.6571428775787354\n",
      "Epoch 181, Loss: 0.4316943883895874, Accuracy: 0.8530356884002686, Test Loss: 1.3726176023483276, Test Accuracy: 0.6800000071525574\n",
      "Epoch 182, Loss: 0.3281511962413788, Accuracy: 0.8926785588264465, Test Loss: 1.3345017433166504, Test Accuracy: 0.6800000071525574\n",
      "Epoch 183, Loss: 0.3152218163013458, Accuracy: 0.9003571271896362, Test Loss: 1.3981866836547852, Test Accuracy: 0.6700000166893005\n",
      "Epoch 184, Loss: 0.26880279183387756, Accuracy: 0.9137499928474426, Test Loss: 1.40062415599823, Test Accuracy: 0.677142858505249\n",
      "Epoch 185, Loss: 0.26559698581695557, Accuracy: 0.9155356884002686, Test Loss: 1.4993842840194702, Test Accuracy: 0.677142858505249\n",
      "Epoch 186, Loss: 0.277147501707077, Accuracy: 0.9105356931686401, Test Loss: 1.4357471466064453, Test Accuracy: 0.6728571653366089\n",
      "Epoch 187, Loss: 0.2589942216873169, Accuracy: 0.9178571701049805, Test Loss: 1.4787664413452148, Test Accuracy: 0.6785714030265808\n",
      "Epoch 188, Loss: 0.2430368810892105, Accuracy: 0.9237499833106995, Test Loss: 1.4727534055709839, Test Accuracy: 0.6828571557998657\n",
      "Epoch 189, Loss: 0.25597184896469116, Accuracy: 0.9173214435577393, Test Loss: 1.4729275703430176, Test Accuracy: 0.6871428489685059\n",
      "Epoch 190, Loss: 0.2729727029800415, Accuracy: 0.9119642972946167, Test Loss: 1.482836127281189, Test Accuracy: 0.6814285516738892\n",
      "Epoch 191, Loss: 0.27212104201316833, Accuracy: 0.9117857217788696, Test Loss: 1.4606622457504272, Test Accuracy: 0.6857143044471741\n",
      "Epoch 192, Loss: 0.24550065398216248, Accuracy: 0.918571412563324, Test Loss: 1.4420539140701294, Test Accuracy: 0.6899999976158142\n",
      "Epoch 193, Loss: 0.22976897656917572, Accuracy: 0.9283928275108337, Test Loss: 1.5365018844604492, Test Accuracy: 0.6785714030265808\n",
      "Epoch 194, Loss: 0.2417433261871338, Accuracy: 0.9248214364051819, Test Loss: 1.5847482681274414, Test Accuracy: 0.6714285612106323\n",
      "Epoch 195, Loss: 0.25330492854118347, Accuracy: 0.9228571653366089, Test Loss: 1.4799431562423706, Test Accuracy: 0.6928571462631226\n",
      "Epoch 196, Loss: 0.2602551281452179, Accuracy: 0.9150000214576721, Test Loss: 1.6030973196029663, Test Accuracy: 0.6842857003211975\n",
      "Epoch 197, Loss: 0.25849607586860657, Accuracy: 0.9162499904632568, Test Loss: 1.5672284364700317, Test Accuracy: 0.677142858505249\n",
      "Epoch 198, Loss: 0.256250262260437, Accuracy: 0.918571412563324, Test Loss: 1.4668601751327515, Test Accuracy: 0.6814285516738892\n",
      "Epoch 199, Loss: 0.2685932517051697, Accuracy: 0.9155356884002686, Test Loss: 1.5128017663955688, Test Accuracy: 0.6828571557998657\n",
      "Epoch 200, Loss: 0.26529309153556824, Accuracy: 0.9117857217788696, Test Loss: 1.520148754119873, Test Accuracy: 0.677142858505249\n",
      "Epoch 201, Loss: 0.3044711649417877, Accuracy: 0.9017857313156128, Test Loss: 1.5075300931930542, Test Accuracy: 0.6828571557998657\n",
      "Epoch 202, Loss: 0.284537672996521, Accuracy: 0.9089285731315613, Test Loss: 1.4835461378097534, Test Accuracy: 0.6742857098579407\n",
      "Epoch 203, Loss: 0.2826266884803772, Accuracy: 0.9089285731315613, Test Loss: 1.5421404838562012, Test Accuracy: 0.6742857098579407\n",
      "Epoch 204, Loss: 0.28001171350479126, Accuracy: 0.9051785469055176, Test Loss: 1.587807297706604, Test Accuracy: 0.6728571653366089\n",
      "Epoch 205, Loss: 0.23521162569522858, Accuracy: 0.9233928322792053, Test Loss: 1.5145903825759888, Test Accuracy: 0.6757143139839172\n",
      "Epoch 206, Loss: 0.20669756829738617, Accuracy: 0.9341071248054504, Test Loss: 1.5491019487380981, Test Accuracy: 0.677142858505249\n",
      "Epoch 207, Loss: 0.22191403806209564, Accuracy: 0.9298214316368103, Test Loss: 1.6073862314224243, Test Accuracy: 0.677142858505249\n",
      "Epoch 208, Loss: 0.24414625763893127, Accuracy: 0.9210714101791382, Test Loss: 1.5062379837036133, Test Accuracy: 0.6857143044471741\n",
      "Epoch 209, Loss: 0.2372453212738037, Accuracy: 0.9223214387893677, Test Loss: 1.442514419555664, Test Accuracy: 0.6828571557998657\n",
      "Epoch 210, Loss: 0.2325761765241623, Accuracy: 0.925178587436676, Test Loss: 1.4601067304611206, Test Accuracy: 0.6871428489685059\n",
      "Epoch 211, Loss: 0.26321667432785034, Accuracy: 0.9139285683631897, Test Loss: 1.4679139852523804, Test Accuracy: 0.6828571557998657\n",
      "Epoch 212, Loss: 0.2553470730781555, Accuracy: 0.9151785969734192, Test Loss: 1.521187424659729, Test Accuracy: 0.6871428489685059\n",
      "Epoch 213, Loss: 0.23745785653591156, Accuracy: 0.9223214387893677, Test Loss: 1.5124907493591309, Test Accuracy: 0.6800000071525574\n",
      "Epoch 214, Loss: 0.20762835443019867, Accuracy: 0.935535728931427, Test Loss: 1.674760341644287, Test Accuracy: 0.6757143139839172\n",
      "Epoch 215, Loss: 0.31321069598197937, Accuracy: 0.8944643139839172, Test Loss: 1.6191635131835938, Test Accuracy: 0.6714285612106323\n",
      "Epoch 216, Loss: 0.291537880897522, Accuracy: 0.9069643020629883, Test Loss: 1.492280125617981, Test Accuracy: 0.6942856907844543\n",
      "Epoch 217, Loss: 0.2989391088485718, Accuracy: 0.902321457862854, Test Loss: 1.4504575729370117, Test Accuracy: 0.6942856907844543\n",
      "Epoch 218, Loss: 0.23502621054649353, Accuracy: 0.923035740852356, Test Loss: 1.4680224657058716, Test Accuracy: 0.7014285922050476\n",
      "Epoch 219, Loss: 0.24152439832687378, Accuracy: 0.9228571653366089, Test Loss: 1.4898658990859985, Test Accuracy: 0.6928571462631226\n",
      "Epoch 220, Loss: 0.2280278205871582, Accuracy: 0.9273214340209961, Test Loss: 1.5079259872436523, Test Accuracy: 0.691428542137146\n",
      "Epoch 221, Loss: 0.21653446555137634, Accuracy: 0.9339285492897034, Test Loss: 1.5813277959823608, Test Accuracy: 0.6800000071525574\n",
      "Epoch 222, Loss: 0.2007467895746231, Accuracy: 0.9387500286102295, Test Loss: 1.616055965423584, Test Accuracy: 0.6885714530944824\n",
      "Epoch 223, Loss: 0.19778920710086823, Accuracy: 0.9407142996788025, Test Loss: 1.5964542627334595, Test Accuracy: 0.6985714435577393\n",
      "Epoch 224, Loss: 0.2797794044017792, Accuracy: 0.9094642996788025, Test Loss: 1.5516794919967651, Test Accuracy: 0.7028571367263794\n",
      "Epoch 225, Loss: 0.2853236496448517, Accuracy: 0.9049999713897705, Test Loss: 1.6458625793457031, Test Accuracy: 0.6899999976158142\n",
      "Epoch 226, Loss: 0.3454817831516266, Accuracy: 0.8889285922050476, Test Loss: 1.4632459878921509, Test Accuracy: 0.6842857003211975\n",
      "Epoch 227, Loss: 0.30599138140678406, Accuracy: 0.9007142782211304, Test Loss: 1.5265436172485352, Test Accuracy: 0.6971428394317627\n",
      "Epoch 228, Loss: 0.24143852293491364, Accuracy: 0.9191071391105652, Test Loss: 1.5100637674331665, Test Accuracy: 0.6899999976158142\n",
      "Epoch 229, Loss: 0.24855957925319672, Accuracy: 0.9178571701049805, Test Loss: 1.5929986238479614, Test Accuracy: 0.6785714030265808\n",
      "Epoch 230, Loss: 0.29380372166633606, Accuracy: 0.9048214554786682, Test Loss: 1.5669102668762207, Test Accuracy: 0.6742857098579407\n",
      "Epoch 231, Loss: 0.24794162809848785, Accuracy: 0.9162499904632568, Test Loss: 1.577311396598816, Test Accuracy: 0.6814285516738892\n",
      "Epoch 232, Loss: 0.2204199731349945, Accuracy: 0.9308928847312927, Test Loss: 1.6010996103286743, Test Accuracy: 0.6757143139839172\n",
      "Epoch 233, Loss: 0.19538255035877228, Accuracy: 0.9408928751945496, Test Loss: 1.5357450246810913, Test Accuracy: 0.6828571557998657\n",
      "Epoch 234, Loss: 0.23232711851596832, Accuracy: 0.9285714030265808, Test Loss: 1.5319294929504395, Test Accuracy: 0.6828571557998657\n",
      "Epoch 235, Loss: 0.29728665947914124, Accuracy: 0.9051785469055176, Test Loss: 1.5315548181533813, Test Accuracy: 0.6857143044471741\n",
      "Epoch 236, Loss: 0.37247133255004883, Accuracy: 0.8791071176528931, Test Loss: 1.5043081045150757, Test Accuracy: 0.6757143139839172\n",
      "Epoch 237, Loss: 0.324127733707428, Accuracy: 0.8924999833106995, Test Loss: 1.4307442903518677, Test Accuracy: 0.6800000071525574\n",
      "Epoch 238, Loss: 0.2983604073524475, Accuracy: 0.9033928513526917, Test Loss: 1.4442739486694336, Test Accuracy: 0.6985714435577393\n",
      "Epoch 239, Loss: 0.2674972414970398, Accuracy: 0.912678599357605, Test Loss: 1.4097009897232056, Test Accuracy: 0.6971428394317627\n",
      "Epoch 240, Loss: 0.21433323621749878, Accuracy: 0.9321428537368774, Test Loss: 1.5258111953735352, Test Accuracy: 0.6785714030265808\n",
      "Epoch 241, Loss: 0.19928155839443207, Accuracy: 0.9373214244842529, Test Loss: 1.5461639165878296, Test Accuracy: 0.6857143044471741\n",
      "Epoch 242, Loss: 0.1820235699415207, Accuracy: 0.941428542137146, Test Loss: 1.581473708152771, Test Accuracy: 0.6942856907844543\n",
      "Epoch 243, Loss: 0.1740846186876297, Accuracy: 0.9483928680419922, Test Loss: 1.5561795234680176, Test Accuracy: 0.6971428394317627\n",
      "Epoch 244, Loss: 0.2174617201089859, Accuracy: 0.9317857027053833, Test Loss: 1.58397376537323, Test Accuracy: 0.6942856907844543\n",
      "Epoch 245, Loss: 0.25397247076034546, Accuracy: 0.9200000166893005, Test Loss: 1.5597423315048218, Test Accuracy: 0.6871428489685059\n",
      "Epoch 246, Loss: 0.25494182109832764, Accuracy: 0.9205357432365417, Test Loss: 1.5472053289413452, Test Accuracy: 0.6800000071525574\n",
      "Epoch 247, Loss: 0.24481186270713806, Accuracy: 0.9214285612106323, Test Loss: 1.5973232984542847, Test Accuracy: 0.6828571557998657\n",
      "Epoch 248, Loss: 0.18181896209716797, Accuracy: 0.9428571462631226, Test Loss: 1.6028084754943848, Test Accuracy: 0.6885714530944824\n",
      "Epoch 249, Loss: 0.2054246962070465, Accuracy: 0.9333928823471069, Test Loss: 1.5785771608352661, Test Accuracy: 0.6857143044471741\n",
      "Epoch 250, Loss: 0.2731028199195862, Accuracy: 0.9112499952316284, Test Loss: 1.7057157754898071, Test Accuracy: 0.677142858505249\n"
     ]
    }
   ],
   "source": [
    "test_acc_RNN_char = []\n",
    "train_loss_RNN_char = []\n",
    "charRNN_timer = 0\n",
    "\n",
    "model = CharRNN(256, HIDDEN_SIZE)\n",
    "\n",
    "for epoch in range(no_epochs):\n",
    "    # Reset the metrics at the start of the next epoch\n",
    "    train_loss.reset_states()\n",
    "    train_accuracy.reset_states()\n",
    "    test_loss.reset_states()\n",
    "    test_accuracy.reset_states()\n",
    "\n",
    "    epoch_start_time = time.perf_counter()\n",
    "    \n",
    "    for images, labels in train_ds:\n",
    "        train_step_2(model, images, labels, drop_rate=0)\n",
    "\n",
    "    for images, labels in test_ds:\n",
    "        test_step_2(model, images, labels, drop_rate=0)\n",
    "\n",
    "    epoch_end_time = time.perf_counter()\n",
    "    charRNN_timer = charRNN_timer + epoch_end_time - epoch_start_time\n",
    "    test_acc_RNN_char.append(test_accuracy.result())\n",
    "    train_loss_RNN_char.append(train_loss.result())\n",
    "\n",
    "    template = 'Epoch {}, Loss: {}, Accuracy: {}, Test Loss: {}, Test Accuracy: {}'\n",
    "    print (template.format(epoch+1,\n",
    "                          train_loss.result(),\n",
    "                          train_accuracy.result(),\n",
    "                          test_loss.result(),\n",
    "                          test_accuracy.result()))"
   ]
  },
  {
   "cell_type": "code",
   "execution_count": null,
   "metadata": {
    "colab": {
     "base_uri": "https://localhost:8080/"
    },
    "id": "7MUiz3EpbN3F",
    "outputId": "22879a1a-d226-4740-e78a-da0e28a6ea98"
   },
   "outputs": [
    {
     "name": "stdout",
     "output_type": "stream",
     "text": [
      "2255.723181982996\n"
     ]
    }
   ],
   "source": [
    "print(charRNN_timer)\n",
    "predict(subset_X_test)"
   ]
  },
  {
   "cell_type": "code",
   "execution_count": null,
   "metadata": {
    "colab": {
     "base_uri": "https://localhost:8080/",
     "height": 313
    },
    "id": "RcOPzKtIbIM3",
    "outputId": "105ba612-bbf9-4a5d-f808-d6e09a26d2bf"
   },
   "outputs": [
    {
     "name": "stderr",
     "output_type": "stream",
     "text": [
      "No handles with labels found to put in legend.\n"
     ]
    },
    {
     "data": {
      "text/plain": [
       "<matplotlib.legend.Legend at 0x7f249897c0b8>"
      ]
     },
     "execution_count": 23,
     "metadata": {
      "tags": []
     },
     "output_type": "execute_result"
    },
    {
     "data": {
      "image/png": "[encoded data removed]",
      "text/plain": [
       "<Figure size 432x288 with 1 Axes>"
      ]
     },
     "metadata": {
      "needs_background": "light",
      "tags": []
     },
     "output_type": "display_data"
    }
   ],
   "source": [
    "# Plot training entropy cost for Char CNN with dropout\n",
    "pylab.figure()\n",
    "pylab.plot(np.arange(no_epochs), train_loss_RNN_char)\n",
    "pylab.xlabel('Epochs')\n",
    "pylab.ylabel('Train Entropy Cost')\n",
    "pylab.legend(loc='upper right')"
   ]
  },
  {
   "cell_type": "code",
   "execution_count": null,
   "metadata": {
    "colab": {
     "base_uri": "https://localhost:8080/",
     "height": 313
    },
    "id": "SYBofaxcbKMV",
    "outputId": "abfff404-dce8-4a36-e850-f5592ee35c15"
   },
   "outputs": [
    {
     "name": "stderr",
     "output_type": "stream",
     "text": [
      "No handles with labels found to put in legend.\n"
     ]
    },
    {
     "data": {
      "text/plain": [
       "<matplotlib.legend.Legend at 0x7f243a60d240>"
      ]
     },
     "execution_count": 24,
     "metadata": {
      "tags": []
     },
     "output_type": "execute_result"
    },
    {
     "data": {
      "image/png": "[encoded data removed]",
      "text/plain": [
       "<Figure size 432x288 with 1 Axes>"
      ]
     },
     "metadata": {
      "needs_background": "light",
      "tags": []
     },
     "output_type": "display_data"
    }
   ],
   "source": [
    "# Plot test accuracy for Char CNN with dropout\n",
    "pylab.figure()\n",
    "pylab.plot(np.arange(no_epochs), test_acc_RNN_char)\n",
    "pylab.xlabel('Epochs')\n",
    "pylab.ylabel('Test Accuracy')\n",
    "pylab.legend(loc='upper right')"
   ]
  },
  {
   "cell_type": "markdown",
   "metadata": {
    "id": "ImoSvDPOYYaV"
   },
   "source": [
    "**Part B Question 4**"
   ]
  },
  {
   "cell_type": "code",
   "execution_count": null,
   "metadata": {
    "id": "Wk9G6EODM8k2"
   },
   "outputs": [],
   "source": [
    "# Build model\n",
    "tf.keras.backend.set_floatx('float32')\n",
    "class WordRNN(Model):\n",
    "\n",
    "    def __init__(self, vocab_size, hidden_dim=10):\n",
    "        super(WordRNN, self).__init__()\n",
    "        # Hyperparameters\n",
    "        self.hidden_dim = hidden_dim\n",
    "        self.vocab_size = vocab_size\n",
    "        self.embedding = layers.Embedding(vocab_size, EMBEDDING_SIZE, input_length=MAX_DOCUMENT_LENGTH)\n",
    "        \n",
    "        # Weight variables and RNN cell\n",
    "        self.rnn = layers.RNN(tf.keras.layers.GRUCell(self.hidden_dim), unroll=True)\n",
    "        self.dense = layers.Dense(MAX_LABEL, activation=None)\n",
    "\n",
    "    def call(self, x, drop_rate):\n",
    "        # forward logic\n",
    "        embedding = self.embedding(x)\n",
    "        encoding = self.rnn(embedding)\n",
    "        encoding = tf.nn.dropout(encoding, drop_rate)\n",
    "        logits = self.dense(encoding)\n",
    "    \n",
    "        return logits"
   ]
  },
  {
   "cell_type": "code",
   "execution_count": null,
   "metadata": {
    "colab": {
     "base_uri": "https://localhost:8080/",
     "height": 1000
    },
    "id": "8rhRnk8phrUb",
    "outputId": "6973df59-d3c5-4c32-b3d1-5cfc44f4773f"
   },
   "outputs": [
    {
     "name": "stdout",
     "output_type": "stream",
     "text": [
      "Epoch 1, Loss: 2.7054803371429443, Accuracy: 0.0701785683631897, Test Loss: 2.7024776935577393, Test Accuracy: 0.07000000029802322\n",
      "Epoch 2, Loss: 2.7003586292266846, Accuracy: 0.06964285671710968, Test Loss: 2.69787859916687, Test Accuracy: 0.0714285746216774\n",
      "Epoch 3, Loss: 2.696295976638794, Accuracy: 0.07214285433292389, Test Loss: 2.6941263675689697, Test Accuracy: 0.0714285746216774\n",
      "Epoch 4, Loss: 2.6928915977478027, Accuracy: 0.0714285746216774, Test Loss: 2.6909797191619873, Test Accuracy: 0.0714285746216774\n",
      "Epoch 5, Loss: 2.6900558471679688, Accuracy: 0.0714285746216774, Test Loss: 2.688283681869507, Test Accuracy: 0.0714285746216774\n",
      "Epoch 6, Loss: 2.6875903606414795, Accuracy: 0.0714285746216774, Test Loss: 2.685925245285034, Test Accuracy: 0.0714285746216774\n",
      "Epoch 7, Loss: 2.685436725616455, Accuracy: 0.0714285746216774, Test Loss: 2.6838219165802, Test Accuracy: 0.0714285746216774\n",
      "Epoch 8, Loss: 2.683394193649292, Accuracy: 0.0714285746216774, Test Loss: 2.6819260120391846, Test Accuracy: 0.0714285746216774\n",
      "Epoch 9, Loss: 2.681684732437134, Accuracy: 0.0714285746216774, Test Loss: 2.6802093982696533, Test Accuracy: 0.0714285746216774\n",
      "Epoch 10, Loss: 2.6800026893615723, Accuracy: 0.0714285746216774, Test Loss: 2.678622007369995, Test Accuracy: 0.0714285746216774\n",
      "Epoch 11, Loss: 2.6785950660705566, Accuracy: 0.0714285746216774, Test Loss: 2.67716383934021, Test Accuracy: 0.0714285746216774\n",
      "Epoch 12, Loss: 2.6771786212921143, Accuracy: 0.0714285746216774, Test Loss: 2.675800085067749, Test Accuracy: 0.0714285746216774\n",
      "Epoch 13, Loss: 2.6759560108184814, Accuracy: 0.0714285746216774, Test Loss: 2.6745269298553467, Test Accuracy: 0.0714285746216774\n",
      "Epoch 14, Loss: 2.6747453212738037, Accuracy: 0.0714285746216774, Test Loss: 2.673330545425415, Test Accuracy: 0.0714285746216774\n",
      "Epoch 15, Loss: 2.673536539077759, Accuracy: 0.0714285746216774, Test Loss: 2.6721980571746826, Test Accuracy: 0.0714285746216774\n",
      "Epoch 16, Loss: 2.6724636554718018, Accuracy: 0.0714285746216774, Test Loss: 2.6711184978485107, Test Accuracy: 0.0714285746216774\n",
      "Epoch 17, Loss: 2.671405553817749, Accuracy: 0.0714285746216774, Test Loss: 2.6700916290283203, Test Accuracy: 0.0714285746216774\n",
      "Epoch 18, Loss: 2.670437812805176, Accuracy: 0.0714285746216774, Test Loss: 2.6691205501556396, Test Accuracy: 0.0714285746216774\n",
      "Epoch 19, Loss: 2.6694960594177246, Accuracy: 0.0714285746216774, Test Loss: 2.668205499649048, Test Accuracy: 0.0714285746216774\n",
      "Epoch 20, Loss: 2.6686012744903564, Accuracy: 0.0714285746216774, Test Loss: 2.6673314571380615, Test Accuracy: 0.0714285746216774\n",
      "Epoch 21, Loss: 2.6677229404449463, Accuracy: 0.0714285746216774, Test Loss: 2.6664891242980957, Test Accuracy: 0.0714285746216774\n",
      "Epoch 22, Loss: 2.66696834564209, Accuracy: 0.0714285746216774, Test Loss: 2.6656856536865234, Test Accuracy: 0.0714285746216774\n",
      "Epoch 23, Loss: 2.6661856174468994, Accuracy: 0.0714285746216774, Test Loss: 2.664914131164551, Test Accuracy: 0.0714285746216774\n",
      "Epoch 24, Loss: 2.665492296218872, Accuracy: 0.0714285746216774, Test Loss: 2.6641688346862793, Test Accuracy: 0.0714285746216774\n",
      "Epoch 25, Loss: 2.6646370887756348, Accuracy: 0.07160714268684387, Test Loss: 2.6634585857391357, Test Accuracy: 0.0714285746216774\n",
      "Epoch 26, Loss: 2.663933515548706, Accuracy: 0.0714285746216774, Test Loss: 2.6627678871154785, Test Accuracy: 0.0714285746216774\n",
      "Epoch 27, Loss: 2.6632742881774902, Accuracy: 0.0714285746216774, Test Loss: 2.662109136581421, Test Accuracy: 0.0714285746216774\n",
      "Epoch 28, Loss: 2.6626594066619873, Accuracy: 0.0714285746216774, Test Loss: 2.661478281021118, Test Accuracy: 0.0714285746216774\n",
      "Epoch 29, Loss: 2.66198992729187, Accuracy: 0.0714285746216774, Test Loss: 2.6608712673187256, Test Accuracy: 0.0714285746216774\n",
      "Epoch 30, Loss: 2.6614110469818115, Accuracy: 0.07160714268684387, Test Loss: 2.6602790355682373, Test Accuracy: 0.0714285746216774\n",
      "Epoch 31, Loss: 2.6608102321624756, Accuracy: 0.07160714268684387, Test Loss: 2.6597094535827637, Test Accuracy: 0.0714285746216774\n",
      "Epoch 32, Loss: 2.660248279571533, Accuracy: 0.0714285746216774, Test Loss: 2.6591546535491943, Test Accuracy: 0.0714285746216774\n",
      "Epoch 33, Loss: 2.659681797027588, Accuracy: 0.07160714268684387, Test Loss: 2.6586222648620605, Test Accuracy: 0.0714285746216774\n",
      "Epoch 34, Loss: 2.659115791320801, Accuracy: 0.0714285746216774, Test Loss: 2.658111333847046, Test Accuracy: 0.0714285746216774\n",
      "Epoch 35, Loss: 2.6586551666259766, Accuracy: 0.07160714268684387, Test Loss: 2.65761399269104, Test Accuracy: 0.0714285746216774\n",
      "Epoch 36, Loss: 2.6581008434295654, Accuracy: 0.07160714268684387, Test Loss: 2.657132863998413, Test Accuracy: 0.0714285746216774\n",
      "Epoch 37, Loss: 2.657655954360962, Accuracy: 0.0714285746216774, Test Loss: 2.6566765308380127, Test Accuracy: 0.0714285746216774\n",
      "Epoch 38, Loss: 2.657226085662842, Accuracy: 0.0714285746216774, Test Loss: 2.656236410140991, Test Accuracy: 0.0714285746216774\n",
      "Epoch 39, Loss: 2.6567487716674805, Accuracy: 0.07160714268684387, Test Loss: 2.6558094024658203, Test Accuracy: 0.0714285746216774\n",
      "Epoch 40, Loss: 2.6563148498535156, Accuracy: 0.07160714268684387, Test Loss: 2.6553890705108643, Test Accuracy: 0.0714285746216774\n",
      "Epoch 41, Loss: 2.655927896499634, Accuracy: 0.07160714268684387, Test Loss: 2.654978036880493, Test Accuracy: 0.0714285746216774\n",
      "Epoch 42, Loss: 2.6555230617523193, Accuracy: 0.07160714268684387, Test Loss: 2.654585123062134, Test Accuracy: 0.0714285746216774\n",
      "Epoch 43, Loss: 2.6551437377929688, Accuracy: 0.07053571194410324, Test Loss: 2.6542117595672607, Test Accuracy: 0.0714285746216774\n",
      "Epoch 44, Loss: 2.6547048091888428, Accuracy: 0.06982143223285675, Test Loss: 2.6538476943969727, Test Accuracy: 0.0714285746216774\n",
      "Epoch 45, Loss: 2.654306650161743, Accuracy: 0.06785714626312256, Test Loss: 2.653496265411377, Test Accuracy: 0.0714285746216774\n",
      "Epoch 46, Loss: 2.6539838314056396, Accuracy: 0.07035714387893677, Test Loss: 2.6531546115875244, Test Accuracy: 0.0714285746216774\n",
      "Epoch 47, Loss: 2.653651714324951, Accuracy: 0.07160714268684387, Test Loss: 2.6528265476226807, Test Accuracy: 0.0714285746216774\n",
      "Epoch 48, Loss: 2.653247594833374, Accuracy: 0.0714285746216774, Test Loss: 2.652505874633789, Test Accuracy: 0.0714285746216774\n",
      "Epoch 49, Loss: 2.6529948711395264, Accuracy: 0.07160714268684387, Test Loss: 2.6521899700164795, Test Accuracy: 0.0714285746216774\n",
      "Epoch 50, Loss: 2.652665138244629, Accuracy: 0.07124999910593033, Test Loss: 2.6518850326538086, Test Accuracy: 0.0714285746216774\n",
      "Epoch 51, Loss: 2.6523399353027344, Accuracy: 0.0714285746216774, Test Loss: 2.6515843868255615, Test Accuracy: 0.0714285746216774\n",
      "Epoch 52, Loss: 2.652061700820923, Accuracy: 0.07071428745985031, Test Loss: 2.6512997150421143, Test Accuracy: 0.0714285746216774\n",
      "Epoch 53, Loss: 2.6517410278320312, Accuracy: 0.0714285746216774, Test Loss: 2.6510236263275146, Test Accuracy: 0.0714285746216774\n",
      "Epoch 54, Loss: 2.6514692306518555, Accuracy: 0.07124999910593033, Test Loss: 2.6507558822631836, Test Accuracy: 0.0714285746216774\n",
      "Epoch 55, Loss: 2.651252508163452, Accuracy: 0.07089285552501678, Test Loss: 2.6505045890808105, Test Accuracy: 0.0714285746216774\n",
      "Epoch 56, Loss: 2.650900363922119, Accuracy: 0.07107143104076385, Test Loss: 2.6502580642700195, Test Accuracy: 0.0714285746216774\n",
      "Epoch 57, Loss: 2.650665044784546, Accuracy: 0.07124999910593033, Test Loss: 2.6500136852264404, Test Accuracy: 0.0714285746216774\n",
      "Epoch 58, Loss: 2.6504111289978027, Accuracy: 0.07035714387893677, Test Loss: 2.6497812271118164, Test Accuracy: 0.0714285746216774\n",
      "Epoch 59, Loss: 2.6501822471618652, Accuracy: 0.06803571432828903, Test Loss: 2.6495473384857178, Test Accuracy: 0.0714285746216774\n",
      "Epoch 60, Loss: 2.6498944759368896, Accuracy: 0.07000000029802322, Test Loss: 2.6493217945098877, Test Accuracy: 0.0714285746216774\n",
      "Epoch 61, Loss: 2.649728536605835, Accuracy: 0.07035714387893677, Test Loss: 2.64911150932312, Test Accuracy: 0.0714285746216774\n",
      "Epoch 62, Loss: 2.649506092071533, Accuracy: 0.07196428626775742, Test Loss: 2.648897886276245, Test Accuracy: 0.0714285746216774\n",
      "Epoch 63, Loss: 2.6492574214935303, Accuracy: 0.06892856955528259, Test Loss: 2.6487038135528564, Test Accuracy: 0.0714285746216774\n",
      "Epoch 64, Loss: 2.649066925048828, Accuracy: 0.07035714387893677, Test Loss: 2.6485097408294678, Test Accuracy: 0.0714285746216774\n",
      "Epoch 65, Loss: 2.6488301753997803, Accuracy: 0.06964285671710968, Test Loss: 2.648322820663452, Test Accuracy: 0.0714285746216774\n",
      "Epoch 66, Loss: 2.6486380100250244, Accuracy: 0.06607142835855484, Test Loss: 2.648142099380493, Test Accuracy: 0.0714285746216774\n",
      "Epoch 67, Loss: 2.648458957672119, Accuracy: 0.07124999910593033, Test Loss: 2.647960662841797, Test Accuracy: 0.0714285746216774\n",
      "Epoch 68, Loss: 2.6482629776000977, Accuracy: 0.0694642886519432, Test Loss: 2.6477739810943604, Test Accuracy: 0.0714285746216774\n",
      "Epoch 69, Loss: 2.648077964782715, Accuracy: 0.07089285552501678, Test Loss: 2.647603988647461, Test Accuracy: 0.0714285746216774\n",
      "Epoch 70, Loss: 2.647951126098633, Accuracy: 0.07124999910593033, Test Loss: 2.6474435329437256, Test Accuracy: 0.0714285746216774\n",
      "Epoch 71, Loss: 2.6477720737457275, Accuracy: 0.06642857193946838, Test Loss: 2.6472795009613037, Test Accuracy: 0.0714285746216774\n",
      "Epoch 72, Loss: 2.6475772857666016, Accuracy: 0.06589286029338837, Test Loss: 2.647125244140625, Test Accuracy: 0.0714285746216774\n",
      "Epoch 73, Loss: 2.647402286529541, Accuracy: 0.06785714626312256, Test Loss: 2.6469714641571045, Test Accuracy: 0.0714285746216774\n",
      "Epoch 74, Loss: 2.6472530364990234, Accuracy: 0.06857142597436905, Test Loss: 2.646824836730957, Test Accuracy: 0.0714285746216774\n",
      "Epoch 75, Loss: 2.6470930576324463, Accuracy: 0.06875000149011612, Test Loss: 2.6466848850250244, Test Accuracy: 0.0714285746216774\n",
      "Epoch 76, Loss: 2.6469483375549316, Accuracy: 0.06892856955528259, Test Loss: 2.646533727645874, Test Accuracy: 0.0714285746216774\n",
      "Epoch 77, Loss: 2.646810293197632, Accuracy: 0.07071428745985031, Test Loss: 2.6464040279388428, Test Accuracy: 0.0714285746216774\n",
      "Epoch 78, Loss: 2.646686553955078, Accuracy: 0.06660714000463486, Test Loss: 2.6462700366973877, Test Accuracy: 0.0714285746216774\n",
      "Epoch 79, Loss: 2.6465365886688232, Accuracy: 0.0682142823934555, Test Loss: 2.64614200592041, Test Accuracy: 0.0714285746216774\n",
      "Epoch 80, Loss: 2.64640212059021, Accuracy: 0.06839285790920258, Test Loss: 2.64601993560791, Test Accuracy: 0.0714285746216774\n",
      "Epoch 81, Loss: 2.6462817192077637, Accuracy: 0.07124999910593033, Test Loss: 2.6458981037139893, Test Accuracy: 0.0714285746216774\n",
      "Epoch 82, Loss: 2.646127223968506, Accuracy: 0.07035714387893677, Test Loss: 2.645782947540283, Test Accuracy: 0.0714285746216774\n",
      "Epoch 83, Loss: 2.646040916442871, Accuracy: 0.06785714626312256, Test Loss: 2.6456587314605713, Test Accuracy: 0.0714285746216774\n",
      "Epoch 84, Loss: 2.6459128856658936, Accuracy: 0.06910714507102966, Test Loss: 2.6455559730529785, Test Accuracy: 0.0714285746216774\n",
      "Epoch 85, Loss: 2.6457691192626953, Accuracy: 0.0714285746216774, Test Loss: 2.6454341411590576, Test Accuracy: 0.0714285746216774\n",
      "Epoch 86, Loss: 2.6456639766693115, Accuracy: 0.0714285746216774, Test Loss: 2.645336151123047, Test Accuracy: 0.0714285746216774\n",
      "Epoch 87, Loss: 2.6455581188201904, Accuracy: 0.06767857074737549, Test Loss: 2.645228624343872, Test Accuracy: 0.0714285746216774\n",
      "Epoch 88, Loss: 2.6454524993896484, Accuracy: 0.06767857074737549, Test Loss: 2.6451213359832764, Test Accuracy: 0.0714285746216774\n",
      "Epoch 89, Loss: 2.6453726291656494, Accuracy: 0.07107143104076385, Test Loss: 2.6450202465057373, Test Accuracy: 0.0714285746216774\n",
      "Epoch 90, Loss: 2.645233631134033, Accuracy: 0.07249999791383743, Test Loss: 2.644921064376831, Test Accuracy: 0.0714285746216774\n",
      "Epoch 91, Loss: 2.6451423168182373, Accuracy: 0.06839285790920258, Test Loss: 2.6448352336883545, Test Accuracy: 0.0714285746216774\n",
      "Epoch 92, Loss: 2.6450436115264893, Accuracy: 0.06750000268220901, Test Loss: 2.644740343093872, Test Accuracy: 0.0714285746216774\n",
      "Epoch 93, Loss: 2.644944906234741, Accuracy: 0.07035714387893677, Test Loss: 2.6446516513824463, Test Accuracy: 0.0714285746216774\n",
      "Epoch 94, Loss: 2.6448605060577393, Accuracy: 0.0714285746216774, Test Loss: 2.6445534229278564, Test Accuracy: 0.0714285746216774\n",
      "Epoch 95, Loss: 2.644782066345215, Accuracy: 0.07107143104076385, Test Loss: 2.644467830657959, Test Accuracy: 0.0714285746216774\n",
      "Epoch 96, Loss: 2.6446969509124756, Accuracy: 0.0682142823934555, Test Loss: 2.644383668899536, Test Accuracy: 0.06714285910129547\n",
      "Epoch 97, Loss: 2.6445908546447754, Accuracy: 0.0657142847776413, Test Loss: 2.6443135738372803, Test Accuracy: 0.07000000029802322\n",
      "Epoch 98, Loss: 2.6445276737213135, Accuracy: 0.06678571552038193, Test Loss: 2.644240617752075, Test Accuracy: 0.0714285746216774\n",
      "Epoch 99, Loss: 2.644437551498413, Accuracy: 0.06624999642372131, Test Loss: 2.64416241645813, Test Accuracy: 0.0714285746216774\n",
      "Epoch 100, Loss: 2.644368886947632, Accuracy: 0.06767857074737549, Test Loss: 2.6440858840942383, Test Accuracy: 0.0714285746216774\n",
      "Epoch 101, Loss: 2.6442813873291016, Accuracy: 0.0669642835855484, Test Loss: 2.6439995765686035, Test Accuracy: 0.0714285746216774\n",
      "Epoch 102, Loss: 2.644188165664673, Accuracy: 0.06839285790920258, Test Loss: 2.6439368724823, Test Accuracy: 0.0714285746216774\n",
      "Epoch 103, Loss: 2.6441400051116943, Accuracy: 0.06428571790456772, Test Loss: 2.6438605785369873, Test Accuracy: 0.0714285746216774\n",
      "Epoch 104, Loss: 2.6440541744232178, Accuracy: 0.06982143223285675, Test Loss: 2.6438002586364746, Test Accuracy: 0.0714285746216774\n",
      "Epoch 105, Loss: 2.6439549922943115, Accuracy: 0.06678571552038193, Test Loss: 2.643742322921753, Test Accuracy: 0.0714285746216774\n",
      "Epoch 106, Loss: 2.643906593322754, Accuracy: 0.06875000149011612, Test Loss: 2.6436688899993896, Test Accuracy: 0.0714285746216774\n",
      "Epoch 107, Loss: 2.6438398361206055, Accuracy: 0.07071428745985031, Test Loss: 2.643599033355713, Test Accuracy: 0.0714285746216774\n",
      "Epoch 108, Loss: 2.643782615661621, Accuracy: 0.07053571194410324, Test Loss: 2.643531560897827, Test Accuracy: 0.0714285746216774\n",
      "Epoch 109, Loss: 2.6437273025512695, Accuracy: 0.06928571313619614, Test Loss: 2.643472194671631, Test Accuracy: 0.0714285746216774\n",
      "Epoch 110, Loss: 2.643653154373169, Accuracy: 0.06732142716646194, Test Loss: 2.6434226036071777, Test Accuracy: 0.0714285746216774\n",
      "Epoch 111, Loss: 2.6436140537261963, Accuracy: 0.06803571432828903, Test Loss: 2.6433615684509277, Test Accuracy: 0.0714285746216774\n",
      "Epoch 112, Loss: 2.643519639968872, Accuracy: 0.06785714626312256, Test Loss: 2.6432974338531494, Test Accuracy: 0.0714285746216774\n",
      "Epoch 113, Loss: 2.6434643268585205, Accuracy: 0.06767857074737549, Test Loss: 2.643228054046631, Test Accuracy: 0.0714285746216774\n",
      "Epoch 114, Loss: 2.6434457302093506, Accuracy: 0.06499999761581421, Test Loss: 2.643193244934082, Test Accuracy: 0.0714285746216774\n",
      "Epoch 115, Loss: 2.6433603763580322, Accuracy: 0.06803571432828903, Test Loss: 2.643125534057617, Test Accuracy: 0.0714285746216774\n",
      "Epoch 116, Loss: 2.6433165073394775, Accuracy: 0.06553571671247482, Test Loss: 2.6430795192718506, Test Accuracy: 0.0714285746216774\n",
      "Epoch 117, Loss: 2.643259286880493, Accuracy: 0.0669642835855484, Test Loss: 2.643038272857666, Test Accuracy: 0.0714285746216774\n",
      "Epoch 118, Loss: 2.6432130336761475, Accuracy: 0.06589286029338837, Test Loss: 2.6429853439331055, Test Accuracy: 0.0714285746216774\n",
      "Epoch 119, Loss: 2.643152952194214, Accuracy: 0.06517857313156128, Test Loss: 2.6429316997528076, Test Accuracy: 0.0714285746216774\n",
      "Epoch 120, Loss: 2.643098831176758, Accuracy: 0.06642857193946838, Test Loss: 2.6428704261779785, Test Accuracy: 0.0714285746216774\n",
      "Epoch 121, Loss: 2.6430442333221436, Accuracy: 0.06875000149011612, Test Loss: 2.6428444385528564, Test Accuracy: 0.0714285746216774\n",
      "Epoch 122, Loss: 2.6430110931396484, Accuracy: 0.0714285746216774, Test Loss: 2.642780065536499, Test Accuracy: 0.0714285746216774\n",
      "Epoch 123, Loss: 2.6429481506347656, Accuracy: 0.06624999642372131, Test Loss: 2.642746686935425, Test Accuracy: 0.0714285746216774\n",
      "Epoch 124, Loss: 2.642909288406372, Accuracy: 0.06357143074274063, Test Loss: 2.6427056789398193, Test Accuracy: 0.0714285746216774\n",
      "Epoch 125, Loss: 2.642850160598755, Accuracy: 0.06964285671710968, Test Loss: 2.642664670944214, Test Accuracy: 0.0714285746216774\n",
      "Epoch 126, Loss: 2.6428072452545166, Accuracy: 0.06517857313156128, Test Loss: 2.6426124572753906, Test Accuracy: 0.0714285746216774\n",
      "Epoch 127, Loss: 2.642749786376953, Accuracy: 0.07053571194410324, Test Loss: 2.6425633430480957, Test Accuracy: 0.0714285746216774\n",
      "Epoch 128, Loss: 2.6427133083343506, Accuracy: 0.06875000149011612, Test Loss: 2.6425154209136963, Test Accuracy: 0.0714285746216774\n",
      "Epoch 129, Loss: 2.642650842666626, Accuracy: 0.07000000029802322, Test Loss: 2.6424734592437744, Test Accuracy: 0.0714285746216774\n",
      "Epoch 130, Loss: 2.642659902572632, Accuracy: 0.06624999642372131, Test Loss: 2.642430067062378, Test Accuracy: 0.0714285746216774\n",
      "Epoch 131, Loss: 2.6426258087158203, Accuracy: 0.06803571432828903, Test Loss: 2.642402410507202, Test Accuracy: 0.0714285746216774\n",
      "Epoch 132, Loss: 2.642543077468872, Accuracy: 0.0701785683631897, Test Loss: 2.642364263534546, Test Accuracy: 0.0714285746216774\n",
      "Epoch 133, Loss: 2.6425282955169678, Accuracy: 0.0694642886519432, Test Loss: 2.6423232555389404, Test Accuracy: 0.0714285746216774\n",
      "Epoch 134, Loss: 2.64249587059021, Accuracy: 0.06624999642372131, Test Loss: 2.6422791481018066, Test Accuracy: 0.0714285746216774\n",
      "Epoch 135, Loss: 2.6424310207366943, Accuracy: 0.06517857313156128, Test Loss: 2.6422462463378906, Test Accuracy: 0.0714285746216774\n",
      "Epoch 136, Loss: 2.6424036026000977, Accuracy: 0.06910714507102966, Test Loss: 2.6422154903411865, Test Accuracy: 0.0714285746216774\n",
      "Epoch 137, Loss: 2.64239764213562, Accuracy: 0.06642857193946838, Test Loss: 2.6421732902526855, Test Accuracy: 0.06857142597436905\n",
      "Epoch 138, Loss: 2.642350673675537, Accuracy: 0.06767857074737549, Test Loss: 2.642134666442871, Test Accuracy: 0.0714285746216774\n",
      "Epoch 139, Loss: 2.64229679107666, Accuracy: 0.06535714119672775, Test Loss: 2.6421091556549072, Test Accuracy: 0.0714285746216774\n",
      "Epoch 140, Loss: 2.642261028289795, Accuracy: 0.06660714000463486, Test Loss: 2.6420738697052, Test Accuracy: 0.0714285746216774\n",
      "Epoch 141, Loss: 2.642240047454834, Accuracy: 0.06178571283817291, Test Loss: 2.6420507431030273, Test Accuracy: 0.0714285746216774\n",
      "Epoch 142, Loss: 2.642216682434082, Accuracy: 0.06839285790920258, Test Loss: 2.642019033432007, Test Accuracy: 0.0714285746216774\n",
      "Epoch 143, Loss: 2.6421663761138916, Accuracy: 0.058392856270074844, Test Loss: 2.6419801712036133, Test Accuracy: 0.0714285746216774\n",
      "Epoch 144, Loss: 2.642117977142334, Accuracy: 0.06303571164608002, Test Loss: 2.6419622898101807, Test Accuracy: 0.0714285746216774\n",
      "Epoch 145, Loss: 2.6420998573303223, Accuracy: 0.06624999642372131, Test Loss: 2.6419312953948975, Test Accuracy: 0.0714285746216774\n",
      "Epoch 146, Loss: 2.6420552730560303, Accuracy: 0.0625, Test Loss: 2.6419076919555664, Test Accuracy: 0.0714285746216774\n",
      "Epoch 147, Loss: 2.6420280933380127, Accuracy: 0.06339285522699356, Test Loss: 2.6418750286102295, Test Accuracy: 0.0714285746216774\n",
      "Epoch 148, Loss: 2.6420037746429443, Accuracy: 0.0682142823934555, Test Loss: 2.641839027404785, Test Accuracy: 0.0714285746216774\n",
      "Epoch 149, Loss: 2.6419904232025146, Accuracy: 0.0657142847776413, Test Loss: 2.6418139934539795, Test Accuracy: 0.0714285746216774\n",
      "Epoch 150, Loss: 2.6419646739959717, Accuracy: 0.06553571671247482, Test Loss: 2.6417715549468994, Test Accuracy: 0.0714285746216774\n",
      "Epoch 151, Loss: 2.64194917678833, Accuracy: 0.062142856419086456, Test Loss: 2.6417348384857178, Test Accuracy: 0.0714285746216774\n",
      "Epoch 152, Loss: 2.641897439956665, Accuracy: 0.06410714238882065, Test Loss: 2.641709089279175, Test Accuracy: 0.0714285746216774\n",
      "Epoch 153, Loss: 2.6418752670288086, Accuracy: 0.06750000268220901, Test Loss: 2.6416854858398438, Test Accuracy: 0.0714285746216774\n",
      "Epoch 154, Loss: 2.64182710647583, Accuracy: 0.06642857193946838, Test Loss: 2.6416542530059814, Test Accuracy: 0.0714285746216774\n",
      "Epoch 155, Loss: 2.6418344974517822, Accuracy: 0.06732142716646194, Test Loss: 2.6416404247283936, Test Accuracy: 0.0714285746216774\n",
      "Epoch 156, Loss: 2.641779899597168, Accuracy: 0.06714285910129547, Test Loss: 2.6416165828704834, Test Accuracy: 0.0714285746216774\n",
      "Epoch 157, Loss: 2.641757011413574, Accuracy: 0.0682142823934555, Test Loss: 2.6416006088256836, Test Accuracy: 0.0714285746216774\n",
      "Epoch 158, Loss: 2.6417531967163086, Accuracy: 0.06875000149011612, Test Loss: 2.6415727138519287, Test Accuracy: 0.0714285746216774\n",
      "Epoch 159, Loss: 2.6417160034179688, Accuracy: 0.06535714119672775, Test Loss: 2.6415469646453857, Test Accuracy: 0.0714285746216774\n",
      "Epoch 160, Loss: 2.6416852474212646, Accuracy: 0.07035714387893677, Test Loss: 2.6415212154388428, Test Accuracy: 0.0714285746216774\n",
      "Epoch 161, Loss: 2.641664743423462, Accuracy: 0.06767857074737549, Test Loss: 2.6415131092071533, Test Accuracy: 0.0714285746216774\n",
      "Epoch 162, Loss: 2.6416373252868652, Accuracy: 0.06892856955528259, Test Loss: 2.641486883163452, Test Accuracy: 0.0714285746216774\n",
      "Epoch 163, Loss: 2.6416125297546387, Accuracy: 0.06160714104771614, Test Loss: 2.6414685249328613, Test Accuracy: 0.0714285746216774\n",
      "Epoch 164, Loss: 2.6415786743164062, Accuracy: 0.06750000268220901, Test Loss: 2.641446352005005, Test Accuracy: 0.0714285746216774\n",
      "Epoch 165, Loss: 2.6415786743164062, Accuracy: 0.06678571552038193, Test Loss: 2.6414060592651367, Test Accuracy: 0.0714285746216774\n",
      "Epoch 166, Loss: 2.6415674686431885, Accuracy: 0.06410714238882065, Test Loss: 2.6413938999176025, Test Accuracy: 0.07000000029802322\n",
      "Epoch 167, Loss: 2.641530990600586, Accuracy: 0.06607142835855484, Test Loss: 2.64137864112854, Test Accuracy: 0.07285714149475098\n",
      "Epoch 168, Loss: 2.641512393951416, Accuracy: 0.06767857074737549, Test Loss: 2.6413395404815674, Test Accuracy: 0.07285714149475098\n",
      "Epoch 169, Loss: 2.641522169113159, Accuracy: 0.06053571403026581, Test Loss: 2.6413333415985107, Test Accuracy: 0.07285714149475098\n",
      "Epoch 170, Loss: 2.64146089553833, Accuracy: 0.06535714119672775, Test Loss: 2.6413049697875977, Test Accuracy: 0.07285714149475098\n",
      "Epoch 171, Loss: 2.6414544582366943, Accuracy: 0.062142856419086456, Test Loss: 2.641279458999634, Test Accuracy: 0.07285714149475098\n",
      "Epoch 172, Loss: 2.641477108001709, Accuracy: 0.06785714626312256, Test Loss: 2.641261100769043, Test Accuracy: 0.07285714149475098\n",
      "Epoch 173, Loss: 2.6414334774017334, Accuracy: 0.06392857432365417, Test Loss: 2.6412413120269775, Test Accuracy: 0.07285714149475098\n",
      "Epoch 174, Loss: 2.6414003372192383, Accuracy: 0.06660714000463486, Test Loss: 2.6412293910980225, Test Accuracy: 0.07285714149475098\n",
      "Epoch 175, Loss: 2.641368865966797, Accuracy: 0.06535714119672775, Test Loss: 2.6412065029144287, Test Accuracy: 0.07000000029802322\n",
      "Epoch 176, Loss: 2.641343593597412, Accuracy: 0.06339285522699356, Test Loss: 2.641209602355957, Test Accuracy: 0.0714285746216774\n",
      "Epoch 177, Loss: 2.6413567066192627, Accuracy: 0.06339285522699356, Test Loss: 2.6411798000335693, Test Accuracy: 0.07285714149475098\n"
     ]
    },
    {
     "ename": "KeyboardInterrupt",
     "evalue": "ignored",
     "output_type": "error",
     "traceback": [
      "\u001b[0;31m---------------------------------------------------------------------------\u001b[0m",
      "\u001b[0;31mKeyboardInterrupt\u001b[0m                         Traceback (most recent call last)",
      "\u001b[0;32m<ipython-input-26-78936b5c2d58>\u001b[0m in \u001b[0;36m<module>\u001b[0;34m()\u001b[0m\n\u001b[1;32m     15\u001b[0m \u001b[0;34m\u001b[0m\u001b[0m\n\u001b[1;32m     16\u001b[0m     \u001b[0;32mfor\u001b[0m \u001b[0mimages\u001b[0m\u001b[0;34m,\u001b[0m \u001b[0mlabels\u001b[0m \u001b[0;32min\u001b[0m \u001b[0mtrain_ds_word\u001b[0m\u001b[0;34m:\u001b[0m\u001b[0;34m\u001b[0m\u001b[0;34m\u001b[0m\u001b[0m\n\u001b[0;32m---> 17\u001b[0;31m         \u001b[0mtrain_step_2\u001b[0m\u001b[0;34m(\u001b[0m\u001b[0mmodel\u001b[0m\u001b[0;34m,\u001b[0m \u001b[0mimages\u001b[0m\u001b[0;34m,\u001b[0m \u001b[0mlabels\u001b[0m\u001b[0;34m,\u001b[0m \u001b[0mdrop_rate\u001b[0m\u001b[0;34m=\u001b[0m\u001b[0;36m0\u001b[0m\u001b[0;34m)\u001b[0m\u001b[0;34m\u001b[0m\u001b[0;34m\u001b[0m\u001b[0m\n\u001b[0m\u001b[1;32m     18\u001b[0m \u001b[0;34m\u001b[0m\u001b[0m\n\u001b[1;32m     19\u001b[0m     \u001b[0;32mfor\u001b[0m \u001b[0mimages\u001b[0m\u001b[0;34m,\u001b[0m \u001b[0mlabels\u001b[0m \u001b[0;32min\u001b[0m \u001b[0mtest_ds_word\u001b[0m\u001b[0;34m:\u001b[0m\u001b[0;34m\u001b[0m\u001b[0;34m\u001b[0m\u001b[0m\n",
      "\u001b[0;32m<ipython-input-20-1404e07126d4>\u001b[0m in \u001b[0;36mtrain_step_2\u001b[0;34m(model, x, label, drop_rate)\u001b[0m\n\u001b[1;32m      3\u001b[0m \u001b[0;32mdef\u001b[0m \u001b[0mtrain_step_2\u001b[0m\u001b[0;34m(\u001b[0m\u001b[0mmodel\u001b[0m\u001b[0;34m,\u001b[0m \u001b[0mx\u001b[0m\u001b[0;34m,\u001b[0m \u001b[0mlabel\u001b[0m\u001b[0;34m,\u001b[0m \u001b[0mdrop_rate\u001b[0m\u001b[0;34m)\u001b[0m\u001b[0;34m:\u001b[0m\u001b[0;34m\u001b[0m\u001b[0;34m\u001b[0m\u001b[0m\n\u001b[1;32m      4\u001b[0m     \u001b[0;32mwith\u001b[0m \u001b[0mtf\u001b[0m\u001b[0;34m.\u001b[0m\u001b[0mGradientTape\u001b[0m\u001b[0;34m(\u001b[0m\u001b[0;34m)\u001b[0m \u001b[0;32mas\u001b[0m \u001b[0mtape\u001b[0m\u001b[0;34m:\u001b[0m\u001b[0;34m\u001b[0m\u001b[0;34m\u001b[0m\u001b[0m\n\u001b[0;32m----> 5\u001b[0;31m         \u001b[0mout\u001b[0m \u001b[0;34m=\u001b[0m \u001b[0mmodel\u001b[0m\u001b[0;34m(\u001b[0m\u001b[0mx\u001b[0m\u001b[0;34m,\u001b[0m \u001b[0mdrop_rate\u001b[0m\u001b[0;34m)\u001b[0m\u001b[0;34m\u001b[0m\u001b[0;34m\u001b[0m\u001b[0m\n\u001b[0m\u001b[1;32m      6\u001b[0m         \u001b[0mloss\u001b[0m \u001b[0;34m=\u001b[0m \u001b[0mloss_object_2\u001b[0m\u001b[0;34m(\u001b[0m\u001b[0mlabel\u001b[0m\u001b[0;34m,\u001b[0m \u001b[0mout\u001b[0m\u001b[0;34m)\u001b[0m\u001b[0;34m\u001b[0m\u001b[0;34m\u001b[0m\u001b[0m\n\u001b[1;32m      7\u001b[0m         \u001b[0mgradients\u001b[0m \u001b[0;34m=\u001b[0m \u001b[0mtape\u001b[0m\u001b[0;34m.\u001b[0m\u001b[0mgradient\u001b[0m\u001b[0;34m(\u001b[0m\u001b[0mloss\u001b[0m\u001b[0;34m,\u001b[0m \u001b[0mmodel\u001b[0m\u001b[0;34m.\u001b[0m\u001b[0mtrainable_variables\u001b[0m\u001b[0;34m)\u001b[0m\u001b[0;34m\u001b[0m\u001b[0;34m\u001b[0m\u001b[0m\n",
      "\u001b[0;32m/usr/local/lib/python3.6/dist-packages/tensorflow/python/keras/engine/base_layer.py\u001b[0m in \u001b[0;36m__call__\u001b[0;34m(self, *args, **kwargs)\u001b[0m\n\u001b[1;32m    983\u001b[0m \u001b[0;34m\u001b[0m\u001b[0m\n\u001b[1;32m    984\u001b[0m         \u001b[0;32mwith\u001b[0m \u001b[0mops\u001b[0m\u001b[0;34m.\u001b[0m\u001b[0menable_auto_cast_variables\u001b[0m\u001b[0;34m(\u001b[0m\u001b[0mself\u001b[0m\u001b[0;34m.\u001b[0m\u001b[0m_compute_dtype_object\u001b[0m\u001b[0;34m)\u001b[0m\u001b[0;34m:\u001b[0m\u001b[0;34m\u001b[0m\u001b[0;34m\u001b[0m\u001b[0m\n\u001b[0;32m--> 985\u001b[0;31m           \u001b[0moutputs\u001b[0m \u001b[0;34m=\u001b[0m \u001b[0mcall_fn\u001b[0m\u001b[0;34m(\u001b[0m\u001b[0minputs\u001b[0m\u001b[0;34m,\u001b[0m \u001b[0;34m*\u001b[0m\u001b[0margs\u001b[0m\u001b[0;34m,\u001b[0m \u001b[0;34m**\u001b[0m\u001b[0mkwargs\u001b[0m\u001b[0;34m)\u001b[0m\u001b[0;34m\u001b[0m\u001b[0;34m\u001b[0m\u001b[0m\n\u001b[0m\u001b[1;32m    986\u001b[0m \u001b[0;34m\u001b[0m\u001b[0m\n\u001b[1;32m    987\u001b[0m         \u001b[0;32mif\u001b[0m \u001b[0mself\u001b[0m\u001b[0;34m.\u001b[0m\u001b[0m_activity_regularizer\u001b[0m\u001b[0;34m:\u001b[0m\u001b[0;34m\u001b[0m\u001b[0;34m\u001b[0m\u001b[0m\n",
      "\u001b[0;32m<ipython-input-25-a07acf786cac>\u001b[0m in \u001b[0;36mcall\u001b[0;34m(self, x, drop_rate)\u001b[0m\n\u001b[1;32m     17\u001b[0m         \u001b[0;31m# forward logic\u001b[0m\u001b[0;34m\u001b[0m\u001b[0;34m\u001b[0m\u001b[0;34m\u001b[0m\u001b[0m\n\u001b[1;32m     18\u001b[0m         \u001b[0membedding\u001b[0m \u001b[0;34m=\u001b[0m \u001b[0mself\u001b[0m\u001b[0;34m.\u001b[0m\u001b[0membedding\u001b[0m\u001b[0;34m(\u001b[0m\u001b[0mx\u001b[0m\u001b[0;34m)\u001b[0m\u001b[0;34m\u001b[0m\u001b[0;34m\u001b[0m\u001b[0m\n\u001b[0;32m---> 19\u001b[0;31m         \u001b[0mencoding\u001b[0m \u001b[0;34m=\u001b[0m \u001b[0mself\u001b[0m\u001b[0;34m.\u001b[0m\u001b[0mrnn\u001b[0m\u001b[0;34m(\u001b[0m\u001b[0membedding\u001b[0m\u001b[0;34m)\u001b[0m\u001b[0;34m\u001b[0m\u001b[0;34m\u001b[0m\u001b[0m\n\u001b[0m\u001b[1;32m     20\u001b[0m         \u001b[0mencoding\u001b[0m \u001b[0;34m=\u001b[0m \u001b[0mtf\u001b[0m\u001b[0;34m.\u001b[0m\u001b[0mnn\u001b[0m\u001b[0;34m.\u001b[0m\u001b[0mdropout\u001b[0m\u001b[0;34m(\u001b[0m\u001b[0mencoding\u001b[0m\u001b[0;34m,\u001b[0m \u001b[0mdrop_rate\u001b[0m\u001b[0;34m)\u001b[0m\u001b[0;34m\u001b[0m\u001b[0;34m\u001b[0m\u001b[0m\n\u001b[1;32m     21\u001b[0m         \u001b[0mlogits\u001b[0m \u001b[0;34m=\u001b[0m \u001b[0mself\u001b[0m\u001b[0;34m.\u001b[0m\u001b[0mdense\u001b[0m\u001b[0;34m(\u001b[0m\u001b[0mencoding\u001b[0m\u001b[0;34m)\u001b[0m\u001b[0;34m\u001b[0m\u001b[0;34m\u001b[0m\u001b[0m\n",
      "\u001b[0;32m/usr/local/lib/python3.6/dist-packages/tensorflow/python/keras/layers/recurrent.py\u001b[0m in \u001b[0;36m__call__\u001b[0;34m(self, inputs, initial_state, constants, **kwargs)\u001b[0m\n\u001b[1;32m    661\u001b[0m \u001b[0;34m\u001b[0m\u001b[0m\n\u001b[1;32m    662\u001b[0m     \u001b[0;32mif\u001b[0m \u001b[0minitial_state\u001b[0m \u001b[0;32mis\u001b[0m \u001b[0;32mNone\u001b[0m \u001b[0;32mand\u001b[0m \u001b[0mconstants\u001b[0m \u001b[0;32mis\u001b[0m \u001b[0;32mNone\u001b[0m\u001b[0;34m:\u001b[0m\u001b[0;34m\u001b[0m\u001b[0;34m\u001b[0m\u001b[0m\n\u001b[0;32m--> 663\u001b[0;31m       \u001b[0;32mreturn\u001b[0m \u001b[0msuper\u001b[0m\u001b[0;34m(\u001b[0m\u001b[0mRNN\u001b[0m\u001b[0;34m,\u001b[0m \u001b[0mself\u001b[0m\u001b[0;34m)\u001b[0m\u001b[0;34m.\u001b[0m\u001b[0m__call__\u001b[0m\u001b[0;34m(\u001b[0m\u001b[0minputs\u001b[0m\u001b[0;34m,\u001b[0m \u001b[0;34m**\u001b[0m\u001b[0mkwargs\u001b[0m\u001b[0;34m)\u001b[0m\u001b[0;34m\u001b[0m\u001b[0;34m\u001b[0m\u001b[0m\n\u001b[0m\u001b[1;32m    664\u001b[0m \u001b[0;34m\u001b[0m\u001b[0m\n\u001b[1;32m    665\u001b[0m     \u001b[0;31m# If any of `initial_state` or `constants` are specified and are Keras\u001b[0m\u001b[0;34m\u001b[0m\u001b[0;34m\u001b[0m\u001b[0;34m\u001b[0m\u001b[0m\n",
      "\u001b[0;32m/usr/local/lib/python3.6/dist-packages/tensorflow/python/keras/engine/base_layer.py\u001b[0m in \u001b[0;36m__call__\u001b[0;34m(self, *args, **kwargs)\u001b[0m\n\u001b[1;32m    983\u001b[0m \u001b[0;34m\u001b[0m\u001b[0m\n\u001b[1;32m    984\u001b[0m         \u001b[0;32mwith\u001b[0m \u001b[0mops\u001b[0m\u001b[0;34m.\u001b[0m\u001b[0menable_auto_cast_variables\u001b[0m\u001b[0;34m(\u001b[0m\u001b[0mself\u001b[0m\u001b[0;34m.\u001b[0m\u001b[0m_compute_dtype_object\u001b[0m\u001b[0;34m)\u001b[0m\u001b[0;34m:\u001b[0m\u001b[0;34m\u001b[0m\u001b[0;34m\u001b[0m\u001b[0m\n\u001b[0;32m--> 985\u001b[0;31m           \u001b[0moutputs\u001b[0m \u001b[0;34m=\u001b[0m \u001b[0mcall_fn\u001b[0m\u001b[0;34m(\u001b[0m\u001b[0minputs\u001b[0m\u001b[0;34m,\u001b[0m \u001b[0;34m*\u001b[0m\u001b[0margs\u001b[0m\u001b[0;34m,\u001b[0m \u001b[0;34m**\u001b[0m\u001b[0mkwargs\u001b[0m\u001b[0;34m)\u001b[0m\u001b[0;34m\u001b[0m\u001b[0;34m\u001b[0m\u001b[0m\n\u001b[0m\u001b[1;32m    986\u001b[0m \u001b[0;34m\u001b[0m\u001b[0m\n\u001b[1;32m    987\u001b[0m         \u001b[0;32mif\u001b[0m \u001b[0mself\u001b[0m\u001b[0;34m.\u001b[0m\u001b[0m_activity_regularizer\u001b[0m\u001b[0;34m:\u001b[0m\u001b[0;34m\u001b[0m\u001b[0;34m\u001b[0m\u001b[0m\n",
      "\u001b[0;32m/usr/local/lib/python3.6/dist-packages/tensorflow/python/keras/layers/recurrent.py\u001b[0m in \u001b[0;36mcall\u001b[0;34m(self, inputs, mask, training, initial_state, constants)\u001b[0m\n\u001b[1;32m    805\u001b[0m         \u001b[0minput_length\u001b[0m\u001b[0;34m=\u001b[0m\u001b[0mrow_lengths\u001b[0m \u001b[0;32mif\u001b[0m \u001b[0mrow_lengths\u001b[0m \u001b[0;32mis\u001b[0m \u001b[0;32mnot\u001b[0m \u001b[0;32mNone\u001b[0m \u001b[0;32melse\u001b[0m \u001b[0mtimesteps\u001b[0m\u001b[0;34m,\u001b[0m\u001b[0;34m\u001b[0m\u001b[0;34m\u001b[0m\u001b[0m\n\u001b[1;32m    806\u001b[0m         \u001b[0mtime_major\u001b[0m\u001b[0;34m=\u001b[0m\u001b[0mself\u001b[0m\u001b[0;34m.\u001b[0m\u001b[0mtime_major\u001b[0m\u001b[0;34m,\u001b[0m\u001b[0;34m\u001b[0m\u001b[0;34m\u001b[0m\u001b[0m\n\u001b[0;32m--> 807\u001b[0;31m         zero_output_for_mask=self.zero_output_for_mask)\n\u001b[0m\u001b[1;32m    808\u001b[0m \u001b[0;34m\u001b[0m\u001b[0m\n\u001b[1;32m    809\u001b[0m     \u001b[0;32mif\u001b[0m \u001b[0mself\u001b[0m\u001b[0;34m.\u001b[0m\u001b[0mstateful\u001b[0m\u001b[0;34m:\u001b[0m\u001b[0;34m\u001b[0m\u001b[0;34m\u001b[0m\u001b[0m\n",
      "\u001b[0;32m/usr/local/lib/python3.6/dist-packages/tensorflow/python/util/dispatch.py\u001b[0m in \u001b[0;36mwrapper\u001b[0;34m(*args, **kwargs)\u001b[0m\n\u001b[1;32m    199\u001b[0m     \u001b[0;34m\"\"\"Call target, and fall back on dispatchers if there is a TypeError.\"\"\"\u001b[0m\u001b[0;34m\u001b[0m\u001b[0;34m\u001b[0m\u001b[0m\n\u001b[1;32m    200\u001b[0m     \u001b[0;32mtry\u001b[0m\u001b[0;34m:\u001b[0m\u001b[0;34m\u001b[0m\u001b[0;34m\u001b[0m\u001b[0m\n\u001b[0;32m--> 201\u001b[0;31m       \u001b[0;32mreturn\u001b[0m \u001b[0mtarget\u001b[0m\u001b[0;34m(\u001b[0m\u001b[0;34m*\u001b[0m\u001b[0margs\u001b[0m\u001b[0;34m,\u001b[0m \u001b[0;34m**\u001b[0m\u001b[0mkwargs\u001b[0m\u001b[0;34m)\u001b[0m\u001b[0;34m\u001b[0m\u001b[0;34m\u001b[0m\u001b[0m\n\u001b[0m\u001b[1;32m    202\u001b[0m     \u001b[0;32mexcept\u001b[0m \u001b[0;34m(\u001b[0m\u001b[0mTypeError\u001b[0m\u001b[0;34m,\u001b[0m \u001b[0mValueError\u001b[0m\u001b[0;34m)\u001b[0m\u001b[0;34m:\u001b[0m\u001b[0;34m\u001b[0m\u001b[0;34m\u001b[0m\u001b[0m\n\u001b[1;32m    203\u001b[0m       \u001b[0;31m# Note: convert_to_eager_tensor currently raises a ValueError, not a\u001b[0m\u001b[0;34m\u001b[0m\u001b[0;34m\u001b[0m\u001b[0;34m\u001b[0m\u001b[0m\n",
      "\u001b[0;32m/usr/local/lib/python3.6/dist-packages/tensorflow/python/keras/backend.py\u001b[0m in \u001b[0;36mrnn\u001b[0;34m(step_function, inputs, initial_states, go_backwards, mask, constants, unroll, input_length, time_major, zero_output_for_mask)\u001b[0m\n\u001b[1;32m   4180\u001b[0m       \u001b[0;32mfor\u001b[0m \u001b[0mi\u001b[0m \u001b[0;32min\u001b[0m \u001b[0mrange\u001b[0m\u001b[0;34m(\u001b[0m\u001b[0mtime_steps\u001b[0m\u001b[0;34m)\u001b[0m\u001b[0;34m:\u001b[0m\u001b[0;34m\u001b[0m\u001b[0;34m\u001b[0m\u001b[0m\n\u001b[1;32m   4181\u001b[0m         \u001b[0minp\u001b[0m \u001b[0;34m=\u001b[0m \u001b[0m_get_input_tensor\u001b[0m\u001b[0;34m(\u001b[0m\u001b[0mi\u001b[0m\u001b[0;34m)\u001b[0m\u001b[0;34m\u001b[0m\u001b[0;34m\u001b[0m\u001b[0m\n\u001b[0;32m-> 4182\u001b[0;31m         \u001b[0moutput\u001b[0m\u001b[0;34m,\u001b[0m \u001b[0mstates\u001b[0m \u001b[0;34m=\u001b[0m \u001b[0mstep_function\u001b[0m\u001b[0;34m(\u001b[0m\u001b[0minp\u001b[0m\u001b[0;34m,\u001b[0m \u001b[0mtuple\u001b[0m\u001b[0;34m(\u001b[0m\u001b[0mstates\u001b[0m\u001b[0;34m)\u001b[0m \u001b[0;34m+\u001b[0m \u001b[0mtuple\u001b[0m\u001b[0;34m(\u001b[0m\u001b[0mconstants\u001b[0m\u001b[0;34m)\u001b[0m\u001b[0;34m)\u001b[0m\u001b[0;34m\u001b[0m\u001b[0;34m\u001b[0m\u001b[0m\n\u001b[0m\u001b[1;32m   4183\u001b[0m         \u001b[0msuccessive_outputs\u001b[0m\u001b[0;34m.\u001b[0m\u001b[0mappend\u001b[0m\u001b[0;34m(\u001b[0m\u001b[0moutput\u001b[0m\u001b[0;34m)\u001b[0m\u001b[0;34m\u001b[0m\u001b[0;34m\u001b[0m\u001b[0m\n\u001b[1;32m   4184\u001b[0m         \u001b[0msuccessive_states\u001b[0m\u001b[0;34m.\u001b[0m\u001b[0mappend\u001b[0m\u001b[0;34m(\u001b[0m\u001b[0mstates\u001b[0m\u001b[0;34m)\u001b[0m\u001b[0;34m\u001b[0m\u001b[0;34m\u001b[0m\u001b[0m\n",
      "\u001b[0;32m/usr/local/lib/python3.6/dist-packages/tensorflow/python/keras/layers/recurrent.py\u001b[0m in \u001b[0;36mstep\u001b[0;34m(inputs, states)\u001b[0m\n\u001b[1;32m    791\u001b[0m       \u001b[0;32mdef\u001b[0m \u001b[0mstep\u001b[0m\u001b[0;34m(\u001b[0m\u001b[0minputs\u001b[0m\u001b[0;34m,\u001b[0m \u001b[0mstates\u001b[0m\u001b[0;34m)\u001b[0m\u001b[0;34m:\u001b[0m\u001b[0;34m\u001b[0m\u001b[0;34m\u001b[0m\u001b[0m\n\u001b[1;32m    792\u001b[0m         \u001b[0mstates\u001b[0m \u001b[0;34m=\u001b[0m \u001b[0mstates\u001b[0m\u001b[0;34m[\u001b[0m\u001b[0;36m0\u001b[0m\u001b[0;34m]\u001b[0m \u001b[0;32mif\u001b[0m \u001b[0mlen\u001b[0m\u001b[0;34m(\u001b[0m\u001b[0mstates\u001b[0m\u001b[0;34m)\u001b[0m \u001b[0;34m==\u001b[0m \u001b[0;36m1\u001b[0m \u001b[0;32mand\u001b[0m \u001b[0mis_tf_rnn_cell\u001b[0m \u001b[0;32melse\u001b[0m \u001b[0mstates\u001b[0m\u001b[0;34m\u001b[0m\u001b[0;34m\u001b[0m\u001b[0m\n\u001b[0;32m--> 793\u001b[0;31m         \u001b[0moutput\u001b[0m\u001b[0;34m,\u001b[0m \u001b[0mnew_states\u001b[0m \u001b[0;34m=\u001b[0m \u001b[0mcell_call_fn\u001b[0m\u001b[0;34m(\u001b[0m\u001b[0minputs\u001b[0m\u001b[0;34m,\u001b[0m \u001b[0mstates\u001b[0m\u001b[0;34m,\u001b[0m \u001b[0;34m**\u001b[0m\u001b[0mkwargs\u001b[0m\u001b[0;34m)\u001b[0m\u001b[0;34m\u001b[0m\u001b[0;34m\u001b[0m\u001b[0m\n\u001b[0m\u001b[1;32m    794\u001b[0m         \u001b[0;32mif\u001b[0m \u001b[0;32mnot\u001b[0m \u001b[0mnest\u001b[0m\u001b[0;34m.\u001b[0m\u001b[0mis_sequence\u001b[0m\u001b[0;34m(\u001b[0m\u001b[0mnew_states\u001b[0m\u001b[0;34m)\u001b[0m\u001b[0;34m:\u001b[0m\u001b[0;34m\u001b[0m\u001b[0;34m\u001b[0m\u001b[0m\n\u001b[1;32m    795\u001b[0m           \u001b[0mnew_states\u001b[0m \u001b[0;34m=\u001b[0m \u001b[0;34m[\u001b[0m\u001b[0mnew_states\u001b[0m\u001b[0;34m]\u001b[0m\u001b[0;34m\u001b[0m\u001b[0;34m\u001b[0m\u001b[0m\n",
      "\u001b[0;32m/usr/local/lib/python3.6/dist-packages/tensorflow/python/keras/engine/base_layer.py\u001b[0m in \u001b[0;36m__call__\u001b[0;34m(self, *args, **kwargs)\u001b[0m\n\u001b[1;32m    983\u001b[0m \u001b[0;34m\u001b[0m\u001b[0m\n\u001b[1;32m    984\u001b[0m         \u001b[0;32mwith\u001b[0m \u001b[0mops\u001b[0m\u001b[0;34m.\u001b[0m\u001b[0menable_auto_cast_variables\u001b[0m\u001b[0;34m(\u001b[0m\u001b[0mself\u001b[0m\u001b[0;34m.\u001b[0m\u001b[0m_compute_dtype_object\u001b[0m\u001b[0;34m)\u001b[0m\u001b[0;34m:\u001b[0m\u001b[0;34m\u001b[0m\u001b[0;34m\u001b[0m\u001b[0m\n\u001b[0;32m--> 985\u001b[0;31m           \u001b[0moutputs\u001b[0m \u001b[0;34m=\u001b[0m \u001b[0mcall_fn\u001b[0m\u001b[0;34m(\u001b[0m\u001b[0minputs\u001b[0m\u001b[0;34m,\u001b[0m \u001b[0;34m*\u001b[0m\u001b[0margs\u001b[0m\u001b[0;34m,\u001b[0m \u001b[0;34m**\u001b[0m\u001b[0mkwargs\u001b[0m\u001b[0;34m)\u001b[0m\u001b[0;34m\u001b[0m\u001b[0;34m\u001b[0m\u001b[0m\n\u001b[0m\u001b[1;32m    986\u001b[0m \u001b[0;34m\u001b[0m\u001b[0m\n\u001b[1;32m    987\u001b[0m         \u001b[0;32mif\u001b[0m \u001b[0mself\u001b[0m\u001b[0;34m.\u001b[0m\u001b[0m_activity_regularizer\u001b[0m\u001b[0;34m:\u001b[0m\u001b[0;34m\u001b[0m\u001b[0;34m\u001b[0m\u001b[0m\n",
      "\u001b[0;32m/usr/local/lib/python3.6/dist-packages/tensorflow/python/keras/layers/recurrent.py\u001b[0m in \u001b[0;36mcall\u001b[0;34m(self, inputs, states, training)\u001b[0m\n\u001b[1;32m   1918\u001b[0m       \u001b[0mhh\u001b[0m \u001b[0;34m=\u001b[0m \u001b[0mself\u001b[0m\u001b[0;34m.\u001b[0m\u001b[0mactivation\u001b[0m\u001b[0;34m(\u001b[0m\u001b[0mx_h\u001b[0m \u001b[0;34m+\u001b[0m \u001b[0mrecurrent_h\u001b[0m\u001b[0;34m)\u001b[0m\u001b[0;34m\u001b[0m\u001b[0;34m\u001b[0m\u001b[0m\n\u001b[1;32m   1919\u001b[0m     \u001b[0;31m# previous and candidate state mixed by update gate\u001b[0m\u001b[0;34m\u001b[0m\u001b[0;34m\u001b[0m\u001b[0;34m\u001b[0m\u001b[0m\n\u001b[0;32m-> 1920\u001b[0;31m     \u001b[0mh\u001b[0m \u001b[0;34m=\u001b[0m \u001b[0mz\u001b[0m \u001b[0;34m*\u001b[0m \u001b[0mh_tm1\u001b[0m \u001b[0;34m+\u001b[0m \u001b[0;34m(\u001b[0m\u001b[0;36m1\u001b[0m \u001b[0;34m-\u001b[0m \u001b[0mz\u001b[0m\u001b[0;34m)\u001b[0m \u001b[0;34m*\u001b[0m \u001b[0mhh\u001b[0m\u001b[0;34m\u001b[0m\u001b[0;34m\u001b[0m\u001b[0m\n\u001b[0m\u001b[1;32m   1921\u001b[0m     \u001b[0mnew_state\u001b[0m \u001b[0;34m=\u001b[0m \u001b[0;34m[\u001b[0m\u001b[0mh\u001b[0m\u001b[0;34m]\u001b[0m \u001b[0;32mif\u001b[0m \u001b[0mnest\u001b[0m\u001b[0;34m.\u001b[0m\u001b[0mis_sequence\u001b[0m\u001b[0;34m(\u001b[0m\u001b[0mstates\u001b[0m\u001b[0;34m)\u001b[0m \u001b[0;32melse\u001b[0m \u001b[0mh\u001b[0m\u001b[0;34m\u001b[0m\u001b[0;34m\u001b[0m\u001b[0m\n\u001b[1;32m   1922\u001b[0m     \u001b[0;32mreturn\u001b[0m \u001b[0mh\u001b[0m\u001b[0;34m,\u001b[0m \u001b[0mnew_state\u001b[0m\u001b[0;34m\u001b[0m\u001b[0;34m\u001b[0m\u001b[0m\n",
      "\u001b[0;32m/usr/local/lib/python3.6/dist-packages/tensorflow/python/ops/math_ops.py\u001b[0m in \u001b[0;36mbinary_op_wrapper\u001b[0;34m(x, y)\u001b[0m\n\u001b[1;32m   1123\u001b[0m     \u001b[0;32mwith\u001b[0m \u001b[0mops\u001b[0m\u001b[0;34m.\u001b[0m\u001b[0mname_scope\u001b[0m\u001b[0;34m(\u001b[0m\u001b[0;32mNone\u001b[0m\u001b[0;34m,\u001b[0m \u001b[0mop_name\u001b[0m\u001b[0;34m,\u001b[0m \u001b[0;34m[\u001b[0m\u001b[0mx\u001b[0m\u001b[0;34m,\u001b[0m \u001b[0my\u001b[0m\u001b[0;34m]\u001b[0m\u001b[0;34m)\u001b[0m \u001b[0;32mas\u001b[0m \u001b[0mname\u001b[0m\u001b[0;34m:\u001b[0m\u001b[0;34m\u001b[0m\u001b[0;34m\u001b[0m\u001b[0m\n\u001b[1;32m   1124\u001b[0m       \u001b[0;32mtry\u001b[0m\u001b[0;34m:\u001b[0m\u001b[0;34m\u001b[0m\u001b[0;34m\u001b[0m\u001b[0m\n\u001b[0;32m-> 1125\u001b[0;31m         \u001b[0;32mreturn\u001b[0m \u001b[0mfunc\u001b[0m\u001b[0;34m(\u001b[0m\u001b[0mx\u001b[0m\u001b[0;34m,\u001b[0m \u001b[0my\u001b[0m\u001b[0;34m,\u001b[0m \u001b[0mname\u001b[0m\u001b[0;34m=\u001b[0m\u001b[0mname\u001b[0m\u001b[0;34m)\u001b[0m\u001b[0;34m\u001b[0m\u001b[0;34m\u001b[0m\u001b[0m\n\u001b[0m\u001b[1;32m   1126\u001b[0m       \u001b[0;32mexcept\u001b[0m \u001b[0;34m(\u001b[0m\u001b[0mTypeError\u001b[0m\u001b[0;34m,\u001b[0m \u001b[0mValueError\u001b[0m\u001b[0;34m)\u001b[0m \u001b[0;32mas\u001b[0m \u001b[0me\u001b[0m\u001b[0;34m:\u001b[0m\u001b[0;34m\u001b[0m\u001b[0;34m\u001b[0m\u001b[0m\n\u001b[1;32m   1127\u001b[0m         \u001b[0;31m# Even if dispatching the op failed, the RHS may be a tensor aware\u001b[0m\u001b[0;34m\u001b[0m\u001b[0;34m\u001b[0m\u001b[0;34m\u001b[0m\u001b[0m\n",
      "\u001b[0;32m/usr/local/lib/python3.6/dist-packages/tensorflow/python/ops/math_ops.py\u001b[0m in \u001b[0;36m_mul_dispatch\u001b[0;34m(x, y, name)\u001b[0m\n\u001b[1;32m   1455\u001b[0m     \u001b[0;32mreturn\u001b[0m \u001b[0msparse_tensor\u001b[0m\u001b[0;34m.\u001b[0m\u001b[0mSparseTensor\u001b[0m\u001b[0;34m(\u001b[0m\u001b[0my\u001b[0m\u001b[0;34m.\u001b[0m\u001b[0mindices\u001b[0m\u001b[0;34m,\u001b[0m \u001b[0mnew_vals\u001b[0m\u001b[0;34m,\u001b[0m \u001b[0my\u001b[0m\u001b[0;34m.\u001b[0m\u001b[0mdense_shape\u001b[0m\u001b[0;34m)\u001b[0m\u001b[0;34m\u001b[0m\u001b[0;34m\u001b[0m\u001b[0m\n\u001b[1;32m   1456\u001b[0m   \u001b[0;32melse\u001b[0m\u001b[0;34m:\u001b[0m\u001b[0;34m\u001b[0m\u001b[0;34m\u001b[0m\u001b[0m\n\u001b[0;32m-> 1457\u001b[0;31m     \u001b[0;32mreturn\u001b[0m \u001b[0mmultiply\u001b[0m\u001b[0;34m(\u001b[0m\u001b[0mx\u001b[0m\u001b[0;34m,\u001b[0m \u001b[0my\u001b[0m\u001b[0;34m,\u001b[0m \u001b[0mname\u001b[0m\u001b[0;34m=\u001b[0m\u001b[0mname\u001b[0m\u001b[0;34m)\u001b[0m\u001b[0;34m\u001b[0m\u001b[0;34m\u001b[0m\u001b[0m\n\u001b[0m\u001b[1;32m   1458\u001b[0m \u001b[0;34m\u001b[0m\u001b[0m\n\u001b[1;32m   1459\u001b[0m \u001b[0;34m\u001b[0m\u001b[0m\n",
      "\u001b[0;32m/usr/local/lib/python3.6/dist-packages/tensorflow/python/util/dispatch.py\u001b[0m in \u001b[0;36mwrapper\u001b[0;34m(*args, **kwargs)\u001b[0m\n\u001b[1;32m    199\u001b[0m     \u001b[0;34m\"\"\"Call target, and fall back on dispatchers if there is a TypeError.\"\"\"\u001b[0m\u001b[0;34m\u001b[0m\u001b[0;34m\u001b[0m\u001b[0m\n\u001b[1;32m    200\u001b[0m     \u001b[0;32mtry\u001b[0m\u001b[0;34m:\u001b[0m\u001b[0;34m\u001b[0m\u001b[0;34m\u001b[0m\u001b[0m\n\u001b[0;32m--> 201\u001b[0;31m       \u001b[0;32mreturn\u001b[0m \u001b[0mtarget\u001b[0m\u001b[0;34m(\u001b[0m\u001b[0;34m*\u001b[0m\u001b[0margs\u001b[0m\u001b[0;34m,\u001b[0m \u001b[0;34m**\u001b[0m\u001b[0mkwargs\u001b[0m\u001b[0;34m)\u001b[0m\u001b[0;34m\u001b[0m\u001b[0;34m\u001b[0m\u001b[0m\n\u001b[0m\u001b[1;32m    202\u001b[0m     \u001b[0;32mexcept\u001b[0m \u001b[0;34m(\u001b[0m\u001b[0mTypeError\u001b[0m\u001b[0;34m,\u001b[0m \u001b[0mValueError\u001b[0m\u001b[0;34m)\u001b[0m\u001b[0;34m:\u001b[0m\u001b[0;34m\u001b[0m\u001b[0;34m\u001b[0m\u001b[0m\n\u001b[1;32m    203\u001b[0m       \u001b[0;31m# Note: convert_to_eager_tensor currently raises a ValueError, not a\u001b[0m\u001b[0;34m\u001b[0m\u001b[0;34m\u001b[0m\u001b[0;34m\u001b[0m\u001b[0m\n",
      "\u001b[0;32m/usr/local/lib/python3.6/dist-packages/tensorflow/python/ops/math_ops.py\u001b[0m in \u001b[0;36mmultiply\u001b[0;34m(x, y, name)\u001b[0m\n\u001b[1;32m    507\u001b[0m   \"\"\"\n\u001b[1;32m    508\u001b[0m \u001b[0;34m\u001b[0m\u001b[0m\n\u001b[0;32m--> 509\u001b[0;31m   \u001b[0;32mreturn\u001b[0m \u001b[0mgen_math_ops\u001b[0m\u001b[0;34m.\u001b[0m\u001b[0mmul\u001b[0m\u001b[0;34m(\u001b[0m\u001b[0mx\u001b[0m\u001b[0;34m,\u001b[0m \u001b[0my\u001b[0m\u001b[0;34m,\u001b[0m \u001b[0mname\u001b[0m\u001b[0;34m)\u001b[0m\u001b[0;34m\u001b[0m\u001b[0;34m\u001b[0m\u001b[0m\n\u001b[0m\u001b[1;32m    510\u001b[0m \u001b[0;34m\u001b[0m\u001b[0m\n\u001b[1;32m    511\u001b[0m \u001b[0;34m\u001b[0m\u001b[0m\n",
      "\u001b[0;32m/usr/local/lib/python3.6/dist-packages/tensorflow/python/ops/gen_math_ops.py\u001b[0m in \u001b[0;36mmul\u001b[0;34m(x, y, name)\u001b[0m\n\u001b[1;32m   6161\u001b[0m       _result = pywrap_tfe.TFE_Py_FastPathExecute(\n\u001b[1;32m   6162\u001b[0m         \u001b[0m_ctx\u001b[0m\u001b[0;34m.\u001b[0m\u001b[0m_context_handle\u001b[0m\u001b[0;34m,\u001b[0m \u001b[0mtld\u001b[0m\u001b[0;34m.\u001b[0m\u001b[0mdevice_name\u001b[0m\u001b[0;34m,\u001b[0m \u001b[0;34m\"Mul\"\u001b[0m\u001b[0;34m,\u001b[0m \u001b[0mname\u001b[0m\u001b[0;34m,\u001b[0m \u001b[0mtld\u001b[0m\u001b[0;34m.\u001b[0m\u001b[0mop_callbacks\u001b[0m\u001b[0;34m,\u001b[0m\u001b[0;34m\u001b[0m\u001b[0;34m\u001b[0m\u001b[0m\n\u001b[0;32m-> 6163\u001b[0;31m         x, y)\n\u001b[0m\u001b[1;32m   6164\u001b[0m       \u001b[0;32mreturn\u001b[0m \u001b[0m_result\u001b[0m\u001b[0;34m\u001b[0m\u001b[0;34m\u001b[0m\u001b[0m\n\u001b[1;32m   6165\u001b[0m     \u001b[0;32mexcept\u001b[0m \u001b[0m_core\u001b[0m\u001b[0;34m.\u001b[0m\u001b[0m_NotOkStatusException\u001b[0m \u001b[0;32mas\u001b[0m \u001b[0me\u001b[0m\u001b[0;34m:\u001b[0m\u001b[0;34m\u001b[0m\u001b[0;34m\u001b[0m\u001b[0m\n",
      "\u001b[0;31mKeyboardInterrupt\u001b[0m: "
     ]
    }
   ],
   "source": [
    "test_acc_RNN_word = []\n",
    "train_loss_RNN_word = []\n",
    "wordRNN_timer = 0\n",
    "\n",
    "model = WordRNN(vocab_size_word, HIDDEN_SIZE)\n",
    "\n",
    "for epoch in range(no_epochs):\n",
    "    # Reset the metrics at the start of the next epoch\n",
    "    train_loss.reset_states()\n",
    "    train_accuracy.reset_states()\n",
    "    test_loss.reset_states()\n",
    "    test_accuracy.reset_states()\n",
    "\n",
    "    epoch_start_time = time.perf_counter()\n",
    "    \n",
    "    for images, labels in train_ds_word:\n",
    "        train_step_2(model, images, labels, drop_rate=0)\n",
    "\n",
    "    for images, labels in test_ds_word:\n",
    "        test_step_2(model, images, labels, drop_rate=0)\n",
    "\n",
    "    epoch_end_time = time.perf_counter()\n",
    "    wordRNN_timer = wordRNN_timer + epoch_end_time - epoch_start_time\n",
    "    test_acc_RNN_word.append(test_accuracy.result())\n",
    "    train_loss_RNN_word.append(train_loss.result())\n",
    "\n",
    "    template = 'Epoch {}, Loss: {}, Accuracy: {}, Test Loss: {}, Test Accuracy: {}'\n",
    "    print (template.format(epoch+1,\n",
    "                          train_loss.result(),\n",
    "                          train_accuracy.result(),\n",
    "                          test_loss.result(),\n",
    "                          test_accuracy.result()))"
   ]
  },
  {
   "cell_type": "code",
   "execution_count": null,
   "metadata": {
    "id": "Z63AVmaJirtZ"
   },
   "outputs": [],
   "source": [
    "print(wordRNN_timer)"
   ]
  },
  {
   "cell_type": "code",
   "execution_count": null,
   "metadata": {
    "id": "qIKF61fniuOv"
   },
   "outputs": [],
   "source": [
    "# Plot training entropy cost for Char CNN with dropout\n",
    "pylab.figure()\n",
    "pylab.plot(np.arange(no_epochs), train_loss_RNN_char)\n",
    "pylab.xlabel('Epochs')\n",
    "pylab.ylabel('Train Entropy Cost')\n",
    "pylab.legend(loc='upper right')"
   ]
  },
  {
   "cell_type": "code",
   "execution_count": null,
   "metadata": {
    "id": "HDNtUVhOiwB3"
   },
   "outputs": [],
   "source": [
    "# Plot test accuracy for Char CNN with dropout\n",
    "pylab.figure()\n",
    "pylab.plot(np.arange(no_epochs), test_acc_RNN_char)\n",
    "pylab.xlabel('Epochs')\n",
    "pylab.ylabel('Test Accuracy')\n",
    "pylab.legend(loc='upper right')"
   ]
  },
  {
   "cell_type": "markdown",
   "metadata": {
    "id": "iFTY73h3KBdP"
   },
   "source": [
    "**Part B Question 5**"
   ]
  },
  {
   "cell_type": "code",
   "execution_count": null,
   "metadata": {
    "id": "7Y2l8iKvKAtI"
   },
   "outputs": [],
   "source": [
    "#Create Char CNN model with dropout now\n",
    "model = CharCNN(256)\n",
    "\n",
    "test_acc_CNN_dropout = []\n",
    "entropy_cost_CNN_dropout = []\n",
    "charCNN_dropout_timer = 0\n",
    "\n",
    "for epoch in range(no_epochs):\n",
    "    # Reset the metrics at the start of the next epoch\n",
    "    train_loss.reset_states()\n",
    "    train_accuracy.reset_states()\n",
    "    test_loss.reset_states()\n",
    "    test_accuracy.reset_states()\n",
    "\n",
    "    epoch_start_time = time.perf_counter()\n",
    "    for images, labels in train_ds:\n",
    "        train_step(model, images, labels, drop_rate=0.5)\n",
    "\n",
    "    for images, labels in test_ds:\n",
    "        test_step(model, images, labels, drop_rate=0)\n",
    "\n",
    "    epoch_end_time = time.perf_counter()\n",
    "    charCNN_dropout_timer = charCNN_dropout_timer + epoch_end_time - epoch_start_time\n",
    "    test_acc_CNN_dropout.append(test_accuracy.result())\n",
    "    entropy_cost_CNN_dropout.append(train_loss.result())\n",
    "    template = 'Epoch {}, Loss: {}, Accuracy: {}, Test Loss: {}, Test Accuracy: {}'\n",
    "    print (template.format(epoch+1,\n",
    "                          train_loss.result(),\n",
    "                          train_accuracy.result(),\n",
    "                          test_loss.result(),\n",
    "                          test_accuracy.result()))"
   ]
  },
  {
   "cell_type": "code",
   "execution_count": null,
   "metadata": {
    "id": "7l4E0fnurn02"
   },
   "outputs": [],
   "source": [
    "print(charCNN_dropout_timer)"
   ]
  },
  {
   "cell_type": "code",
   "execution_count": null,
   "metadata": {
    "id": "z7IL2rVYe4Nj"
   },
   "outputs": [],
   "source": [
    "# Plot training entropy cost for Char CNN with dropout\n",
    "pylab.figure()\n",
    "pylab.plot(np.arange(no_epochs), entropy_cost_CNN_dropout)\n",
    "pylab.xlabel('Epochs')\n",
    "pylab.ylabel('Train Entropy Cost')\n",
    "pylab.legend(loc='upper right')"
   ]
  },
  {
   "cell_type": "code",
   "execution_count": null,
   "metadata": {
    "id": "Rrw_ZgMIiw9H"
   },
   "outputs": [],
   "source": [
    "# Plot test accuracy for Char CNN with dropout\n",
    "pylab.figure()\n",
    "pylab.plot(np.arange(no_epochs), test_acc_CNN_dropout)\n",
    "pylab.xlabel('Epochs')\n",
    "pylab.ylabel('Test Accuracy')\n",
    "pylab.legend(loc='upper right')"
   ]
  },
  {
   "cell_type": "code",
   "execution_count": null,
   "metadata": {
    "colab": {
     "base_uri": "https://localhost:8080/"
    },
    "id": "QNEAwswRi0g4",
    "outputId": "a25f0f71-ac68-43d2-a069-aa7efc0ad93d"
   },
   "outputs": [
    {
     "name": "stdout",
     "output_type": "stream",
     "text": [
      "Epoch 1, Loss: 2.7063074111938477, Accuracy: 0.07821428775787354, Test Loss: 2.704274892807007, Test Accuracy: 0.1014285683631897\n",
      "Epoch 2, Loss: 2.702670097351074, Accuracy: 0.08500000089406967, Test Loss: 2.701003313064575, Test Accuracy: 0.09571428596973419\n",
      "Epoch 3, Loss: 2.6997811794281006, Accuracy: 0.08017857372760773, Test Loss: 2.6982147693634033, Test Accuracy: 0.09857142716646194\n",
      "Epoch 4, Loss: 2.6967248916625977, Accuracy: 0.08732143044471741, Test Loss: 2.6955325603485107, Test Accuracy: 0.10285714268684387\n",
      "Epoch 5, Loss: 2.694905996322632, Accuracy: 0.07660714536905289, Test Loss: 2.693007707595825, Test Accuracy: 0.1014285683631897\n",
      "Epoch 6, Loss: 2.6916863918304443, Accuracy: 0.08500000089406967, Test Loss: 2.6904895305633545, Test Accuracy: 0.10000000149011612\n",
      "Epoch 7, Loss: 2.6885435581207275, Accuracy: 0.08339285850524902, Test Loss: 2.687901735305786, Test Accuracy: 0.10428571701049805\n",
      "Epoch 8, Loss: 2.687371253967285, Accuracy: 0.07732142508029938, Test Loss: 2.6854941844940186, Test Accuracy: 0.09857142716646194\n",
      "Epoch 9, Loss: 2.684244155883789, Accuracy: 0.08696428686380386, Test Loss: 2.6829674243927, Test Accuracy: 0.09571428596973419\n",
      "Epoch 10, Loss: 2.6820623874664307, Accuracy: 0.08428571373224258, Test Loss: 2.6805248260498047, Test Accuracy: 0.09857142716646194\n",
      "Epoch 11, Loss: 2.67899751663208, Accuracy: 0.08785714209079742, Test Loss: 2.677959442138672, Test Accuracy: 0.10000000149011612\n",
      "Epoch 12, Loss: 2.6776018142700195, Accuracy: 0.08321428298950195, Test Loss: 2.675426483154297, Test Accuracy: 0.09571428596973419\n",
      "Epoch 13, Loss: 2.6756889820098877, Accuracy: 0.08589285612106323, Test Loss: 2.6728475093841553, Test Accuracy: 0.09714286029338837\n",
      "Epoch 14, Loss: 2.672842502593994, Accuracy: 0.08500000089406967, Test Loss: 2.6700944900512695, Test Accuracy: 0.09857142716646194\n",
      "Epoch 15, Loss: 2.6702988147735596, Accuracy: 0.09017857164144516, Test Loss: 2.6672441959381104, Test Accuracy: 0.09285714477300644\n",
      "Epoch 16, Loss: 2.668503522872925, Accuracy: 0.08339285850524902, Test Loss: 2.664433479309082, Test Accuracy: 0.1014285683631897\n",
      "Epoch 17, Loss: 2.664363145828247, Accuracy: 0.08910714089870453, Test Loss: 2.661231756210327, Test Accuracy: 0.10285714268684387\n",
      "Epoch 18, Loss: 2.6640195846557617, Accuracy: 0.09000000357627869, Test Loss: 2.6581497192382812, Test Accuracy: 0.10571428388357162\n",
      "Epoch 19, Loss: 2.6610934734344482, Accuracy: 0.08839285373687744, Test Loss: 2.654716730117798, Test Accuracy: 0.10857142508029938\n",
      "Epoch 20, Loss: 2.657768964767456, Accuracy: 0.09464285522699356, Test Loss: 2.6514761447906494, Test Accuracy: 0.1071428582072258\n",
      "Epoch 21, Loss: 2.654055595397949, Accuracy: 0.0905357152223587, Test Loss: 2.6476833820343018, Test Accuracy: 0.1071428582072258\n",
      "Epoch 22, Loss: 2.652329206466675, Accuracy: 0.09357143193483353, Test Loss: 2.643915891647339, Test Accuracy: 0.10571428388357162\n",
      "Epoch 23, Loss: 2.645843505859375, Accuracy: 0.09214285761117935, Test Loss: 2.6396539211273193, Test Accuracy: 0.10857142508029938\n",
      "Epoch 24, Loss: 2.6422581672668457, Accuracy: 0.09839285910129547, Test Loss: 2.635317087173462, Test Accuracy: 0.10571428388357162\n",
      "Epoch 25, Loss: 2.6408097743988037, Accuracy: 0.09392856806516647, Test Loss: 2.6316890716552734, Test Accuracy: 0.10999999940395355\n",
      "Epoch 26, Loss: 2.642162561416626, Accuracy: 0.0949999988079071, Test Loss: 2.628161668777466, Test Accuracy: 0.1014285683631897\n",
      "Epoch 27, Loss: 2.641415596008301, Accuracy: 0.09928571432828903, Test Loss: 2.62508225440979, Test Accuracy: 0.1071428582072258\n",
      "Epoch 28, Loss: 2.6344454288482666, Accuracy: 0.09714286029338837, Test Loss: 2.621201753616333, Test Accuracy: 0.10428571701049805\n",
      "Epoch 29, Loss: 2.628127098083496, Accuracy: 0.09446428716182709, Test Loss: 2.617310047149658, Test Accuracy: 0.10428571701049805\n",
      "Epoch 30, Loss: 2.6283912658691406, Accuracy: 0.09749999642372131, Test Loss: 2.614264488220215, Test Accuracy: 0.1014285683631897\n",
      "Epoch 31, Loss: 2.6294686794281006, Accuracy: 0.09357143193483353, Test Loss: 2.611741542816162, Test Accuracy: 0.10428571701049805\n",
      "Epoch 32, Loss: 2.6285219192504883, Accuracy: 0.09607142955064774, Test Loss: 2.6092488765716553, Test Accuracy: 0.10571428388357162\n",
      "Epoch 33, Loss: 2.6239614486694336, Accuracy: 0.1007142886519432, Test Loss: 2.6069586277008057, Test Accuracy: 0.1014285683631897\n",
      "Epoch 34, Loss: 2.625727891921997, Accuracy: 0.09910714626312256, Test Loss: 2.605079174041748, Test Accuracy: 0.10285714268684387\n",
      "Epoch 35, Loss: 2.6220269203186035, Accuracy: 0.09875000268220901, Test Loss: 2.603151321411133, Test Accuracy: 0.09857142716646194\n",
      "Epoch 36, Loss: 2.6201488971710205, Accuracy: 0.09767857193946838, Test Loss: 2.6020162105560303, Test Accuracy: 0.09714286029338837\n",
      "Epoch 37, Loss: 2.6194536685943604, Accuracy: 0.10017856955528259, Test Loss: 2.6004555225372314, Test Accuracy: 0.10857142508029938\n",
      "Epoch 38, Loss: 2.619767904281616, Accuracy: 0.09964285790920258, Test Loss: 2.599290132522583, Test Accuracy: 0.11428571492433548\n",
      "Epoch 39, Loss: 2.619051933288574, Accuracy: 0.10196428745985031, Test Loss: 2.598189115524292, Test Accuracy: 0.1128571406006813\n",
      "Epoch 40, Loss: 2.6175994873046875, Accuracy: 0.09982142597436905, Test Loss: 2.597252607345581, Test Accuracy: 0.11428571492433548\n",
      "Epoch 41, Loss: 2.617439031600952, Accuracy: 0.09964285790920258, Test Loss: 2.59653639793396, Test Accuracy: 0.1128571406006813\n",
      "Epoch 42, Loss: 2.6151013374328613, Accuracy: 0.10053571313619614, Test Loss: 2.5960566997528076, Test Accuracy: 0.11142857372760773\n",
      "Epoch 43, Loss: 2.6172983646392822, Accuracy: 0.09910714626312256, Test Loss: 2.5948994159698486, Test Accuracy: 0.1128571406006813\n",
      "Epoch 44, Loss: 2.615567207336426, Accuracy: 0.1014285683631897, Test Loss: 2.593980312347412, Test Accuracy: 0.11714285612106323\n",
      "Epoch 45, Loss: 2.613827705383301, Accuracy: 0.10214285552501678, Test Loss: 2.5940611362457275, Test Accuracy: 0.1128571406006813\n",
      "Epoch 46, Loss: 2.6116669178009033, Accuracy: 0.10428571701049805, Test Loss: 2.5924296379089355, Test Accuracy: 0.11428571492433548\n",
      "Epoch 47, Loss: 2.610187292098999, Accuracy: 0.09875000268220901, Test Loss: 2.5916106700897217, Test Accuracy: 0.1128571406006813\n",
      "Epoch 48, Loss: 2.611071825027466, Accuracy: 0.09982142597436905, Test Loss: 2.59100604057312, Test Accuracy: 0.1128571406006813\n",
      "Epoch 49, Loss: 2.6109464168548584, Accuracy: 0.10160714387893677, Test Loss: 2.590353012084961, Test Accuracy: 0.1128571406006813\n",
      "Epoch 50, Loss: 2.61138653755188, Accuracy: 0.10303571075201035, Test Loss: 2.590273141860962, Test Accuracy: 0.1128571406006813\n",
      "Epoch 51, Loss: 2.6096813678741455, Accuracy: 0.10214285552501678, Test Loss: 2.589449167251587, Test Accuracy: 0.11428571492433548\n",
      "Epoch 52, Loss: 2.609318733215332, Accuracy: 0.11017857491970062, Test Loss: 2.5888147354125977, Test Accuracy: 0.11142857372760773\n",
      "Epoch 53, Loss: 2.6051065921783447, Accuracy: 0.10482142865657806, Test Loss: 2.5881237983703613, Test Accuracy: 0.11571428924798965\n",
      "Epoch 54, Loss: 2.605614185333252, Accuracy: 0.10750000178813934, Test Loss: 2.5876786708831787, Test Accuracy: 0.11142857372760773\n",
      "Epoch 55, Loss: 2.6083924770355225, Accuracy: 0.09964285790920258, Test Loss: 2.58733868598938, Test Accuracy: 0.11428571492433548\n",
      "Epoch 56, Loss: 2.6026113033294678, Accuracy: 0.11428571492433548, Test Loss: 2.586554527282715, Test Accuracy: 0.11999999731779099\n",
      "Epoch 57, Loss: 2.6091535091400146, Accuracy: 0.1026785746216774, Test Loss: 2.5867714881896973, Test Accuracy: 0.11571428924798965\n",
      "Epoch 58, Loss: 2.6007163524627686, Accuracy: 0.10767856985330582, Test Loss: 2.586055040359497, Test Accuracy: 0.1128571406006813\n",
      "Epoch 59, Loss: 2.6062917709350586, Accuracy: 0.10857142508029938, Test Loss: 2.585423707962036, Test Accuracy: 0.11999999731779099\n",
      "Epoch 60, Loss: 2.6007299423217773, Accuracy: 0.1014285683631897, Test Loss: 2.5850226879119873, Test Accuracy: 0.11999999731779099\n",
      "Epoch 61, Loss: 2.602590560913086, Accuracy: 0.10374999791383743, Test Loss: 2.5843536853790283, Test Accuracy: 0.11714285612106323\n",
      "Epoch 62, Loss: 2.6010663509368896, Accuracy: 0.10660714656114578, Test Loss: 2.5840041637420654, Test Accuracy: 0.11999999731779099\n",
      "Epoch 63, Loss: 2.602309465408325, Accuracy: 0.10535714030265808, Test Loss: 2.583728551864624, Test Accuracy: 0.12142857164144516\n",
      "Epoch 64, Loss: 2.6015069484710693, Accuracy: 0.10660714656114578, Test Loss: 2.583103895187378, Test Accuracy: 0.12142857164144516\n",
      "Epoch 65, Loss: 2.6009035110473633, Accuracy: 0.1026785746216774, Test Loss: 2.582517385482788, Test Accuracy: 0.12428571283817291\n",
      "Epoch 66, Loss: 2.601480722427368, Accuracy: 0.10875000059604645, Test Loss: 2.5828304290771484, Test Accuracy: 0.12285714596509933\n",
      "Epoch 67, Loss: 2.5976200103759766, Accuracy: 0.11196428537368774, Test Loss: 2.5820696353912354, Test Accuracy: 0.12285714596509933\n",
      "Epoch 68, Loss: 2.598515748977661, Accuracy: 0.11821428686380386, Test Loss: 2.58198618888855, Test Accuracy: 0.11857143044471741\n",
      "Epoch 69, Loss: 2.6057660579681396, Accuracy: 0.10678571462631226, Test Loss: 2.5823001861572266, Test Accuracy: 0.11857143044471741\n",
      "Epoch 70, Loss: 2.6000051498413086, Accuracy: 0.10803571343421936, Test Loss: 2.5812463760375977, Test Accuracy: 0.12285714596509933\n",
      "Epoch 71, Loss: 2.6011953353881836, Accuracy: 0.10999999940395355, Test Loss: 2.580883026123047, Test Accuracy: 0.12142857164144516\n",
      "Epoch 72, Loss: 2.5968058109283447, Accuracy: 0.1116071417927742, Test Loss: 2.5802810192108154, Test Accuracy: 0.12285714596509933\n",
      "Epoch 73, Loss: 2.593939781188965, Accuracy: 0.10892856866121292, Test Loss: 2.5793464183807373, Test Accuracy: 0.12285714596509933\n",
      "Epoch 74, Loss: 2.6006813049316406, Accuracy: 0.10910714417695999, Test Loss: 2.5792152881622314, Test Accuracy: 0.12142857164144516\n",
      "Epoch 75, Loss: 2.5980224609375, Accuracy: 0.10982143133878708, Test Loss: 2.579009771347046, Test Accuracy: 0.12142857164144516\n",
      "Epoch 76, Loss: 2.5949270725250244, Accuracy: 0.11232142895460129, Test Loss: 2.5783278942108154, Test Accuracy: 0.12428571283817291\n",
      "Epoch 77, Loss: 2.595161199569702, Accuracy: 0.10785714536905289, Test Loss: 2.57800030708313, Test Accuracy: 0.12285714596509933\n",
      "Epoch 78, Loss: 2.5922091007232666, Accuracy: 0.11500000208616257, Test Loss: 2.577043294906616, Test Accuracy: 0.12285714596509933\n",
      "Epoch 79, Loss: 2.5941002368927, Accuracy: 0.11249999701976776, Test Loss: 2.5767250061035156, Test Accuracy: 0.12142857164144516\n",
      "Epoch 80, Loss: 2.5926766395568848, Accuracy: 0.11446428298950195, Test Loss: 2.5762624740600586, Test Accuracy: 0.12142857164144516\n",
      "Epoch 81, Loss: 2.5923755168914795, Accuracy: 0.11410713940858841, Test Loss: 2.576000928878784, Test Accuracy: 0.12428571283817291\n",
      "Epoch 82, Loss: 2.5932540893554688, Accuracy: 0.10571428388357162, Test Loss: 2.575495719909668, Test Accuracy: 0.12285714596509933\n",
      "Epoch 83, Loss: 2.5945074558258057, Accuracy: 0.1083928570151329, Test Loss: 2.5752055644989014, Test Accuracy: 0.11999999731779099\n",
      "Epoch 84, Loss: 2.5905957221984863, Accuracy: 0.10875000059604645, Test Loss: 2.574352741241455, Test Accuracy: 0.12142857164144516\n",
      "Epoch 85, Loss: 2.590956687927246, Accuracy: 0.11946428567171097, Test Loss: 2.5740091800689697, Test Accuracy: 0.11857143044471741\n",
      "Epoch 86, Loss: 2.5894811153411865, Accuracy: 0.10982143133878708, Test Loss: 2.5735671520233154, Test Accuracy: 0.12142857164144516\n",
      "Epoch 87, Loss: 2.5912253856658936, Accuracy: 0.11249999701976776, Test Loss: 2.5729458332061768, Test Accuracy: 0.12285714596509933\n",
      "Epoch 88, Loss: 2.589840888977051, Accuracy: 0.1148214265704155, Test Loss: 2.5722925662994385, Test Accuracy: 0.11999999731779099\n",
      "Epoch 89, Loss: 2.5888631343841553, Accuracy: 0.11053571105003357, Test Loss: 2.57199764251709, Test Accuracy: 0.12285714596509933\n",
      "Epoch 90, Loss: 2.586566686630249, Accuracy: 0.12339285761117935, Test Loss: 2.571186065673828, Test Accuracy: 0.12428571283817291\n",
      "Epoch 91, Loss: 2.5869081020355225, Accuracy: 0.11357142776250839, Test Loss: 2.5707356929779053, Test Accuracy: 0.1257142871618271\n",
      "Epoch 92, Loss: 2.5837960243225098, Accuracy: 0.11535714566707611, Test Loss: 2.569857120513916, Test Accuracy: 0.12428571283817291\n",
      "Epoch 93, Loss: 2.587031841278076, Accuracy: 0.1180357113480568, Test Loss: 2.569685220718384, Test Accuracy: 0.12714286148548126\n",
      "Epoch 94, Loss: 2.58365535736084, Accuracy: 0.11571428924798965, Test Loss: 2.5682876110076904, Test Accuracy: 0.12285714596509933\n",
      "Epoch 95, Loss: 2.582683801651001, Accuracy: 0.11214285343885422, Test Loss: 2.567704439163208, Test Accuracy: 0.12714286148548126\n",
      "Epoch 96, Loss: 2.5842111110687256, Accuracy: 0.11553571373224258, Test Loss: 2.566838502883911, Test Accuracy: 0.12857143580913544\n",
      "Epoch 97, Loss: 2.5833983421325684, Accuracy: 0.1173214316368103, Test Loss: 2.5662076473236084, Test Accuracy: 0.12857143580913544\n",
      "Epoch 98, Loss: 2.5813310146331787, Accuracy: 0.1103571429848671, Test Loss: 2.565174102783203, Test Accuracy: 0.1257142871618271\n",
      "Epoch 99, Loss: 2.582425832748413, Accuracy: 0.11964285373687744, Test Loss: 2.5645244121551514, Test Accuracy: 0.12714286148548126\n",
      "Epoch 100, Loss: 2.580204963684082, Accuracy: 0.11946428567171097, Test Loss: 2.5636892318725586, Test Accuracy: 0.12714286148548126\n",
      "Epoch 101, Loss: 2.577721118927002, Accuracy: 0.1217857152223587, Test Loss: 2.5620810985565186, Test Accuracy: 0.12857143580913544\n",
      "Epoch 102, Loss: 2.576849937438965, Accuracy: 0.11999999731779099, Test Loss: 2.5610010623931885, Test Accuracy: 0.13285714387893677\n",
      "Epoch 103, Loss: 2.5725154876708984, Accuracy: 0.12142857164144516, Test Loss: 2.5595543384552, Test Accuracy: 0.1314285695552826\n",
      "Epoch 104, Loss: 2.5714006423950195, Accuracy: 0.12017857283353806, Test Loss: 2.558229923248291, Test Accuracy: 0.13571429252624512\n",
      "Epoch 105, Loss: 2.5716309547424316, Accuracy: 0.12214285880327225, Test Loss: 2.557276487350464, Test Accuracy: 0.1314285695552826\n",
      "Epoch 106, Loss: 2.5680716037750244, Accuracy: 0.12321428209543228, Test Loss: 2.555528402328491, Test Accuracy: 0.13285714387893677\n",
      "Epoch 107, Loss: 2.5698318481445312, Accuracy: 0.12017857283353806, Test Loss: 2.5545098781585693, Test Accuracy: 0.13428571820259094\n",
      "Epoch 108, Loss: 2.564749002456665, Accuracy: 0.12767857313156128, Test Loss: 2.5520591735839844, Test Accuracy: 0.1371428519487381\n",
      "Epoch 109, Loss: 2.564826011657715, Accuracy: 0.13035714626312256, Test Loss: 2.5501978397369385, Test Accuracy: 0.13571429252624512\n",
      "Epoch 110, Loss: 2.564178705215454, Accuracy: 0.1274999976158142, Test Loss: 2.5486605167388916, Test Accuracy: 0.13857142627239227\n",
      "Epoch 111, Loss: 2.5582504272460938, Accuracy: 0.13410714268684387, Test Loss: 2.545541524887085, Test Accuracy: 0.14142857491970062\n",
      "Epoch 112, Loss: 2.558577060699463, Accuracy: 0.13303571939468384, Test Loss: 2.543445110321045, Test Accuracy: 0.14714285731315613\n",
      "Epoch 113, Loss: 2.55560302734375, Accuracy: 0.135892853140831, Test Loss: 2.541154623031616, Test Accuracy: 0.1428571492433548\n",
      "Epoch 114, Loss: 2.549351930618286, Accuracy: 0.13982142508029938, Test Loss: 2.5389060974121094, Test Accuracy: 0.14428570866584778\n",
      "Epoch 115, Loss: 2.548800468444824, Accuracy: 0.13410714268684387, Test Loss: 2.535210371017456, Test Accuracy: 0.1485714316368103\n",
      "Epoch 116, Loss: 2.5470237731933594, Accuracy: 0.13928571343421936, Test Loss: 2.532526731491089, Test Accuracy: 0.1485714316368103\n",
      "Epoch 117, Loss: 2.544968605041504, Accuracy: 0.1396428644657135, Test Loss: 2.5290145874023438, Test Accuracy: 0.1485714316368103\n",
      "Epoch 118, Loss: 2.5377719402313232, Accuracy: 0.14464285969734192, Test Loss: 2.5250396728515625, Test Accuracy: 0.15714286267757416\n",
      "Epoch 119, Loss: 2.5330889225006104, Accuracy: 0.14446428418159485, Test Loss: 2.5209248065948486, Test Accuracy: 0.15714286267757416\n",
      "Epoch 120, Loss: 2.5275659561157227, Accuracy: 0.14892856776714325, Test Loss: 2.5173957347869873, Test Accuracy: 0.15571428835391998\n",
      "Epoch 121, Loss: 2.5263121128082275, Accuracy: 0.14714285731315613, Test Loss: 2.511906385421753, Test Accuracy: 0.15857142210006714\n",
      "Epoch 122, Loss: 2.521259307861328, Accuracy: 0.1530357152223587, Test Loss: 2.507072687149048, Test Accuracy: 0.15714286267757416\n",
      "Epoch 123, Loss: 2.517616033554077, Accuracy: 0.1530357152223587, Test Loss: 2.5015716552734375, Test Accuracy: 0.15857142210006714\n",
      "Epoch 124, Loss: 2.5067298412323, Accuracy: 0.15267856419086456, Test Loss: 2.495054244995117, Test Accuracy: 0.1614285707473755\n",
      "Epoch 125, Loss: 2.505509376525879, Accuracy: 0.1574999988079071, Test Loss: 2.4917054176330566, Test Accuracy: 0.15571428835391998\n",
      "Epoch 126, Loss: 2.4990296363830566, Accuracy: 0.16249999403953552, Test Loss: 2.483203649520874, Test Accuracy: 0.1599999964237213\n",
      "Epoch 127, Loss: 2.489687442779541, Accuracy: 0.16464285552501678, Test Loss: 2.4748623371124268, Test Accuracy: 0.17000000178813934\n",
      "Epoch 128, Loss: 2.48520827293396, Accuracy: 0.1587499976158142, Test Loss: 2.467388391494751, Test Accuracy: 0.17714285850524902\n",
      "Epoch 129, Loss: 2.4773848056793213, Accuracy: 0.1658928543329239, Test Loss: 2.459777593612671, Test Accuracy: 0.17142857611179352\n",
      "Epoch 130, Loss: 2.468083381652832, Accuracy: 0.16928571462631226, Test Loss: 2.4506185054779053, Test Accuracy: 0.17714285850524902\n",
      "Epoch 131, Loss: 2.460576295852661, Accuracy: 0.17446428537368774, Test Loss: 2.4424197673797607, Test Accuracy: 0.18285714089870453\n",
      "Epoch 132, Loss: 2.4482274055480957, Accuracy: 0.1728571355342865, Test Loss: 2.4309298992156982, Test Accuracy: 0.1842857152223587\n",
      "Epoch 133, Loss: 2.432378053665161, Accuracy: 0.18035714328289032, Test Loss: 2.4197580814361572, Test Accuracy: 0.1899999976158142\n",
      "Epoch 134, Loss: 2.4291844367980957, Accuracy: 0.16928571462631226, Test Loss: 2.410621404647827, Test Accuracy: 0.19285714626312256\n",
      "Epoch 135, Loss: 2.4217138290405273, Accuracy: 0.17571428418159485, Test Loss: 2.396897077560425, Test Accuracy: 0.1899999976158142\n",
      "Epoch 136, Loss: 2.4073736667633057, Accuracy: 0.18000000715255737, Test Loss: 2.3888158798217773, Test Accuracy: 0.19571428000926971\n",
      "Epoch 137, Loss: 2.3946285247802734, Accuracy: 0.18357142806053162, Test Loss: 2.3708419799804688, Test Accuracy: 0.20571428537368774\n",
      "Epoch 138, Loss: 2.3843538761138916, Accuracy: 0.18000000715255737, Test Loss: 2.3595237731933594, Test Accuracy: 0.20571428537368774\n",
      "Epoch 139, Loss: 2.3707220554351807, Accuracy: 0.18196429312229156, Test Loss: 2.3465335369110107, Test Accuracy: 0.2014285773038864\n",
      "Epoch 140, Loss: 2.3578941822052, Accuracy: 0.18607142567634583, Test Loss: 2.3303239345550537, Test Accuracy: 0.20999999344348907\n",
      "Epoch 141, Loss: 2.3500585556030273, Accuracy: 0.18839286267757416, Test Loss: 2.320626974105835, Test Accuracy: 0.21571429073810577\n",
      "Epoch 142, Loss: 2.3349688053131104, Accuracy: 0.18839286267757416, Test Loss: 2.3193702697753906, Test Accuracy: 0.19428572058677673\n",
      "Epoch 143, Loss: 2.323211669921875, Accuracy: 0.19178570806980133, Test Loss: 2.2948896884918213, Test Accuracy: 0.20714285969734192\n",
      "Epoch 144, Loss: 2.3189268112182617, Accuracy: 0.18571428954601288, Test Loss: 2.280818462371826, Test Accuracy: 0.2085714340209961\n",
      "Epoch 145, Loss: 2.293712854385376, Accuracy: 0.1964285671710968, Test Loss: 2.2866742610931396, Test Accuracy: 0.19428572058677673\n",
      "Epoch 146, Loss: 2.288655996322632, Accuracy: 0.2016071379184723, Test Loss: 2.3126819133758545, Test Accuracy: 0.1728571355342865\n",
      "Epoch 147, Loss: 2.2792863845825195, Accuracy: 0.19803571701049805, Test Loss: 2.2396321296691895, Test Accuracy: 0.20999999344348907\n",
      "Epoch 148, Loss: 2.270721435546875, Accuracy: 0.19571428000926971, Test Loss: 2.2406466007232666, Test Accuracy: 0.2028571367263794\n",
      "Epoch 149, Loss: 2.2616806030273438, Accuracy: 0.20107142627239227, Test Loss: 2.2513067722320557, Test Accuracy: 0.18714286386966705\n",
      "Epoch 150, Loss: 2.2439124584198, Accuracy: 0.2001785784959793, Test Loss: 2.2016618251800537, Test Accuracy: 0.21142856776714325\n",
      "Epoch 151, Loss: 2.234212636947632, Accuracy: 0.20946428179740906, Test Loss: 2.413689374923706, Test Accuracy: 0.1599999964237213\n",
      "Epoch 152, Loss: 2.2248692512512207, Accuracy: 0.20821428298950195, Test Loss: 2.2518458366394043, Test Accuracy: 0.18285714089870453\n",
      "Epoch 153, Loss: 2.2104475498199463, Accuracy: 0.2117857187986374, Test Loss: 2.1662492752075195, Test Accuracy: 0.2257142812013626\n",
      "Epoch 154, Loss: 2.1976077556610107, Accuracy: 0.21053571999073029, Test Loss: 2.1537153720855713, Test Accuracy: 0.2199999988079071\n",
      "Epoch 155, Loss: 2.176547050476074, Accuracy: 0.21928571164608002, Test Loss: 2.141205310821533, Test Accuracy: 0.22142857313156128\n",
      "Epoch 156, Loss: 2.1831235885620117, Accuracy: 0.2207142859697342, Test Loss: 2.1286747455596924, Test Accuracy: 0.238571435213089\n",
      "Epoch 157, Loss: 2.164902925491333, Accuracy: 0.21732142567634583, Test Loss: 2.1527349948883057, Test Accuracy: 0.2085714340209961\n",
      "Epoch 158, Loss: 2.153761863708496, Accuracy: 0.22535714507102966, Test Loss: 2.2162797451019287, Test Accuracy: 0.18571428954601288\n",
      "Epoch 159, Loss: 2.13344407081604, Accuracy: 0.22714285552501678, Test Loss: 2.092158317565918, Test Accuracy: 0.24142856895923615\n",
      "Epoch 160, Loss: 2.1287717819213867, Accuracy: 0.22946429252624512, Test Loss: 2.0913093090057373, Test Accuracy: 0.24142856895923615\n",
      "Epoch 161, Loss: 2.114673614501953, Accuracy: 0.23624999821186066, Test Loss: 2.09362530708313, Test Accuracy: 0.23571428656578064\n",
      "Epoch 162, Loss: 2.1024255752563477, Accuracy: 0.23428571224212646, Test Loss: 2.061941146850586, Test Accuracy: 0.2542857229709625\n",
      "Epoch 163, Loss: 2.0823919773101807, Accuracy: 0.24982142448425293, Test Loss: 2.0682687759399414, Test Accuracy: 0.2442857176065445\n",
      "Epoch 164, Loss: 2.0905911922454834, Accuracy: 0.24250000715255737, Test Loss: 2.055325746536255, Test Accuracy: 0.23714286088943481\n",
      "Epoch 165, Loss: 2.069918632507324, Accuracy: 0.2398214340209961, Test Loss: 2.063873052597046, Test Accuracy: 0.23571428656578064\n",
      "Epoch 166, Loss: 2.071221351623535, Accuracy: 0.2435714304447174, Test Loss: 2.0298173427581787, Test Accuracy: 0.24571429193019867\n",
      "Epoch 167, Loss: 2.0407965183258057, Accuracy: 0.25785714387893677, Test Loss: 2.0094716548919678, Test Accuracy: 0.2742857038974762\n",
      "Epoch 168, Loss: 2.0323052406311035, Accuracy: 0.2526785731315613, Test Loss: 1.992529273033142, Test Accuracy: 0.2842857241630554\n",
      "Epoch 169, Loss: 2.020811080932617, Accuracy: 0.2582142949104309, Test Loss: 2.0089683532714844, Test Accuracy: 0.27571427822113037\n",
      "Epoch 170, Loss: 2.0264716148376465, Accuracy: 0.2601785659790039, Test Loss: 1.9633516073226929, Test Accuracy: 0.3100000023841858\n",
      "Epoch 171, Loss: 2.0135457515716553, Accuracy: 0.26750001311302185, Test Loss: 2.012911081314087, Test Accuracy: 0.27571427822113037\n",
      "Epoch 172, Loss: 1.9824126958847046, Accuracy: 0.27839285135269165, Test Loss: 1.9343668222427368, Test Accuracy: 0.3085714280605316\n",
      "Epoch 173, Loss: 1.9755953550338745, Accuracy: 0.2692857086658478, Test Loss: 2.037224054336548, Test Accuracy: 0.27142858505249023\n",
      "Epoch 174, Loss: 1.9692965745925903, Accuracy: 0.27571427822113037, Test Loss: 1.965314507484436, Test Accuracy: 0.2928571403026581\n",
      "Epoch 175, Loss: 1.9491969347000122, Accuracy: 0.28803572058677673, Test Loss: 1.894090175628662, Test Accuracy: 0.3271428644657135\n",
      "Epoch 176, Loss: 1.936496376991272, Accuracy: 0.2953571379184723, Test Loss: 2.0585100650787354, Test Accuracy: 0.2571428716182709\n",
      "Epoch 177, Loss: 1.9164246320724487, Accuracy: 0.30125001072883606, Test Loss: 1.8918043375015259, Test Accuracy: 0.33571428060531616\n",
      "Epoch 178, Loss: 1.9194560050964355, Accuracy: 0.29053571820259094, Test Loss: 1.9082489013671875, Test Accuracy: 0.31285715103149414\n",
      "Epoch 179, Loss: 1.901261568069458, Accuracy: 0.29678571224212646, Test Loss: 1.8734779357910156, Test Accuracy: 0.3328571319580078\n",
      "Epoch 180, Loss: 1.885522484779358, Accuracy: 0.3062500059604645, Test Loss: 1.829250693321228, Test Accuracy: 0.36000001430511475\n",
      "Epoch 181, Loss: 1.855833888053894, Accuracy: 0.3221428692340851, Test Loss: 1.820375919342041, Test Accuracy: 0.3514285683631897\n",
      "Epoch 182, Loss: 1.8488866090774536, Accuracy: 0.3241071403026581, Test Loss: 1.8231453895568848, Test Accuracy: 0.345714271068573\n",
      "Epoch 183, Loss: 1.8544166088104248, Accuracy: 0.3139285743236542, Test Loss: 1.806017279624939, Test Accuracy: 0.34857141971588135\n",
      "Epoch 184, Loss: 1.8193821907043457, Accuracy: 0.33696427941322327, Test Loss: 1.7821439504623413, Test Accuracy: 0.3814285695552826\n",
      "Epoch 185, Loss: 1.8111567497253418, Accuracy: 0.33821427822113037, Test Loss: 1.759757161140442, Test Accuracy: 0.38285714387893677\n",
      "Epoch 186, Loss: 1.7942057847976685, Accuracy: 0.35160714387893677, Test Loss: 1.7641040086746216, Test Accuracy: 0.37285715341567993\n",
      "Epoch 187, Loss: 1.7764484882354736, Accuracy: 0.35249999165534973, Test Loss: 1.7410451173782349, Test Accuracy: 0.37142857909202576\n",
      "Epoch 188, Loss: 1.7613908052444458, Accuracy: 0.354107141494751, Test Loss: 1.7147598266601562, Test Accuracy: 0.38857144117355347\n",
      "Epoch 189, Loss: 1.7724311351776123, Accuracy: 0.35160714387893677, Test Loss: 1.7647234201431274, Test Accuracy: 0.3557142913341522\n",
      "Epoch 190, Loss: 1.7440041303634644, Accuracy: 0.364642858505249, Test Loss: 1.698506236076355, Test Accuracy: 0.3871428668498993\n",
      "Epoch 191, Loss: 1.7145915031433105, Accuracy: 0.3755357265472412, Test Loss: 1.6837209463119507, Test Accuracy: 0.3857142925262451\n",
      "Epoch 192, Loss: 1.7044665813446045, Accuracy: 0.37607142329216003, Test Loss: 1.6779972314834595, Test Accuracy: 0.404285728931427\n",
      "Epoch 193, Loss: 1.6853535175323486, Accuracy: 0.3866071403026581, Test Loss: 1.7374582290649414, Test Accuracy: 0.3871428668498993\n",
      "Epoch 194, Loss: 1.663875699043274, Accuracy: 0.38999998569488525, Test Loss: 1.6445900201797485, Test Accuracy: 0.39571428298950195\n",
      "Epoch 195, Loss: 1.6429721117019653, Accuracy: 0.40410715341567993, Test Loss: 1.6370238065719604, Test Accuracy: 0.40142858028411865\n",
      "Epoch 196, Loss: 1.6314395666122437, Accuracy: 0.4114285707473755, Test Loss: 1.6034302711486816, Test Accuracy: 0.4214285612106323\n",
      "Epoch 197, Loss: 1.6223464012145996, Accuracy: 0.40589284896850586, Test Loss: 1.5969918966293335, Test Accuracy: 0.44285714626312256\n",
      "Epoch 198, Loss: 1.595855712890625, Accuracy: 0.416607141494751, Test Loss: 1.583178997039795, Test Accuracy: 0.4471428692340851\n",
      "Epoch 199, Loss: 1.5743286609649658, Accuracy: 0.43089285492897034, Test Loss: 1.5549062490463257, Test Accuracy: 0.4471428692340851\n",
      "Epoch 200, Loss: 1.5510833263397217, Accuracy: 0.4342857003211975, Test Loss: 1.540121078491211, Test Accuracy: 0.4628571569919586\n",
      "Epoch 201, Loss: 1.5353522300720215, Accuracy: 0.4399999976158142, Test Loss: 1.5252457857131958, Test Accuracy: 0.4699999988079071\n",
      "Epoch 202, Loss: 1.5113612413406372, Accuracy: 0.45750001072883606, Test Loss: 1.5077075958251953, Test Accuracy: 0.477142870426178\n",
      "Epoch 203, Loss: 1.5001899003982544, Accuracy: 0.458392858505249, Test Loss: 1.49177885055542, Test Accuracy: 0.4814285635948181\n",
      "Epoch 204, Loss: 1.4762569665908813, Accuracy: 0.4680357277393341, Test Loss: 1.4762811660766602, Test Accuracy: 0.488571435213089\n",
      "Epoch 205, Loss: 1.4683685302734375, Accuracy: 0.4717857241630554, Test Loss: 1.4779472351074219, Test Accuracy: 0.488571435213089\n",
      "Epoch 206, Loss: 1.4496010541915894, Accuracy: 0.47928571701049805, Test Loss: 1.4543346166610718, Test Accuracy: 0.4814285635948181\n",
      "Epoch 207, Loss: 1.4185007810592651, Accuracy: 0.4853571355342865, Test Loss: 1.4521430730819702, Test Accuracy: 0.5014285445213318\n",
      "Epoch 208, Loss: 1.4041783809661865, Accuracy: 0.49321427941322327, Test Loss: 1.4253979921340942, Test Accuracy: 0.4928571283817291\n",
      "Epoch 209, Loss: 1.4042872190475464, Accuracy: 0.49125000834465027, Test Loss: 1.4028778076171875, Test Accuracy: 0.5171428322792053\n",
      "Epoch 210, Loss: 1.3677217960357666, Accuracy: 0.503928542137146, Test Loss: 1.3917726278305054, Test Accuracy: 0.522857129573822\n",
      "Epoch 211, Loss: 1.360223650932312, Accuracy: 0.5130357146263123, Test Loss: 1.3793426752090454, Test Accuracy: 0.5214285850524902\n",
      "Epoch 212, Loss: 1.3346279859542847, Accuracy: 0.5149999856948853, Test Loss: 1.3603358268737793, Test Accuracy: 0.5271428823471069\n",
      "Epoch 213, Loss: 1.3317656517028809, Accuracy: 0.5157142877578735, Test Loss: 1.3490360975265503, Test Accuracy: 0.5271428823471069\n",
      "Epoch 214, Loss: 1.2983206510543823, Accuracy: 0.533214271068573, Test Loss: 1.3349876403808594, Test Accuracy: 0.5357142686843872\n",
      "Epoch 215, Loss: 1.2883658409118652, Accuracy: 0.5323214530944824, Test Loss: 1.3190215826034546, Test Accuracy: 0.5400000214576721\n",
      "Epoch 216, Loss: 1.2594884634017944, Accuracy: 0.5503571629524231, Test Loss: 1.3012248277664185, Test Accuracy: 0.5442857146263123\n",
      "Epoch 217, Loss: 1.2525075674057007, Accuracy: 0.5491071343421936, Test Loss: 1.2920149564743042, Test Accuracy: 0.5471428632736206\n",
      "Epoch 218, Loss: 1.236588954925537, Accuracy: 0.5514285564422607, Test Loss: 1.2785741090774536, Test Accuracy: 0.5542857050895691\n",
      "Epoch 219, Loss: 1.2109390497207642, Accuracy: 0.5653571486473083, Test Loss: 1.3117201328277588, Test Accuracy: 0.5571428537368774\n",
      "Epoch 220, Loss: 1.2011677026748657, Accuracy: 0.5678571462631226, Test Loss: 1.3049321174621582, Test Accuracy: 0.5257142782211304\n",
      "Epoch 221, Loss: 1.1900233030319214, Accuracy: 0.5694642663002014, Test Loss: 1.2383556365966797, Test Accuracy: 0.5699999928474426\n",
      "Epoch 222, Loss: 1.191033959388733, Accuracy: 0.5741071701049805, Test Loss: 1.2547097206115723, Test Accuracy: 0.5771428346633911\n",
      "Epoch 223, Loss: 1.1662482023239136, Accuracy: 0.5692856907844543, Test Loss: 1.208825707435608, Test Accuracy: 0.581428587436676\n",
      "Epoch 224, Loss: 1.142418384552002, Accuracy: 0.5948214530944824, Test Loss: 1.1928964853286743, Test Accuracy: 0.5928571224212646\n",
      "Epoch 225, Loss: 1.1262145042419434, Accuracy: 0.595714271068573, Test Loss: 1.1918014287948608, Test Accuracy: 0.5899999737739563\n",
      "Epoch 226, Loss: 1.1223605871200562, Accuracy: 0.6032142639160156, Test Loss: 1.1732107400894165, Test Accuracy: 0.5971428751945496\n",
      "Epoch 227, Loss: 1.0995385646820068, Accuracy: 0.6092857122421265, Test Loss: 1.1766724586486816, Test Accuracy: 0.5885714292526245\n",
      "Epoch 228, Loss: 1.0806527137756348, Accuracy: 0.6212499737739563, Test Loss: 1.1491957902908325, Test Accuracy: 0.6028571724891663\n",
      "Epoch 229, Loss: 1.0683375597000122, Accuracy: 0.6151785850524902, Test Loss: 1.149678111076355, Test Accuracy: 0.6057142615318298\n",
      "Epoch 230, Loss: 1.0562735795974731, Accuracy: 0.6258928775787354, Test Loss: 1.158542513847351, Test Accuracy: 0.6057142615318298\n",
      "Epoch 231, Loss: 1.0376286506652832, Accuracy: 0.6398214101791382, Test Loss: 1.1154412031173706, Test Accuracy: 0.618571400642395\n",
      "Epoch 232, Loss: 1.027984857559204, Accuracy: 0.6419642567634583, Test Loss: 1.1135364770889282, Test Accuracy: 0.6242856979370117\n",
      "Epoch 233, Loss: 1.0099482536315918, Accuracy: 0.647678554058075, Test Loss: 1.1004222631454468, Test Accuracy: 0.6385714411735535\n",
      "Epoch 234, Loss: 0.9992931485176086, Accuracy: 0.6487500071525574, Test Loss: 1.0841295719146729, Test Accuracy: 0.6257143020629883\n",
      "Epoch 235, Loss: 0.9828537106513977, Accuracy: 0.6466071605682373, Test Loss: 1.0846055746078491, Test Accuracy: 0.6357142925262451\n",
      "Epoch 236, Loss: 0.9663957953453064, Accuracy: 0.6608928442001343, Test Loss: 1.0976154804229736, Test Accuracy: 0.6214285492897034\n",
      "Epoch 237, Loss: 0.972279965877533, Accuracy: 0.660178542137146, Test Loss: 1.080248236656189, Test Accuracy: 0.6242856979370117\n",
      "Epoch 238, Loss: 0.9524497389793396, Accuracy: 0.6673214435577393, Test Loss: 1.0496931076049805, Test Accuracy: 0.6442857384681702\n",
      "Epoch 239, Loss: 0.9425632357597351, Accuracy: 0.6760714054107666, Test Loss: 1.074187994003296, Test Accuracy: 0.6442857384681702\n",
      "Epoch 240, Loss: 0.9184644222259521, Accuracy: 0.6819642782211304, Test Loss: 1.0652568340301514, Test Accuracy: 0.6528571248054504\n",
      "Epoch 241, Loss: 0.917141318321228, Accuracy: 0.6735714077949524, Test Loss: 1.0693541765213013, Test Accuracy: 0.6257143020629883\n",
      "Epoch 242, Loss: 0.8970932364463806, Accuracy: 0.6898214221000671, Test Loss: 1.0104702711105347, Test Accuracy: 0.6528571248054504\n",
      "Epoch 243, Loss: 0.873836100101471, Accuracy: 0.7058928608894348, Test Loss: 1.0235434770584106, Test Accuracy: 0.6642857193946838\n",
      "Epoch 244, Loss: 1.0995453596115112, Accuracy: 0.6775000095367432, Test Loss: 3.0791733264923096, Test Accuracy: 0.4228571355342865\n",
      "Epoch 245, Loss: 0.9892423152923584, Accuracy: 0.6783928275108337, Test Loss: 0.9987413287162781, Test Accuracy: 0.6785714030265808\n",
      "Epoch 246, Loss: 0.8650325536727905, Accuracy: 0.7099999785423279, Test Loss: 0.9907359480857849, Test Accuracy: 0.6757143139839172\n",
      "Epoch 247, Loss: 0.8468084931373596, Accuracy: 0.7223214507102966, Test Loss: 1.0337233543395996, Test Accuracy: 0.6757143139839172\n",
      "Epoch 248, Loss: 0.8381299376487732, Accuracy: 0.7162500023841858, Test Loss: 0.9657687544822693, Test Accuracy: 0.677142858505249\n",
      "Epoch 249, Loss: 0.8204946517944336, Accuracy: 0.7241071462631226, Test Loss: 0.9646947979927063, Test Accuracy: 0.6785714030265808\n",
      "Epoch 250, Loss: 0.8098215460777283, Accuracy: 0.7303571701049805, Test Loss: 0.9530437588691711, Test Accuracy: 0.6785714030265808\n"
     ]
    }
   ],
   "source": [
    "#Create Word CNN model with dropout now\n",
    "#Build the model\n",
    "model = WordCNN(vocab_size_word)\n",
    "\n",
    "entropy_cost_CNN_word_dropout = []\n",
    "test_acc_CNN_word_dropout = []\n",
    "wordCNN_dropout_timer = 0\n",
    "\n",
    "for epoch in range(no_epochs):\n",
    "\n",
    "    # Reset the metrics at the start of the next epoch\n",
    "    train_loss.reset_states()\n",
    "    train_accuracy.reset_states()\n",
    "    test_loss.reset_states()\n",
    "    test_accuracy.reset_states()\n",
    "\n",
    "    epoch_start_time = time.perf_counter()\n",
    "    for images, labels in train_ds_word:\n",
    "        train_step(model, images, labels, drop_rate=0.5)\n",
    "\n",
    "    for images, labels in test_ds_CNN_word:\n",
    "        test_step(model, images, labels, drop_rate=0)\n",
    "\n",
    "    epoch_end_time = time.perf_counter()\n",
    "    wordCNN_dropout_timer = wordCNN_dropout_timer + epoch_end_time - epoch_start_time\n",
    "    test_acc_CNN_word_dropout.append(test_accuracy.result())\n",
    "    entropy_cost_CNN_word_dropout.append(train_loss.result())\n",
    "    template = 'Epoch {}, Loss: {}, Accuracy: {}, Test Loss: {}, Test Accuracy: {}'\n",
    "    print (template.format(epoch+1,\n",
    "                          train_loss.result(),\n",
    "                          train_accuracy.result(),\n",
    "                          test_loss.result(),\n",
    "                          test_accuracy.result()))\n"
   ]
  },
  {
   "cell_type": "code",
   "execution_count": null,
   "metadata": {
    "colab": {
     "base_uri": "https://localhost:8080/"
    },
    "id": "O92d-JQ-rlxG",
    "outputId": "4426f933-5b55-4ec0-92c1-b2546f622b12"
   },
   "outputs": [
    {
     "name": "stdout",
     "output_type": "stream",
     "text": [
      "263.8553403019987\n"
     ]
    }
   ],
   "source": [
    "print(wordCNN_dropout_timer)"
   ]
  },
  {
   "cell_type": "code",
   "execution_count": null,
   "metadata": {
    "colab": {
     "base_uri": "https://localhost:8080/",
     "height": 313
    },
    "id": "vquHvKN1jDMm",
    "outputId": "f3badc43-df61-4d70-ec0a-75149af8de26"
   },
   "outputs": [
    {
     "name": "stderr",
     "output_type": "stream",
     "text": [
      "No handles with labels found to put in legend.\n"
     ]
    },
    {
     "data": {
      "text/plain": [
       "<matplotlib.legend.Legend at 0x7efd37c7d320>"
      ]
     },
     "execution_count": 30,
     "metadata": {
      "tags": []
     },
     "output_type": "execute_result"
    },
    {
     "data": {
      "image/png": "[encoded data removed]",
      "text/plain": [
       "<Figure size 432x288 with 1 Axes>"
      ]
     },
     "metadata": {
      "needs_background": "light",
      "tags": []
     },
     "output_type": "display_data"
    }
   ],
   "source": [
    "# Plot training entropy cost for Word CNN with dropout\n",
    "pylab.figure()\n",
    "pylab.plot(np.arange(no_epochs), entropy_cost_CNN_word_dropout)\n",
    "pylab.xlabel('Epochs')\n",
    "pylab.ylabel('Train Entropy Cost')\n",
    "pylab.legend(loc='upper right')"
   ]
  },
  {
   "cell_type": "code",
   "execution_count": null,
   "metadata": {
    "colab": {
     "base_uri": "https://localhost:8080/",
     "height": 314
    },
    "id": "40YRVEpNjEF-",
    "outputId": "b8a90be6-dea7-4c7b-f2dd-d00698660e11"
   },
   "outputs": [
    {
     "name": "stderr",
     "output_type": "stream",
     "text": [
      "No handles with labels found to put in legend.\n"
     ]
    },
    {
     "data": {
      "text/plain": [
       "<matplotlib.legend.Legend at 0x7efd37c6bcc0>"
      ]
     },
     "execution_count": 31,
     "metadata": {
      "tags": []
     },
     "output_type": "execute_result"
    },
    {
     "data": {
      "image/png": "[encoded data removed]",
      "text/plain": [
       "<Figure size 432x288 with 1 Axes>"
      ]
     },
     "metadata": {
      "needs_background": "light",
      "tags": []
     },
     "output_type": "display_data"
    }
   ],
   "source": [
    "# Plot test accuracy for Word CNN with dropout\n",
    "pylab.figure()\n",
    "pylab.plot(np.arange(no_epochs), test_acc_CNN_word_dropout)\n",
    "pylab.xlabel('Epochs')\n",
    "pylab.ylabel('Test Accuracy')\n",
    "pylab.legend(loc='upper right')"
   ]
  },
  {
   "cell_type": "code",
   "execution_count": null,
   "metadata": {
    "id": "Tc6F6mEKi9U6"
   },
   "outputs": [],
   "source": [
    "#Create Char RNN model with dropout now\n",
    "test_acc_RNN_char_dropout = []\n",
    "train_loss_RNN_char_dropout = []\n",
    "charRNN_timer_dropout = 0\n",
    "\n",
    "model = CharRNN(256, HIDDEN_SIZE)\n",
    "\n",
    "for epoch in range(no_epochs):\n",
    "    # Reset the metrics at the start of the next epoch\n",
    "    train_loss.reset_states()\n",
    "    train_accuracy.reset_states()\n",
    "    test_loss.reset_states()\n",
    "    test_accuracy.reset_states()\n",
    "\n",
    "    epoch_start_time = time.perf_counter()\n",
    "    \n",
    "    for images, labels in train_ds:\n",
    "        train_step(model, images, labels, drop_rate=0.5)\n",
    "\n",
    "    for images, labels in test_ds:\n",
    "        test_step(model, images, labels, drop_rate=0)\n",
    "\n",
    "    epoch_end_time = time.perf_counter()\n",
    "    charRNN_timer_dropout = charRNN_timer_dropout + epoch_end_time - epoch_start_time\n",
    "    test_acc_RNN_char_dropout.append(test_accuracy.result())\n",
    "    train_loss_RNN_char_dropout.append(train_loss.result())\n",
    "\n",
    "    template = 'Epoch {}, Loss: {}, Accuracy: {}, Test Loss: {}, Test Accuracy: {}'\n",
    "    print (template.format(epoch+1,\n",
    "                          train_loss.result(),\n",
    "                          train_accuracy.result(),\n",
    "                          test_loss.result(),\n",
    "                          test_accuracy.result()))"
   ]
  },
  {
   "cell_type": "code",
   "execution_count": null,
   "metadata": {
    "id": "mNUO6TyYi91v"
   },
   "outputs": [],
   "source": [
    "print(charRNN_timer_dropout)"
   ]
  },
  {
   "cell_type": "code",
   "execution_count": null,
   "metadata": {
    "id": "qeDOttFCi-Hv"
   },
   "outputs": [],
   "source": [
    "# Plot training entropy cost for Char RNN with dropout\n",
    "pylab.figure()\n",
    "pylab.plot(np.arange(no_epochs), train_loss_RNN_char_dropout)\n",
    "pylab.xlabel('Epochs')\n",
    "pylab.ylabel('Train Entropy Cost')\n",
    "pylab.legend(loc='upper right')"
   ]
  },
  {
   "cell_type": "code",
   "execution_count": null,
   "metadata": {
    "id": "kR8uxpU5i-i3"
   },
   "outputs": [],
   "source": [
    "# Plot test accuracy for Char RNN with dropout\n",
    "pylab.figure()\n",
    "pylab.plot(np.arange(no_epochs), test_acc_RNN_char_dropout)\n",
    "pylab.xlabel('Epochs')\n",
    "pylab.ylabel('Test Accuracy')\n",
    "pylab.legend(loc='upper right')"
   ]
  },
  {
   "cell_type": "code",
   "execution_count": null,
   "metadata": {
    "id": "AtJXTAjEi-64"
   },
   "outputs": [],
   "source": [
    "#Create Word RNN model with dropout now\n",
    "test_acc_RNN_word_dropout = []\n",
    "train_loss_RNN_word_dropout = []\n",
    "wordRNN_timer_dropout = 0\n",
    "\n",
    "model = WordRNN(vocab_size_word, HIDDEN_SIZE)\n",
    "\n",
    "for epoch in range(no_epochs):\n",
    "    # Reset the metrics at the start of the next epoch\n",
    "    train_loss.reset_states()\n",
    "    train_accuracy.reset_states()\n",
    "    test_loss.reset_states()\n",
    "    test_accuracy.reset_states()\n",
    "\n",
    "    epoch_start_time = time.perf_counter()\n",
    "    \n",
    "    for images, labels in train_ds_word:\n",
    "        train_step(model, images, labels, drop_rate=0.5)\n",
    "\n",
    "    for images, labels in test_ds_word:\n",
    "        test_step(model, images, labels, drop_rate=0)\n",
    "\n",
    "    epoch_end_time = time.perf_counter()\n",
    "    wordRNN_timer_dropout = wordRNN_timer_dropout + epoch_end_time - epoch_start_time\n",
    "    test_acc_RNN_word_dropout.append(test_accuracy.result())\n",
    "    train_loss_RNN_word_dropout.append(train_loss.result())\n",
    "\n",
    "    template = 'Epoch {}, Loss: {}, Accuracy: {}, Test Loss: {}, Test Accuracy: {}'\n",
    "    print (template.format(epoch+1,\n",
    "                          train_loss.result(),\n",
    "                          train_accuracy.result(),\n",
    "                          test_loss.result(),\n",
    "                          test_accuracy.result()))"
   ]
  },
  {
   "cell_type": "code",
   "execution_count": null,
   "metadata": {
    "id": "zxCR-YAMkZgq"
   },
   "outputs": [],
   "source": [
    "print(wordRNN_timer_dropout)"
   ]
  },
  {
   "cell_type": "code",
   "execution_count": null,
   "metadata": {
    "id": "nIU6ovTGkhZA"
   },
   "outputs": [],
   "source": [
    "# Plot training entropy cost for Word RNN with dropout\n",
    "pylab.figure()\n",
    "pylab.plot(np.arange(no_epochs), train_loss_RNN_word_dropout)\n",
    "pylab.xlabel('Epochs')\n",
    "pylab.ylabel('Train Entropy Cost')\n",
    "pylab.legend(loc='upper right')"
   ]
  },
  {
   "cell_type": "code",
   "execution_count": null,
   "metadata": {
    "id": "3_g7ahpzkmvg"
   },
   "outputs": [],
   "source": [
    "# Plot test accuracy for Word RNN with dropout\n",
    "pylab.figure()\n",
    "pylab.plot(np.arange(no_epochs), test_acc_RNN_word_dropout)\n",
    "pylab.xlabel('Epochs')\n",
    "pylab.ylabel('Test Accuracy')\n",
    "pylab.legend(loc='upper right')"
   ]
  },
  {
   "cell_type": "markdown",
   "metadata": {
    "id": "fjPH8k1pkoqO"
   },
   "source": [
    "**Part B Question 6(a)**"
   ]
  },
  {
   "cell_type": "code",
   "execution_count": null,
   "metadata": {
    "id": "_RbwArfIla-w"
   },
   "outputs": [],
   "source": [
    "# Redefine CharRNN model to be better able to manipulate the layers according to given input\n",
    "tf.keras.backend.set_floatx('float32')\n",
    "class CharRNN_Mod(Model):\n",
    "\n",
    "    def __init__(self, vocab_size=256, hidden_dim=10, layer_type='gru', num_of_rnn=1):\n",
    "        super(CharRNN, self).__init__()\n",
    "        self.vocab_size = vocab_size\n",
    "        self.hidden_dim = hidden_dim\n",
    "        self.num_of_rnn = num_of_rnn\n",
    "        \n",
    "        # Weight variables and RNN cell\n",
    "        if layer_type == 'rnn':\n",
    "          layer_fn = layers.SimpleRNNCell\n",
    "        elif layer_type == 'gru':\n",
    "          layer_fn = layers.GRUCell\n",
    "        elif layer_type == 'lstm':\n",
    "          layer_fn = layers.LSTMCell\n",
    "\n",
    "        layer_stack = []\n",
    "        for i in range(self.num_of_rnn):\n",
    "          layer_stack.append(layer_fn(self.hidden_dim))\n",
    "        layer_stack = layers.StackedRNNCells(layer_stack)\n",
    "\n",
    "        self.rnn = layers.RNN(tf.keras.layers.GRUCell(self.hidden_dim), unroll=True)\n",
    "        self.dense = layers.Dense(MAX_LABEL, activation=None)\n",
    "\n",
    "    def call(self, x, drop_rate):\n",
    "        # forward logic\n",
    "        categorical_labels = to_categorical(x, self.vocab_size)\n",
    "        encoding = self.rnn(categorical_labels)\n",
    "        encoding = tf.nn.dropout(encoding, drop_rate)\n",
    "        logits = self.dense(encoding)\n",
    "    \n",
    "        return logits"
   ]
  },
  {
   "cell_type": "code",
   "execution_count": null,
   "metadata": {
    "id": "KmXcRvrskwoH"
   },
   "outputs": [],
   "source": [
    "# Redefine WordRNN model to be better able to manipulate the layers according to given input\n",
    "tf.keras.backend.set_floatx('float32')\n",
    "class WordRNN_Mod(Model):\n",
    "\n",
    "    def __init__(self, vocab_size, hidden_dim=10, layer_type='gru', num_of_rnn=1):\n",
    "        super(WordRNN, self).__init__()\n",
    "        self.hidden_dim = hidden_dim\n",
    "        self.vocab_size = vocab_size\n",
    "        self.embedding = layers.Embedding(vocab_size, EMBEDDING_SIZE, input_length=MAX_DOCUMENT_LENGTH)\n",
    "        #The number of RNN layers to be used\n",
    "        self.num_of_rnn = num_of_rnn\n",
    "        \n",
    "        # Weight variables and RNN cell\n",
    "        if layer_type == 'rnn':\n",
    "          layer_fn = layers.SimpleRNNCell\n",
    "        elif layer_type == 'gru':\n",
    "          layer_fn = layers.GRUCell\n",
    "        elif layer_type == 'lstm':\n",
    "          layer_fn = layers.LSTMCell\n",
    "\n",
    "        layer_stack = []\n",
    "        for i in range(self.num_of_rnn):\n",
    "          layer_stack.append(layer_fn(self.hidden_dim))\n",
    "        layer_stack = layers.StackedRNNCells(layer_stack)\n",
    "\n",
    "        self.rnn = layers.RNN(layer_stack, unroll=True)\n",
    "        self.dense = layers.Dense(MAX_LABEL, activation=None)\n",
    "\n",
    "    def call(self, x, drop_rate):\n",
    "        # forward logic\n",
    "        embedding = self.embedding(x)\n",
    "        encoding = self.rnn(embedding)\n",
    "        encoding = tf.nn.dropout(encoding, drop_rate)\n",
    "        logits = self.dense(encoding)\n",
    "    \n",
    "        return logits\n"
   ]
  },
  {
   "cell_type": "code",
   "execution_count": null,
   "metadata": {
    "id": "AJa6bjL-n6Nl"
   },
   "outputs": [],
   "source": [
    "#Build the charRNN model with vanilla RNN layer first\n",
    "test_acc_RNN_char_rnn = []\n",
    "train_loss_RNN_char_rnn = []\n",
    "charRNN_timer_rnn = 0\n",
    "\n",
    "model = CharRNN_Mod(HIDDEN_SIZE, 'rnn')\n",
    "\n",
    "for epoch in range(no_epochs):\n",
    "    # Reset the metrics at the start of the next epoch\n",
    "    train_loss.reset_states()\n",
    "    train_accuracy.reset_states()\n",
    "    test_loss.reset_states()\n",
    "    test_accuracy.reset_states()\n",
    "\n",
    "    epoch_start_time = time.perf_counter()\n",
    "    \n",
    "    for images, labels in train_ds:\n",
    "        train_step(model, images, labels, drop_rate=0)\n",
    "\n",
    "    for images, labels in test_ds:\n",
    "        test_step(model, images, labels, drop_rate=0)\n",
    "\n",
    "    epoch_end_time = time.perf_counter()\n",
    "    charRNN_timer_rnn = charRNN_timer_rnn + epoch_end_time - epoch_start_time\n",
    "    test_acc_RNN_char_rnn.append(test_accuracy.result())\n",
    "    train_loss_RNN_char_rnn.append(train_loss.result())\n",
    "\n",
    "    template = 'Epoch {}, Loss: {}, Accuracy: {}, Test Loss: {}, Test Accuracy: {}'\n",
    "    print (template.format(epoch+1,\n",
    "                          train_loss.result(),\n",
    "                          train_accuracy.result(),\n",
    "                          test_loss.result(),\n",
    "                          test_accuracy.result()))"
   ]
  },
  {
   "cell_type": "code",
   "execution_count": null,
   "metadata": {
    "id": "j13fv49ZpqKo"
   },
   "outputs": [],
   "source": [
    "# Plot training entropy cost\n",
    "pylab.figure()\n",
    "pylab.plot(np.arange(no_epochs), train_loss_RNN_char_rnn)\n",
    "pylab.xlabel('Epochs')\n",
    "pylab.ylabel('Train Entropy Cost')\n",
    "pylab.legend(loc='upper right')"
   ]
  },
  {
   "cell_type": "code",
   "execution_count": null,
   "metadata": {
    "id": "q2zLGccypqm9"
   },
   "outputs": [],
   "source": [
    "# Plot test accuracy\n",
    "pylab.figure()\n",
    "pylab.plot(np.arange(no_epochs), test_acc_RNN_char_rnn)\n",
    "pylab.xlabel('Epochs')\n",
    "pylab.ylabel('Test Accuracy')\n",
    "pylab.legend(loc='upper right')"
   ]
  },
  {
   "cell_type": "code",
   "execution_count": null,
   "metadata": {
    "id": "jKzCsy33pmny"
   },
   "outputs": [],
   "source": [
    "#Build the wordRNN model with vanilla RNN layer\n",
    "test_acc_RNN_word_rnn = []\n",
    "train_loss_RNN_word_rnn = []\n",
    "wordRNN_timer_rnn = 0\n",
    "\n",
    "model = WordRNN_Mod(vocab_size_word, HIDDEN_SIZE,'rnn', 1)\n",
    "\n",
    "for epoch in range(no_epochs):\n",
    "    # Reset the metrics at the start of the next epoch\n",
    "    train_loss.reset_states()\n",
    "    train_accuracy.reset_states()\n",
    "    test_loss.reset_states()\n",
    "    test_accuracy.reset_states()\n",
    "\n",
    "    epoch_start_time = time.perf_counter()\n",
    "    \n",
    "    for images, labels in train_ds_word:\n",
    "        train_step(model, images, labels, drop_rate=0)\n",
    "\n",
    "    for images, labels in test_ds_word:\n",
    "        test_step(model, images, labels, drop_rate=0)\n",
    "\n",
    "    epoch_end_time = time.perf_counter()\n",
    "    wordRNN_timer_rnn = wordRNN_timer_rnn + epoch_end_time - epoch_start_time\n",
    "    test_acc_RNN_word_rnn.append(test_accuracy.result())\n",
    "    train_loss_RNN_word_rnn.append(train_loss.result())\n",
    "\n",
    "    template = 'Epoch {}, Loss: {}, Accuracy: {}, Test Loss: {}, Test Accuracy: {}'\n",
    "    print (template.format(epoch+1,\n",
    "                          train_loss.result(),\n",
    "                          train_accuracy.result(),\n",
    "                          test_loss.result(),\n",
    "                          test_accuracy.result()))\n"
   ]
  },
  {
   "cell_type": "code",
   "execution_count": null,
   "metadata": {
    "id": "PIA5dTzcsjW8"
   },
   "outputs": [],
   "source": [
    "# Plot training entropy cost\n",
    "pylab.figure()\n",
    "pylab.plot(np.arange(no_epochs), train_loss_RNN_word_rnn)\n",
    "pylab.xlabel('Epochs')\n",
    "pylab.ylabel('Train Entropy Cost')\n",
    "pylab.legend(loc='upper right')"
   ]
  },
  {
   "cell_type": "code",
   "execution_count": null,
   "metadata": {
    "id": "GedD0zzBsjnF"
   },
   "outputs": [],
   "source": [
    "# Plot test accuracy\n",
    "pylab.figure()\n",
    "pylab.plot(np.arange(no_epochs), test_acc_RNN_word_rnn)\n",
    "pylab.xlabel('Epochs')\n",
    "pylab.ylabel('Test Accuracy')\n",
    "pylab.legend(loc='upper right')"
   ]
  },
  {
   "cell_type": "code",
   "execution_count": null,
   "metadata": {
    "id": "e306roqxsq9C"
   },
   "outputs": [],
   "source": [
    "#Build the charRNN model with LSTM layer\n",
    "test_acc_RNN_char_lstm = []\n",
    "train_loss_RNN_char_lstm = []\n",
    "charRNN_timer_lstm = 0\n",
    "\n",
    "model = CharRNN_Mod(HIDDEN_SIZE,'lstm')\n",
    "\n",
    "for epoch in range(no_epochs):\n",
    "    # Reset the metrics at the start of the next epoch\n",
    "    train_loss.reset_states()\n",
    "    train_accuracy.reset_states()\n",
    "    test_loss.reset_states()\n",
    "    test_accuracy.reset_states()\n",
    "\n",
    "    epoch_start_time = time.perf_counter()\n",
    "    \n",
    "    for images, labels in train_ds:\n",
    "        train_step(model, images, labels, drop_rate=0)\n",
    "\n",
    "    for images, labels in test_ds:\n",
    "        test_step(model, images, labels, drop_rate=0)\n",
    "\n",
    "    epoch_end_time = time.perf_counter()\n",
    "    charRNN_timer_lstm = charRNN_timer_lstm + epoch_end_time - epoch_start_time\n",
    "    test_acc_RNN_char_lstm.append(test_accuracy.result())\n",
    "    train_loss_RNN_char_lstm.append(train_loss.result())\n",
    "\n",
    "    template = 'Epoch {}, Loss: {}, Accuracy: {}, Test Loss: {}, Test Accuracy: {}'\n",
    "    print (template.format(epoch+1,\n",
    "                          train_loss.result(),\n",
    "                          train_accuracy.result(),\n",
    "                          test_loss.result(),\n",
    "                          test_accuracy.result()))"
   ]
  },
  {
   "cell_type": "code",
   "execution_count": null,
   "metadata": {
    "id": "sBnunuwIt7TX"
   },
   "outputs": [],
   "source": [
    "# Plot training entropy cost\n",
    "pylab.figure()\n",
    "pylab.plot(np.arange(no_epochs), train_loss_RNN_char_lstm)\n",
    "pylab.xlabel('Epochs')\n",
    "pylab.ylabel('Train Entropy Cost')\n",
    "pylab.legend(loc='upper right')"
   ]
  },
  {
   "cell_type": "code",
   "execution_count": null,
   "metadata": {
    "id": "UxAwYwWwt9Gh"
   },
   "outputs": [],
   "source": [
    "# Plot test accuracy\n",
    "pylab.figure()\n",
    "pylab.plot(np.arange(no_epochs), test_acc_RNN_char_lstm)\n",
    "pylab.xlabel('Epochs')\n",
    "pylab.ylabel('Test Accuracy')\n",
    "pylab.legend(loc='upper right')"
   ]
  },
  {
   "cell_type": "code",
   "execution_count": null,
   "metadata": {
    "id": "ITvMC9hEuAXr"
   },
   "outputs": [],
   "source": [
    "#Build the wordRNN model with LSTM layer\n",
    "test_acc_RNN_word_lstm = []\n",
    "train_loss_RNN_word_lstm = []\n",
    "wordRNN_timer_lstm = 0\n",
    "\n",
    "model = WordRNN_Mod(vocab_size_word, HIDDEN_SIZE,'lstm', 1)\n",
    "\n",
    "for epoch in range(no_epochs):\n",
    "    # Reset the metrics at the start of the next epoch\n",
    "    train_loss.reset_states()\n",
    "    train_accuracy.reset_states()\n",
    "    test_loss.reset_states()\n",
    "    test_accuracy.reset_states()\n",
    "\n",
    "    epoch_start_time = time.perf_counter()\n",
    "    \n",
    "    for images, labels in train_ds_word:\n",
    "        train_step(model, images, labels, drop_rate=0)\n",
    "\n",
    "    for images, labels in test_ds_word:\n",
    "        test_step(model, images, labels, drop_rate=0)\n",
    "\n",
    "    epoch_end_time = time.perf_counter()\n",
    "    wordRNN_timer_lstm = wordRNN_timer_lstm + epoch_end_time - epoch_start_time\n",
    "    test_acc_RNN_word_lstm.append(test_accuracy.result())\n",
    "    train_loss_RNN_word_lstm.append(train_loss.result())\n",
    "\n",
    "    template = 'Epoch {}, Loss: {}, Accuracy: {}, Test Loss: {}, Test Accuracy: {}'\n",
    "    print (template.format(epoch+1,\n",
    "                          train_loss.result(),\n",
    "                          train_accuracy.result(),\n",
    "                          test_loss.result(),\n",
    "                          test_accuracy.result()))"
   ]
  },
  {
   "cell_type": "code",
   "execution_count": null,
   "metadata": {
    "id": "wx3SzCGouk0C"
   },
   "outputs": [],
   "source": [
    "# Plot training entropy cost\n",
    "pylab.figure()\n",
    "pylab.plot(np.arange(no_epochs), train_loss_RNN_char_lstm)\n",
    "pylab.xlabel('Epochs')\n",
    "pylab.ylabel('Train Entropy Cost')\n",
    "pylab.legend(loc='upper right')"
   ]
  },
  {
   "cell_type": "code",
   "execution_count": null,
   "metadata": {
    "id": "n6EzET_3uk_8"
   },
   "outputs": [],
   "source": [
    "# Plot test accuracy\n",
    "pylab.figure()\n",
    "pylab.plot(np.arange(no_epochs), test_acc_RNN_char_lstm)\n",
    "pylab.xlabel('Epochs')\n",
    "pylab.ylabel('Test Accuracy')\n",
    "pylab.legend(loc='upper right')"
   ]
  },
  {
   "cell_type": "markdown",
   "metadata": {
    "id": "zAM2bkfLvDvp"
   },
   "source": [
    "**Part B Question 6(b)**"
   ]
  },
  {
   "cell_type": "code",
   "execution_count": null,
   "metadata": {
    "id": "wwVKyzX5vA7b"
   },
   "outputs": [],
   "source": [
    "#Build the Char RNN Model with 2 GRU layers first\n",
    "test_acc_RNN_char_2gru = []\n",
    "train_loss_RNN_char_2gru = []\n",
    "charRNN_timer_2gru = 0\n",
    "\n",
    "model = CharRNN_Mod(HIDDEN_SIZE, 'gru', 2)\n",
    "\n",
    "for epoch in range(no_epochs):\n",
    "    # Reset the metrics at the start of the next epoch\n",
    "    train_loss.reset_states()\n",
    "    train_accuracy.reset_states()\n",
    "    test_loss.reset_states()\n",
    "    test_accuracy.reset_states()\n",
    "\n",
    "    epoch_start_time = time.perf_counter()\n",
    "    \n",
    "    for images, labels in train_ds:\n",
    "        train_step(model, images, labels, drop_rate=0)\n",
    "\n",
    "    for images, labels in test_ds:\n",
    "        test_step(model, images, labels, drop_rate=0)\n",
    "\n",
    "    epoch_end_time = time.perf_counter()\n",
    "    charRNN_timer_2gru = charRNN_timer_2gru + epoch_end_time - epoch_start_time\n",
    "    test_acc_RNN_char_2gru.append(test_accuracy.result())\n",
    "    train_loss_RNN_char_2gru.append(train_loss.result())\n",
    "\n",
    "    template = 'Epoch {}, Loss: {}, Accuracy: {}, Test Loss: {}, Test Accuracy: {}'\n",
    "    print (template.format(epoch+1,\n",
    "                          train_loss.result(),\n",
    "                          train_accuracy.result(),\n",
    "                          test_loss.result(),\n",
    "                          test_accuracy.result()))\n"
   ]
  },
  {
   "cell_type": "code",
   "execution_count": null,
   "metadata": {
    "id": "H5fTjj0jvuJj"
   },
   "outputs": [],
   "source": [
    "# Plot training entropy cost\n",
    "pylab.figure()\n",
    "pylab.plot(np.arange(no_epochs), train_loss_RNN_char_2gru)\n",
    "pylab.xlabel('Epochs')\n",
    "pylab.ylabel('Train Entropy Cost')\n",
    "pylab.legend(loc='upper right')"
   ]
  },
  {
   "cell_type": "code",
   "execution_count": null,
   "metadata": {
    "id": "aS34eQQOvuXq"
   },
   "outputs": [],
   "source": [
    "# Plot test accuracy\n",
    "pylab.figure()\n",
    "pylab.plot(np.arange(no_epochs), test_acc_RNN_char_2gru)\n",
    "pylab.xlabel('Epochs')\n",
    "pylab.ylabel('Test Accuracy')\n",
    "pylab.legend(loc='upper right')"
   ]
  },
  {
   "cell_type": "code",
   "execution_count": null,
   "metadata": {
    "id": "GOCueDY1v2AL"
   },
   "outputs": [],
   "source": [
    "#Build the Word RNN Model with 2 GRU layers\n",
    "test_acc_RNN_word_2gru = []\n",
    "train_loss_RNN_word_2gru = []\n",
    "wordRNN_timer_2gru = 0\n",
    "\n",
    "model = WordRNN_Mod(vocab_size_word, HIDDEN_SIZE,'gru', 2)\n",
    "\n",
    "for epoch in range(no_epochs):\n",
    "    # Reset the metrics at the start of the next epoch\n",
    "    train_loss.reset_states()\n",
    "    train_accuracy.reset_states()\n",
    "    test_loss.reset_states()\n",
    "    test_accuracy.reset_states()\n",
    "\n",
    "    epoch_start_time = time.perf_counter()\n",
    "    \n",
    "    for images, labels in train_ds_word:\n",
    "        train_step(model, images, labels, drop_rate=0)\n",
    "\n",
    "    for images, labels in test_ds_word:\n",
    "        test_step(model, images, labels, drop_rate=0)\n",
    "\n",
    "    epoch_end_time = time.perf_counter()\n",
    "    wordRNN_timer_2gru = wordRNN_timer_2gru + epoch_end_time - epoch_start_time\n",
    "    test_acc_RNN_word_2gru.append(test_accuracy.result())\n",
    "    train_loss_RNN_word_2gru.append(train_loss.result())\n",
    "\n",
    "    template = 'Epoch {}, Loss: {}, Accuracy: {}, Test Loss: {}, Test Accuracy: {}'\n",
    "    print (template.format(epoch+1,\n",
    "                          train_loss.result(),\n",
    "                          train_accuracy.result(),\n",
    "                          test_loss.result(),\n",
    "                          test_accuracy.result()))"
   ]
  },
  {
   "cell_type": "code",
   "execution_count": null,
   "metadata": {
    "id": "3tE0vuIwwXLc"
   },
   "outputs": [],
   "source": [
    "# Plot training entropy cost\n",
    "pylab.figure()\n",
    "pylab.plot(np.arange(no_epochs), train_loss_RNN_word_2gru)\n",
    "pylab.xlabel('Epochs')\n",
    "pylab.ylabel('Train Entropy Cost')\n",
    "pylab.legend(loc='upper right')"
   ]
  },
  {
   "cell_type": "code",
   "execution_count": null,
   "metadata": {
    "id": "PR8wU8KRwXdq"
   },
   "outputs": [],
   "source": [
    "# Plot test accuracy\n",
    "pylab.figure()\n",
    "pylab.plot(np.arange(no_epochs), test_acc_RNN_word_2gru)\n",
    "pylab.xlabel('Epochs')\n",
    "pylab.ylabel('Test Accuracy')\n",
    "pylab.legend(loc='upper right')"
   ]
  },
  {
   "cell_type": "markdown",
   "metadata": {
    "id": "IYoNqqH7wbfk"
   },
   "source": [
    "**Part B Question 6(c)**"
   ]
  },
  {
   "cell_type": "code",
   "execution_count": null,
   "metadata": {
    "id": "s1ntBxMcwdtD"
   },
   "outputs": [],
   "source": [
    "#Modify the train_step function to include gradient clipping\n",
    "def train_step_mod(model, x, label, drop_rate, grad_clipping = False):\n",
    "    with tf.GradientTape() as tape:\n",
    "        out = model(x, drop_rate)\n",
    "        loss = loss_object(label, out)\n",
    "        gradients = tape.gradient(loss, model.trainable_variables)\n",
    "        if grad_clipping:\n",
    "          gradients, _ = tf.clip_by_global_norm(gradients, 2.0)\n",
    "        optimizer.apply_gradients(zip(gradients, model.trainable_variables))\n",
    "        \n",
    "    train_loss(loss)\n",
    "    train_accuracy(labels, out)"
   ]
  },
  {
   "cell_type": "code",
   "execution_count": null,
   "metadata": {
    "id": "mviabc2mxNFj"
   },
   "outputs": [],
   "source": [
    "#Run the Char RNN model with gradient clipping\n",
    "test_acc_RNN_char_grad_clip = []\n",
    "train_loss_RNN_char_grad_clip = []\n",
    "charRNN_timer_grad_clip = 0\n",
    "\n",
    "model = CharRNN_Mod(HIDDEN_SIZE, 'gru', 1)\n",
    "\n",
    "for epoch in range(no_epochs):\n",
    "    # Reset the metrics at the start of the next epoch\n",
    "    train_loss.reset_states()\n",
    "    train_accuracy.reset_states()\n",
    "    test_loss.reset_states()\n",
    "    test_accuracy.reset_states()\n",
    "\n",
    "    epoch_start_time = time.perf_counter()\n",
    "    \n",
    "    #Use the train_step_mod function with gradient clipping\n",
    "    for images, labels in train_ds:\n",
    "        train_step_mod(model, images, labels, drop_rate=0, grad_clipping=True)\n",
    "\n",
    "    for images, labels in test_ds:\n",
    "        test_step(model, images, labels, drop_rate=0)\n",
    "\n",
    "    epoch_end_time = time.perf_counter()\n",
    "    charRNN_timer_grad_clip = charRNN_timer_grad_clip + epoch_end_time - epoch_start_time\n",
    "    test_acc_RNN_char_grad_clip.append(test_accuracy.result())\n",
    "    train_loss_RNN_char_grad_clip.append(train_loss.result())\n",
    "\n",
    "    template = 'Epoch {}, Loss: {}, Accuracy: {}, Test Loss: {}, Test Accuracy: {}'\n",
    "    print (template.format(epoch+1,\n",
    "                          train_loss.result(),\n",
    "                          train_accuracy.result(),\n",
    "                          test_loss.result(),\n",
    "                          test_accuracy.result()))"
   ]
  },
  {
   "cell_type": "code",
   "execution_count": null,
   "metadata": {
    "id": "eeaDgVZ6xNTl"
   },
   "outputs": [],
   "source": [
    "# Plot training entropy cost\n",
    "pylab.figure()\n",
    "pylab.plot(np.arange(no_epochs), train_loss_RNN_char_grad_clip)\n",
    "pylab.xlabel('Epochs')\n",
    "pylab.ylabel('Train Entropy Cost')\n",
    "pylab.legend(loc='upper right')"
   ]
  },
  {
   "cell_type": "code",
   "execution_count": null,
   "metadata": {
    "id": "0h7stvyZyzdN"
   },
   "outputs": [],
   "source": [
    "# Plot test accuracy\n",
    "pylab.figure()\n",
    "pylab.plot(np.arange(no_epochs), test_acc_RNN_char_grad_clip)\n",
    "pylab.xlabel('Epochs')\n",
    "pylab.ylabel('Test Accuracy')\n",
    "pylab.legend(loc='upper right')"
   ]
  },
  {
   "cell_type": "code",
   "execution_count": null,
   "metadata": {
    "id": "O6AYPqNtzETD"
   },
   "outputs": [],
   "source": [
    "#Run the Word RNN model with gradient clipping\n",
    "test_acc_RNN_word_grad_clip = []\n",
    "train_loss_RNN_word_grad_clip = []\n",
    "wordRNN_timer_grad_clip = 0\n",
    "\n",
    "model = WordRNN_Mod(vocab_size_word, HIDDEN_SIZE,'gru', 1)\n",
    "\n",
    "for epoch in range(no_epochs):\n",
    "    # Reset the metrics at the start of the next epoch\n",
    "    train_loss.reset_states()\n",
    "    train_accuracy.reset_states()\n",
    "    test_loss.reset_states()\n",
    "    test_accuracy.reset_states()\n",
    "\n",
    "    epoch_start_time = time.perf_counter()\n",
    "    \n",
    "    for images, labels in train_ds_word:\n",
    "        train_step_mod(model, images, labels, drop_rate=0, grad_clipping=True)\n",
    "\n",
    "    for images, labels in test_ds_word:\n",
    "        test_step(model, images, labels, drop_rate=0)\n",
    "\n",
    "    epoch_end_time = time.perf_counter()\n",
    "    wordRNN_timer_grad_clip = wordRNN_timer_grad_clip + epoch_end_time - epoch_start_time\n",
    "    test_acc_RNN_word_grad_clip.append(test_accuracy.result())\n",
    "    train_loss_RNN_word_grad_clip.append(train_loss.result())\n",
    "\n",
    "    template = 'Epoch {}, Loss: {}, Accuracy: {}, Test Loss: {}, Test Accuracy: {}'\n",
    "    print (template.format(epoch+1,\n",
    "                          train_loss.result(),\n",
    "                          train_accuracy.result(),\n",
    "                          test_loss.result(),\n",
    "                          test_accuracy.result()))"
   ]
  },
  {
   "cell_type": "code",
   "execution_count": null,
   "metadata": {
    "id": "qmS18QVPzEjV"
   },
   "outputs": [],
   "source": [
    "# Plot training entropy cost\n",
    "pylab.figure()\n",
    "pylab.plot(np.arange(no_epochs), train_loss_RNN_word_grad_clip)\n",
    "pylab.xlabel('Epochs')\n",
    "pylab.ylabel('Train Entropy Cost')\n",
    "pylab.legend(loc='upper right')"
   ]
  },
  {
   "cell_type": "code",
   "execution_count": null,
   "metadata": {
    "id": "uZZBzaBtzEvb"
   },
   "outputs": [],
   "source": [
    "# Plot test accuracy\n",
    "pylab.figure()\n",
    "pylab.plot(np.arange(no_epochs), test_acc_RNN_word_grad_clip)\n",
    "pylab.xlabel('Epochs')\n",
    "pylab.ylabel('Test Accuracy')\n",
    "pylab.legend(loc='upper right')"
   ]
  }
 ],
 "metadata": {
  "accelerator": "GPU",
  "colab": {
   "collapsed_sections": [],
   "name": "Assgn_2_Part_B.ipynb",
   "provenance": []
  },
  "kernelspec": {
   "display_name": "Python 3",
   "language": "python",
   "name": "python3"
  },
  "language_info": {
   "codemirror_mode": {
    "name": "ipython",
    "version": 3
   },
   "file_extension": ".py",
   "mimetype": "text/x-python",
   "name": "python",
   "nbconvert_exporter": "python",
   "pygments_lexer": "ipython3",
   "version": "3.8.3"
  }
 },
 "nbformat": 4,
 "nbformat_minor": 1
}
