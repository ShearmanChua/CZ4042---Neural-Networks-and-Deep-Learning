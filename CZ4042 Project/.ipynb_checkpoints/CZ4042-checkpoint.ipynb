{
 "cells": [
  {
   "cell_type": "code",
   "execution_count": 1,
   "metadata": {
    "colab": {
     "base_uri": "https://localhost:8080/"
    },
    "executionInfo": {
     "elapsed": 7996,
     "status": "ok",
     "timestamp": 1604559087847,
     "user": {
      "displayName": "Shearman Chua",
      "photoUrl": "",
      "userId": "02072421428658916568"
     },
     "user_tz": -480
    },
    "id": "AhnyftvzOseG",
    "outputId": "cf76bca8-72d1-4d3d-c14a-5c3fe0e47951"
   },
   "outputs": [
    {
     "name": "stdout",
     "output_type": "stream",
     "text": [
      "Collecting efficientnet\n",
      "  Downloading https://files.pythonhosted.org/packages/53/97/84f88e581d6ac86dcf1ab347c497c4c568c38784e3a2bd659b96912ab793/efficientnet-1.1.1-py3-none-any.whl\n",
      "Requirement already satisfied: scikit-image in /usr/local/lib/python3.6/dist-packages (from efficientnet) (0.16.2)\n",
      "Collecting keras-applications<=1.0.8,>=1.0.7\n",
      "\u001b[?25l  Downloading https://files.pythonhosted.org/packages/71/e3/19762fdfc62877ae9102edf6342d71b28fbfd9dea3d2f96a882ce099b03f/Keras_Applications-1.0.8-py3-none-any.whl (50kB)\n",
      "\u001b[K     |████████████████████████████████| 51kB 2.9MB/s \n",
      "\u001b[?25hRequirement already satisfied: networkx>=2.0 in /usr/local/lib/python3.6/dist-packages (from scikit-image->efficientnet) (2.5)\n",
      "Requirement already satisfied: pillow>=4.3.0 in /usr/local/lib/python3.6/dist-packages (from scikit-image->efficientnet) (7.0.0)\n",
      "Requirement already satisfied: imageio>=2.3.0 in /usr/local/lib/python3.6/dist-packages (from scikit-image->efficientnet) (2.4.1)\n",
      "Requirement already satisfied: PyWavelets>=0.4.0 in /usr/local/lib/python3.6/dist-packages (from scikit-image->efficientnet) (1.1.1)\n",
      "Requirement already satisfied: matplotlib!=3.0.0,>=2.0.0 in /usr/local/lib/python3.6/dist-packages (from scikit-image->efficientnet) (3.2.2)\n",
      "Requirement already satisfied: scipy>=0.19.0 in /usr/local/lib/python3.6/dist-packages (from scikit-image->efficientnet) (1.4.1)\n",
      "Requirement already satisfied: numpy>=1.9.1 in /usr/local/lib/python3.6/dist-packages (from keras-applications<=1.0.8,>=1.0.7->efficientnet) (1.18.5)\n",
      "Requirement already satisfied: h5py in /usr/local/lib/python3.6/dist-packages (from keras-applications<=1.0.8,>=1.0.7->efficientnet) (2.10.0)\n",
      "Requirement already satisfied: decorator>=4.3.0 in /usr/local/lib/python3.6/dist-packages (from networkx>=2.0->scikit-image->efficientnet) (4.4.2)\n",
      "Requirement already satisfied: cycler>=0.10 in /usr/local/lib/python3.6/dist-packages (from matplotlib!=3.0.0,>=2.0.0->scikit-image->efficientnet) (0.10.0)\n",
      "Requirement already satisfied: python-dateutil>=2.1 in /usr/local/lib/python3.6/dist-packages (from matplotlib!=3.0.0,>=2.0.0->scikit-image->efficientnet) (2.8.1)\n",
      "Requirement already satisfied: pyparsing!=2.0.4,!=2.1.2,!=2.1.6,>=2.0.1 in /usr/local/lib/python3.6/dist-packages (from matplotlib!=3.0.0,>=2.0.0->scikit-image->efficientnet) (2.4.7)\n",
      "Requirement already satisfied: kiwisolver>=1.0.1 in /usr/local/lib/python3.6/dist-packages (from matplotlib!=3.0.0,>=2.0.0->scikit-image->efficientnet) (1.3.1)\n",
      "Requirement already satisfied: six in /usr/local/lib/python3.6/dist-packages (from h5py->keras-applications<=1.0.8,>=1.0.7->efficientnet) (1.15.0)\n",
      "Installing collected packages: keras-applications, efficientnet\n",
      "Successfully installed efficientnet-1.1.1 keras-applications-1.0.8\n"
     ]
    }
   ],
   "source": [
    "!pip install efficientnet\n",
    "\n",
    "import os\n",
    "import math\n",
    "import pandas as pd\n",
    "from scipy.io import loadmat\n",
    "from random import randrange\n",
    "import numpy as np\n",
    "from matplotlib import pyplot as plt\n",
    "\n",
    "from sklearn.model_selection import train_test_split\n",
    "from sklearn.preprocessing import LabelEncoder\n",
    "from sklearn.utils.class_weight import compute_class_weight\n",
    "\n",
    "import tensorflow as tf\n",
    "from tensorflow.keras.layers import *\n",
    "from tensorflow.keras.models import Model\n",
    "from tensorflow.keras.optimizers import SGD,Adam\n",
    "from tensorflow.keras.preprocessing.image import ImageDataGenerator, load_img, img_to_array\n",
    "from tensorflow.keras.callbacks import ModelCheckpoint, LearningRateScheduler\n",
    "from tensorflow.keras.utils import to_categorical\n",
    "import tensorflow as tf\n",
    "import tensorflow_addons as tfa\n",
    "from tensorflow.keras import backend as K\n",
    "\n",
    "import efficientnet.keras as efn\n",
    "\n",
    "%matplotlib inline"
   ]
  },
  {
   "cell_type": "code",
   "execution_count": 2,
   "metadata": {
    "colab": {
     "base_uri": "https://localhost:8080/"
    },
    "executionInfo": {
     "elapsed": 25964,
     "status": "ok",
     "timestamp": 1604559105932,
     "user": {
      "displayName": "Shearman Chua",
      "photoUrl": "",
      "userId": "02072421428658916568"
     },
     "user_tz": -480
    },
    "id": "5wJZRxC5QJDc",
    "outputId": "9be404b2-6010-4f4a-d0f6-192936e87387"
   },
   "outputs": [
    {
     "name": "stdout",
     "output_type": "stream",
     "text": [
      "Mounted at /content/drive\n"
     ]
    }
   ],
   "source": [
    "from google.colab import drive\n",
    "drive.mount('/content/drive')"
   ]
  },
  {
   "cell_type": "code",
   "execution_count": 3,
   "metadata": {
    "colab": {
     "base_uri": "https://localhost:8080/"
    },
    "executionInfo": {
     "elapsed": 14985,
     "status": "ok",
     "timestamp": 1604559117435,
     "user": {
      "displayName": "Shearman Chua",
      "photoUrl": "",
      "userId": "02072421428658916568"
     },
     "user_tz": -480
    },
    "id": "NKGzkfwVO492",
    "outputId": "5fd86c3b-7268-41c9-ad66-15990f0d3382"
   },
   "outputs": [
    {
     "name": "stdout",
     "output_type": "stream",
     "text": [
      "INFO:tensorflow:Initializing the TPU system: grpc://10.93.205.250:8470\n"
     ]
    },
    {
     "name": "stderr",
     "output_type": "stream",
     "text": [
      "INFO:tensorflow:Initializing the TPU system: grpc://10.93.205.250:8470\n"
     ]
    },
    {
     "name": "stdout",
     "output_type": "stream",
     "text": [
      "INFO:tensorflow:Clearing out eager caches\n"
     ]
    },
    {
     "name": "stderr",
     "output_type": "stream",
     "text": [
      "INFO:tensorflow:Clearing out eager caches\n"
     ]
    },
    {
     "name": "stdout",
     "output_type": "stream",
     "text": [
      "INFO:tensorflow:Finished initializing TPU system.\n"
     ]
    },
    {
     "name": "stderr",
     "output_type": "stream",
     "text": [
      "INFO:tensorflow:Finished initializing TPU system.\n",
      "WARNING:absl:`tf.distribute.experimental.TPUStrategy` is deprecated, please use  the non experimental symbol `tf.distribute.TPUStrategy` instead.\n"
     ]
    },
    {
     "name": "stdout",
     "output_type": "stream",
     "text": [
      "INFO:tensorflow:Found TPU system:\n"
     ]
    },
    {
     "name": "stderr",
     "output_type": "stream",
     "text": [
      "INFO:tensorflow:Found TPU system:\n"
     ]
    },
    {
     "name": "stdout",
     "output_type": "stream",
     "text": [
      "INFO:tensorflow:*** Num TPU Cores: 8\n"
     ]
    },
    {
     "name": "stderr",
     "output_type": "stream",
     "text": [
      "INFO:tensorflow:*** Num TPU Cores: 8\n"
     ]
    },
    {
     "name": "stdout",
     "output_type": "stream",
     "text": [
      "INFO:tensorflow:*** Num TPU Workers: 1\n"
     ]
    },
    {
     "name": "stderr",
     "output_type": "stream",
     "text": [
      "INFO:tensorflow:*** Num TPU Workers: 1\n"
     ]
    },
    {
     "name": "stdout",
     "output_type": "stream",
     "text": [
      "INFO:tensorflow:*** Num TPU Cores Per Worker: 8\n"
     ]
    },
    {
     "name": "stderr",
     "output_type": "stream",
     "text": [
      "INFO:tensorflow:*** Num TPU Cores Per Worker: 8\n"
     ]
    },
    {
     "name": "stdout",
     "output_type": "stream",
     "text": [
      "INFO:tensorflow:*** Available Device: _DeviceAttributes(/job:localhost/replica:0/task:0/device:CPU:0, CPU, 0, 0)\n"
     ]
    },
    {
     "name": "stderr",
     "output_type": "stream",
     "text": [
      "INFO:tensorflow:*** Available Device: _DeviceAttributes(/job:localhost/replica:0/task:0/device:CPU:0, CPU, 0, 0)\n"
     ]
    },
    {
     "name": "stdout",
     "output_type": "stream",
     "text": [
      "INFO:tensorflow:*** Available Device: _DeviceAttributes(/job:localhost/replica:0/task:0/device:XLA_CPU:0, XLA_CPU, 0, 0)\n"
     ]
    },
    {
     "name": "stderr",
     "output_type": "stream",
     "text": [
      "INFO:tensorflow:*** Available Device: _DeviceAttributes(/job:localhost/replica:0/task:0/device:XLA_CPU:0, XLA_CPU, 0, 0)\n"
     ]
    },
    {
     "name": "stdout",
     "output_type": "stream",
     "text": [
      "INFO:tensorflow:*** Available Device: _DeviceAttributes(/job:worker/replica:0/task:0/device:CPU:0, CPU, 0, 0)\n"
     ]
    },
    {
     "name": "stderr",
     "output_type": "stream",
     "text": [
      "INFO:tensorflow:*** Available Device: _DeviceAttributes(/job:worker/replica:0/task:0/device:CPU:0, CPU, 0, 0)\n"
     ]
    },
    {
     "name": "stdout",
     "output_type": "stream",
     "text": [
      "INFO:tensorflow:*** Available Device: _DeviceAttributes(/job:worker/replica:0/task:0/device:TPU:0, TPU, 0, 0)\n"
     ]
    },
    {
     "name": "stderr",
     "output_type": "stream",
     "text": [
      "INFO:tensorflow:*** Available Device: _DeviceAttributes(/job:worker/replica:0/task:0/device:TPU:0, TPU, 0, 0)\n"
     ]
    },
    {
     "name": "stdout",
     "output_type": "stream",
     "text": [
      "INFO:tensorflow:*** Available Device: _DeviceAttributes(/job:worker/replica:0/task:0/device:TPU:1, TPU, 0, 0)\n"
     ]
    },
    {
     "name": "stderr",
     "output_type": "stream",
     "text": [
      "INFO:tensorflow:*** Available Device: _DeviceAttributes(/job:worker/replica:0/task:0/device:TPU:1, TPU, 0, 0)\n"
     ]
    },
    {
     "name": "stdout",
     "output_type": "stream",
     "text": [
      "INFO:tensorflow:*** Available Device: _DeviceAttributes(/job:worker/replica:0/task:0/device:TPU:2, TPU, 0, 0)\n"
     ]
    },
    {
     "name": "stderr",
     "output_type": "stream",
     "text": [
      "INFO:tensorflow:*** Available Device: _DeviceAttributes(/job:worker/replica:0/task:0/device:TPU:2, TPU, 0, 0)\n"
     ]
    },
    {
     "name": "stdout",
     "output_type": "stream",
     "text": [
      "INFO:tensorflow:*** Available Device: _DeviceAttributes(/job:worker/replica:0/task:0/device:TPU:3, TPU, 0, 0)\n"
     ]
    },
    {
     "name": "stderr",
     "output_type": "stream",
     "text": [
      "INFO:tensorflow:*** Available Device: _DeviceAttributes(/job:worker/replica:0/task:0/device:TPU:3, TPU, 0, 0)\n"
     ]
    },
    {
     "name": "stdout",
     "output_type": "stream",
     "text": [
      "INFO:tensorflow:*** Available Device: _DeviceAttributes(/job:worker/replica:0/task:0/device:TPU:4, TPU, 0, 0)\n"
     ]
    },
    {
     "name": "stderr",
     "output_type": "stream",
     "text": [
      "INFO:tensorflow:*** Available Device: _DeviceAttributes(/job:worker/replica:0/task:0/device:TPU:4, TPU, 0, 0)\n"
     ]
    },
    {
     "name": "stdout",
     "output_type": "stream",
     "text": [
      "INFO:tensorflow:*** Available Device: _DeviceAttributes(/job:worker/replica:0/task:0/device:TPU:5, TPU, 0, 0)\n"
     ]
    },
    {
     "name": "stderr",
     "output_type": "stream",
     "text": [
      "INFO:tensorflow:*** Available Device: _DeviceAttributes(/job:worker/replica:0/task:0/device:TPU:5, TPU, 0, 0)\n"
     ]
    },
    {
     "name": "stdout",
     "output_type": "stream",
     "text": [
      "INFO:tensorflow:*** Available Device: _DeviceAttributes(/job:worker/replica:0/task:0/device:TPU:6, TPU, 0, 0)\n"
     ]
    },
    {
     "name": "stderr",
     "output_type": "stream",
     "text": [
      "INFO:tensorflow:*** Available Device: _DeviceAttributes(/job:worker/replica:0/task:0/device:TPU:6, TPU, 0, 0)\n"
     ]
    },
    {
     "name": "stdout",
     "output_type": "stream",
     "text": [
      "INFO:tensorflow:*** Available Device: _DeviceAttributes(/job:worker/replica:0/task:0/device:TPU:7, TPU, 0, 0)\n"
     ]
    },
    {
     "name": "stderr",
     "output_type": "stream",
     "text": [
      "INFO:tensorflow:*** Available Device: _DeviceAttributes(/job:worker/replica:0/task:0/device:TPU:7, TPU, 0, 0)\n"
     ]
    },
    {
     "name": "stdout",
     "output_type": "stream",
     "text": [
      "INFO:tensorflow:*** Available Device: _DeviceAttributes(/job:worker/replica:0/task:0/device:TPU_SYSTEM:0, TPU_SYSTEM, 0, 0)\n"
     ]
    },
    {
     "name": "stderr",
     "output_type": "stream",
     "text": [
      "INFO:tensorflow:*** Available Device: _DeviceAttributes(/job:worker/replica:0/task:0/device:TPU_SYSTEM:0, TPU_SYSTEM, 0, 0)\n"
     ]
    },
    {
     "name": "stdout",
     "output_type": "stream",
     "text": [
      "INFO:tensorflow:*** Available Device: _DeviceAttributes(/job:worker/replica:0/task:0/device:XLA_CPU:0, XLA_CPU, 0, 0)\n"
     ]
    },
    {
     "name": "stderr",
     "output_type": "stream",
     "text": [
      "INFO:tensorflow:*** Available Device: _DeviceAttributes(/job:worker/replica:0/task:0/device:XLA_CPU:0, XLA_CPU, 0, 0)\n"
     ]
    }
   ],
   "source": [
    "resolver = tf.distribute.cluster_resolver.TPUClusterResolver(tpu='grpc://' + os.environ['COLAB_TPU_ADDR'])\n",
    "tf.config.experimental_connect_to_cluster(resolver)\n",
    "tf.tpu.experimental.initialize_tpu_system(resolver)\n",
    "strategy = tf.distribute.experimental.TPUStrategy(resolver)"
   ]
  },
  {
   "cell_type": "code",
   "execution_count": 4,
   "metadata": {
    "executionInfo": {
     "elapsed": 912,
     "status": "ok",
     "timestamp": 1604559118358,
     "user": {
      "displayName": "Shearman Chua",
      "photoUrl": "",
      "userId": "02072421428658916568"
     },
     "user_tz": -480
    },
    "id": "2jVpPNUkOseI"
   },
   "outputs": [],
   "source": [
    "def custom_image_generator(lists, batch_size, mode=\"train\", aug=None):\n",
    "    while True:\n",
    "        images = []\n",
    "        make_ids = []\n",
    "        model_ids = []\n",
    "        \n",
    "        while len(images) < batch_size:\n",
    "            random_idx = randrange(len(lists[0]))\n",
    "            img = load_img(lists[0][random_idx], target_size=(IMAGE_SIZE[0], IMAGE_SIZE[1]))\n",
    "            img = img_to_array(img)\n",
    "            # TODO: Center crop instead of resize\n",
    "            images.append(img)\n",
    "            make_ids.append(lists[1][random_idx])\n",
    "            model_ids.append(lists[2][random_idx])\n",
    "        \n",
    "        labels = [np.array(make_ids),np.array(model_ids)]\n",
    "        \n",
    "        if aug:\n",
    "            (images, labels) = next(aug.flow(np.array(images), labels, batch_size=batch_size))\n",
    "        \n",
    "        yield np.array(images),  labels \n",
    "\n",
    "def build_model(model_version, lr, losses, metrics):\n",
    "  if model_version == 0:\n",
    "    base_model = efn.EfficientNetB0(include_top=False, weights='noisy-student')\n",
    "  elif model_version == 1:\n",
    "    base_model = efn.EfficientNetB1(include_top=False, weights='noisy-student')\n",
    "  elif model_version == 2:\n",
    "    base_model = efn.EfficientNetB2(include_top=False, weights='noisy-student')\n",
    "  elif model_version == 3:\n",
    "    base_model = efn.EfficientNetB3(include_top=False, weights='noisy-student')\n",
    "  elif model_version == 4:\n",
    "    base_model = efn.EfficientNetB4(include_top=False, weights='noisy-student')\n",
    "  else:\n",
    "    base_model = efn.EfficientNetB5(include_top=False, weights='noisy-student')\n",
    "  \n",
    "  for layer in base_model.layers:\n",
    "      layer.trainable = True\n",
    "\n",
    "  model_input = Input(shape=[IMAGE_SIZE[0],IMAGE_SIZE[1],3])\n",
    "  x = base_model(model_input)\n",
    "  x = GlobalAveragePooling2D()(x)\n",
    "  \n",
    "  x = Dense(256, activation='relu')(x)\n",
    "  x = Dropout(0.25)(x)\n",
    "  x = Dense(256, activation='relu')(x)\n",
    "  x = Dropout(0.25)(x)\n",
    "  \n",
    "  y1 = Dense(128, activation='relu')(x)\n",
    "  y1 = Dropout(0.25)(y1)\n",
    "  y1 = Dense(64, activation='relu')(y1)\n",
    "  y1 = Dropout(0.25)(y1)\n",
    "  \n",
    "  y2 = Dense(128, activation='relu')(x)\n",
    "  y2 = Dropout(0.25)(y2)\n",
    "  y2 = Dense(64, activation='relu')(y2)\n",
    "  y2 = Dropout(0.25)(y2)\n",
    "  \n",
    "  y1 = Dense(163, activation='softmax', name='make_id')(y1)\n",
    "  y2 = Dense(1716, activation='softmax', name='model_id')(y2)\n",
    "  \n",
    "  model = Model(inputs=model_input, outputs=[y1, y2])\n",
    "  \n",
    "  model.compile(loss=losses, optimizer=SGD(lr=lr, momentum=0.9), metrics=metrics)\n",
    "  \n",
    "  return model\n",
    "  \n",
    "def read_tfrecord(example):\n",
    "  features = {\n",
    "      \"image\": tf.io.FixedLenFeature([], tf.string),\n",
    "      \"make_id\": tf.io.FixedLenFeature([], tf.int64),\n",
    "      \"make_id_oh\": tf.io.VarLenFeature(tf.float32),\n",
    "      \"model_id\": tf.io.FixedLenFeature([], tf.int64),\n",
    "      \"model_id_oh\": tf.io.VarLenFeature(tf.float32)\n",
    "  }\n",
    "\n",
    "  feature = tf.io.parse_single_example(example, features)\n",
    "\n",
    "  image = tf.image.decode_jpeg(feature['image'], channels=3)\n",
    "  image = tf.image.convert_image_dtype(image, tf.float32)\n",
    "  image = tf.image.resize(image, [*IMAGE_SIZE])\n",
    "\n",
    "  make_id_oh = tf.sparse.to_dense(feature['make_id_oh'])\n",
    "  make_id_oh = tf.reshape(make_id_oh, [163])\n",
    "\n",
    "  model_id_oh = tf.sparse.to_dense(feature['model_id_oh'])\n",
    "  model_id_oh = tf.reshape(model_id_oh, [1716])\n",
    "\n",
    "  return image, {'make_id': make_id_oh, 'model_id': model_id_oh}\n",
    "\n",
    "def augment(image, labels):\n",
    "  image = tf.image.random_crop(image, size=[64, 224, 224, 3]) # Random crop back\n",
    "  image = tf.image.random_brightness(image, max_delta=0.6) # Random brightness\n",
    "  image = tf.image.random_flip_left_right(image)\n",
    "  image = tf.image.random_contrast(image, 0.2, 0.6)\n",
    "  # image = tf.image.random_jpeg_quality(image, 10, 80)\n",
    "  image = tf.image.random_saturation(image, 5, 35)\n",
    "  image = tf.image.random_hue(image, 0.2)\n",
    "\n",
    "  return image, labels\n",
    "\n",
    "def normalise(image, labels):\n",
    "  image = tf.cast(image, tf.float32) * (1. / 255)\n",
    "\n",
    "  return image, labels"
   ]
  },
  {
   "cell_type": "code",
   "execution_count": null,
   "metadata": {
    "id": "jq4l5cQHQBVq"
   },
   "outputs": [],
   "source": [
    "df = pd.read_csv('/content/drive/My Drive/Colab Notebooks/CZ4042 Project/df.csv')"
   ]
  },
  {
   "cell_type": "code",
   "execution_count": 5,
   "metadata": {
    "executionInfo": {
     "elapsed": 1940,
     "status": "ok",
     "timestamp": 1604559119397,
     "user": {
      "displayName": "Shearman Chua",
      "photoUrl": "",
      "userId": "02072421428658916568"
     },
     "user_tz": -480
    },
    "id": "FAzHsOfx6vr1"
   },
   "outputs": [],
   "source": [
    "df = pd.read_csv('/content/drive/My Drive/CZ4042 Project/df.csv')"
   ]
  },
  {
   "cell_type": "code",
   "execution_count": null,
   "metadata": {
    "id": "VqNKbvP_KTou"
   },
   "outputs": [],
   "source": [
    "df = pd.read_csv('/content/drive/My Drive/df.csv') # Sam's path"
   ]
  },
  {
   "cell_type": "code",
   "execution_count": 6,
   "metadata": {
    "colab": {
     "base_uri": "https://localhost:8080/",
     "height": 196
    },
    "executionInfo": {
     "elapsed": 1935,
     "status": "ok",
     "timestamp": 1604559119406,
     "user": {
      "displayName": "Shearman Chua",
      "photoUrl": "",
      "userId": "02072421428658916568"
     },
     "user_tz": -480
    },
    "id": "vCcVzejpGsOC",
    "outputId": "fa8b9c86-f84b-4041-ca1f-4146af4bf129"
   },
   "outputs": [
    {
     "data": {
      "text/html": [
       "<div>\n",
       "<style scoped>\n",
       "    .dataframe tbody tr th:only-of-type {\n",
       "        vertical-align: middle;\n",
       "    }\n",
       "\n",
       "    .dataframe tbody tr th {\n",
       "        vertical-align: top;\n",
       "    }\n",
       "\n",
       "    .dataframe thead th {\n",
       "        text-align: right;\n",
       "    }\n",
       "</style>\n",
       "<table border=\"1\" class=\"dataframe\">\n",
       "  <thead>\n",
       "    <tr style=\"text-align: right;\">\n",
       "      <th></th>\n",
       "      <th>filename</th>\n",
       "      <th>make_id</th>\n",
       "      <th>model_id</th>\n",
       "    </tr>\n",
       "  </thead>\n",
       "  <tbody>\n",
       "    <tr>\n",
       "      <th>0</th>\n",
       "      <td>data/image/135/947/2009/deab76f22e8937.jpg</td>\n",
       "      <td>135</td>\n",
       "      <td>947</td>\n",
       "    </tr>\n",
       "    <tr>\n",
       "      <th>1</th>\n",
       "      <td>data/image/135/947/2009/b00fef3e12bdf0.jpg</td>\n",
       "      <td>135</td>\n",
       "      <td>947</td>\n",
       "    </tr>\n",
       "    <tr>\n",
       "      <th>2</th>\n",
       "      <td>data/image/135/947/2009/69ada64edf3ebb.jpg</td>\n",
       "      <td>135</td>\n",
       "      <td>947</td>\n",
       "    </tr>\n",
       "    <tr>\n",
       "      <th>3</th>\n",
       "      <td>data/image/135/947/2009/60b5fa727f82f2.jpg</td>\n",
       "      <td>135</td>\n",
       "      <td>947</td>\n",
       "    </tr>\n",
       "    <tr>\n",
       "      <th>4</th>\n",
       "      <td>data/image/135/947/2009/83ce148be0dcb5.jpg</td>\n",
       "      <td>135</td>\n",
       "      <td>947</td>\n",
       "    </tr>\n",
       "  </tbody>\n",
       "</table>\n",
       "</div>"
      ],
      "text/plain": [
       "                                     filename  make_id  model_id\n",
       "0  data/image/135/947/2009/deab76f22e8937.jpg      135       947\n",
       "1  data/image/135/947/2009/b00fef3e12bdf0.jpg      135       947\n",
       "2  data/image/135/947/2009/69ada64edf3ebb.jpg      135       947\n",
       "3  data/image/135/947/2009/60b5fa727f82f2.jpg      135       947\n",
       "4  data/image/135/947/2009/83ce148be0dcb5.jpg      135       947"
      ]
     },
     "execution_count": 6,
     "metadata": {
      "tags": []
     },
     "output_type": "execute_result"
    }
   ],
   "source": [
    "df.head()"
   ]
  },
  {
   "cell_type": "code",
   "execution_count": 7,
   "metadata": {
    "colab": {
     "base_uri": "https://localhost:8080/"
    },
    "executionInfo": {
     "elapsed": 732,
     "status": "ok",
     "timestamp": 1604559126601,
     "user": {
      "displayName": "Shearman Chua",
      "photoUrl": "",
      "userId": "02072421428658916568"
     },
     "user_tz": -480
    },
    "id": "umu_SdwIIb_S",
    "outputId": "429475a1-5f4a-410e-ca00-e098d745b75d"
   },
   "outputs": [
    {
     "name": "stdout",
     "output_type": "stream",
     "text": [
      "Sorted Unique Value from Make ID\n",
      "[1, 2, 3, 4, 5, 6, 7, 8, 9, 10, 11, 12, 13, 14, 15, 16, 17, 18, 19, 20, 21, 22, 23, 24, 25, 26, 27, 28, 29, 30, 31, 32, 33, 34, 35, 36, 37, 38, 39, 40, 41, 42, 43, 44, 45, 46, 47, 48, 49, 50, 51, 52, 53, 54, 55, 56, 57, 58, 59, 60, 61, 62, 63, 64, 65, 66, 67, 68, 69, 70, 71, 72, 73, 74, 75, 76, 77, 78, 79, 80, 81, 82, 83, 84, 85, 86, 87, 88, 89, 90, 91, 92, 93, 94, 95, 96, 97, 98, 99, 100, 101, 102, 103, 104, 105, 106, 107, 108, 109, 110, 111, 112, 113, 114, 115, 116, 117, 118, 119, 120, 121, 122, 123, 124, 125, 126, 127, 128, 129, 130, 131, 132, 133, 134, 135, 136, 137, 138, 139, 140, 141, 142, 143, 144, 145, 146, 147, 148, 149, 150, 151, 152, 153, 154, 155, 156, 157, 158, 159, 160, 161, 162, 163]\n",
      "Maximum Values of Make ID\n",
      "163\n",
      "Minimum Value of Make ID\n",
      "1\n",
      "Total Number Of Make Unique IDs\n",
      "163\n"
     ]
    }
   ],
   "source": [
    "df_make_id_unique = df.make_id.unique() ## Abstract make ID uniques values\n",
    "print('Sorted Unique Value from Make ID')\n",
    "print(sorted(df_make_id_unique))\n",
    "print('Maximum Values of Make ID')\n",
    "print(max(df_make_id_unique))\n",
    "print('Minimum Value of Make ID')\n",
    "print(min(df_make_id_unique))\n",
    "num_make_id_unique = len(df_make_id_unique)\n",
    "print('Total Number Of Make Unique IDs')\n",
    "print(num_make_id_unique)"
   ]
  },
  {
   "cell_type": "code",
   "execution_count": 8,
   "metadata": {
    "colab": {
     "base_uri": "https://localhost:8080/"
    },
    "executionInfo": {
     "elapsed": 771,
     "status": "ok",
     "timestamp": 1604559128402,
     "user": {
      "displayName": "Shearman Chua",
      "photoUrl": "",
      "userId": "02072421428658916568"
     },
     "user_tz": -480
    },
    "id": "CJMD5rYiJN7W",
    "outputId": "b5b15306-a604-4595-f75d-42deabf161c2"
   },
   "outputs": [
    {
     "name": "stdout",
     "output_type": "stream",
     "text": [
      "Sorted Unique Value from Model ID\n",
      "[1, 2, 3, 4, 5, 9, 11, 12, 13, 14, 15, 16, 17, 18, 19, 21, 22, 23, 24, 25, 26, 27, 28, 31, 32, 33, 34, 35, 36, 38, 39, 40, 41, 42, 43, 44, 46, 47, 48, 49, 50, 52, 53, 55, 56, 57, 60, 61, 62, 63, 65, 66, 67, 68, 69, 70, 71, 72, 73, 74, 75, 76, 77, 78, 79, 81, 82, 83, 84, 85, 86, 87, 88, 89, 91, 92, 93, 94, 95, 96, 98, 99, 100, 101, 102, 103, 104, 105, 106, 107, 108, 109, 110, 112, 113, 114, 115, 118, 119, 120, 121, 122, 123, 124, 125, 126, 127, 128, 129, 130, 131, 132, 133, 134, 135, 136, 137, 138, 139, 140, 141, 142, 143, 144, 145, 146, 147, 148, 149, 150, 152, 153, 154, 156, 157, 158, 159, 160, 161, 162, 163, 164, 167, 168, 169, 170, 174, 175, 176, 178, 179, 180, 181, 182, 183, 184, 185, 187, 188, 189, 190, 191, 192, 193, 194, 195, 196, 197, 200, 201, 202, 204, 206, 207, 208, 209, 210, 211, 212, 213, 214, 215, 216, 217, 218, 219, 221, 222, 223, 226, 227, 228, 229, 230, 231, 232, 233, 234, 235, 236, 239, 240, 241, 242, 243, 247, 248, 249, 250, 251, 252, 253, 254, 255, 256, 257, 258, 259, 260, 261, 262, 263, 265, 266, 267, 268, 269, 271, 272, 273, 280, 281, 282, 283, 284, 285, 286, 287, 288, 289, 290, 291, 292, 293, 294, 295, 296, 297, 298, 299, 300, 301, 302, 303, 304, 305, 306, 307, 308, 309, 314, 315, 316, 317, 318, 319, 320, 321, 322, 323, 324, 325, 326, 327, 328, 329, 330, 331, 332, 333, 334, 335, 336, 337, 338, 339, 342, 343, 344, 345, 346, 347, 348, 349, 350, 351, 352, 353, 354, 355, 356, 357, 358, 359, 360, 361, 362, 363, 364, 365, 366, 367, 368, 369, 370, 372, 373, 374, 375, 376, 377, 378, 379, 380, 381, 382, 383, 384, 385, 386, 387, 388, 389, 391, 392, 393, 394, 396, 397, 398, 399, 400, 401, 402, 403, 405, 406, 407, 409, 410, 411, 412, 413, 414, 416, 417, 419, 420, 421, 423, 424, 425, 426, 427, 428, 429, 430, 431, 432, 433, 434, 435, 436, 437, 438, 439, 440, 441, 442, 443, 444, 445, 446, 449, 450, 451, 453, 454, 455, 456, 457, 458, 459, 460, 461, 462, 463, 464, 465, 466, 467, 468, 469, 470, 471, 472, 473, 474, 475, 476, 477, 478, 479, 481, 482, 483, 484, 485, 486, 487, 490, 491, 492, 493, 494, 495, 496, 497, 498, 500, 501, 502, 503, 504, 505, 506, 508, 509, 510, 511, 512, 514, 515, 516, 517, 518, 519, 520, 521, 522, 523, 524, 525, 526, 527, 528, 529, 530, 531, 532, 533, 534, 535, 536, 538, 540, 543, 544, 545, 547, 548, 549, 550, 551, 552, 553, 554, 555, 557, 558, 559, 560, 563, 565, 566, 567, 568, 569, 571, 573, 574, 576, 577, 578, 579, 580, 583, 585, 586, 587, 588, 589, 590, 591, 593, 594, 595, 596, 597, 599, 600, 601, 602, 603, 604, 605, 606, 607, 608, 609, 610, 611, 612, 613, 616, 617, 618, 619, 620, 621, 622, 623, 624, 625, 626, 627, 628, 629, 630, 631, 632, 633, 634, 635, 636, 638, 640, 641, 642, 643, 645, 646, 647, 648, 649, 650, 651, 653, 654, 655, 656, 657, 659, 661, 662, 663, 664, 667, 668, 669, 670, 671, 672, 673, 674, 676, 677, 678, 680, 681, 682, 683, 684, 685, 686, 687, 688, 689, 690, 691, 693, 694, 695, 696, 699, 700, 701, 702, 703, 704, 705, 706, 707, 708, 709, 710, 711, 712, 714, 716, 717, 718, 719, 720, 721, 722, 723, 724, 725, 726, 727, 728, 729, 731, 732, 733, 734, 735, 736, 737, 738, 739, 741, 742, 745, 746, 747, 748, 749, 752, 753, 754, 755, 756, 759, 760, 761, 762, 763, 764, 765, 766, 767, 770, 771, 772, 773, 776, 777, 778, 780, 781, 783, 784, 785, 786, 787, 788, 789, 790, 791, 792, 793, 794, 795, 796, 797, 798, 799, 800, 801, 802, 803, 804, 805, 807, 808, 811, 814, 816, 817, 818, 819, 820, 821, 822, 823, 824, 825, 826, 827, 828, 829, 830, 831, 832, 833, 835, 836, 837, 838, 839, 840, 841, 842, 843, 846, 848, 849, 850, 851, 852, 853, 854, 855, 856, 857, 858, 859, 860, 861, 864, 865, 866, 867, 868, 869, 870, 871, 872, 873, 874, 875, 876, 877, 879, 883, 884, 885, 887, 888, 889, 890, 891, 892, 893, 894, 896, 897, 899, 901, 902, 903, 904, 905, 906, 907, 908, 909, 910, 911, 912, 913, 914, 915, 916, 917, 918, 919, 920, 921, 923, 924, 926, 927, 930, 931, 932, 933, 934, 935, 936, 937, 938, 939, 940, 941, 942, 943, 944, 945, 947, 948, 949, 950, 951, 952, 953, 955, 956, 957, 958, 959, 960, 961, 962, 963, 964, 965, 966, 967, 968, 971, 972, 973, 974, 975, 976, 977, 979, 980, 981, 982, 983, 984, 985, 987, 991, 992, 993, 994, 995, 996, 997, 999, 1000, 1001, 1002, 1003, 1004, 1005, 1006, 1007, 1008, 1009, 1010, 1011, 1012, 1013, 1014, 1015, 1016, 1017, 1018, 1019, 1020, 1021, 1022, 1023, 1024, 1025, 1027, 1028, 1029, 1030, 1031, 1032, 1033, 1034, 1035, 1038, 1039, 1040, 1041, 1042, 1043, 1044, 1045, 1046, 1047, 1048, 1050, 1051, 1052, 1053, 1054, 1055, 1056, 1057, 1058, 1059, 1060, 1061, 1062, 1063, 1064, 1065, 1066, 1067, 1068, 1069, 1070, 1071, 1072, 1073, 1076, 1077, 1078, 1079, 1081, 1082, 1083, 1084, 1085, 1086, 1087, 1088, 1089, 1090, 1091, 1092, 1093, 1094, 1095, 1096, 1097, 1098, 1099, 1100, 1101, 1102, 1103, 1104, 1105, 1106, 1107, 1108, 1109, 1110, 1112, 1113, 1114, 1115, 1116, 1117, 1118, 1119, 1121, 1122, 1123, 1125, 1126, 1127, 1128, 1129, 1131, 1132, 1134, 1135, 1136, 1137, 1138, 1140, 1141, 1142, 1143, 1144, 1145, 1148, 1149, 1151, 1154, 1155, 1156, 1157, 1158, 1159, 1160, 1162, 1163, 1164, 1165, 1168, 1169, 1170, 1172, 1173, 1174, 1175, 1176, 1177, 1178, 1179, 1180, 1181, 1182, 1183, 1184, 1185, 1186, 1187, 1188, 1189, 1190, 1194, 1195, 1196, 1197, 1198, 1199, 1200, 1201, 1202, 1203, 1204, 1205, 1206, 1207, 1209, 1210, 1211, 1212, 1213, 1214, 1215, 1218, 1219, 1220, 1221, 1222, 1223, 1224, 1225, 1226, 1227, 1228, 1229, 1230, 1231, 1232, 1233, 1234, 1235, 1236, 1237, 1238, 1239, 1240, 1241, 1243, 1244, 1245, 1246, 1247, 1248, 1250, 1251, 1252, 1253, 1254, 1255, 1256, 1257, 1258, 1259, 1264, 1265, 1266, 1267, 1269, 1270, 1274, 1275, 1276, 1277, 1278, 1279, 1280, 1281, 1282, 1283, 1284, 1285, 1286, 1287, 1288, 1290, 1293, 1294, 1295, 1296, 1297, 1298, 1299, 1300, 1301, 1302, 1303, 1304, 1305, 1306, 1307, 1308, 1309, 1310, 1311, 1312, 1313, 1314, 1315, 1316, 1317, 1318, 1319, 1320, 1321, 1322, 1323, 1324, 1325, 1326, 1327, 1328, 1329, 1330, 1331, 1332, 1333, 1334, 1335, 1336, 1337, 1338, 1341, 1342, 1343, 1344, 1345, 1346, 1347, 1348, 1349, 1350, 1351, 1356, 1358, 1360, 1361, 1362, 1363, 1365, 1366, 1367, 1368, 1370, 1372, 1374, 1375, 1376, 1377, 1378, 1379, 1380, 1381, 1382, 1385, 1386, 1387, 1388, 1389, 1390, 1391, 1392, 1395, 1396, 1397, 1398, 1399, 1400, 1401, 1402, 1404, 1405, 1406, 1407, 1408, 1409, 1410, 1411, 1412, 1413, 1414, 1415, 1416, 1417, 1418, 1419, 1420, 1422, 1423, 1424, 1425, 1426, 1427, 1428, 1433, 1434, 1435, 1436, 1437, 1438, 1439, 1440, 1441, 1442, 1443, 1444, 1445, 1446, 1447, 1448, 1449, 1450, 1451, 1452, 1453, 1454, 1455, 1457, 1458, 1459, 1461, 1465, 1469, 1470, 1472, 1473, 1474, 1475, 1476, 1477, 1478, 1479, 1480, 1481, 1482, 1483, 1484, 1485, 1486, 1487, 1488, 1489, 1490, 1491, 1492, 1493, 1494, 1495, 1496, 1497, 1498, 1499, 1500, 1501, 1502, 1505, 1506, 1507, 1508, 1509, 1510, 1512, 1513, 1514, 1516, 1520, 1521, 1522, 1524, 1525, 1526, 1527, 1528, 1529, 1530, 1531, 1532, 1533, 1534, 1535, 1536, 1537, 1538, 1539, 1540, 1541, 1543, 1544, 1545, 1546, 1549, 1550, 1551, 1553, 1554, 1555, 1556, 1557, 1558, 1559, 1560, 1562, 1563, 1564, 1565, 1566, 1567, 1568, 1569, 1570, 1571, 1572, 1573, 1574, 1575, 1576, 1577, 1578, 1580, 1581, 1582, 1583, 1584, 1585, 1586, 1587, 1588, 1589, 1590, 1591, 1592, 1593, 1594, 1595, 1596, 1597, 1598, 1601, 1602, 1603, 1604, 1605, 1606, 1607, 1608, 1609, 1610, 1611, 1612, 1613, 1614, 1615, 1618, 1619, 1620, 1621, 1622, 1625, 1626, 1628, 1629, 1630, 1631, 1632, 1633, 1634, 1635, 1636, 1637, 1638, 1639, 1640, 1641, 1642, 1643, 1644, 1645, 1646, 1647, 1648, 1649, 1651, 1652, 1653, 1654, 1655, 1656, 1657, 1658, 1659, 1660, 1661, 1662, 1664, 1665, 1666, 1667, 1668, 1669, 1670, 1671, 1672, 1673, 1674, 1678, 1679, 1683, 1686, 1687, 1688, 1689, 1691, 1692, 1693, 1694, 1695, 1696, 1697, 1698, 1699, 1700, 1701, 1702, 1703, 1704, 1705, 1706, 1707, 1708, 1709, 1710, 1711, 1713, 1714, 1715, 1716, 1717, 1718, 1719, 1720, 1721, 1722, 1723, 1724, 1725, 1726, 1727, 1728, 1729, 1730, 1731, 1732, 1733, 1734, 1735, 1736, 1737, 1739, 1740, 1741, 1742, 1743, 1744, 1745, 1746, 1747, 1748, 1749, 1750, 1751, 1752, 1755, 1756, 1757, 1758, 1759, 1760, 1763, 1764, 1765, 1766, 1767, 1768, 1769, 1770, 1771, 1772, 1773, 1774, 1775, 1776, 1777, 1778, 1779, 1780, 1781, 1782, 1783, 1784, 1785, 1786, 1787, 1789, 1790, 1791, 1792, 1793, 1794, 1795, 1796, 1797, 1798, 1799, 1800, 1801, 1802, 1804, 1805, 1806, 1808, 1809, 1811, 1812, 1813, 1814, 1815, 1816, 1817, 1818, 1819, 1820, 1821, 1822, 1823, 1824, 1825, 1827, 1828, 1829, 1830, 1831, 1832, 1833, 1835, 1836, 1837, 1838, 1840, 1841, 1842, 1843, 1844, 1845, 1846, 1847, 1848, 1849, 1851, 1852, 1853, 1854, 1855, 1856, 1857, 1858, 1859, 1860, 1862, 1863, 1864, 1865, 1866, 1867, 1870, 1871, 1872, 1873, 1874, 1875, 1876, 1877, 1878, 1879, 1880, 1881, 1882, 1884, 1885, 1886, 1887, 1888, 1889, 1891, 1892, 1893, 1894, 1895, 1896, 1897, 1898, 1899, 1901, 1902, 1903, 1904, 1905, 1906, 1907, 1908, 1909, 1910, 1911, 1912, 1913, 1914, 1915, 1916, 1917, 1918, 1920, 1921, 1922, 1924, 1925, 1926, 1927, 1928, 1929, 1930, 1931, 1932, 1933, 1934, 1935, 1936, 1937, 1938, 1939, 1940, 1941, 1942, 1943, 1944, 1945, 1946, 1948, 1949, 1950, 1951, 1952, 1953, 1954, 1955, 1956, 1957, 1958, 1959, 1961, 1962, 1963, 1964, 1965, 1966, 1967, 1968, 1969, 1970, 1971, 1972, 1973, 1975, 1979, 1980, 1981, 1982, 1983, 1984, 1985, 1986, 1987, 1988, 1989, 1991, 1992, 1993, 1994, 1995, 1996, 1997, 1998, 1999, 2001, 2002, 2003, 2004]\n",
      "Maximum Value of Model ID\n",
      "2004\n",
      "Minimum Value of Model ID\n",
      "1\n",
      "Total Number Of Model Unique IDs\n",
      "1716\n"
     ]
    }
   ],
   "source": [
    "df_model_id_unique = df.model_id.unique() ## Abstract model ID uniques values\n",
    "print('Sorted Unique Value from Model ID')\n",
    "print(sorted(df_model_id_unique))\n",
    "print('Maximum Value of Model ID')\n",
    "print(max(df_model_id_unique))\n",
    "print('Minimum Value of Model ID')\n",
    "print(min(df_model_id_unique))\n",
    "num_model_id_unique = len(df_model_id_unique)\n",
    "print('Total Number Of Model Unique IDs')\n",
    "print(num_model_id_unique)"
   ]
  },
  {
   "cell_type": "code",
   "execution_count": 9,
   "metadata": {
    "colab": {
     "base_uri": "https://localhost:8080/",
     "height": 534
    },
    "executionInfo": {
     "elapsed": 1329,
     "status": "ok",
     "timestamp": 1604559134042,
     "user": {
      "displayName": "Shearman Chua",
      "photoUrl": "",
      "userId": "02072421428658916568"
     },
     "user_tz": -480
    },
    "id": "46FyGkK2OseR",
    "outputId": "679d0037-cad8-4322-db90-4962385b14ca"
   },
   "outputs": [
    {
     "data": {
      "text/plain": [
       "<matplotlib.axes._subplots.AxesSubplot at 0x7fa539a29710>"
      ]
     },
     "execution_count": 9,
     "metadata": {
      "tags": []
     },
     "output_type": "execute_result"
    },
    {
     "data": {
      "image/png": "[encoded data removed]",
      "text/plain": [
       "<Figure size 1440x720 with 1 Axes>"
      ]
     },
     "metadata": {
      "needs_background": "light",
      "tags": []
     },
     "output_type": "display_data"
    }
   ],
   "source": [
    "plt.figure(figsize=(20,10))\n",
    "plt.title(\"Make ID Histogram\")\n",
    "plt.ylabel('Counts')\n",
    "plt.xlabel('Make ID')\n",
    "df.make_id.hist(bins= num_make_id_unique,  color='red')"
   ]
  },
  {
   "cell_type": "code",
   "execution_count": 10,
   "metadata": {
    "colab": {
     "base_uri": "https://localhost:8080/",
     "height": 537
    },
    "executionInfo": {
     "elapsed": 4274,
     "status": "ok",
     "timestamp": 1604559139030,
     "user": {
      "displayName": "Shearman Chua",
      "photoUrl": "",
      "userId": "02072421428658916568"
     },
     "user_tz": -480
    },
    "id": "gqhHm0fNOseT",
    "outputId": "5f657d2a-b3b3-41b2-d53a-f83b0ade63f7"
   },
   "outputs": [
    {
     "data": {
      "text/plain": [
       "<matplotlib.axes._subplots.AxesSubplot at 0x7fa53861a390>"
      ]
     },
     "execution_count": 10,
     "metadata": {
      "tags": []
     },
     "output_type": "execute_result"
    },
    {
     "data": {
      "image/png": "[encoded data removed]",
      "text/plain": [
       "<Figure size 1440x720 with 1 Axes>"
      ]
     },
     "metadata": {
      "needs_background": "light",
      "tags": []
     },
     "output_type": "display_data"
    }
   ],
   "source": [
    "plt.figure(figsize=(20,10))\n",
    "plt.title(\"Model ID Histogram\")\n",
    "plt.ylabel('Counts')\n",
    "plt.xlabel('Model ID')\n",
    "df.model_id.hist(bins=num_model_id_unique, color='red')"
   ]
  },
  {
   "cell_type": "code",
   "execution_count": 11,
   "metadata": {
    "executionInfo": {
     "elapsed": 1201,
     "status": "ok",
     "timestamp": 1604559142226,
     "user": {
      "displayName": "Shearman Chua",
      "photoUrl": "",
      "userId": "02072421428658916568"
     },
     "user_tz": -480
    },
    "id": "OqrxGvZCREtl"
   },
   "outputs": [],
   "source": [
    "IMAGE_SIZE = [224,224]\n",
    "BATCH_SIZE = 64\n",
    "GCS_PATH = 'gs://kds-e1bfc134860e3621183d155dc2b4eaa4efab82fb09f377e0413778ac'\n",
    "tfrecord_train_dir = GCS_PATH + '/train'\n",
    "tfrecord_val_dir = GCS_PATH + '/val'\n",
    "\n",
    "option_no_order = tf.data.Options()\n",
    "option_no_order.experimental_deterministic = False\n",
    "AUTO = tf.data.experimental.AUTOTUNE\n",
    "\n",
    "train_path = tf.io.gfile.glob(tfrecord_train_dir + \"/*.tfrec\")\n",
    "val_path = tf.io.gfile.glob(tfrecord_val_dir + \"/*.tfrec\")\n",
    "\n",
    "training_dataset = tf.data.TFRecordDataset(train_path, num_parallel_reads=AUTO)\n",
    "training_dataset = training_dataset.with_options(option_no_order)\n",
    "training_dataset = training_dataset.repeat()\n",
    "training_dataset = training_dataset.shuffle(1000 + 3*BATCH_SIZE)\n",
    "training_dataset = training_dataset.map(read_tfrecord, num_parallel_calls=AUTO)\n",
    "training_dataset = training_dataset.batch(BATCH_SIZE)\n",
    "training_dataset = training_dataset.map(augment, num_parallel_calls=AUTO)\n",
    "training_dataset = training_dataset.map(normalise, num_parallel_calls=AUTO)\n",
    "training_dataset = training_dataset.prefetch(AUTO)\n",
    "\n",
    "val_dataset = tf.data.TFRecordDataset(val_path, num_parallel_reads=AUTO)\n",
    "val_dataset = val_dataset.with_options(option_no_order)\n",
    "val_dataset = val_dataset.map(read_tfrecord, num_parallel_calls=AUTO)\n",
    "val_dataset = val_dataset.batch(BATCH_SIZE)\n",
    "val_dataset = val_dataset.map(augment, num_parallel_calls=AUTO)\n",
    "val_dataset = val_dataset.map(normalise, num_parallel_calls=AUTO)\n",
    "val_dataset = val_dataset.cache()\n",
    "val_dataset = val_dataset.prefetch(AUTO)\n"
   ]
  },
  {
   "cell_type": "code",
   "execution_count": 12,
   "metadata": {
    "executionInfo": {
     "elapsed": 732,
     "status": "ok",
     "timestamp": 1604559144733,
     "user": {
      "displayName": "Shearman Chua",
      "photoUrl": "",
      "userId": "02072421428658916568"
     },
     "user_tz": -480
    },
    "id": "md1b2BSJyStO"
   },
   "outputs": [],
   "source": [
    "def lr_curve(epoch):\n",
    "  if (epoch < 5):\n",
    "    return 1e-6 + epoch*((1e-1-1e-6)/6)\n",
    "\n",
    "  initial_lrate = 1e-1\n",
    "  k = 0.1\n",
    "  lrate = initial_lrate * math.exp(-k*epoch)\n",
    "\n",
    "  return lrate"
   ]
  },
  {
   "cell_type": "code",
   "execution_count": 13,
   "metadata": {
    "colab": {
     "base_uri": "https://localhost:8080/",
     "height": 281
    },
    "executionInfo": {
     "elapsed": 801,
     "status": "ok",
     "timestamp": 1604559146429,
     "user": {
      "displayName": "Shearman Chua",
      "photoUrl": "",
      "userId": "02072421428658916568"
     },
     "user_tz": -480
    },
    "id": "l4S1EdzVyTIB",
    "outputId": "103e5ac8-91ee-4285-f934-4113199611ba"
   },
   "outputs": [
    {
     "data": {
      "text/plain": [
       "[<matplotlib.lines.Line2D at 0x7fa536e6ad68>]"
      ]
     },
     "execution_count": 13,
     "metadata": {
      "tags": []
     },
     "output_type": "execute_result"
    },
    {
     "data": {
      "image/png": "[encoded data removed]",
      "text/plain": [
       "<Figure size 432x288 with 1 Axes>"
      ]
     },
     "metadata": {
      "needs_background": "light",
      "tags": []
     },
     "output_type": "display_data"
    }
   ],
   "source": [
    "plt.plot([lr_curve(i) for i in range(1,50)])"
   ]
  },
  {
   "cell_type": "code",
   "execution_count": 14,
   "metadata": {
    "executionInfo": {
     "elapsed": 688,
     "status": "ok",
     "timestamp": 1604559148511,
     "user": {
      "displayName": "Shearman Chua",
      "photoUrl": "",
      "userId": "02072421428658916568"
     },
     "user_tz": -480
    },
    "id": "FGFWUxrwhJ2h"
   },
   "outputs": [],
   "source": [
    "def lr_curve_alt(epoch):\n",
    "\n",
    "  initial_lrate = 1e-1\n",
    "  k = 0.1\n",
    "  lrate = initial_lrate * math.exp(-k*(epoch+10))\n",
    "\n",
    "  return lrate"
   ]
  },
  {
   "cell_type": "code",
   "execution_count": 15,
   "metadata": {
    "colab": {
     "base_uri": "https://localhost:8080/"
    },
    "executionInfo": {
     "elapsed": 3237,
     "status": "ok",
     "timestamp": 1604559151875,
     "user": {
      "displayName": "Shearman Chua",
      "photoUrl": "",
      "userId": "02072421428658916568"
     },
     "user_tz": -480
    },
    "id": "gV8Tk2bcPZko",
    "outputId": "09f8d3bc-dd1f-4fc2-dde8-8b3d605df745"
   },
   "outputs": [
    {
     "name": "stdout",
     "output_type": "stream",
     "text": [
      "Requirement already satisfied: pyyaml in /usr/local/lib/python3.6/dist-packages (3.13)\n",
      "Requirement already satisfied: h5py in /usr/local/lib/python3.6/dist-packages (2.10.0)\n",
      "Requirement already satisfied: numpy>=1.7 in /usr/local/lib/python3.6/dist-packages (from h5py) (1.18.5)\n",
      "Requirement already satisfied: six in /usr/local/lib/python3.6/dist-packages (from h5py) (1.15.0)\n"
     ]
    }
   ],
   "source": [
    "!pip install pyyaml h5py  "
   ]
  },
  {
   "cell_type": "code",
   "execution_count": 16,
   "metadata": {
    "colab": {
     "base_uri": "https://localhost:8080/"
    },
    "executionInfo": {
     "elapsed": 51828,
     "status": "ok",
     "timestamp": 1604559202815,
     "user": {
      "displayName": "Shearman Chua",
      "photoUrl": "",
      "userId": "02072421428658916568"
     },
     "user_tz": -480
    },
    "id": "4hWIedrkgGGu",
    "outputId": "5bbb3d18-52e6-4864-ae7b-d8c4ae183d64"
   },
   "outputs": [
    {
     "name": "stdout",
     "output_type": "stream",
     "text": [
      "Downloading data from https://github.com/qubvel/efficientnet/releases/download/v0.0.1/efficientnet-b5_noisy-student_notop.h5\n",
      "115261440/115255328 [==============================] - 2s 0us/step\n",
      "Model: \"functional_1\"\n",
      "__________________________________________________________________________________________________\n",
      "Layer (type)                    Output Shape         Param #     Connected to                     \n",
      "==================================================================================================\n",
      "input_2 (InputLayer)            [(None, 224, 224, 3) 0                                            \n",
      "__________________________________________________________________________________________________\n",
      "efficientnet-b5 (Functional)    (None, None, None, 2 28513520    input_2[0][0]                    \n",
      "__________________________________________________________________________________________________\n",
      "global_average_pooling2d (Globa (None, 2048)         0           efficientnet-b5[0][0]            \n",
      "__________________________________________________________________________________________________\n",
      "dense (Dense)                   (None, 256)          524544      global_average_pooling2d[0][0]   \n",
      "__________________________________________________________________________________________________\n",
      "dropout (Dropout)               (None, 256)          0           dense[0][0]                      \n",
      "__________________________________________________________________________________________________\n",
      "dense_1 (Dense)                 (None, 256)          65792       dropout[0][0]                    \n",
      "__________________________________________________________________________________________________\n",
      "dropout_1 (Dropout)             (None, 256)          0           dense_1[0][0]                    \n",
      "__________________________________________________________________________________________________\n",
      "dense_2 (Dense)                 (None, 128)          32896       dropout_1[0][0]                  \n",
      "__________________________________________________________________________________________________\n",
      "dense_4 (Dense)                 (None, 128)          32896       dropout_1[0][0]                  \n",
      "__________________________________________________________________________________________________\n",
      "dropout_2 (Dropout)             (None, 128)          0           dense_2[0][0]                    \n",
      "__________________________________________________________________________________________________\n",
      "dropout_4 (Dropout)             (None, 128)          0           dense_4[0][0]                    \n",
      "__________________________________________________________________________________________________\n",
      "dense_3 (Dense)                 (None, 64)           8256        dropout_2[0][0]                  \n",
      "__________________________________________________________________________________________________\n",
      "dense_5 (Dense)                 (None, 64)           8256        dropout_4[0][0]                  \n",
      "__________________________________________________________________________________________________\n",
      "dropout_3 (Dropout)             (None, 64)           0           dense_3[0][0]                    \n",
      "__________________________________________________________________________________________________\n",
      "dropout_5 (Dropout)             (None, 64)           0           dense_5[0][0]                    \n",
      "__________________________________________________________________________________________________\n",
      "make_id (Dense)                 (None, 163)          10595       dropout_3[0][0]                  \n",
      "__________________________________________________________________________________________________\n",
      "model_id (Dense)                (None, 1716)         111540      dropout_5[0][0]                  \n",
      "==================================================================================================\n",
      "Total params: 29,308,295\n",
      "Trainable params: 29,135,559\n",
      "Non-trainable params: 172,736\n",
      "__________________________________________________________________________________________________\n"
     ]
    }
   ],
   "source": [
    "with strategy.scope():\n",
    "  model = build_model(\n",
    "            5,\n",
    "            1e-6,\n",
    "            ['categorical_crossentropy', 'categorical_crossentropy'], \n",
    "            {'make_id':'accuracy', 'model_id':'accuracy'}\n",
    "    )\n",
    "model.summary()"
   ]
  },
  {
   "cell_type": "code",
   "execution_count": 17,
   "metadata": {
    "colab": {
     "base_uri": "https://localhost:8080/"
    },
    "executionInfo": {
     "elapsed": 6506811,
     "status": "ok",
     "timestamp": 1604565709642,
     "user": {
      "displayName": "Shearman Chua",
      "photoUrl": "",
      "userId": "02072421428658916568"
     },
     "user_tz": -480
    },
    "id": "rMuF4m09Osea",
    "outputId": "4b47d26d-bc5e-4656-818b-9cb56c51f57e",
    "scrolled": false
   },
   "outputs": [
    {
     "name": "stdout",
     "output_type": "stream",
     "text": [
      "Epoch 1/20\n",
      "WARNING:tensorflow:From /usr/local/lib/python3.6/dist-packages/tensorflow/python/data/ops/multi_device_iterator_ops.py:601: get_next_as_optional (from tensorflow.python.data.ops.iterator_ops) is deprecated and will be removed in a future version.\n",
      "Instructions for updating:\n",
      "Use `tf.data.Iterator.get_next_as_optional()` instead.\n"
     ]
    },
    {
     "name": "stderr",
     "output_type": "stream",
     "text": [
      "WARNING:tensorflow:From /usr/local/lib/python3.6/dist-packages/tensorflow/python/data/ops/multi_device_iterator_ops.py:601: get_next_as_optional (from tensorflow.python.data.ops.iterator_ops) is deprecated and will be removed in a future version.\n",
      "Instructions for updating:\n",
      "Use `tf.data.Iterator.get_next_as_optional()` instead.\n"
     ]
    },
    {
     "name": "stdout",
     "output_type": "stream",
     "text": [
      "   2/1495 [..............................] - ETA: 2:24 - loss: 12.5306 - make_id_loss: 5.0876 - model_id_loss: 7.4431 - make_id_accuracy: 0.0000e+00 - model_id_accuracy: 0.0000e+00WARNING:tensorflow:Callbacks method `on_train_batch_end` is slow compared to the batch time (batch time: 0.0188s vs `on_train_batch_end` time: 0.1661s). Check your callbacks.\n"
     ]
    },
    {
     "name": "stderr",
     "output_type": "stream",
     "text": [
      "WARNING:tensorflow:Callbacks method `on_train_batch_end` is slow compared to the batch time (batch time: 0.0188s vs `on_train_batch_end` time: 0.1661s). Check your callbacks.\n"
     ]
    },
    {
     "name": "stdout",
     "output_type": "stream",
     "text": [
      "1495/1495 [==============================] - ETA: 0s - loss: 12.5476 - make_id_loss: 5.0988 - model_id_loss: 7.4488 - make_id_accuracy: 0.0063 - model_id_accuracy: 4.8077e-04WARNING:tensorflow:Callbacks method `on_test_batch_end` is slow compared to the batch time (batch time: 0.0102s vs `on_test_batch_end` time: 0.0713s). Check your callbacks.\n"
     ]
    },
    {
     "name": "stderr",
     "output_type": "stream",
     "text": [
      "WARNING:tensorflow:Callbacks method `on_test_batch_end` is slow compared to the batch time (batch time: 0.0102s vs `on_test_batch_end` time: 0.0713s). Check your callbacks.\n"
     ]
    },
    {
     "name": "stdout",
     "output_type": "stream",
     "text": [
      "\b\b\b\b\b\b\b\b\b\b\b\b\b\b\b\b\b\b\b\b\b\b\b\b\b\b\b\b\b\b\b\b\b\b\b\b\b\b\b\b\b\b\b\b\b\b\b\b\b\b\b\b\b\b\b\b\b\b\b\b\b\b\b\b\b\b\b\b\b\b\b\b\b\b\b\b\b\b\b\b\b\b\b\b\b\b\b\b\b\b\b\b\b\b\b\b\b\b\b\b\b\b\b\b\b\b\b\b\b\b\b\b\b\b\b\b\b\b\b\b\b\b\b\b\b\b\b\b\b\b\b\b\b\b\b\b\b\b\b\b\b\b\b\b\b\b\b\b\b\b\b\b\b\b\b\b\b\b\b\b\b\b\b\b\b\b\b\b\b\b\b\b\b\b\r",
      "1495/1495 [==============================] - 334s 223ms/step - loss: 12.5476 - make_id_loss: 5.0988 - model_id_loss: 7.4488 - make_id_accuracy: 0.0063 - model_id_accuracy: 4.8077e-04 - val_loss: 15.0702 - val_make_id_loss: 6.8157 - val_model_id_loss: 8.2545 - val_make_id_accuracy: 0.0060 - val_model_id_accuracy: 3.6593e-04\n",
      "Epoch 2/20\n",
      "1495/1495 [==============================] - 309s 207ms/step - loss: 11.7531 - make_id_loss: 4.4468 - model_id_loss: 7.3064 - make_id_accuracy: 0.0432 - model_id_accuracy: 0.0016 - val_loss: 23.3714 - val_make_id_loss: 9.0803 - val_model_id_loss: 14.2911 - val_make_id_accuracy: 0.0576 - val_model_id_accuracy: 0.0031\n",
      "Epoch 3/20\n",
      "1495/1495 [==============================] - 312s 209ms/step - loss: 10.4405 - make_id_loss: 3.9276 - model_id_loss: 6.5129 - make_id_accuracy: 0.0936 - model_id_accuracy: 0.0085 - val_loss: 11.5396 - val_make_id_loss: 4.4031 - val_model_id_loss: 7.1365 - val_make_id_accuracy: 0.0601 - val_model_id_accuracy: 0.0048\n",
      "Epoch 4/20\n",
      "1495/1495 [==============================] - 312s 208ms/step - loss: 9.4334 - make_id_loss: 3.5915 - model_id_loss: 5.8420 - make_id_accuracy: 0.1406 - model_id_accuracy: 0.0185 - val_loss: 9.1031 - val_make_id_loss: 3.5341 - val_model_id_loss: 5.5690 - val_make_id_accuracy: 0.1665 - val_model_id_accuracy: 0.0274\n",
      "Epoch 5/20\n",
      "1495/1495 [==============================] - 309s 207ms/step - loss: 8.9833 - make_id_loss: 3.4366 - model_id_loss: 5.5467 - make_id_accuracy: 0.1726 - model_id_accuracy: 0.0271 - val_loss: 10.0162 - val_make_id_loss: 3.9129 - val_model_id_loss: 6.1033 - val_make_id_accuracy: 0.1376 - val_model_id_accuracy: 0.0212\n",
      "Epoch 6/20\n",
      "1495/1495 [==============================] - 317s 212ms/step - loss: 8.3204 - make_id_loss: 3.1886 - model_id_loss: 5.1318 - make_id_accuracy: 0.2151 - model_id_accuracy: 0.0410 - val_loss: 7.9537 - val_make_id_loss: 3.0650 - val_model_id_loss: 4.8887 - val_make_id_accuracy: 0.2439 - val_model_id_accuracy: 0.0581\n",
      "Epoch 7/20\n",
      "1495/1495 [==============================] - 319s 213ms/step - loss: 7.7814 - make_id_loss: 2.9663 - model_id_loss: 4.8151 - make_id_accuracy: 0.2592 - model_id_accuracy: 0.0556 - val_loss: 7.5366 - val_make_id_loss: 2.9017 - val_model_id_loss: 4.6348 - val_make_id_accuracy: 0.2837 - val_model_id_accuracy: 0.0722\n",
      "Epoch 8/20\n",
      "1495/1495 [==============================] - 323s 216ms/step - loss: 7.2991 - make_id_loss: 2.7598 - model_id_loss: 4.5393 - make_id_accuracy: 0.3011 - model_id_accuracy: 0.0720 - val_loss: 6.5881 - val_make_id_loss: 2.5280 - val_model_id_loss: 4.0601 - val_make_id_accuracy: 0.3548 - val_model_id_accuracy: 0.1104\n",
      "Epoch 9/20\n",
      "1495/1495 [==============================] - 319s 213ms/step - loss: 6.8804 - make_id_loss: 2.5839 - model_id_loss: 4.2964 - make_id_accuracy: 0.3389 - model_id_accuracy: 0.0893 - val_loss: 6.3044 - val_make_id_loss: 2.4104 - val_model_id_loss: 3.8940 - val_make_id_accuracy: 0.3858 - val_model_id_accuracy: 0.1277\n",
      "Epoch 10/20\n",
      "1495/1495 [==============================] - 317s 212ms/step - loss: 6.4832 - make_id_loss: 2.4082 - model_id_loss: 4.0749 - make_id_accuracy: 0.3745 - model_id_accuracy: 0.1066 - val_loss: 5.8722 - val_make_id_loss: 2.2034 - val_model_id_loss: 3.6688 - val_make_id_accuracy: 0.4189 - val_model_id_accuracy: 0.1529\n",
      "Epoch 11/20\n",
      "1495/1495 [==============================] - 314s 210ms/step - loss: 6.1215 - make_id_loss: 2.2498 - model_id_loss: 3.8716 - make_id_accuracy: 0.4081 - model_id_accuracy: 0.1262 - val_loss: 5.4138 - val_make_id_loss: 2.0167 - val_model_id_loss: 3.3971 - val_make_id_accuracy: 0.4623 - val_model_id_accuracy: 0.1773\n",
      "Epoch 12/20\n",
      "1495/1495 [==============================] - 314s 210ms/step - loss: 5.7866 - make_id_loss: 2.0991 - model_id_loss: 3.6874 - make_id_accuracy: 0.4457 - model_id_accuracy: 0.1434 - val_loss: 4.9805 - val_make_id_loss: 1.8214 - val_model_id_loss: 3.1591 - val_make_id_accuracy: 0.5052 - val_model_id_accuracy: 0.2076\n",
      "Epoch 13/20\n",
      "1495/1495 [==============================] - 317s 212ms/step - loss: 5.4745 - make_id_loss: 1.9531 - model_id_loss: 3.5213 - make_id_accuracy: 0.4789 - model_id_accuracy: 0.1597 - val_loss: 4.8208 - val_make_id_loss: 1.7571 - val_model_id_loss: 3.0636 - val_make_id_accuracy: 0.5415 - val_model_id_accuracy: 0.2290\n",
      "Epoch 14/20\n",
      "1495/1495 [==============================] - 319s 213ms/step - loss: 5.1830 - make_id_loss: 1.8279 - model_id_loss: 3.3551 - make_id_accuracy: 0.5101 - model_id_accuracy: 0.1802 - val_loss: 4.5398 - val_make_id_loss: 1.6294 - val_model_id_loss: 2.9103 - val_make_id_accuracy: 0.5581 - val_model_id_accuracy: 0.2487\n",
      "Epoch 15/20\n",
      "1495/1495 [==============================] - 318s 213ms/step - loss: 4.8938 - make_id_loss: 1.6978 - model_id_loss: 3.1959 - make_id_accuracy: 0.5412 - model_id_accuracy: 0.1997 - val_loss: 4.1264 - val_make_id_loss: 1.4603 - val_model_id_loss: 2.6660 - val_make_id_accuracy: 0.6027 - val_model_id_accuracy: 0.2846\n",
      "Epoch 16/20\n",
      "1495/1495 [==============================] - 318s 212ms/step - loss: 4.6277 - make_id_loss: 1.5800 - model_id_loss: 3.0478 - make_id_accuracy: 0.5695 - model_id_accuracy: 0.2181 - val_loss: 3.9415 - val_make_id_loss: 1.3884 - val_model_id_loss: 2.5531 - val_make_id_accuracy: 0.6280 - val_model_id_accuracy: 0.3096\n",
      "Epoch 17/20\n",
      "1495/1495 [==============================] - 315s 210ms/step - loss: 4.3929 - make_id_loss: 1.4793 - model_id_loss: 2.9136 - make_id_accuracy: 0.5964 - model_id_accuracy: 0.2393 - val_loss: 3.6451 - val_make_id_loss: 1.2593 - val_model_id_loss: 2.3858 - val_make_id_accuracy: 0.6546 - val_model_id_accuracy: 0.3358\n",
      "Epoch 18/20\n",
      "1495/1495 [==============================] - 317s 212ms/step - loss: 4.1462 - make_id_loss: 1.3682 - model_id_loss: 2.7780 - make_id_accuracy: 0.6203 - model_id_accuracy: 0.2583 - val_loss: 3.5479 - val_make_id_loss: 1.2180 - val_model_id_loss: 2.3299 - val_make_id_accuracy: 0.6729 - val_model_id_accuracy: 0.3512\n",
      "Epoch 19/20\n",
      "1495/1495 [==============================] - 315s 210ms/step - loss: 3.9724 - make_id_loss: 1.2922 - model_id_loss: 2.6801 - make_id_accuracy: 0.6406 - model_id_accuracy: 0.2742 - val_loss: 3.3374 - val_make_id_loss: 1.1290 - val_model_id_loss: 2.2084 - val_make_id_accuracy: 0.6931 - val_model_id_accuracy: 0.3697\n",
      "Epoch 20/20\n",
      "1495/1495 [==============================] - 318s 212ms/step - loss: 3.7600 - make_id_loss: 1.2006 - model_id_loss: 2.5594 - make_id_accuracy: 0.6654 - model_id_accuracy: 0.2917 - val_loss: 3.1622 - val_make_id_loss: 1.0607 - val_model_id_loss: 2.1015 - val_make_id_accuracy: 0.7084 - val_model_id_accuracy: 0.3899\n"
     ]
    }
   ],
   "source": [
    "with strategy.scope():\n",
    "  checkpoint = ModelCheckpoint('/content/drive/My Drive/CZ4042 Project/model_checkpoints/ckpt-{epoch}-augment.h5', \n",
    "                              monitor='val_loss', verbose=0, save_best_only=True, save_weights_only=True, mode='min')\n",
    "  steps_per_epoch=(0.7*len(df)) // BATCH_SIZE\n",
    "  validation_steps=(0.2*len(df)) // BATCH_SIZE\n",
    "\n",
    "  history = model.fit(\n",
    "      training_dataset,\n",
    "      steps_per_epoch=steps_per_epoch,\n",
    "      validation_data=val_dataset,\n",
    "      validation_steps=validation_steps,\n",
    "      epochs=20,\n",
    "      callbacks=[checkpoint, LearningRateScheduler(lr_curve)]\n",
    "  )"
   ]
  },
  {
   "cell_type": "code",
   "execution_count": 18,
   "metadata": {
    "executionInfo": {
     "elapsed": 6528,
     "status": "ok",
     "timestamp": 1604565716190,
     "user": {
      "displayName": "Shearman Chua",
      "photoUrl": "",
      "userId": "02072421428658916568"
     },
     "user_tz": -480
    },
    "id": "9NpvMpgeGnEt"
   },
   "outputs": [],
   "source": [
    "model.save('/content/drive/My Drive/CZ4042 Project/model_checkpoints/first20.h5')"
   ]
  },
  {
   "cell_type": "code",
   "execution_count": 19,
   "metadata": {
    "executionInfo": {
     "elapsed": 6993,
     "status": "ok",
     "timestamp": 1604565716684,
     "user": {
      "displayName": "Shearman Chua",
      "photoUrl": "",
      "userId": "02072421428658916568"
     },
     "user_tz": -480
    },
    "id": "eHBlNpQNc59z"
   },
   "outputs": [],
   "source": [
    "# convert the history.history dict to a pandas DataFrame:     \n",
    "hist_df = pd.DataFrame(history.history) \n",
    "\n",
    "# or save to csv: \n",
    "hist_csv_file = '/content/drive/My Drive/CZ4042 Project/history.csv'\n",
    "with open(hist_csv_file, mode='w') as f:\n",
    "    hist_df.to_csv(f)"
   ]
  },
  {
   "cell_type": "code",
   "execution_count": null,
   "metadata": {
    "id": "gFuFv8xlOObV"
   },
   "outputs": [],
   "source": [
    "with strategy.scope():\n",
    "  model = tf.keras.models.load_model('/content/drive/My Drive/CZ4042 Project/model_checkpoints/ckpt-10-augment.h5')"
   ]
  },
  {
   "cell_type": "code",
   "execution_count": null,
   "metadata": {
    "colab": {
     "base_uri": "https://localhost:8080/",
     "height": 1000
    },
    "executionInfo": {
     "elapsed": 2874417,
     "status": "error",
     "timestamp": 1604478145160,
     "user": {
      "displayName": "Shearman Chua",
      "photoUrl": "",
      "userId": "15712067180272988796"
     },
     "user_tz": -480
    },
    "id": "k0_zapP9OgY0",
    "outputId": "38ede18c-6e80-4169-9ac5-340b533ccc72"
   },
   "outputs": [
    {
     "name": "stdout",
     "output_type": "stream",
     "text": [
      "Epoch 1/20\n",
      "  2/373 [..............................] - ETA: 2:09 - loss: 3.1538 - make_id_loss: 0.7621 - model_id_loss: 2.3917 - make_id_accuracy: 0.7793 - model_id_accuracy: 0.3359WARNING:tensorflow:Callbacks method `on_train_batch_end` is slow compared to the batch time (batch time: 0.0206s vs `on_train_batch_end` time: 0.6690s). Check your callbacks.\n"
     ]
    },
    {
     "name": "stderr",
     "output_type": "stream",
     "text": [
      "WARNING:tensorflow:Callbacks method `on_train_batch_end` is slow compared to the batch time (batch time: 0.0206s vs `on_train_batch_end` time: 0.6690s). Check your callbacks.\n"
     ]
    },
    {
     "name": "stdout",
     "output_type": "stream",
     "text": [
      "373/373 [==============================] - ETA: 0s - loss: 3.5384 - make_id_loss: 0.9091 - model_id_loss: 2.6293 - make_id_accuracy: 0.7456 - model_id_accuracy: 0.2811WARNING:tensorflow:Callbacks method `on_test_batch_end` is slow compared to the batch time (batch time: 0.0127s vs `on_test_batch_end` time: 0.0929s). Check your callbacks.\n"
     ]
    },
    {
     "name": "stderr",
     "output_type": "stream",
     "text": [
      "WARNING:tensorflow:Callbacks method `on_test_batch_end` is slow compared to the batch time (batch time: 0.0127s vs `on_test_batch_end` time: 0.0929s). Check your callbacks.\n"
     ]
    },
    {
     "name": "stdout",
     "output_type": "stream",
     "text": [
      "\n",
      "Epoch 00001: val_loss improved from inf to 13.72046, saving model to /content/drive/My Drive/CZ4042 Project/model_checkpoints/ckpt-1 + 10 -augment.h5\n",
      "373/373 [==============================] - 292s 784ms/step - loss: 3.5384 - make_id_loss: 0.9091 - model_id_loss: 2.6293 - make_id_accuracy: 0.7456 - model_id_accuracy: 0.2811 - val_loss: 13.7205 - val_make_id_loss: 5.0377 - val_model_id_loss: 8.6827 - val_make_id_accuracy: 0.0287 - val_model_id_accuracy: 8.4758e-04\n",
      "Epoch 2/20\n",
      "373/373 [==============================] - ETA: 0s - loss: 3.2338 - make_id_loss: 0.7837 - model_id_loss: 2.4500 - make_id_accuracy: 0.7792 - model_id_accuracy: 0.3113\n",
      "Epoch 00002: val_loss did not improve from 13.72046\n",
      "373/373 [==============================] - 284s 762ms/step - loss: 3.2338 - make_id_loss: 0.7837 - model_id_loss: 2.4500 - make_id_accuracy: 0.7792 - model_id_accuracy: 0.3113 - val_loss: 15.4225 - val_make_id_loss: 5.7108 - val_model_id_loss: 9.7117 - val_make_id_accuracy: 0.0204 - val_model_id_accuracy: 0.0011\n",
      "Epoch 3/20\n",
      "373/373 [==============================] - ETA: 0s - loss: 2.9043 - make_id_loss: 0.6510 - model_id_loss: 2.2534 - make_id_accuracy: 0.8158 - model_id_accuracy: 0.3448\n",
      "Epoch 00003: val_loss did not improve from 13.72046\n",
      "373/373 [==============================] - 285s 765ms/step - loss: 2.9043 - make_id_loss: 0.6510 - model_id_loss: 2.2534 - make_id_accuracy: 0.8158 - model_id_accuracy: 0.3448 - val_loss: 13.7529 - val_make_id_loss: 4.8646 - val_model_id_loss: 8.8883 - val_make_id_accuracy: 0.0268 - val_model_id_accuracy: 8.4758e-04\n",
      "Epoch 4/20\n",
      "373/373 [==============================] - ETA: 0s - loss: 2.6306 - make_id_loss: 0.5466 - model_id_loss: 2.0839 - make_id_accuracy: 0.8419 - model_id_accuracy: 0.3767\n",
      "Epoch 00004: val_loss did not improve from 13.72046\n",
      "373/373 [==============================] - 285s 765ms/step - loss: 2.6306 - make_id_loss: 0.5466 - model_id_loss: 2.0839 - make_id_accuracy: 0.8419 - model_id_accuracy: 0.3767 - val_loss: 15.1459 - val_make_id_loss: 5.4085 - val_model_id_loss: 9.7374 - val_make_id_accuracy: 0.0282 - val_model_id_accuracy: 3.6851e-04\n",
      "Epoch 5/20\n",
      "373/373 [==============================] - ETA: 0s - loss: 2.4027 - make_id_loss: 0.4671 - model_id_loss: 1.9355 - make_id_accuracy: 0.8655 - model_id_accuracy: 0.4103\n",
      "Epoch 00005: val_loss improved from 13.72046 to 9.43441, saving model to /content/drive/My Drive/CZ4042 Project/model_checkpoints/ckpt-5 + 10 -augment.h5\n",
      "373/373 [==============================] - 289s 775ms/step - loss: 2.4027 - make_id_loss: 0.4671 - model_id_loss: 1.9355 - make_id_accuracy: 0.8655 - model_id_accuracy: 0.4103 - val_loss: 9.4344 - val_make_id_loss: 4.0338 - val_model_id_loss: 5.4006 - val_make_id_accuracy: 0.3478 - val_model_id_accuracy: 0.1375\n",
      "Epoch 6/20\n",
      "373/373 [==============================] - ETA: 0s - loss: 2.1959 - make_id_loss: 0.3946 - model_id_loss: 1.8013 - make_id_accuracy: 0.8836 - model_id_accuracy: 0.4398\n",
      "Epoch 00006: val_loss did not improve from 9.43441\n",
      "373/373 [==============================] - 284s 762ms/step - loss: 2.1959 - make_id_loss: 0.3946 - model_id_loss: 1.8013 - make_id_accuracy: 0.8836 - model_id_accuracy: 0.4398 - val_loss: 15.6415 - val_make_id_loss: 5.8395 - val_model_id_loss: 9.8020 - val_make_id_accuracy: 0.0224 - val_model_id_accuracy: 0.0010\n",
      "Epoch 7/20\n",
      "373/373 [==============================] - ETA: 0s - loss: 2.0242 - make_id_loss: 0.3428 - model_id_loss: 1.6814 - make_id_accuracy: 0.8992 - model_id_accuracy: 0.4651\n",
      "Epoch 00007: val_loss did not improve from 9.43441\n",
      "373/373 [==============================] - 285s 763ms/step - loss: 2.0242 - make_id_loss: 0.3428 - model_id_loss: 1.6814 - make_id_accuracy: 0.8992 - model_id_accuracy: 0.4651 - val_loss: 13.4525 - val_make_id_loss: 5.2792 - val_model_id_loss: 8.1733 - val_make_id_accuracy: 0.0780 - val_model_id_accuracy: 0.0136\n",
      "Epoch 8/20\n",
      "373/373 [==============================] - ETA: 0s - loss: 1.8830 - make_id_loss: 0.2987 - model_id_loss: 1.5843 - make_id_accuracy: 0.9111 - model_id_accuracy: 0.4893\n",
      "Epoch 00008: val_loss did not improve from 9.43441\n",
      "373/373 [==============================] - 285s 763ms/step - loss: 1.8830 - make_id_loss: 0.2987 - model_id_loss: 1.5843 - make_id_accuracy: 0.9111 - model_id_accuracy: 0.4893 - val_loss: 15.2810 - val_make_id_loss: 5.5717 - val_model_id_loss: 9.7093 - val_make_id_accuracy: 0.0070 - val_model_id_accuracy: 8.8443e-04\n",
      "Epoch 9/20\n",
      "373/373 [==============================] - ETA: 0s - loss: 1.7450 - make_id_loss: 0.2643 - model_id_loss: 1.4807 - make_id_accuracy: 0.9212 - model_id_accuracy: 0.5159\n",
      "Epoch 00009: val_loss did not improve from 9.43441\n",
      "373/373 [==============================] - 286s 765ms/step - loss: 1.7450 - make_id_loss: 0.2643 - model_id_loss: 1.4807 - make_id_accuracy: 0.9212 - model_id_accuracy: 0.5159 - val_loss: 15.7318 - val_make_id_loss: 5.7651 - val_model_id_loss: 9.9667 - val_make_id_accuracy: 0.0070 - val_model_id_accuracy: 9.9499e-04\n",
      "Epoch 10/20\n",
      "373/373 [==============================] - ETA: 0s - loss: 1.6412 - make_id_loss: 0.2336 - model_id_loss: 1.4077 - make_id_accuracy: 0.9289 - model_id_accuracy: 0.5355\n",
      "Epoch 00010: val_loss improved from 9.43441 to 8.98295, saving model to /content/drive/My Drive/CZ4042 Project/model_checkpoints/ckpt-10 + 10 -augment.h5\n"
     ]
    },
    {
     "ename": "KeyboardInterrupt",
     "evalue": "ignored",
     "output_type": "error",
     "traceback": [
      "\u001b[0;31m---------------------------------------------------------------------------\u001b[0m",
      "\u001b[0;31mKeyboardInterrupt\u001b[0m                         Traceback (most recent call last)",
      "\u001b[0;32m<ipython-input-21-beadf7b0068a>\u001b[0m in \u001b[0;36m<module>\u001b[0;34m()\u001b[0m\n\u001b[1;32m      8\u001b[0m     \u001b[0mvalidation_steps\u001b[0m\u001b[0;34m=\u001b[0m\u001b[0;34m(\u001b[0m\u001b[0;36m0.2\u001b[0m\u001b[0;34m*\u001b[0m\u001b[0mlen\u001b[0m\u001b[0;34m(\u001b[0m\u001b[0mdf\u001b[0m\u001b[0;34m)\u001b[0m\u001b[0;34m)\u001b[0m \u001b[0;34m//\u001b[0m \u001b[0mBATCH_SIZE\u001b[0m\u001b[0;34m,\u001b[0m\u001b[0;34m\u001b[0m\u001b[0;34m\u001b[0m\u001b[0m\n\u001b[1;32m      9\u001b[0m     \u001b[0mepochs\u001b[0m\u001b[0;34m=\u001b[0m\u001b[0;36m20\u001b[0m\u001b[0;34m,\u001b[0m\u001b[0;34m\u001b[0m\u001b[0;34m\u001b[0m\u001b[0m\n\u001b[0;32m---> 10\u001b[0;31m     \u001b[0mcallbacks\u001b[0m\u001b[0;34m=\u001b[0m\u001b[0;34m[\u001b[0m\u001b[0mcheckpoint\u001b[0m\u001b[0;34m,\u001b[0m \u001b[0mLearningRateScheduler\u001b[0m\u001b[0;34m(\u001b[0m\u001b[0mlr_curve_alt\u001b[0m\u001b[0;34m)\u001b[0m\u001b[0;34m]\u001b[0m\u001b[0;34m\u001b[0m\u001b[0;34m\u001b[0m\u001b[0m\n\u001b[0m\u001b[1;32m     11\u001b[0m )\n",
      "\u001b[0;32m/usr/local/lib/python3.6/dist-packages/tensorflow/python/keras/engine/training.py\u001b[0m in \u001b[0;36m_method_wrapper\u001b[0;34m(self, *args, **kwargs)\u001b[0m\n\u001b[1;32m    106\u001b[0m   \u001b[0;32mdef\u001b[0m \u001b[0m_method_wrapper\u001b[0m\u001b[0;34m(\u001b[0m\u001b[0mself\u001b[0m\u001b[0;34m,\u001b[0m \u001b[0;34m*\u001b[0m\u001b[0margs\u001b[0m\u001b[0;34m,\u001b[0m \u001b[0;34m**\u001b[0m\u001b[0mkwargs\u001b[0m\u001b[0;34m)\u001b[0m\u001b[0;34m:\u001b[0m\u001b[0;34m\u001b[0m\u001b[0;34m\u001b[0m\u001b[0m\n\u001b[1;32m    107\u001b[0m     \u001b[0;32mif\u001b[0m \u001b[0;32mnot\u001b[0m \u001b[0mself\u001b[0m\u001b[0;34m.\u001b[0m\u001b[0m_in_multi_worker_mode\u001b[0m\u001b[0;34m(\u001b[0m\u001b[0;34m)\u001b[0m\u001b[0;34m:\u001b[0m  \u001b[0;31m# pylint: disable=protected-access\u001b[0m\u001b[0;34m\u001b[0m\u001b[0;34m\u001b[0m\u001b[0m\n\u001b[0;32m--> 108\u001b[0;31m       \u001b[0;32mreturn\u001b[0m \u001b[0mmethod\u001b[0m\u001b[0;34m(\u001b[0m\u001b[0mself\u001b[0m\u001b[0;34m,\u001b[0m \u001b[0;34m*\u001b[0m\u001b[0margs\u001b[0m\u001b[0;34m,\u001b[0m \u001b[0;34m**\u001b[0m\u001b[0mkwargs\u001b[0m\u001b[0;34m)\u001b[0m\u001b[0;34m\u001b[0m\u001b[0;34m\u001b[0m\u001b[0m\n\u001b[0m\u001b[1;32m    109\u001b[0m \u001b[0;34m\u001b[0m\u001b[0m\n\u001b[1;32m    110\u001b[0m     \u001b[0;31m# Running inside `run_distribute_coordinator` already.\u001b[0m\u001b[0;34m\u001b[0m\u001b[0;34m\u001b[0m\u001b[0;34m\u001b[0m\u001b[0m\n",
      "\u001b[0;32m/usr/local/lib/python3.6/dist-packages/tensorflow/python/keras/engine/training.py\u001b[0m in \u001b[0;36mfit\u001b[0;34m(self, x, y, batch_size, epochs, verbose, callbacks, validation_split, validation_data, shuffle, class_weight, sample_weight, initial_epoch, steps_per_epoch, validation_steps, validation_batch_size, validation_freq, max_queue_size, workers, use_multiprocessing)\u001b[0m\n\u001b[1;32m   1135\u001b[0m           \u001b[0mepoch_logs\u001b[0m\u001b[0;34m.\u001b[0m\u001b[0mupdate\u001b[0m\u001b[0;34m(\u001b[0m\u001b[0mval_logs\u001b[0m\u001b[0;34m)\u001b[0m\u001b[0;34m\u001b[0m\u001b[0;34m\u001b[0m\u001b[0m\n\u001b[1;32m   1136\u001b[0m \u001b[0;34m\u001b[0m\u001b[0m\n\u001b[0;32m-> 1137\u001b[0;31m         \u001b[0mcallbacks\u001b[0m\u001b[0;34m.\u001b[0m\u001b[0mon_epoch_end\u001b[0m\u001b[0;34m(\u001b[0m\u001b[0mepoch\u001b[0m\u001b[0;34m,\u001b[0m \u001b[0mepoch_logs\u001b[0m\u001b[0;34m)\u001b[0m\u001b[0;34m\u001b[0m\u001b[0;34m\u001b[0m\u001b[0m\n\u001b[0m\u001b[1;32m   1138\u001b[0m         \u001b[0mtraining_logs\u001b[0m \u001b[0;34m=\u001b[0m \u001b[0mepoch_logs\u001b[0m\u001b[0;34m\u001b[0m\u001b[0;34m\u001b[0m\u001b[0m\n\u001b[1;32m   1139\u001b[0m         \u001b[0;32mif\u001b[0m \u001b[0mself\u001b[0m\u001b[0;34m.\u001b[0m\u001b[0mstop_training\u001b[0m\u001b[0;34m:\u001b[0m\u001b[0;34m\u001b[0m\u001b[0;34m\u001b[0m\u001b[0m\n",
      "\u001b[0;32m/usr/local/lib/python3.6/dist-packages/tensorflow/python/keras/callbacks.py\u001b[0m in \u001b[0;36mon_epoch_end\u001b[0;34m(self, epoch, logs)\u001b[0m\n\u001b[1;32m    410\u001b[0m     \u001b[0;32mfor\u001b[0m \u001b[0mcallback\u001b[0m \u001b[0;32min\u001b[0m \u001b[0mself\u001b[0m\u001b[0;34m.\u001b[0m\u001b[0mcallbacks\u001b[0m\u001b[0;34m:\u001b[0m\u001b[0;34m\u001b[0m\u001b[0;34m\u001b[0m\u001b[0m\n\u001b[1;32m    411\u001b[0m       \u001b[0;32mif\u001b[0m \u001b[0mgetattr\u001b[0m\u001b[0;34m(\u001b[0m\u001b[0mcallback\u001b[0m\u001b[0;34m,\u001b[0m \u001b[0;34m'_supports_tf_logs'\u001b[0m\u001b[0;34m,\u001b[0m \u001b[0;32mFalse\u001b[0m\u001b[0;34m)\u001b[0m\u001b[0;34m:\u001b[0m\u001b[0;34m\u001b[0m\u001b[0;34m\u001b[0m\u001b[0m\n\u001b[0;32m--> 412\u001b[0;31m         \u001b[0mcallback\u001b[0m\u001b[0;34m.\u001b[0m\u001b[0mon_epoch_end\u001b[0m\u001b[0;34m(\u001b[0m\u001b[0mepoch\u001b[0m\u001b[0;34m,\u001b[0m \u001b[0mlogs\u001b[0m\u001b[0;34m)\u001b[0m\u001b[0;34m\u001b[0m\u001b[0;34m\u001b[0m\u001b[0m\n\u001b[0m\u001b[1;32m    413\u001b[0m       \u001b[0;32melse\u001b[0m\u001b[0;34m:\u001b[0m\u001b[0;34m\u001b[0m\u001b[0;34m\u001b[0m\u001b[0m\n\u001b[1;32m    414\u001b[0m         \u001b[0;32mif\u001b[0m \u001b[0mnumpy_logs\u001b[0m \u001b[0;32mis\u001b[0m \u001b[0;32mNone\u001b[0m\u001b[0;34m:\u001b[0m  \u001b[0;31m# Only convert once.\u001b[0m\u001b[0;34m\u001b[0m\u001b[0;34m\u001b[0m\u001b[0m\n",
      "\u001b[0;32m/usr/local/lib/python3.6/dist-packages/tensorflow/python/keras/callbacks.py\u001b[0m in \u001b[0;36mon_epoch_end\u001b[0;34m(self, epoch, logs)\u001b[0m\n\u001b[1;32m   1247\u001b[0m     \u001b[0;31m# pylint: disable=protected-access\u001b[0m\u001b[0;34m\u001b[0m\u001b[0;34m\u001b[0m\u001b[0;34m\u001b[0m\u001b[0m\n\u001b[1;32m   1248\u001b[0m     \u001b[0;32mif\u001b[0m \u001b[0mself\u001b[0m\u001b[0;34m.\u001b[0m\u001b[0msave_freq\u001b[0m \u001b[0;34m==\u001b[0m \u001b[0;34m'epoch'\u001b[0m\u001b[0;34m:\u001b[0m\u001b[0;34m\u001b[0m\u001b[0;34m\u001b[0m\u001b[0m\n\u001b[0;32m-> 1249\u001b[0;31m       \u001b[0mself\u001b[0m\u001b[0;34m.\u001b[0m\u001b[0m_save_model\u001b[0m\u001b[0;34m(\u001b[0m\u001b[0mepoch\u001b[0m\u001b[0;34m=\u001b[0m\u001b[0mepoch\u001b[0m\u001b[0;34m,\u001b[0m \u001b[0mlogs\u001b[0m\u001b[0;34m=\u001b[0m\u001b[0mlogs\u001b[0m\u001b[0;34m)\u001b[0m\u001b[0;34m\u001b[0m\u001b[0;34m\u001b[0m\u001b[0m\n\u001b[0m\u001b[1;32m   1250\u001b[0m \u001b[0;34m\u001b[0m\u001b[0m\n\u001b[1;32m   1251\u001b[0m   \u001b[0;32mdef\u001b[0m \u001b[0m_should_save_on_batch\u001b[0m\u001b[0;34m(\u001b[0m\u001b[0mself\u001b[0m\u001b[0;34m,\u001b[0m \u001b[0mbatch\u001b[0m\u001b[0;34m)\u001b[0m\u001b[0;34m:\u001b[0m\u001b[0;34m\u001b[0m\u001b[0;34m\u001b[0m\u001b[0m\n",
      "\u001b[0;32m/usr/local/lib/python3.6/dist-packages/tensorflow/python/keras/callbacks.py\u001b[0m in \u001b[0;36m_save_model\u001b[0;34m(self, epoch, logs)\u001b[0m\n\u001b[1;32m   1299\u001b[0m                     filepath, overwrite=True, options=self._options)\n\u001b[1;32m   1300\u001b[0m               \u001b[0;32melse\u001b[0m\u001b[0;34m:\u001b[0m\u001b[0;34m\u001b[0m\u001b[0;34m\u001b[0m\u001b[0m\n\u001b[0;32m-> 1301\u001b[0;31m                 \u001b[0mself\u001b[0m\u001b[0;34m.\u001b[0m\u001b[0mmodel\u001b[0m\u001b[0;34m.\u001b[0m\u001b[0msave\u001b[0m\u001b[0;34m(\u001b[0m\u001b[0mfilepath\u001b[0m\u001b[0;34m,\u001b[0m \u001b[0moverwrite\u001b[0m\u001b[0;34m=\u001b[0m\u001b[0;32mTrue\u001b[0m\u001b[0;34m,\u001b[0m \u001b[0moptions\u001b[0m\u001b[0;34m=\u001b[0m\u001b[0mself\u001b[0m\u001b[0;34m.\u001b[0m\u001b[0m_options\u001b[0m\u001b[0;34m)\u001b[0m\u001b[0;34m\u001b[0m\u001b[0;34m\u001b[0m\u001b[0m\n\u001b[0m\u001b[1;32m   1302\u001b[0m             \u001b[0;32melse\u001b[0m\u001b[0;34m:\u001b[0m\u001b[0;34m\u001b[0m\u001b[0;34m\u001b[0m\u001b[0m\n\u001b[1;32m   1303\u001b[0m               \u001b[0;32mif\u001b[0m \u001b[0mself\u001b[0m\u001b[0;34m.\u001b[0m\u001b[0mverbose\u001b[0m \u001b[0;34m>\u001b[0m \u001b[0;36m0\u001b[0m\u001b[0;34m:\u001b[0m\u001b[0;34m\u001b[0m\u001b[0;34m\u001b[0m\u001b[0m\n",
      "\u001b[0;32m/usr/local/lib/python3.6/dist-packages/tensorflow/python/keras/engine/training.py\u001b[0m in \u001b[0;36msave\u001b[0;34m(self, filepath, overwrite, include_optimizer, save_format, signatures, options)\u001b[0m\n\u001b[1;32m   1977\u001b[0m     \"\"\"\n\u001b[1;32m   1978\u001b[0m     save.save_model(self, filepath, overwrite, include_optimizer, save_format,\n\u001b[0;32m-> 1979\u001b[0;31m                     signatures, options)\n\u001b[0m\u001b[1;32m   1980\u001b[0m \u001b[0;34m\u001b[0m\u001b[0m\n\u001b[1;32m   1981\u001b[0m   def save_weights(self,\n",
      "\u001b[0;32m/usr/local/lib/python3.6/dist-packages/tensorflow/python/keras/saving/save.py\u001b[0m in \u001b[0;36msave_model\u001b[0;34m(model, filepath, overwrite, include_optimizer, save_format, signatures, options)\u001b[0m\n\u001b[1;32m    129\u001b[0m           'or using `save_weights`.')\n\u001b[1;32m    130\u001b[0m     hdf5_format.save_model_to_hdf5(\n\u001b[0;32m--> 131\u001b[0;31m         model, filepath, overwrite, include_optimizer)\n\u001b[0m\u001b[1;32m    132\u001b[0m   \u001b[0;32melse\u001b[0m\u001b[0;34m:\u001b[0m\u001b[0;34m\u001b[0m\u001b[0;34m\u001b[0m\u001b[0m\n\u001b[1;32m    133\u001b[0m     saved_model_save.save(model, filepath, overwrite, include_optimizer,\n",
      "\u001b[0;32m/usr/local/lib/python3.6/dist-packages/tensorflow/python/keras/saving/hdf5_format.py\u001b[0m in \u001b[0;36msave_model_to_hdf5\u001b[0;34m(model, filepath, overwrite, include_optimizer)\u001b[0m\n\u001b[1;32m    117\u001b[0m     \u001b[0mmodel_weights_group\u001b[0m \u001b[0;34m=\u001b[0m \u001b[0mf\u001b[0m\u001b[0;34m.\u001b[0m\u001b[0mcreate_group\u001b[0m\u001b[0;34m(\u001b[0m\u001b[0;34m'model_weights'\u001b[0m\u001b[0;34m)\u001b[0m\u001b[0;34m\u001b[0m\u001b[0;34m\u001b[0m\u001b[0m\n\u001b[1;32m    118\u001b[0m     \u001b[0mmodel_layers\u001b[0m \u001b[0;34m=\u001b[0m \u001b[0mmodel\u001b[0m\u001b[0;34m.\u001b[0m\u001b[0mlayers\u001b[0m\u001b[0;34m\u001b[0m\u001b[0;34m\u001b[0m\u001b[0m\n\u001b[0;32m--> 119\u001b[0;31m     \u001b[0msave_weights_to_hdf5_group\u001b[0m\u001b[0;34m(\u001b[0m\u001b[0mmodel_weights_group\u001b[0m\u001b[0;34m,\u001b[0m \u001b[0mmodel_layers\u001b[0m\u001b[0;34m)\u001b[0m\u001b[0;34m\u001b[0m\u001b[0;34m\u001b[0m\u001b[0m\n\u001b[0m\u001b[1;32m    120\u001b[0m \u001b[0;34m\u001b[0m\u001b[0m\n\u001b[1;32m    121\u001b[0m     \u001b[0;31m# TODO(b/128683857): Add integration tests between tf.keras and external\u001b[0m\u001b[0;34m\u001b[0m\u001b[0;34m\u001b[0m\u001b[0;34m\u001b[0m\u001b[0m\n",
      "\u001b[0;32m/usr/local/lib/python3.6/dist-packages/tensorflow/python/keras/saving/hdf5_format.py\u001b[0m in \u001b[0;36msave_weights_to_hdf5_group\u001b[0;34m(f, layers)\u001b[0m\n\u001b[1;32m    639\u001b[0m     \u001b[0;32mfor\u001b[0m \u001b[0mname\u001b[0m\u001b[0;34m,\u001b[0m \u001b[0mval\u001b[0m \u001b[0;32min\u001b[0m \u001b[0mzip\u001b[0m\u001b[0;34m(\u001b[0m\u001b[0mweight_names\u001b[0m\u001b[0;34m,\u001b[0m \u001b[0mweight_values\u001b[0m\u001b[0;34m)\u001b[0m\u001b[0;34m:\u001b[0m\u001b[0;34m\u001b[0m\u001b[0;34m\u001b[0m\u001b[0m\n\u001b[1;32m    640\u001b[0m       \u001b[0mparam_dset\u001b[0m \u001b[0;34m=\u001b[0m \u001b[0mg\u001b[0m\u001b[0;34m.\u001b[0m\u001b[0mcreate_dataset\u001b[0m\u001b[0;34m(\u001b[0m\u001b[0mname\u001b[0m\u001b[0;34m,\u001b[0m \u001b[0mval\u001b[0m\u001b[0;34m.\u001b[0m\u001b[0mshape\u001b[0m\u001b[0;34m,\u001b[0m \u001b[0mdtype\u001b[0m\u001b[0;34m=\u001b[0m\u001b[0mval\u001b[0m\u001b[0;34m.\u001b[0m\u001b[0mdtype\u001b[0m\u001b[0;34m)\u001b[0m\u001b[0;34m\u001b[0m\u001b[0;34m\u001b[0m\u001b[0m\n\u001b[0;32m--> 641\u001b[0;31m       \u001b[0;32mif\u001b[0m \u001b[0;32mnot\u001b[0m \u001b[0mval\u001b[0m\u001b[0;34m.\u001b[0m\u001b[0mshape\u001b[0m\u001b[0;34m:\u001b[0m\u001b[0;34m\u001b[0m\u001b[0;34m\u001b[0m\u001b[0m\n\u001b[0m\u001b[1;32m    642\u001b[0m         \u001b[0;31m# scalar\u001b[0m\u001b[0;34m\u001b[0m\u001b[0;34m\u001b[0m\u001b[0;34m\u001b[0m\u001b[0m\n\u001b[1;32m    643\u001b[0m         \u001b[0mparam_dset\u001b[0m\u001b[0;34m[\u001b[0m\u001b[0;34m(\u001b[0m\u001b[0;34m)\u001b[0m\u001b[0;34m]\u001b[0m \u001b[0;34m=\u001b[0m \u001b[0mval\u001b[0m\u001b[0;34m\u001b[0m\u001b[0;34m\u001b[0m\u001b[0m\n",
      "\u001b[0;31mKeyboardInterrupt\u001b[0m: "
     ]
    }
   ],
   "source": [
    "#with strategy.scope():\n",
    "checkpoint = ModelCheckpoint('/content/drive/My Drive/CZ4042 Project/model_checkpoints/ckpt-{epoch} + 20 -augment.h5', monitor='val_loss', verbose=1, save_best_only=True, mode='min')\n",
    "\n",
    "history = model.fit(\n",
    "    training_dataset,\n",
    "    steps_per_epoch=(0.7*len(df)) // BATCH_SIZE,\n",
    "    validation_data=val_dataset,\n",
    "    validation_steps=(0.2*len(df)) // BATCH_SIZE,\n",
    "    epochs=20,\n",
    "    callbacks=[checkpoint, LearningRateScheduler(lr_curve_alt)]\n",
    ")"
   ]
  },
  {
   "cell_type": "code",
   "execution_count": null,
   "metadata": {
    "id": "hg7wYgXDOOjE"
   },
   "outputs": [],
   "source": [
    "# convert the history.history dict to a pandas DataFrame:     \n",
    "hist_df = pd.DataFrame(history.history) \n",
    "\n",
    "# or save to csv: \n",
    "hist_csv_file = '/content/drive/My Drive/CZ4042 Project/history2.csv'\n",
    "with open(hist_csv_file, mode='w') as f:\n",
    "    hist_df.to_csv(f)"
   ]
  },
  {
   "cell_type": "code",
   "execution_count": null,
   "metadata": {
    "colab": {
     "base_uri": "https://localhost:8080/",
     "height": 216
    },
    "executionInfo": {
     "elapsed": 1068,
     "status": "ok",
     "timestamp": 1604425137346,
     "user": {
      "displayName": "Shearman Chua",
      "photoUrl": "",
      "userId": "02072421428658916568"
     },
     "user_tz": -480
    },
    "id": "hYMPc_8ZLMTq",
    "outputId": "f215ae9c-addf-42c4-8ddf-8e8d6fcb83a2"
   },
   "outputs": [
    {
     "data": {
      "text/html": [
       "<div>\n",
       "<style scoped>\n",
       "    .dataframe tbody tr th:only-of-type {\n",
       "        vertical-align: middle;\n",
       "    }\n",
       "\n",
       "    .dataframe tbody tr th {\n",
       "        vertical-align: top;\n",
       "    }\n",
       "\n",
       "    .dataframe thead th {\n",
       "        text-align: right;\n",
       "    }\n",
       "</style>\n",
       "<table border=\"1\" class=\"dataframe\">\n",
       "  <thead>\n",
       "    <tr style=\"text-align: right;\">\n",
       "      <th></th>\n",
       "      <th>loss</th>\n",
       "      <th>make_id_loss</th>\n",
       "      <th>model_id_loss</th>\n",
       "      <th>make_id_accuracy</th>\n",
       "      <th>model_id_accuracy</th>\n",
       "      <th>val_loss</th>\n",
       "      <th>val_make_id_loss</th>\n",
       "      <th>val_model_id_loss</th>\n",
       "      <th>val_make_id_accuracy</th>\n",
       "      <th>val_model_id_accuracy</th>\n",
       "      <th>lr</th>\n",
       "    </tr>\n",
       "  </thead>\n",
       "  <tbody>\n",
       "    <tr>\n",
       "      <th>0</th>\n",
       "      <td>9.008218</td>\n",
       "      <td>3.489380</td>\n",
       "      <td>5.518837</td>\n",
       "      <td>0.164042</td>\n",
       "      <td>0.032140</td>\n",
       "      <td>7.531638</td>\n",
       "      <td>2.939563</td>\n",
       "      <td>4.592074</td>\n",
       "      <td>0.240750</td>\n",
       "      <td>0.061100</td>\n",
       "      <td>0.000001</td>\n",
       "    </tr>\n",
       "    <tr>\n",
       "      <th>1</th>\n",
       "      <td>8.283247</td>\n",
       "      <td>3.229007</td>\n",
       "      <td>5.054237</td>\n",
       "      <td>0.211157</td>\n",
       "      <td>0.054635</td>\n",
       "      <td>11.973339</td>\n",
       "      <td>4.496830</td>\n",
       "      <td>7.476511</td>\n",
       "      <td>0.046580</td>\n",
       "      <td>0.001106</td>\n",
       "      <td>0.016668</td>\n",
       "    </tr>\n",
       "    <tr>\n",
       "      <th>2</th>\n",
       "      <td>8.241211</td>\n",
       "      <td>3.199760</td>\n",
       "      <td>5.041454</td>\n",
       "      <td>0.219996</td>\n",
       "      <td>0.055148</td>\n",
       "      <td>14.314065</td>\n",
       "      <td>5.306496</td>\n",
       "      <td>9.007574</td>\n",
       "      <td>0.027196</td>\n",
       "      <td>0.000737</td>\n",
       "      <td>0.033334</td>\n",
       "    </tr>\n",
       "    <tr>\n",
       "      <th>3</th>\n",
       "      <td>8.277516</td>\n",
       "      <td>3.191190</td>\n",
       "      <td>5.086330</td>\n",
       "      <td>0.225484</td>\n",
       "      <td>0.054164</td>\n",
       "      <td>16.671724</td>\n",
       "      <td>6.414032</td>\n",
       "      <td>10.257689</td>\n",
       "      <td>0.032798</td>\n",
       "      <td>0.000737</td>\n",
       "      <td>0.050000</td>\n",
       "    </tr>\n",
       "    <tr>\n",
       "      <th>4</th>\n",
       "      <td>8.304646</td>\n",
       "      <td>3.186762</td>\n",
       "      <td>5.117889</td>\n",
       "      <td>0.230563</td>\n",
       "      <td>0.054028</td>\n",
       "      <td>12.319569</td>\n",
       "      <td>4.582679</td>\n",
       "      <td>7.736889</td>\n",
       "      <td>0.038178</td>\n",
       "      <td>0.000516</td>\n",
       "      <td>0.066667</td>\n",
       "    </tr>\n",
       "  </tbody>\n",
       "</table>\n",
       "</div>"
      ],
      "text/plain": [
       "       loss  make_id_loss  ...  val_model_id_accuracy        lr\n",
       "0  9.008218      3.489380  ...               0.061100  0.000001\n",
       "1  8.283247      3.229007  ...               0.001106  0.016668\n",
       "2  8.241211      3.199760  ...               0.000737  0.033334\n",
       "3  8.277516      3.191190  ...               0.000737  0.050000\n",
       "4  8.304646      3.186762  ...               0.000516  0.066667\n",
       "\n",
       "[5 rows x 11 columns]"
      ]
     },
     "execution_count": 19,
     "metadata": {
      "tags": []
     },
     "output_type": "execute_result"
    }
   ],
   "source": [
    "hist = pd.read_csv('/content/drive/My Drive/CZ4042 Project/history.csv')\n",
    "hist.head()"
   ]
  },
  {
   "cell_type": "code",
   "execution_count": null,
   "metadata": {
    "id": "LYqeMvcgLMLo"
   },
   "outputs": [],
   "source": [
    "history=hist.to_dict()"
   ]
  },
  {
   "cell_type": "code",
   "execution_count": null,
   "metadata": {
    "colab": {
     "base_uri": "https://localhost:8080/",
     "height": 369
    },
    "executionInfo": {
     "elapsed": 1288,
     "status": "error",
     "timestamp": 1604397881620,
     "user": {
      "displayName": "Shearman Chua",
      "photoUrl": "",
      "userId": "02072421428658916568"
     },
     "user_tz": -480
    },
    "id": "DxG9PCPPE_Mx",
    "outputId": "4f67e10a-a549-42a3-b65a-cfcb29e0928a"
   },
   "outputs": [
    {
     "name": "stdout",
     "output_type": "stream",
     "text": [
      "Epoch 1/20\n"
     ]
    },
    {
     "ename": "TypeError",
     "evalue": "ignored",
     "output_type": "error",
     "traceback": [
      "\u001b[0;31m---------------------------------------------------------------------------\u001b[0m",
      "\u001b[0;31mTypeError\u001b[0m                                 Traceback (most recent call last)",
      "\u001b[0;32m<ipython-input-85-cb324dda76de>\u001b[0m in \u001b[0;36m<module>\u001b[0;34m()\u001b[0m\n\u001b[1;32m      8\u001b[0m       \u001b[0mvalidation_steps\u001b[0m\u001b[0;34m=\u001b[0m\u001b[0;34m(\u001b[0m\u001b[0;36m0.2\u001b[0m\u001b[0;34m*\u001b[0m\u001b[0mlen\u001b[0m\u001b[0;34m(\u001b[0m\u001b[0mdf\u001b[0m\u001b[0;34m)\u001b[0m\u001b[0;34m)\u001b[0m \u001b[0;34m//\u001b[0m \u001b[0mBATCH_SIZE\u001b[0m\u001b[0;34m,\u001b[0m\u001b[0;34m\u001b[0m\u001b[0;34m\u001b[0m\u001b[0m\n\u001b[1;32m      9\u001b[0m       \u001b[0mepochs\u001b[0m\u001b[0;34m=\u001b[0m\u001b[0;36m20\u001b[0m\u001b[0;34m,\u001b[0m\u001b[0;34m\u001b[0m\u001b[0;34m\u001b[0m\u001b[0m\n\u001b[0;32m---> 10\u001b[0;31m       \u001b[0mcallbacks\u001b[0m\u001b[0;34m=\u001b[0m\u001b[0;34m[\u001b[0m\u001b[0mcheckpoint\u001b[0m\u001b[0;34m,\u001b[0m \u001b[0mLearningRateScheduler\u001b[0m\u001b[0;34m(\u001b[0m\u001b[0mlr_curve\u001b[0m\u001b[0;34m)\u001b[0m\u001b[0;34m]\u001b[0m\u001b[0;34m\u001b[0m\u001b[0;34m\u001b[0m\u001b[0m\n\u001b[0m\u001b[1;32m     11\u001b[0m   )\n",
      "\u001b[0;32m/usr/local/lib/python3.6/dist-packages/tensorflow/python/keras/engine/training.py\u001b[0m in \u001b[0;36m_method_wrapper\u001b[0;34m(self, *args, **kwargs)\u001b[0m\n\u001b[1;32m    106\u001b[0m   \u001b[0;32mdef\u001b[0m \u001b[0m_method_wrapper\u001b[0m\u001b[0;34m(\u001b[0m\u001b[0mself\u001b[0m\u001b[0;34m,\u001b[0m \u001b[0;34m*\u001b[0m\u001b[0margs\u001b[0m\u001b[0;34m,\u001b[0m \u001b[0;34m**\u001b[0m\u001b[0mkwargs\u001b[0m\u001b[0;34m)\u001b[0m\u001b[0;34m:\u001b[0m\u001b[0;34m\u001b[0m\u001b[0;34m\u001b[0m\u001b[0m\n\u001b[1;32m    107\u001b[0m     \u001b[0;32mif\u001b[0m \u001b[0;32mnot\u001b[0m \u001b[0mself\u001b[0m\u001b[0;34m.\u001b[0m\u001b[0m_in_multi_worker_mode\u001b[0m\u001b[0;34m(\u001b[0m\u001b[0;34m)\u001b[0m\u001b[0;34m:\u001b[0m  \u001b[0;31m# pylint: disable=protected-access\u001b[0m\u001b[0;34m\u001b[0m\u001b[0;34m\u001b[0m\u001b[0m\n\u001b[0;32m--> 108\u001b[0;31m       \u001b[0;32mreturn\u001b[0m \u001b[0mmethod\u001b[0m\u001b[0;34m(\u001b[0m\u001b[0mself\u001b[0m\u001b[0;34m,\u001b[0m \u001b[0;34m*\u001b[0m\u001b[0margs\u001b[0m\u001b[0;34m,\u001b[0m \u001b[0;34m**\u001b[0m\u001b[0mkwargs\u001b[0m\u001b[0;34m)\u001b[0m\u001b[0;34m\u001b[0m\u001b[0;34m\u001b[0m\u001b[0m\n\u001b[0m\u001b[1;32m    109\u001b[0m \u001b[0;34m\u001b[0m\u001b[0m\n\u001b[1;32m    110\u001b[0m     \u001b[0;31m# Running inside `run_distribute_coordinator` already.\u001b[0m\u001b[0;34m\u001b[0m\u001b[0;34m\u001b[0m\u001b[0;34m\u001b[0m\u001b[0m\n",
      "\u001b[0;32m/usr/local/lib/python3.6/dist-packages/tensorflow/python/keras/engine/training.py\u001b[0m in \u001b[0;36mfit\u001b[0;34m(self, x, y, batch_size, epochs, verbose, callbacks, validation_split, validation_data, shuffle, class_weight, sample_weight, initial_epoch, steps_per_epoch, validation_steps, validation_batch_size, validation_freq, max_queue_size, workers, use_multiprocessing)\u001b[0m\n\u001b[1;32m   1096\u001b[0m                 batch_size=batch_size):\n\u001b[1;32m   1097\u001b[0m               \u001b[0mcallbacks\u001b[0m\u001b[0;34m.\u001b[0m\u001b[0mon_train_batch_begin\u001b[0m\u001b[0;34m(\u001b[0m\u001b[0mstep\u001b[0m\u001b[0;34m)\u001b[0m\u001b[0;34m\u001b[0m\u001b[0;34m\u001b[0m\u001b[0m\n\u001b[0;32m-> 1098\u001b[0;31m               \u001b[0mtmp_logs\u001b[0m \u001b[0;34m=\u001b[0m \u001b[0mtrain_function\u001b[0m\u001b[0;34m(\u001b[0m\u001b[0miterator\u001b[0m\u001b[0;34m)\u001b[0m\u001b[0;34m\u001b[0m\u001b[0;34m\u001b[0m\u001b[0m\n\u001b[0m\u001b[1;32m   1099\u001b[0m               \u001b[0;32mif\u001b[0m \u001b[0mdata_handler\u001b[0m\u001b[0;34m.\u001b[0m\u001b[0mshould_sync\u001b[0m\u001b[0;34m:\u001b[0m\u001b[0;34m\u001b[0m\u001b[0;34m\u001b[0m\u001b[0m\n\u001b[1;32m   1100\u001b[0m                 \u001b[0mcontext\u001b[0m\u001b[0;34m.\u001b[0m\u001b[0masync_wait\u001b[0m\u001b[0;34m(\u001b[0m\u001b[0;34m)\u001b[0m\u001b[0;34m\u001b[0m\u001b[0;34m\u001b[0m\u001b[0m\n",
      "\u001b[0;32m/usr/local/lib/python3.6/dist-packages/tensorflow/python/eager/def_function.py\u001b[0m in \u001b[0;36m__call__\u001b[0;34m(self, *args, **kwds)\u001b[0m\n\u001b[1;32m    778\u001b[0m       \u001b[0;32melse\u001b[0m\u001b[0;34m:\u001b[0m\u001b[0;34m\u001b[0m\u001b[0;34m\u001b[0m\u001b[0m\n\u001b[1;32m    779\u001b[0m         \u001b[0mcompiler\u001b[0m \u001b[0;34m=\u001b[0m \u001b[0;34m\"nonXla\"\u001b[0m\u001b[0;34m\u001b[0m\u001b[0;34m\u001b[0m\u001b[0m\n\u001b[0;32m--> 780\u001b[0;31m         \u001b[0mresult\u001b[0m \u001b[0;34m=\u001b[0m \u001b[0mself\u001b[0m\u001b[0;34m.\u001b[0m\u001b[0m_call\u001b[0m\u001b[0;34m(\u001b[0m\u001b[0;34m*\u001b[0m\u001b[0margs\u001b[0m\u001b[0;34m,\u001b[0m \u001b[0;34m**\u001b[0m\u001b[0mkwds\u001b[0m\u001b[0;34m)\u001b[0m\u001b[0;34m\u001b[0m\u001b[0;34m\u001b[0m\u001b[0m\n\u001b[0m\u001b[1;32m    781\u001b[0m \u001b[0;34m\u001b[0m\u001b[0m\n\u001b[1;32m    782\u001b[0m       \u001b[0mnew_tracing_count\u001b[0m \u001b[0;34m=\u001b[0m \u001b[0mself\u001b[0m\u001b[0;34m.\u001b[0m\u001b[0m_get_tracing_count\u001b[0m\u001b[0;34m(\u001b[0m\u001b[0;34m)\u001b[0m\u001b[0;34m\u001b[0m\u001b[0;34m\u001b[0m\u001b[0m\n",
      "\u001b[0;32m/usr/local/lib/python3.6/dist-packages/tensorflow/python/eager/def_function.py\u001b[0m in \u001b[0;36m_call\u001b[0;34m(self, *args, **kwds)\u001b[0m\n\u001b[1;32m    805\u001b[0m       \u001b[0;31m# In this case we have created variables on the first call, so we run the\u001b[0m\u001b[0;34m\u001b[0m\u001b[0;34m\u001b[0m\u001b[0;34m\u001b[0m\u001b[0m\n\u001b[1;32m    806\u001b[0m       \u001b[0;31m# defunned version which is guaranteed to never create variables.\u001b[0m\u001b[0;34m\u001b[0m\u001b[0;34m\u001b[0m\u001b[0;34m\u001b[0m\u001b[0m\n\u001b[0;32m--> 807\u001b[0;31m       \u001b[0;32mreturn\u001b[0m \u001b[0mself\u001b[0m\u001b[0;34m.\u001b[0m\u001b[0m_stateless_fn\u001b[0m\u001b[0;34m(\u001b[0m\u001b[0;34m*\u001b[0m\u001b[0margs\u001b[0m\u001b[0;34m,\u001b[0m \u001b[0;34m**\u001b[0m\u001b[0mkwds\u001b[0m\u001b[0;34m)\u001b[0m  \u001b[0;31m# pylint: disable=not-callable\u001b[0m\u001b[0;34m\u001b[0m\u001b[0;34m\u001b[0m\u001b[0m\n\u001b[0m\u001b[1;32m    808\u001b[0m     \u001b[0;32melif\u001b[0m \u001b[0mself\u001b[0m\u001b[0;34m.\u001b[0m\u001b[0m_stateful_fn\u001b[0m \u001b[0;32mis\u001b[0m \u001b[0;32mnot\u001b[0m \u001b[0;32mNone\u001b[0m\u001b[0;34m:\u001b[0m\u001b[0;34m\u001b[0m\u001b[0;34m\u001b[0m\u001b[0m\n\u001b[1;32m    809\u001b[0m       \u001b[0;31m# Release the lock early so that multiple threads can perform the call\u001b[0m\u001b[0;34m\u001b[0m\u001b[0;34m\u001b[0m\u001b[0;34m\u001b[0m\u001b[0m\n",
      "\u001b[0;31mTypeError\u001b[0m: 'NoneType' object is not callable"
     ]
    }
   ],
   "source": [
    "with strategy.scope():\n",
    "  checkpoint = ModelCheckpoint('ckpt-{epoch}.h5', monitor='val_loss', verbose=1, save_best_only=True, mode='min')\n",
    "\n",
    "  history = model.fit(\n",
    "      training_dataset,\n",
    "      steps_per_epoch=(0.7*len(df)) // BATCH_SIZE,\n",
    "      validation_data=val_dataset,\n",
    "      validation_steps=(0.2*len(df)) // BATCH_SIZE,\n",
    "      epochs=20,\n",
    "      callbacks=[checkpoint, LearningRateScheduler(lr_curve)]\n",
    "  )"
   ]
  },
  {
   "cell_type": "markdown",
   "metadata": {
    "id": "roUDUBCUHM4f"
   },
   "source": [
    "Triplet Loss"
   ]
  },
  {
   "cell_type": "code",
   "execution_count": null,
   "metadata": {
    "colab": {
     "base_uri": "https://localhost:8080/",
     "height": 336
    },
    "executionInfo": {
     "elapsed": 1389,
     "status": "ok",
     "timestamp": 1603874068962,
     "user": {
      "displayName": "null null",
      "photoUrl": "",
      "userId": "04177996287264146405"
     },
     "user_tz": -480
    },
    "id": "TM_Q4U_kH5Hg",
    "outputId": "f9900f7b-5e0f-4858-aa97-ab0b530752d7"
   },
   "outputs": [
    {
     "name": "stdout",
     "output_type": "stream",
     "text": [
      "[(None, 224, 224, 3)]\n",
      "(None, None, None, 2048)\n",
      "(None, 2048)\n",
      "(None, 256)\n",
      "(None, 256)\n",
      "(None, 256)\n",
      "(None, 256)\n",
      "(None, 128)\n",
      "(None, 128)\n",
      "(None, 128)\n",
      "(None, 128)\n",
      "(None, 64)\n",
      "(None, 64)\n",
      "(None, 64)\n",
      "(None, 64)\n",
      "(None, 256)\n",
      "(None, 256)\n",
      "(None, 256)\n",
      "(None, 256)\n"
     ]
    }
   ],
   "source": [
    "for layer in model.layers:\n",
    "    print(layer.output_shape)"
   ]
  },
  {
   "cell_type": "code",
   "execution_count": null,
   "metadata": {
    "colab": {
     "base_uri": "https://localhost:8080/"
    },
    "id": "PSI7Xq08HMQM",
    "outputId": "353c5069-ea22-4bd9-ec6f-deffffeb2307"
   },
   "outputs": [
    {
     "name": "stdout",
     "output_type": "stream",
     "text": [
      "<tensorflow.python.keras.engine.functional.Functional object at 0x7f4c7b31c4a8>\n",
      "Epoch 1/20\n",
      "WARNING:tensorflow:From /usr/local/lib/python3.6/dist-packages/tensorflow/python/data/ops/multi_device_iterator_ops.py:601: get_next_as_optional (from tensorflow.python.data.ops.iterator_ops) is deprecated and will be removed in a future version.\n",
      "Instructions for updating:\n",
      "Use `tf.data.Iterator.get_next_as_optional()` instead.\n"
     ]
    },
    {
     "name": "stderr",
     "output_type": "stream",
     "text": [
      "WARNING:tensorflow:From /usr/local/lib/python3.6/dist-packages/tensorflow/python/data/ops/multi_device_iterator_ops.py:601: get_next_as_optional (from tensorflow.python.data.ops.iterator_ops) is deprecated and will be removed in a future version.\n",
      "Instructions for updating:\n",
      "Use `tf.data.Iterator.get_next_as_optional()` instead.\n"
     ]
    },
    {
     "name": "stdout",
     "output_type": "stream",
     "text": [
      "   2/1495 [..............................] - ETA: 67:07:23 - loss: nan - make_id_loss: nan - model_id_loss: nan WARNING:tensorflow:Callbacks method `on_train_batch_end` is slow compared to the batch time (batch time: 0.0204s vs `on_train_batch_end` time: 0.3434s). Check your callbacks.\n"
     ]
    },
    {
     "name": "stderr",
     "output_type": "stream",
     "text": [
      "WARNING:tensorflow:Callbacks method `on_train_batch_end` is slow compared to the batch time (batch time: 0.0204s vs `on_train_batch_end` time: 0.3434s). Check your callbacks.\n"
     ]
    },
    {
     "name": "stdout",
     "output_type": "stream",
     "text": [
      "1495/1495 [==============================] - 863s 578ms/step - loss: nan - make_id_loss: nan - model_id_loss: nan\n",
      "Epoch 2/20\n",
      " 186/1495 [==>...........................] - ETA: 8:01 - loss: nan - make_id_loss: nan - model_id_loss: nan"
     ]
    }
   ],
   "source": [
    "with strategy.scope():\n",
    "  checkpoint = ModelCheckpoint('ckpt-{epoch}.h5', monitor='val_loss', verbose=1, save_best_only=True, mode='min')\n",
    "  print(model)\n",
    "  history = model.fit(\n",
    "      training_dataset,\n",
    "      steps_per_epoch=(0.7*len(df)) // BATCH_SIZE,\n",
    "      epochs=20\n",
    "  )"
   ]
  },
  {
   "cell_type": "code",
   "execution_count": null,
   "metadata": {
    "colab": {
     "base_uri": "https://localhost:8080/"
    },
    "executionInfo": {
     "elapsed": 2315,
     "status": "ok",
     "timestamp": 1604425846730,
     "user": {
      "displayName": "Shearman Chua",
      "photoUrl": "",
      "userId": "02072421428658916568"
     },
     "user_tz": -480
    },
    "id": "89onz2Qomspf",
    "outputId": "b545571e-0618-42cd-990b-17099ab7151d"
   },
   "outputs": [
    {
     "name": "stdout",
     "output_type": "stream",
     "text": [
      "dict_keys(['loss', 'make_id_loss', 'model_id_loss', 'make_id_accuracy', 'model_id_accuracy', 'val_loss', 'val_make_id_loss', 'val_model_id_loss', 'val_make_id_accuracy', 'val_model_id_accuracy', 'lr'])\n"
     ]
    }
   ],
   "source": [
    "print(history.keys())"
   ]
  },
  {
   "cell_type": "code",
   "execution_count": null,
   "metadata": {
    "colab": {
     "base_uri": "https://localhost:8080/"
    },
    "executionInfo": {
     "elapsed": 1221,
     "status": "ok",
     "timestamp": 1604426089205,
     "user": {
      "displayName": "Shearman Chua",
      "photoUrl": "",
      "userId": "02072421428658916568"
     },
     "user_tz": -480
    },
    "id": "eZDPAeEBPUeG",
    "outputId": "6fb58962-5257-4db1-efd5-31950880d526"
   },
   "outputs": [
    {
     "data": {
      "text/plain": [
       "{0: 0.164041549,\n",
       " 1: 0.21115741100000002,\n",
       " 2: 0.219996214,\n",
       " 3: 0.22548382,\n",
       " 4: 0.230562985,\n",
       " 5: 0.255613267,\n",
       " 6: 0.280349344,\n",
       " 7: 0.304614186,\n",
       " 8: 0.323538005,\n",
       " 9: 0.34712213299999994,\n",
       " 10: 0.319600344,\n",
       " 11: 0.380141974,\n",
       " 12: 0.38099026700000005,\n",
       " 13: 0.37460202,\n",
       " 14: 0.36171034,\n",
       " 15: 0.375827313,\n",
       " 16: 0.39689803100000004,\n",
       " 17: 0.418974102,\n",
       " 18: 0.440914005,\n",
       " 19: 0.45912572700000004,\n",
       " 20: 0.47777727299999995,\n",
       " 21: 0.493915439,\n",
       " 22: 0.5104829670000001,\n",
       " 23: 0.5252177720000001,\n",
       " 24: 0.540434361,\n",
       " 25: 0.5540381670000001,\n",
       " 26: 0.567086935,\n",
       " 27: 0.578585744,\n",
       " 28: 0.590356886,\n",
       " 29: 0.6012797360000001}"
      ]
     },
     "execution_count": 26,
     "metadata": {
      "tags": []
     },
     "output_type": "execute_result"
    }
   ],
   "source": [
    "history['make_id_accuracy']"
   ]
  },
  {
   "cell_type": "code",
   "execution_count": null,
   "metadata": {
    "colab": {
     "base_uri": "https://localhost:8080/",
     "height": 1000
    },
    "executionInfo": {
     "elapsed": 2806,
     "status": "ok",
     "timestamp": 1604426185678,
     "user": {
      "displayName": "Shearman Chua",
      "photoUrl": "",
      "userId": "02072421428658916568"
     },
     "user_tz": -480
    },
    "id": "WBz2kG_em3c1",
    "outputId": "3ce2546e-9957-4701-afcc-ad23b1ee8d19"
   },
   "outputs": [
    {
     "data": {
      "image/png": "[encoded data removed]",
      "text/plain": [
       "<Figure size 432x288 with 1 Axes>"
      ]
     },
     "metadata": {
      "needs_background": "light",
      "tags": []
     },
     "output_type": "display_data"
    },
    {
     "data": {
      "image/png": "[encoded data removed]",
      "text/plain": [
       "<Figure size 432x288 with 1 Axes>"
      ]
     },
     "metadata": {
      "needs_background": "light",
      "tags": []
     },
     "output_type": "display_data"
    },
    {
     "data": {
      "image/png": "[encoded data removed]",
      "text/plain": [
       "<Figure size 432x288 with 1 Axes>"
      ]
     },
     "metadata": {
      "needs_background": "light",
      "tags": []
     },
     "output_type": "display_data"
    },
    {
     "data": {
      "image/png": "[encoded data removed]",
      "text/plain": [
       "<Figure size 432x288 with 1 Axes>"
      ]
     },
     "metadata": {
      "needs_background": "light",
      "tags": []
     },
     "output_type": "display_data"
    }
   ],
   "source": [
    "plt.plot(hist['make_id_accuracy'].values)\n",
    "plt.plot(hist['val_make_id_accuracy'].values)\n",
    "plt.title('Make ID Accuracy')\n",
    "plt.ylabel('accuracy')\n",
    "plt.xlabel('epoch')\n",
    "plt.legend(['train', 'val'], loc='upper left')\n",
    "plt.show()\n",
    "\n",
    "plt.plot(hist['model_id_accuracy'].values)\n",
    "plt.plot(hist['val_model_id_accuracy'].values)\n",
    "plt.title('Model ID Accuracy')\n",
    "plt.ylabel('accuracy')\n",
    "plt.xlabel('epoch')\n",
    "plt.legend(['train', 'val'], loc='upper left')\n",
    "plt.show()\n",
    "\n",
    "plt.plot(hist['make_id_loss'].values)\n",
    "plt.plot(hist['val_make_id_loss'].values)\n",
    "plt.title('Make ID Loss')\n",
    "plt.ylabel('loss')\n",
    "plt.xlabel('epoch')\n",
    "plt.legend(['train', 'val'], loc='upper left')\n",
    "plt.show()\n",
    "\n",
    "plt.plot(hist['model_id_loss'].values)\n",
    "plt.plot(hist['val_model_id_loss'].values)\n",
    "plt.title('Model ID Loss')\n",
    "plt.ylabel('loss')\n",
    "plt.xlabel('epoch')\n",
    "plt.legend(['train', 'val'], loc='upper left')\n",
    "plt.show()"
   ]
  },
  {
   "cell_type": "markdown",
   "metadata": {
    "id": "2Xa8pjjJfToz"
   },
   "source": [
    "# StratifiedKFold RandomizeSearchCV"
   ]
  },
  {
   "cell_type": "code",
   "execution_count": null,
   "metadata": {
    "id": "uG4sKPQIltpj"
   },
   "outputs": [],
   "source": [
    "#df.head(20)"
   ]
  },
  {
   "cell_type": "code",
   "execution_count": null,
   "metadata": {
    "id": "tCLHRGn28cAj"
   },
   "outputs": [],
   "source": [
    "#df.describe()"
   ]
  },
  {
   "cell_type": "code",
   "execution_count": null,
   "metadata": {
    "colab": {
     "base_uri": "https://localhost:8080/",
     "height": 333
    },
    "executionInfo": {
     "elapsed": 871,
     "status": "error",
     "timestamp": 1600671916498,
     "user": {
      "displayName": "Tyea",
      "photoUrl": "https://lh3.googleusercontent.com/a-/AOh14GiuEIkzJ1OC-u21Ucnv4vZ8zz5mVnmkYKu2vfV2=s64",
      "userId": "01300394943827217307"
     },
     "user_tz": -480
    },
    "id": "L6rjQza-XoUd",
    "outputId": "a1ddcd1e-991e-4188-d7c9-a5da581b249d"
   },
   "outputs": [
    {
     "ename": "TypeError",
     "evalue": "ignored",
     "output_type": "error",
     "traceback": [
      "\u001b[0;31m---------------------------------------------------------------------------\u001b[0m",
      "\u001b[0;31mTypeError\u001b[0m                                 Traceback (most recent call last)",
      "\u001b[0;32m<ipython-input-99-ada8ccd4c610>\u001b[0m in \u001b[0;36m<module>\u001b[0;34m()\u001b[0m\n\u001b[1;32m      5\u001b[0m \u001b[0;31m#print(array)\u001b[0m\u001b[0;34m\u001b[0m\u001b[0;34m\u001b[0m\u001b[0;34m\u001b[0m\u001b[0m\n\u001b[1;32m      6\u001b[0m \u001b[0;34m\u001b[0m\u001b[0m\n\u001b[0;32m----> 7\u001b[0;31m \u001b[0;34m[\u001b[0m\u001b[0mimg_arr\u001b[0m\u001b[0;34m]\u001b[0m \u001b[0;34m,\u001b[0m \u001b[0mlabel\u001b[0m  \u001b[0;34m=\u001b[0m \u001b[0mcustom_image_generator\u001b[0m\u001b[0;34m(\u001b[0m\u001b[0;36m5\u001b[0m\u001b[0;34m,\u001b[0m \u001b[0;36m1\u001b[0m\u001b[0;34m,\u001b[0m \u001b[0mmode\u001b[0m\u001b[0;34m=\u001b[0m\u001b[0;34m\"train\"\u001b[0m\u001b[0;34m,\u001b[0m \u001b[0maug\u001b[0m\u001b[0;34m=\u001b[0m\u001b[0;32mNone\u001b[0m\u001b[0;34m)\u001b[0m\u001b[0;34m\u001b[0m\u001b[0;34m\u001b[0m\u001b[0m\n\u001b[0m\u001b[1;32m      8\u001b[0m \u001b[0mprint\u001b[0m\u001b[0;34m(\u001b[0m\u001b[0;34m[\u001b[0m\u001b[0mimg_arr\u001b[0m\u001b[0;34m]\u001b[0m\u001b[0;34m)\u001b[0m\u001b[0;34m\u001b[0m\u001b[0;34m\u001b[0m\u001b[0m\n",
      "\u001b[0;32m<ipython-input-72-ec3752fd11e9>\u001b[0m in \u001b[0;36mcustom_image_generator\u001b[0;34m(lists, batch_size, mode, aug)\u001b[0m\n\u001b[1;32m     23\u001b[0m \u001b[0;34m\u001b[0m\u001b[0m\n\u001b[1;32m     24\u001b[0m         \u001b[0;32mwhile\u001b[0m \u001b[0mlen\u001b[0m\u001b[0;34m(\u001b[0m\u001b[0mimages\u001b[0m\u001b[0;34m)\u001b[0m \u001b[0;34m<\u001b[0m \u001b[0mbatch_size\u001b[0m\u001b[0;34m:\u001b[0m\u001b[0;34m\u001b[0m\u001b[0;34m\u001b[0m\u001b[0m\n\u001b[0;32m---> 25\u001b[0;31m             \u001b[0mrandom_idx\u001b[0m \u001b[0;34m=\u001b[0m \u001b[0mrandrange\u001b[0m\u001b[0;34m(\u001b[0m\u001b[0mlen\u001b[0m\u001b[0;34m(\u001b[0m\u001b[0mlists\u001b[0m\u001b[0;34m[\u001b[0m\u001b[0;36m0\u001b[0m\u001b[0;34m]\u001b[0m\u001b[0;34m)\u001b[0m\u001b[0;34m)\u001b[0m\u001b[0;34m\u001b[0m\u001b[0;34m\u001b[0m\u001b[0m\n\u001b[0m\u001b[1;32m     26\u001b[0m             \u001b[0mimg\u001b[0m \u001b[0;34m=\u001b[0m \u001b[0mload_img\u001b[0m\u001b[0;34m(\u001b[0m\u001b[0mlists\u001b[0m\u001b[0;34m[\u001b[0m\u001b[0;36m0\u001b[0m\u001b[0;34m]\u001b[0m\u001b[0;34m[\u001b[0m\u001b[0mrandom_idx\u001b[0m\u001b[0;34m]\u001b[0m\u001b[0;34m,\u001b[0m \u001b[0mtarget_size\u001b[0m\u001b[0;34m=\u001b[0m\u001b[0;34m(\u001b[0m\u001b[0mIMAGE_SIZE\u001b[0m\u001b[0;34m[\u001b[0m\u001b[0;36m0\u001b[0m\u001b[0;34m]\u001b[0m\u001b[0;34m,\u001b[0m \u001b[0mIMAGE_SIZE\u001b[0m\u001b[0;34m[\u001b[0m\u001b[0;36m1\u001b[0m\u001b[0;34m]\u001b[0m\u001b[0;34m)\u001b[0m\u001b[0;34m)\u001b[0m\u001b[0;34m\u001b[0m\u001b[0;34m\u001b[0m\u001b[0m\n\u001b[1;32m     27\u001b[0m             \u001b[0mimg\u001b[0m \u001b[0;34m=\u001b[0m \u001b[0mimg_to_array\u001b[0m\u001b[0;34m(\u001b[0m\u001b[0mimg\u001b[0m\u001b[0;34m)\u001b[0m\u001b[0;34m\u001b[0m\u001b[0;34m\u001b[0m\u001b[0m\n",
      "\u001b[0;31mTypeError\u001b[0m: 'int' object is not subscriptable"
     ]
    }
   ],
   "source": [
    "from PIL import Image\n",
    "img_data = np.random.random(size=(100, 100, 3))\n",
    "img = tf.keras.preprocessing.image.array_to_img(img_data)\n",
    "array = tf.keras.preprocessing.image.img_to_array(img)\n",
    "#print(array)\n",
    "\n",
    "[img_arr] , label  = custom_image_generator(5, 1, mode=\"train\", aug=None)\n",
    "print([img_arr])"
   ]
  },
  {
   "cell_type": "code",
   "execution_count": null,
   "metadata": {
    "id": "nD4M_xtmdfWC"
   },
   "outputs": [],
   "source": [
    "import numpy as np\n",
    "from sklearn import datasets\n",
    "from sklearn.model_selection import train_test_split\n",
    "from sklearn.model_selection import RandomizedSearchCV\n",
    "from sklearn.model_selection import StratifiedKFold\n",
    "from scipy.stats import uniform as sp_randFloat\n",
    "from scipy.stats import randint as sp_randInt"
   ]
  },
  {
   "cell_type": "code",
   "execution_count": null,
   "metadata": {
    "colab": {
     "base_uri": "https://localhost:8080/",
     "height": 34
    },
    "executionInfo": {
     "elapsed": 763,
     "status": "ok",
     "timestamp": 1600666339365,
     "user": {
      "displayName": "Tyea",
      "photoUrl": "https://lh3.googleusercontent.com/a-/AOh14GiuEIkzJ1OC-u21Ucnv4vZ8zz5mVnmkYKu2vfV2=s64",
      "userId": "01300394943827217307"
     },
     "user_tz": -480
    },
    "id": "X_TiQn1rIDGm",
    "outputId": "ee8b400c-7b0e-4482-f196-e029fb967e77"
   },
   "outputs": [
    {
     "name": "stdout",
     "output_type": "stream",
     "text": [
      "StratifiedKFold(n_splits=2, random_state=None, shuffle=False)\n"
     ]
    }
   ],
   "source": [
    "X = df[['make_id', 'model_id']].to_numpy()\n",
    "y = df.make_id.values\n",
    "skf = StratifiedKFold(n_splits=2)\n",
    "skf.get_n_splits(X, y)\n",
    "print(skf)"
   ]
  },
  {
   "cell_type": "code",
   "execution_count": null,
   "metadata": {
    "id": "p4stQVAZLdKC"
   },
   "outputs": [],
   "source": [
    "'''\n",
    "random_grid = _create_hyperparameter_finetuning_grid()\n",
    "clf_random = RandomizedSearchCV(estimator = clf, param_distributions = random_grid, \n",
    "                                score = 'accuracy', n_iter = 100, \n",
    "                                cv = StratifiedKFold(n_splits=split_number),\n",
    "                                verbose=2, random_state=42, n_jobs = -1)\n",
    "clf_random.fit(X, y)\n",
    "print(clf_random.cv_results_)\n",
    "'''"
   ]
  },
  {
   "cell_type": "code",
   "execution_count": null,
   "metadata": {
    "colab": {
     "base_uri": "https://localhost:8080/",
     "height": 85
    },
    "executionInfo": {
     "elapsed": 808,
     "status": "ok",
     "timestamp": 1600666341649,
     "user": {
      "displayName": "Tyea",
      "photoUrl": "https://lh3.googleusercontent.com/a-/AOh14GiuEIkzJ1OC-u21Ucnv4vZ8zz5mVnmkYKu2vfV2=s64",
      "userId": "01300394943827217307"
     },
     "user_tz": -480
    },
    "id": "93PY8IvAIJQb",
    "outputId": "03d9dbb7-4d84-4e3d-dd73-1e6d1ed745c8"
   },
   "outputs": [
    {
     "name": "stdout",
     "output_type": "stream",
     "text": [
      "TRAIN: [    67     68     69 ... 136729 136730 136731] \n",
      "TEST: [     0      1      2 ... 136676 136677 136678]\n",
      "TRAIN: [     0      1      2 ... 136676 136677 136678] \n",
      "TEST: [    67     68     69 ... 136729 136730 136731]\n"
     ]
    }
   ],
   "source": [
    "StratifiedKFold(n_splits=2, random_state=None, shuffle=False)\n",
    "for train_index, test_index in skf.split(X, y):\n",
    "  print(\"TRAIN:\", train_index, \"\\nTEST:\", test_index)\n",
    "  X_train, X_test = X[train_index], X[test_index]\n",
    "  y_train, y_test = y[train_index], y[test_index]"
   ]
  },
  {
   "cell_type": "code",
   "execution_count": null,
   "metadata": {
    "colab": {
     "base_uri": "https://localhost:8080/",
     "height": 340
    },
    "executionInfo": {
     "elapsed": 744,
     "status": "error",
     "timestamp": 1600670626124,
     "user": {
      "displayName": "Tyea",
      "photoUrl": "https://lh3.googleusercontent.com/a-/AOh14GiuEIkzJ1OC-u21Ucnv4vZ8zz5mVnmkYKu2vfV2=s64",
      "userId": "01300394943827217307"
     },
     "user_tz": -480
    },
    "id": "cOShIVSvfCpt",
    "outputId": "8d1ae0a8-d60a-49c2-ca37-f757828662ea"
   },
   "outputs": [
    {
     "ename": "ValueError",
     "evalue": "ignored",
     "output_type": "error",
     "traceback": [
      "\u001b[0;31m---------------------------------------------------------------------------\u001b[0m",
      "\u001b[0;31mValueError\u001b[0m                                Traceback (most recent call last)",
      "\u001b[0;32m<ipython-input-89-8997402e4333>\u001b[0m in \u001b[0;36m<module>\u001b[0;34m()\u001b[0m\n\u001b[1;32m      3\u001b[0m \u001b[0;31m#X_train, X_test, y_train, y_test = train_test_split(df = tf.keras.preprocessing.image.img_to_array(df.filename.values), df.make_id.values, test_size=0.30, random_state=42, stratify=df[['make_id', 'model_id']])\u001b[0m\u001b[0;34m\u001b[0m\u001b[0;34m\u001b[0m\u001b[0;34m\u001b[0m\u001b[0m\n\u001b[1;32m      4\u001b[0m \u001b[0;34m\u001b[0m\u001b[0m\n\u001b[0;32m----> 5\u001b[0;31m \u001b[0mprint\u001b[0m\u001b[0;34m(\u001b[0m\u001b[0mtf\u001b[0m\u001b[0;34m.\u001b[0m\u001b[0mkeras\u001b[0m\u001b[0;34m.\u001b[0m\u001b[0mpreprocessing\u001b[0m\u001b[0;34m.\u001b[0m\u001b[0mimage\u001b[0m\u001b[0;34m.\u001b[0m\u001b[0mimg_to_array\u001b[0m\u001b[0;34m(\u001b[0m\u001b[0mdf\u001b[0m\u001b[0;34m.\u001b[0m\u001b[0mfilename\u001b[0m\u001b[0;34m)\u001b[0m\u001b[0;34m)\u001b[0m\u001b[0;34m\u001b[0m\u001b[0;34m\u001b[0m\u001b[0m\n\u001b[0m",
      "\u001b[0;32m/usr/local/lib/python3.6/dist-packages/tensorflow/python/keras/preprocessing/image.py\u001b[0m in \u001b[0;36mimg_to_array\u001b[0;34m(img, data_format, dtype)\u001b[0m\n\u001b[1;32m    231\u001b[0m       \u001b[0mdtype\u001b[0m \u001b[0;34m=\u001b[0m \u001b[0mbackend\u001b[0m\u001b[0;34m.\u001b[0m\u001b[0mfloatx\u001b[0m\u001b[0;34m(\u001b[0m\u001b[0;34m)\u001b[0m\u001b[0;34m\u001b[0m\u001b[0;34m\u001b[0m\u001b[0m\n\u001b[1;32m    232\u001b[0m     \u001b[0mkwargs\u001b[0m\u001b[0;34m[\u001b[0m\u001b[0;34m'dtype'\u001b[0m\u001b[0;34m]\u001b[0m \u001b[0;34m=\u001b[0m \u001b[0mdtype\u001b[0m\u001b[0;34m\u001b[0m\u001b[0;34m\u001b[0m\u001b[0m\n\u001b[0;32m--> 233\u001b[0;31m   \u001b[0;32mreturn\u001b[0m \u001b[0mimage\u001b[0m\u001b[0;34m.\u001b[0m\u001b[0mimg_to_array\u001b[0m\u001b[0;34m(\u001b[0m\u001b[0mimg\u001b[0m\u001b[0;34m,\u001b[0m \u001b[0mdata_format\u001b[0m\u001b[0;34m=\u001b[0m\u001b[0mdata_format\u001b[0m\u001b[0;34m,\u001b[0m \u001b[0;34m**\u001b[0m\u001b[0mkwargs\u001b[0m\u001b[0;34m)\u001b[0m\u001b[0;34m\u001b[0m\u001b[0;34m\u001b[0m\u001b[0m\n\u001b[0m\u001b[1;32m    234\u001b[0m \u001b[0;34m\u001b[0m\u001b[0m\n\u001b[1;32m    235\u001b[0m \u001b[0;34m\u001b[0m\u001b[0m\n",
      "\u001b[0;32m/usr/local/lib/python3.6/dist-packages/keras_preprocessing/image/utils.py\u001b[0m in \u001b[0;36mimg_to_array\u001b[0;34m(img, data_format, dtype)\u001b[0m\n\u001b[1;32m    307\u001b[0m     \u001b[0;31m# or (channel, height, width)\u001b[0m\u001b[0;34m\u001b[0m\u001b[0;34m\u001b[0m\u001b[0;34m\u001b[0m\u001b[0m\n\u001b[1;32m    308\u001b[0m     \u001b[0;31m# but original PIL image has format (width, height, channel)\u001b[0m\u001b[0;34m\u001b[0m\u001b[0;34m\u001b[0m\u001b[0;34m\u001b[0m\u001b[0m\n\u001b[0;32m--> 309\u001b[0;31m     \u001b[0mx\u001b[0m \u001b[0;34m=\u001b[0m \u001b[0mnp\u001b[0m\u001b[0;34m.\u001b[0m\u001b[0masarray\u001b[0m\u001b[0;34m(\u001b[0m\u001b[0mimg\u001b[0m\u001b[0;34m,\u001b[0m \u001b[0mdtype\u001b[0m\u001b[0;34m=\u001b[0m\u001b[0mdtype\u001b[0m\u001b[0;34m)\u001b[0m\u001b[0;34m\u001b[0m\u001b[0;34m\u001b[0m\u001b[0m\n\u001b[0m\u001b[1;32m    310\u001b[0m     \u001b[0;32mif\u001b[0m \u001b[0mlen\u001b[0m\u001b[0;34m(\u001b[0m\u001b[0mx\u001b[0m\u001b[0;34m.\u001b[0m\u001b[0mshape\u001b[0m\u001b[0;34m)\u001b[0m \u001b[0;34m==\u001b[0m \u001b[0;36m3\u001b[0m\u001b[0;34m:\u001b[0m\u001b[0;34m\u001b[0m\u001b[0;34m\u001b[0m\u001b[0m\n\u001b[1;32m    311\u001b[0m         \u001b[0;32mif\u001b[0m \u001b[0mdata_format\u001b[0m \u001b[0;34m==\u001b[0m \u001b[0;34m'channels_first'\u001b[0m\u001b[0;34m:\u001b[0m\u001b[0;34m\u001b[0m\u001b[0;34m\u001b[0m\u001b[0m\n",
      "\u001b[0;32m/usr/local/lib/python3.6/dist-packages/numpy/core/_asarray.py\u001b[0m in \u001b[0;36masarray\u001b[0;34m(a, dtype, order)\u001b[0m\n\u001b[1;32m     83\u001b[0m \u001b[0;34m\u001b[0m\u001b[0m\n\u001b[1;32m     84\u001b[0m     \"\"\"\n\u001b[0;32m---> 85\u001b[0;31m     \u001b[0;32mreturn\u001b[0m \u001b[0marray\u001b[0m\u001b[0;34m(\u001b[0m\u001b[0ma\u001b[0m\u001b[0;34m,\u001b[0m \u001b[0mdtype\u001b[0m\u001b[0;34m,\u001b[0m \u001b[0mcopy\u001b[0m\u001b[0;34m=\u001b[0m\u001b[0;32mFalse\u001b[0m\u001b[0;34m,\u001b[0m \u001b[0morder\u001b[0m\u001b[0;34m=\u001b[0m\u001b[0morder\u001b[0m\u001b[0;34m)\u001b[0m\u001b[0;34m\u001b[0m\u001b[0;34m\u001b[0m\u001b[0m\n\u001b[0m\u001b[1;32m     86\u001b[0m \u001b[0;34m\u001b[0m\u001b[0m\n\u001b[1;32m     87\u001b[0m \u001b[0;34m\u001b[0m\u001b[0m\n",
      "\u001b[0;32m/usr/local/lib/python3.6/dist-packages/pandas/core/series.py\u001b[0m in \u001b[0;36m__array__\u001b[0;34m(self, dtype)\u001b[0m\n\u001b[1;32m    752\u001b[0m               dtype='datetime64[ns]')\n\u001b[1;32m    753\u001b[0m         \"\"\"\n\u001b[0;32m--> 754\u001b[0;31m         \u001b[0;32mreturn\u001b[0m \u001b[0mnp\u001b[0m\u001b[0;34m.\u001b[0m\u001b[0masarray\u001b[0m\u001b[0;34m(\u001b[0m\u001b[0mself\u001b[0m\u001b[0;34m.\u001b[0m\u001b[0marray\u001b[0m\u001b[0;34m,\u001b[0m \u001b[0mdtype\u001b[0m\u001b[0;34m)\u001b[0m\u001b[0;34m\u001b[0m\u001b[0;34m\u001b[0m\u001b[0m\n\u001b[0m\u001b[1;32m    755\u001b[0m \u001b[0;34m\u001b[0m\u001b[0m\n\u001b[1;32m    756\u001b[0m     \u001b[0;31m# ----------------------------------------------------------------------\u001b[0m\u001b[0;34m\u001b[0m\u001b[0;34m\u001b[0m\u001b[0;34m\u001b[0m\u001b[0m\n",
      "\u001b[0;32m/usr/local/lib/python3.6/dist-packages/numpy/core/_asarray.py\u001b[0m in \u001b[0;36masarray\u001b[0;34m(a, dtype, order)\u001b[0m\n\u001b[1;32m     83\u001b[0m \u001b[0;34m\u001b[0m\u001b[0m\n\u001b[1;32m     84\u001b[0m     \"\"\"\n\u001b[0;32m---> 85\u001b[0;31m     \u001b[0;32mreturn\u001b[0m \u001b[0marray\u001b[0m\u001b[0;34m(\u001b[0m\u001b[0ma\u001b[0m\u001b[0;34m,\u001b[0m \u001b[0mdtype\u001b[0m\u001b[0;34m,\u001b[0m \u001b[0mcopy\u001b[0m\u001b[0;34m=\u001b[0m\u001b[0;32mFalse\u001b[0m\u001b[0;34m,\u001b[0m \u001b[0morder\u001b[0m\u001b[0;34m=\u001b[0m\u001b[0morder\u001b[0m\u001b[0;34m)\u001b[0m\u001b[0;34m\u001b[0m\u001b[0;34m\u001b[0m\u001b[0m\n\u001b[0m\u001b[1;32m     86\u001b[0m \u001b[0;34m\u001b[0m\u001b[0m\n\u001b[1;32m     87\u001b[0m \u001b[0;34m\u001b[0m\u001b[0m\n",
      "\u001b[0;32m/usr/local/lib/python3.6/dist-packages/pandas/core/arrays/numpy_.py\u001b[0m in \u001b[0;36m__array__\u001b[0;34m(self, dtype)\u001b[0m\n\u001b[1;32m    182\u001b[0m \u001b[0;34m\u001b[0m\u001b[0m\n\u001b[1;32m    183\u001b[0m     \u001b[0;32mdef\u001b[0m \u001b[0m__array__\u001b[0m\u001b[0;34m(\u001b[0m\u001b[0mself\u001b[0m\u001b[0;34m,\u001b[0m \u001b[0mdtype\u001b[0m\u001b[0;34m=\u001b[0m\u001b[0;32mNone\u001b[0m\u001b[0;34m)\u001b[0m \u001b[0;34m->\u001b[0m \u001b[0mnp\u001b[0m\u001b[0;34m.\u001b[0m\u001b[0mndarray\u001b[0m\u001b[0;34m:\u001b[0m\u001b[0;34m\u001b[0m\u001b[0;34m\u001b[0m\u001b[0m\n\u001b[0;32m--> 184\u001b[0;31m         \u001b[0;32mreturn\u001b[0m \u001b[0mnp\u001b[0m\u001b[0;34m.\u001b[0m\u001b[0masarray\u001b[0m\u001b[0;34m(\u001b[0m\u001b[0mself\u001b[0m\u001b[0;34m.\u001b[0m\u001b[0m_ndarray\u001b[0m\u001b[0;34m,\u001b[0m \u001b[0mdtype\u001b[0m\u001b[0;34m=\u001b[0m\u001b[0mdtype\u001b[0m\u001b[0;34m)\u001b[0m\u001b[0;34m\u001b[0m\u001b[0;34m\u001b[0m\u001b[0m\n\u001b[0m\u001b[1;32m    185\u001b[0m \u001b[0;34m\u001b[0m\u001b[0m\n\u001b[1;32m    186\u001b[0m     \u001b[0m_HANDLED_TYPES\u001b[0m \u001b[0;34m=\u001b[0m \u001b[0;34m(\u001b[0m\u001b[0mnp\u001b[0m\u001b[0;34m.\u001b[0m\u001b[0mndarray\u001b[0m\u001b[0;34m,\u001b[0m \u001b[0mnumbers\u001b[0m\u001b[0;34m.\u001b[0m\u001b[0mNumber\u001b[0m\u001b[0;34m)\u001b[0m\u001b[0;34m\u001b[0m\u001b[0;34m\u001b[0m\u001b[0m\n",
      "\u001b[0;32m/usr/local/lib/python3.6/dist-packages/numpy/core/_asarray.py\u001b[0m in \u001b[0;36masarray\u001b[0;34m(a, dtype, order)\u001b[0m\n\u001b[1;32m     83\u001b[0m \u001b[0;34m\u001b[0m\u001b[0m\n\u001b[1;32m     84\u001b[0m     \"\"\"\n\u001b[0;32m---> 85\u001b[0;31m     \u001b[0;32mreturn\u001b[0m \u001b[0marray\u001b[0m\u001b[0;34m(\u001b[0m\u001b[0ma\u001b[0m\u001b[0;34m,\u001b[0m \u001b[0mdtype\u001b[0m\u001b[0;34m,\u001b[0m \u001b[0mcopy\u001b[0m\u001b[0;34m=\u001b[0m\u001b[0;32mFalse\u001b[0m\u001b[0;34m,\u001b[0m \u001b[0morder\u001b[0m\u001b[0;34m=\u001b[0m\u001b[0morder\u001b[0m\u001b[0;34m)\u001b[0m\u001b[0;34m\u001b[0m\u001b[0;34m\u001b[0m\u001b[0m\n\u001b[0m\u001b[1;32m     86\u001b[0m \u001b[0;34m\u001b[0m\u001b[0m\n\u001b[1;32m     87\u001b[0m \u001b[0;34m\u001b[0m\u001b[0m\n",
      "\u001b[0;31mValueError\u001b[0m: could not convert string to float: 'data/image/135/947/2009/deab76f22e8937.jpg'"
     ]
    }
   ],
   "source": [
    "#X_train, X_test, y_train, y_test = train_test_split(df[['make_id', 'model_id']], df.make_id.values, test_size=0.30, random_state=42, stratify=df[['make_id', 'model_id']])\n",
    "\n",
    "#X_train, X_test, y_train, y_test = train_test_split(df = tf.keras.preprocessing.image.img_to_array(df.filename.values), df.make_id.values, test_size=0.30, random_state=42, stratify=df[['make_id', 'model_id']])\n",
    "\n",
    "print(tf.keras.preprocessing.image.img_to_array(df.filename))"
   ]
  },
  {
   "cell_type": "code",
   "execution_count": null,
   "metadata": {
    "id": "M7g57ZxBhu6f"
   },
   "outputs": [],
   "source": [
    "#print(X_train)"
   ]
  },
  {
   "cell_type": "code",
   "execution_count": null,
   "metadata": {
    "id": "wbiBwAHIsaVK"
   },
   "outputs": [],
   "source": [
    "#print(y_train)"
   ]
  },
  {
   "cell_type": "code",
   "execution_count": null,
   "metadata": {
    "id": "0Pn69OESem0F"
   },
   "outputs": [],
   "source": [
    "BATCH_SIZE = 128\n",
    "IMAGE_SIZE = 224"
   ]
  },
  {
   "cell_type": "code",
   "execution_count": null,
   "metadata": {
    "id": "Jg0IR4WOiAip"
   },
   "outputs": [],
   "source": [
    "#print(train_model_ids)"
   ]
  },
  {
   "cell_type": "code",
   "execution_count": null,
   "metadata": {
    "id": "y6CIJOMYwHk3"
   },
   "outputs": [],
   "source": [
    "#id_uni = np.unique(train_model_ids)\n",
    "#print(id_uni)"
   ]
  },
  {
   "cell_type": "code",
   "execution_count": null,
   "metadata": {
    "colab": {
     "base_uri": "https://localhost:8080/",
     "height": 34
    },
    "executionInfo": {
     "elapsed": 1047,
     "status": "ok",
     "timestamp": 1600627121312,
     "user": {
      "displayName": "Tyea",
      "photoUrl": "https://lh3.googleusercontent.com/a-/AOh14GiuEIkzJ1OC-u21Ucnv4vZ8zz5mVnmkYKu2vfV2=s64",
      "userId": "01300394943827217307"
     },
     "user_tz": -480
    },
    "id": "g0HAhVYpwYbd",
    "outputId": "0605e358-e5ab-4f02-cea1-42b4f06ae753"
   },
   "outputs": [
    {
     "name": "stdout",
     "output_type": "stream",
     "text": [
      "[[140, 1], [166, 2], [135, 3], [120, 4], [153, 5], [120, 9], [68, 11], [120, 12], [120, 13], [118, 14], [120, 15]]\n"
     ]
    }
   ],
   "source": [
    "'''\n",
    "count = 0\n",
    "limit = 0\n",
    "limit_max = 10\n",
    "arr = []\n",
    "for id in id_uni:\n",
    "  count = 0;\n",
    "  for i in train_model_ids:\n",
    "    if(i == id):\n",
    "      count = count + 1\n",
    "  arr.append([count,id])\n",
    "  if(limit == limit_max):\n",
    "    break\n",
    "  limit = limit + 1\n",
    "print(arr)\n",
    "'''"
   ]
  },
  {
   "cell_type": "code",
   "execution_count": null,
   "metadata": {
    "id": "RzhHoFrKeWSk"
   },
   "outputs": [],
   "source": [
    "model = build_model(\n",
    "      1e-6,\n",
    "      ['categorical_crossentropy', 'categorical_crossentropy'], \n",
    "      {'make_id':'accuracy', 'model_id':'accuracy'}\n",
    "  )\n",
    "'''\n",
    "parameters = {'learning_rate': sp_randFloat(),\n",
    "              'subsample'    : sp_randFloat(),\n",
    "              'n_estimators' : sp_randInt(100, 1000),\n",
    "              'max_depth'    : sp_randInt(4, 10)\n",
    "              }\n",
    "'''\n",
    "\n",
    "parameters = { 'n_estimators': [200, 500],'max_features': ['auto', 'sqrt', 'log2'],'max_depth' : [4,5,6,7,8,9,10,11,12,13,14,15,16],'criterion' :['categorical_crossentropy', 'categorical_crossentropy']}\n"
   ]
  },
  {
   "cell_type": "code",
   "execution_count": null,
   "metadata": {
    "id": "toDN55MAFPgH"
   },
   "outputs": [],
   "source": [
    " #model.summary()"
   ]
  },
  {
   "cell_type": "code",
   "execution_count": null,
   "metadata": {
    "colab": {
     "base_uri": "https://localhost:8080/",
     "height": 367
    },
    "executionInfo": {
     "elapsed": 758,
     "status": "error",
     "timestamp": 1600667418017,
     "user": {
      "displayName": "Tyea",
      "photoUrl": "https://lh3.googleusercontent.com/a-/AOh14GiuEIkzJ1OC-u21Ucnv4vZ8zz5mVnmkYKu2vfV2=s64",
      "userId": "01300394943827217307"
     },
     "user_tz": -480
    },
    "id": "lKvhFjuKfp6Q",
    "outputId": "3b55f1a0-b9fb-4095-ae9c-40fb52d79c30"
   },
   "outputs": [
    {
     "ename": "ValueError",
     "evalue": "ignored",
     "output_type": "error",
     "traceback": [
      "\u001b[0;31m---------------------------------------------------------------------------\u001b[0m",
      "\u001b[0;31mValueError\u001b[0m                                Traceback (most recent call last)",
      "\u001b[0;32m<ipython-input-84-eeeeb49567fa>\u001b[0m in \u001b[0;36m<module>\u001b[0;34m()\u001b[0m\n\u001b[1;32m      1\u001b[0m \u001b[0;31m#randm_src = RandomizedSearchCV(estimator=model, param_distributions = parameters, scoring= {'make_id':'accuracy','model_id':'accuracy'},  cv = 2, n_iter = 10, n_jobs=-1, refit = False)\u001b[0m\u001b[0;34m\u001b[0m\u001b[0;34m\u001b[0m\u001b[0;34m\u001b[0m\u001b[0m\n\u001b[1;32m      2\u001b[0m \u001b[0mrandm_src\u001b[0m \u001b[0;34m=\u001b[0m \u001b[0mRandomizedSearchCV\u001b[0m\u001b[0;34m(\u001b[0m\u001b[0mestimator\u001b[0m\u001b[0;34m=\u001b[0m\u001b[0mmodel\u001b[0m\u001b[0;34m,\u001b[0m \u001b[0mparam_distributions\u001b[0m \u001b[0;34m=\u001b[0m \u001b[0mparameters\u001b[0m\u001b[0;34m,\u001b[0m \u001b[0mscoring\u001b[0m \u001b[0;34m=\u001b[0m \u001b[0;34m{\u001b[0m\u001b[0;34m'make_id'\u001b[0m\u001b[0;34m:\u001b[0m\u001b[0;34m'accuracy'\u001b[0m\u001b[0;34m,\u001b[0m\u001b[0;34m'model_id'\u001b[0m\u001b[0;34m:\u001b[0m\u001b[0;34m'accuracy'\u001b[0m\u001b[0;34m}\u001b[0m\u001b[0;34m,\u001b[0m  \u001b[0mcv\u001b[0m \u001b[0;34m=\u001b[0m \u001b[0;36m2\u001b[0m\u001b[0;34m,\u001b[0m \u001b[0mverbose\u001b[0m\u001b[0;34m=\u001b[0m\u001b[0;36m2\u001b[0m\u001b[0;34m,\u001b[0m \u001b[0mn_iter\u001b[0m \u001b[0;34m=\u001b[0m \u001b[0;36m10\u001b[0m\u001b[0;34m,\u001b[0m \u001b[0mn_jobs\u001b[0m\u001b[0;34m=\u001b[0m\u001b[0;34m-\u001b[0m\u001b[0;36m1\u001b[0m\u001b[0;34m)\u001b[0m\u001b[0;34m\u001b[0m\u001b[0;34m\u001b[0m\u001b[0m\n\u001b[0;32m----> 3\u001b[0;31m \u001b[0mrandm_src\u001b[0m\u001b[0;34m.\u001b[0m\u001b[0mfit\u001b[0m\u001b[0;34m(\u001b[0m\u001b[0mX_train\u001b[0m\u001b[0;34m,\u001b[0m \u001b[0my_train\u001b[0m\u001b[0;34m)\u001b[0m\u001b[0;34m\u001b[0m\u001b[0;34m\u001b[0m\u001b[0m\n\u001b[0m\u001b[1;32m      4\u001b[0m \u001b[0;34m\u001b[0m\u001b[0m\n\u001b[1;32m      5\u001b[0m \u001b[0mprint\u001b[0m\u001b[0;34m(\u001b[0m\u001b[0;34m\" Results from Random Search \"\u001b[0m \u001b[0;34m)\u001b[0m\u001b[0;34m\u001b[0m\u001b[0;34m\u001b[0m\u001b[0m\n",
      "\u001b[0;32m/usr/local/lib/python3.6/dist-packages/sklearn/model_selection/_search.py\u001b[0m in \u001b[0;36mfit\u001b[0;34m(self, X, y, groups, **fit_params)\u001b[0m\n\u001b[1;32m    642\u001b[0m                                  \u001b[0;34m\"not needed, refit should be set to \"\u001b[0m\u001b[0;34m\u001b[0m\u001b[0;34m\u001b[0m\u001b[0m\n\u001b[1;32m    643\u001b[0m                                  \u001b[0;34m\"False explicitly. %r was passed.\"\u001b[0m\u001b[0;34m\u001b[0m\u001b[0;34m\u001b[0m\u001b[0m\n\u001b[0;32m--> 644\u001b[0;31m                                  % self.refit)\n\u001b[0m\u001b[1;32m    645\u001b[0m             \u001b[0;32melse\u001b[0m\u001b[0;34m:\u001b[0m\u001b[0;34m\u001b[0m\u001b[0;34m\u001b[0m\u001b[0m\n\u001b[1;32m    646\u001b[0m                 \u001b[0mrefit_metric\u001b[0m \u001b[0;34m=\u001b[0m \u001b[0mself\u001b[0m\u001b[0;34m.\u001b[0m\u001b[0mrefit\u001b[0m\u001b[0;34m\u001b[0m\u001b[0;34m\u001b[0m\u001b[0m\n",
      "\u001b[0;31mValueError\u001b[0m: For multi-metric scoring, the parameter refit must be set to a scorer key or a callable to refit an estimator with the best parameter setting on the whole data and make the best_* attributes available for that metric. If this is not needed, refit should be set to False explicitly. True was passed."
     ]
    }
   ],
   "source": [
    "#randm_src = RandomizedSearchCV(estimator=model, param_distributions = parameters, scoring= {'make_id':'accuracy','model_id':'accuracy'},  cv = 2, n_iter = 10, n_jobs=-1, refit = False)\n",
    "randm_src = RandomizedSearchCV(estimator=model, param_distributions = parameters, scoring = {'make_id':'accuracy','model_id':'accuracy'},  cv = 2, verbose=2, n_iter = 10, n_jobs=-1)\n",
    "randm_src.fit(X_train, y_train)\n",
    "\n",
    "print(\" Results from Random Search \" )\n",
    "print(\"\\n The best estimator across ALL searched params:\\n\", randm_src.best_estimator_)\n",
    "print(\"\\n The best score across ALL searched params:\\n\", randm_src.best_score_)\n",
    "print(\"\\n The best parameters across ALL searched params:\\n\", randm_src.best_params_)\n",
    "\n"
   ]
  },
  {
   "cell_type": "code",
   "execution_count": null,
   "metadata": {
    "id": "o66jF27uvSZ2"
   },
   "outputs": [],
   "source": [
    "# https://www.kaggle.com/amypeniston/randomizedsearchcv-for-beginners  # how to use randomizedsearchcv\n",
    "# https://www.kaggle.com/speedwagon/neural-network-baseline # train with Kfold\n",
    "# https://www.kaggle.com/questions-and-answers/102677 # image into X_train\n"
   ]
  },
  {
   "cell_type": "markdown",
   "metadata": {
    "id": "v5HGL62kfZc7"
   },
   "source": [
    "End-------------------------------------------------------------------------"
   ]
  }
 ],
 "metadata": {
  "accelerator": "TPU",
  "colab": {
   "collapsed_sections": [],
   "machine_shape": "hm",
   "name": "CZ4042.ipynb",
   "provenance": [],
   "toc_visible": true
  },
  "kernelspec": {
   "display_name": "Python 3",
   "language": "python",
   "name": "python3"
  },
  "language_info": {
   "codemirror_mode": {
    "name": "ipython",
    "version": 3
   },
   "file_extension": ".py",
   "mimetype": "text/x-python",
   "name": "python",
   "nbconvert_exporter": "python",
   "pygments_lexer": "ipython3",
   "version": "3.8.5"
  }
 },
 "nbformat": 4,
 "nbformat_minor": 1
}
